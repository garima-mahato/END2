{
  "nbformat": 4,
  "nbformat_minor": 0,
  "metadata": {
    "colab": {
      "name": "END2.0 Session 1.ipynb",
      "provenance": [],
      "collapsed_sections": []
    },
    "kernelspec": {
      "name": "python3",
      "display_name": "Python 3"
    },
    "language_info": {
      "name": "python"
    }
  },
  "cells": [
    {
      "cell_type": "code",
      "metadata": {
        "colab": {
          "base_uri": "https://localhost:8080/"
        },
        "id": "GC_6PeobwwkH",
        "outputId": "703156d5-b6c1-4945-ff5f-19b24db99c2c"
      },
      "source": [
        "import torch\n",
        "from torch.autograd import Variable\n",
        "import torch.nn as nn\n",
        "import torch.nn.functional as F\n",
        "import torch.optim as optim\n",
        "import numpy as np\n",
        "import matplotlib.pyplot as plt\n",
        "%matplotlib inline\n",
        "torch.manual_seed(2)"
      ],
      "execution_count": 1,
      "outputs": [
        {
          "output_type": "execute_result",
          "data": {
            "text/plain": [
              "<torch._C.Generator at 0x7f1247e938d0>"
            ]
          },
          "metadata": {
            "tags": []
          },
          "execution_count": 1
        }
      ]
    },
    {
      "cell_type": "code",
      "metadata": {
        "id": "bL64bMTkw2GP"
      },
      "source": [
        "X = torch.Tensor([[0,0], [0,1], [1,0], [1,1]])\n",
        "Y = torch.Tensor([0, 1, 1, 0]).view(-1,1)"
      ],
      "execution_count": 2,
      "outputs": []
    },
    {
      "cell_type": "code",
      "metadata": {
        "id": "aC82kEAIw3Wf"
      },
      "source": [
        "class XOR(nn.Module):\n",
        "    def __init__(self, input_dim = 2, output_dim=1):\n",
        "        super(XOR, self).__init__()\n",
        "        self.lin1 = nn.Linear(input_dim, 11)\n",
        "        self.lin2 = nn.Linear(11, output_dim, bias=False)\n",
        "    \n",
        "    def forward(self, x):\n",
        "        x = self.lin1(x)\n",
        "        x = F.tanh(x)\n",
        "        x = self.lin2(x)\n",
        "        return x"
      ],
      "execution_count": 7,
      "outputs": []
    },
    {
      "cell_type": "code",
      "metadata": {
        "colab": {
          "base_uri": "https://localhost:8080/"
        },
        "id": "8gQIQExYw65K",
        "outputId": "9ea36738-51fa-4766-d1a4-2578fc0d608d"
      },
      "source": [
        "model = XOR()\n",
        "print(model)\n",
        "from torchsummary import summary\n",
        "summary(model, (2,2))"
      ],
      "execution_count": 8,
      "outputs": [
        {
          "output_type": "stream",
          "text": [
            "XOR(\n",
            "  (lin1): Linear(in_features=2, out_features=11, bias=True)\n",
            "  (lin2): Linear(in_features=11, out_features=1, bias=False)\n",
            ")\n",
            "----------------------------------------------------------------\n",
            "        Layer (type)               Output Shape         Param #\n",
            "================================================================\n",
            "            Linear-1                [-1, 2, 11]              33\n",
            "            Linear-2                 [-1, 2, 1]              11\n",
            "================================================================\n",
            "Total params: 44\n",
            "Trainable params: 44\n",
            "Non-trainable params: 0\n",
            "----------------------------------------------------------------\n",
            "Input size (MB): 0.00\n",
            "Forward/backward pass size (MB): 0.00\n",
            "Params size (MB): 0.00\n",
            "Estimated Total Size (MB): 0.00\n",
            "----------------------------------------------------------------\n"
          ],
          "name": "stdout"
        },
        {
          "output_type": "stream",
          "text": [
            "/usr/local/lib/python3.7/dist-packages/torch/nn/functional.py:1698: UserWarning: nn.functional.tanh is deprecated. Use torch.tanh instead.\n",
            "  warnings.warn(\"nn.functional.tanh is deprecated. Use torch.tanh instead.\")\n"
          ],
          "name": "stderr"
        }
      ]
    },
    {
      "cell_type": "code",
      "metadata": {
        "id": "yeotEq19x6XF"
      },
      "source": [
        "def weights_init(model):\n",
        "    for m in model.modules():\n",
        "        if isinstance(m, nn.Linear):\n",
        "            # initialize the weight tensor, here we use a normal distribution\n",
        "            m.weight.data.normal_(0, 1)\n",
        "\n",
        "weights_init(model)"
      ],
      "execution_count": 9,
      "outputs": []
    },
    {
      "cell_type": "code",
      "metadata": {
        "id": "WrD_sNzLx78e"
      },
      "source": [
        "loss_func = nn.L1Loss()"
      ],
      "execution_count": 10,
      "outputs": []
    },
    {
      "cell_type": "code",
      "metadata": {
        "id": "-zvbrMd2x_lA"
      },
      "source": [
        "optimizer = optim.SGD(model.parameters(), lr=0.02, momentum=0.9)\n"
      ],
      "execution_count": 11,
      "outputs": []
    },
    {
      "cell_type": "code",
      "metadata": {
        "colab": {
          "base_uri": "https://localhost:8080/"
        },
        "id": "q7tWa3D7yA5X",
        "outputId": "a6af528b-68ab-4830-9177-c135a48b9762"
      },
      "source": [
        "epochs = 2001\n",
        "steps = X.size(0)\n",
        "for i in range(epochs):\n",
        "    for j in range(steps):\n",
        "        data_point = np.random.randint(X.size(0))\n",
        "        x_var = Variable(X[data_point], requires_grad=False)\n",
        "        y_var = Variable(Y[data_point], requires_grad=False)\n",
        "        \n",
        "        optimizer.zero_grad()\n",
        "        y_hat = model(x_var)\n",
        "        loss = loss_func.forward(y_hat, y_var)\n",
        "        loss.backward()\n",
        "        optimizer.step()\n",
        "        \n",
        "    if i % 50 == 0:\n",
        "        print( \"Epoch: {0}, Loss: {1}, \".format(i, loss.data.numpy()))"
      ],
      "execution_count": 12,
      "outputs": [
        {
          "output_type": "stream",
          "text": [
            "/usr/local/lib/python3.7/dist-packages/torch/nn/functional.py:1698: UserWarning: nn.functional.tanh is deprecated. Use torch.tanh instead.\n",
            "  warnings.warn(\"nn.functional.tanh is deprecated. Use torch.tanh instead.\")\n"
          ],
          "name": "stderr"
        },
        {
          "output_type": "stream",
          "text": [
            "Epoch: 0, Loss: 0.09028780460357666, \n",
            "Epoch: 50, Loss: 0.058071136474609375, \n",
            "Epoch: 100, Loss: 0.293179452419281, \n",
            "Epoch: 150, Loss: 0.5200902223587036, \n",
            "Epoch: 200, Loss: 0.028748929500579834, \n",
            "Epoch: 250, Loss: 0.0007044672966003418, \n",
            "Epoch: 300, Loss: 0.16418609023094177, \n",
            "Epoch: 350, Loss: 0.32372939586639404, \n",
            "Epoch: 400, Loss: 0.15345904231071472, \n",
            "Epoch: 450, Loss: 0.3192048668861389, \n",
            "Epoch: 500, Loss: 0.23565900325775146, \n",
            "Epoch: 550, Loss: 0.20464271306991577, \n",
            "Epoch: 600, Loss: 0.24103808403015137, \n",
            "Epoch: 650, Loss: 0.311298131942749, \n",
            "Epoch: 700, Loss: 0.18191742897033691, \n",
            "Epoch: 750, Loss: 0.08027148246765137, \n",
            "Epoch: 800, Loss: 0.11860036849975586, \n",
            "Epoch: 850, Loss: 0.10806921124458313, \n",
            "Epoch: 900, Loss: 0.8671873807907104, \n",
            "Epoch: 950, Loss: 0.15421515703201294, \n",
            "Epoch: 1000, Loss: 0.1873328685760498, \n",
            "Epoch: 1050, Loss: 0.3402893543243408, \n",
            "Epoch: 1100, Loss: 0.028334498405456543, \n",
            "Epoch: 1150, Loss: 0.37468719482421875, \n",
            "Epoch: 1200, Loss: 0.26975005865097046, \n",
            "Epoch: 1250, Loss: 0.08371376991271973, \n",
            "Epoch: 1300, Loss: 0.09379613399505615, \n",
            "Epoch: 1350, Loss: 0.22246599197387695, \n",
            "Epoch: 1400, Loss: 0.11550498008728027, \n",
            "Epoch: 1450, Loss: 0.13792383670806885, \n",
            "Epoch: 1500, Loss: 0.19564342498779297, \n",
            "Epoch: 1550, Loss: 0.1781994104385376, \n",
            "Epoch: 1600, Loss: 0.016083717346191406, \n",
            "Epoch: 1650, Loss: 0.11476409435272217, \n",
            "Epoch: 1700, Loss: 0.04794788360595703, \n",
            "Epoch: 1750, Loss: 0.1306111216545105, \n",
            "Epoch: 1800, Loss: 0.16615581512451172, \n",
            "Epoch: 1850, Loss: 0.3058035969734192, \n",
            "Epoch: 1900, Loss: 0.06795978546142578, \n",
            "Epoch: 1950, Loss: 0.008305191993713379, \n",
            "Epoch: 2000, Loss: 0.1726204752922058, \n"
          ],
          "name": "stdout"
        }
      ]
    }
  ]
}
