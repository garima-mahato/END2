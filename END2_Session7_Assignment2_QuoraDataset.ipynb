{
  "nbformat": 4,
  "nbformat_minor": 0,
  "metadata": {
    "colab": {
      "name": "END2_Session7_Assignment2_QuoraDataset.ipynb",
      "provenance": [],
      "collapsed_sections": [],
      "authorship_tag": "ABX9TyN4ermnUpwI8MYBvklRRDEQ"
    },
    "kernelspec": {
      "name": "python3",
      "display_name": "Python 3"
    },
    "language_info": {
      "name": "python"
    }
  },
  "cells": [
    {
      "cell_type": "markdown",
      "metadata": {
        "id": "jy9fihIWSDR8"
      },
      "source": [
        "# Sequence to Sequence Prediction on Quora Duplicate Data\n",
        "---"
      ]
    },
    {
      "cell_type": "code",
      "metadata": {
        "colab": {
          "base_uri": "https://localhost:8080/"
        },
        "id": "ExEEcyERPfrM",
        "outputId": "c28915f1-6348-474b-9a38-f865d450da72"
      },
      "source": [
        "from google.colab import drive\n",
        "drive.mount('/content/gdrive', force_remount=True)"
      ],
      "execution_count": 1,
      "outputs": [
        {
          "output_type": "stream",
          "text": [
            "Mounted at /content/gdrive\n"
          ],
          "name": "stdout"
        }
      ]
    },
    {
      "cell_type": "markdown",
      "metadata": {
        "id": "2-z6izHqSyI9"
      },
      "source": [
        "## Data Exploration\n",
        "---"
      ]
    },
    {
      "cell_type": "code",
      "metadata": {
        "id": "YIeH2bMuS1l9"
      },
      "source": [
        "import os\n",
        "\n",
        "data_path = 'http://qim.fs.quoracdn.net/quora_duplicate_questions.tsv'"
      ],
      "execution_count": 1,
      "outputs": []
    },
    {
      "cell_type": "code",
      "metadata": {
        "id": "oeCY3t3-TIus"
      },
      "source": [
        "import pandas as pd\n",
        "\n",
        "qa_data = pd.read_csv(data_path, sep='\\t')"
      ],
      "execution_count": 2,
      "outputs": []
    },
    {
      "cell_type": "markdown",
      "metadata": {
        "id": "jJhcxpDSYSxF"
      },
      "source": [
        "We need to consider question1 and question2 columns for our purpose."
      ]
    },
    {
      "cell_type": "code",
      "metadata": {
        "colab": {
          "base_uri": "https://localhost:8080/",
          "height": 203
        },
        "id": "PWfs6pNkTStN",
        "outputId": "226a7a7d-719d-40b3-d105-234a06687f20"
      },
      "source": [
        "qa_data.head()"
      ],
      "execution_count": 3,
      "outputs": [
        {
          "output_type": "execute_result",
          "data": {
            "text/html": [
              "<div>\n",
              "<style scoped>\n",
              "    .dataframe tbody tr th:only-of-type {\n",
              "        vertical-align: middle;\n",
              "    }\n",
              "\n",
              "    .dataframe tbody tr th {\n",
              "        vertical-align: top;\n",
              "    }\n",
              "\n",
              "    .dataframe thead th {\n",
              "        text-align: right;\n",
              "    }\n",
              "</style>\n",
              "<table border=\"1\" class=\"dataframe\">\n",
              "  <thead>\n",
              "    <tr style=\"text-align: right;\">\n",
              "      <th></th>\n",
              "      <th>id</th>\n",
              "      <th>qid1</th>\n",
              "      <th>qid2</th>\n",
              "      <th>question1</th>\n",
              "      <th>question2</th>\n",
              "      <th>is_duplicate</th>\n",
              "    </tr>\n",
              "  </thead>\n",
              "  <tbody>\n",
              "    <tr>\n",
              "      <th>0</th>\n",
              "      <td>0</td>\n",
              "      <td>1</td>\n",
              "      <td>2</td>\n",
              "      <td>What is the step by step guide to invest in sh...</td>\n",
              "      <td>What is the step by step guide to invest in sh...</td>\n",
              "      <td>0</td>\n",
              "    </tr>\n",
              "    <tr>\n",
              "      <th>1</th>\n",
              "      <td>1</td>\n",
              "      <td>3</td>\n",
              "      <td>4</td>\n",
              "      <td>What is the story of Kohinoor (Koh-i-Noor) Dia...</td>\n",
              "      <td>What would happen if the Indian government sto...</td>\n",
              "      <td>0</td>\n",
              "    </tr>\n",
              "    <tr>\n",
              "      <th>2</th>\n",
              "      <td>2</td>\n",
              "      <td>5</td>\n",
              "      <td>6</td>\n",
              "      <td>How can I increase the speed of my internet co...</td>\n",
              "      <td>How can Internet speed be increased by hacking...</td>\n",
              "      <td>0</td>\n",
              "    </tr>\n",
              "    <tr>\n",
              "      <th>3</th>\n",
              "      <td>3</td>\n",
              "      <td>7</td>\n",
              "      <td>8</td>\n",
              "      <td>Why am I mentally very lonely? How can I solve...</td>\n",
              "      <td>Find the remainder when [math]23^{24}[/math] i...</td>\n",
              "      <td>0</td>\n",
              "    </tr>\n",
              "    <tr>\n",
              "      <th>4</th>\n",
              "      <td>4</td>\n",
              "      <td>9</td>\n",
              "      <td>10</td>\n",
              "      <td>Which one dissolve in water quikly sugar, salt...</td>\n",
              "      <td>Which fish would survive in salt water?</td>\n",
              "      <td>0</td>\n",
              "    </tr>\n",
              "  </tbody>\n",
              "</table>\n",
              "</div>"
            ],
            "text/plain": [
              "   id  qid1  ...                                          question2 is_duplicate\n",
              "0   0     1  ...  What is the step by step guide to invest in sh...            0\n",
              "1   1     3  ...  What would happen if the Indian government sto...            0\n",
              "2   2     5  ...  How can Internet speed be increased by hacking...            0\n",
              "3   3     7  ...  Find the remainder when [math]23^{24}[/math] i...            0\n",
              "4   4     9  ...            Which fish would survive in salt water?            0\n",
              "\n",
              "[5 rows x 6 columns]"
            ]
          },
          "metadata": {
            "tags": []
          },
          "execution_count": 3
        }
      ]
    },
    {
      "cell_type": "markdown",
      "metadata": {
        "id": "HMuRZcQWYRKk"
      },
      "source": [
        "There are null values in the concerned columns."
      ]
    },
    {
      "cell_type": "code",
      "metadata": {
        "colab": {
          "base_uri": "https://localhost:8080/"
        },
        "id": "zXM9dzwITVlI",
        "outputId": "9801f613-0376-4756-863e-0df85726a3b5"
      },
      "source": [
        "qa_data.info()"
      ],
      "execution_count": 4,
      "outputs": [
        {
          "output_type": "stream",
          "text": [
            "<class 'pandas.core.frame.DataFrame'>\n",
            "RangeIndex: 404290 entries, 0 to 404289\n",
            "Data columns (total 6 columns):\n",
            " #   Column        Non-Null Count   Dtype \n",
            "---  ------        --------------   ----- \n",
            " 0   id            404290 non-null  int64 \n",
            " 1   qid1          404290 non-null  int64 \n",
            " 2   qid2          404290 non-null  int64 \n",
            " 3   question1     404289 non-null  object\n",
            " 4   question2     404288 non-null  object\n",
            " 5   is_duplicate  404290 non-null  int64 \n",
            "dtypes: int64(4), object(2)\n",
            "memory usage: 18.5+ MB\n"
          ],
          "name": "stdout"
        }
      ]
    },
    {
      "cell_type": "markdown",
      "metadata": {
        "id": "LMo3oNpvYhcz"
      },
      "source": [
        "Since we need to consider only duplicate columns, we will filter data using is_duplicate=1."
      ]
    },
    {
      "cell_type": "code",
      "metadata": {
        "colab": {
          "base_uri": "https://localhost:8080/"
        },
        "id": "yWnmz9WaTa2b",
        "outputId": "874d92ba-a403-4363-8b9b-4c0b7dc0d31a"
      },
      "source": [
        "qa_data.is_duplicate.value_counts()"
      ],
      "execution_count": 5,
      "outputs": [
        {
          "output_type": "execute_result",
          "data": {
            "text/plain": [
              "0    255027\n",
              "1    149263\n",
              "Name: is_duplicate, dtype: int64"
            ]
          },
          "metadata": {
            "tags": []
          },
          "execution_count": 5
        }
      ]
    },
    {
      "cell_type": "markdown",
      "metadata": {
        "id": "9CQR0ICSZXm-"
      },
      "source": [
        "This is the final data after filtering."
      ]
    },
    {
      "cell_type": "code",
      "metadata": {
        "colab": {
          "base_uri": "https://localhost:8080/",
          "height": 417
        },
        "id": "urG6Ejl6Tuie",
        "outputId": "737beead-b6aa-4b88-9d7d-e350898955f7"
      },
      "source": [
        "qa_data = qa_data[qa_data['is_duplicate']==1][['question1','question2']]\n",
        "qa_data.reset_index(drop=True,inplace=True)\n",
        "qa_data"
      ],
      "execution_count": 6,
      "outputs": [
        {
          "output_type": "execute_result",
          "data": {
            "text/html": [
              "<div>\n",
              "<style scoped>\n",
              "    .dataframe tbody tr th:only-of-type {\n",
              "        vertical-align: middle;\n",
              "    }\n",
              "\n",
              "    .dataframe tbody tr th {\n",
              "        vertical-align: top;\n",
              "    }\n",
              "\n",
              "    .dataframe thead th {\n",
              "        text-align: right;\n",
              "    }\n",
              "</style>\n",
              "<table border=\"1\" class=\"dataframe\">\n",
              "  <thead>\n",
              "    <tr style=\"text-align: right;\">\n",
              "      <th></th>\n",
              "      <th>question1</th>\n",
              "      <th>question2</th>\n",
              "    </tr>\n",
              "  </thead>\n",
              "  <tbody>\n",
              "    <tr>\n",
              "      <th>0</th>\n",
              "      <td>Astrology: I am a Capricorn Sun Cap moon and c...</td>\n",
              "      <td>I'm a triple Capricorn (Sun, Moon and ascendan...</td>\n",
              "    </tr>\n",
              "    <tr>\n",
              "      <th>1</th>\n",
              "      <td>How can I be a good geologist?</td>\n",
              "      <td>What should I do to be a great geologist?</td>\n",
              "    </tr>\n",
              "    <tr>\n",
              "      <th>2</th>\n",
              "      <td>How do I read and find my YouTube comments?</td>\n",
              "      <td>How can I see all my Youtube comments?</td>\n",
              "    </tr>\n",
              "    <tr>\n",
              "      <th>3</th>\n",
              "      <td>What can make Physics easy to learn?</td>\n",
              "      <td>How can you make physics easy to learn?</td>\n",
              "    </tr>\n",
              "    <tr>\n",
              "      <th>4</th>\n",
              "      <td>What was your first sexual experience like?</td>\n",
              "      <td>What was your first sexual experience?</td>\n",
              "    </tr>\n",
              "    <tr>\n",
              "      <th>...</th>\n",
              "      <td>...</td>\n",
              "      <td>...</td>\n",
              "    </tr>\n",
              "    <tr>\n",
              "      <th>149258</th>\n",
              "      <td>What are some outfit ideas to wear to a frat p...</td>\n",
              "      <td>What are some outfit ideas wear to a frat them...</td>\n",
              "    </tr>\n",
              "    <tr>\n",
              "      <th>149259</th>\n",
              "      <td>Why is Manaphy childish in Pokémon Ranger and ...</td>\n",
              "      <td>Why is Manaphy annoying in Pokemon ranger and ...</td>\n",
              "    </tr>\n",
              "    <tr>\n",
              "      <th>149260</th>\n",
              "      <td>How does a long distance relationship work?</td>\n",
              "      <td>How are long distance relationships maintained?</td>\n",
              "    </tr>\n",
              "    <tr>\n",
              "      <th>149261</th>\n",
              "      <td>What does Jainism say about homosexuality?</td>\n",
              "      <td>What does Jainism say about Gays and Homosexua...</td>\n",
              "    </tr>\n",
              "    <tr>\n",
              "      <th>149262</th>\n",
              "      <td>Do you believe there is life after death?</td>\n",
              "      <td>Is it true that there is life after death?</td>\n",
              "    </tr>\n",
              "  </tbody>\n",
              "</table>\n",
              "<p>149263 rows × 2 columns</p>\n",
              "</div>"
            ],
            "text/plain": [
              "                                                question1                                          question2\n",
              "0       Astrology: I am a Capricorn Sun Cap moon and c...  I'm a triple Capricorn (Sun, Moon and ascendan...\n",
              "1                          How can I be a good geologist?          What should I do to be a great geologist?\n",
              "2             How do I read and find my YouTube comments?             How can I see all my Youtube comments?\n",
              "3                    What can make Physics easy to learn?            How can you make physics easy to learn?\n",
              "4             What was your first sexual experience like?             What was your first sexual experience?\n",
              "...                                                   ...                                                ...\n",
              "149258  What are some outfit ideas to wear to a frat p...  What are some outfit ideas wear to a frat them...\n",
              "149259  Why is Manaphy childish in Pokémon Ranger and ...  Why is Manaphy annoying in Pokemon ranger and ...\n",
              "149260        How does a long distance relationship work?    How are long distance relationships maintained?\n",
              "149261         What does Jainism say about homosexuality?  What does Jainism say about Gays and Homosexua...\n",
              "149262          Do you believe there is life after death?         Is it true that there is life after death?\n",
              "\n",
              "[149263 rows x 2 columns]"
            ]
          },
          "metadata": {
            "tags": []
          },
          "execution_count": 6
        }
      ]
    },
    {
      "cell_type": "markdown",
      "metadata": {
        "id": "BeMmlx6GZLUQ"
      },
      "source": [
        "There are no null values."
      ]
    },
    {
      "cell_type": "code",
      "metadata": {
        "colab": {
          "base_uri": "https://localhost:8080/"
        },
        "id": "Ww-UInQ5Y4Gc",
        "outputId": "ba824762-f437-4e74-c165-d62e6f1f9a3b"
      },
      "source": [
        "qa_data.info()"
      ],
      "execution_count": 7,
      "outputs": [
        {
          "output_type": "stream",
          "text": [
            "<class 'pandas.core.frame.DataFrame'>\n",
            "RangeIndex: 149263 entries, 0 to 149262\n",
            "Data columns (total 2 columns):\n",
            " #   Column     Non-Null Count   Dtype \n",
            "---  ------     --------------   ----- \n",
            " 0   question1  149263 non-null  object\n",
            " 1   question2  149263 non-null  object\n",
            "dtypes: object(2)\n",
            "memory usage: 2.3+ MB\n"
          ],
          "name": "stdout"
        }
      ]
    },
    {
      "cell_type": "markdown",
      "metadata": {
        "id": "_q8sLQ_cSSPy"
      },
      "source": [
        "## Create NLP Pipeline\n",
        "---\n"
      ]
    },
    {
      "cell_type": "markdown",
      "metadata": {
        "id": "eAm9gfUESZMc"
      },
      "source": [
        "### Import libraries and set seed\n",
        "---"
      ]
    },
    {
      "cell_type": "code",
      "metadata": {
        "id": "mPCT7MoAQRH2"
      },
      "source": [
        "import os\n",
        "\n",
        "base_path = 'gdrive/MyDrive/TSAI_END2/Session7/Assignment2'\n",
        "data_path = os.path.join(base_path, 'data')\n",
        "qa_data_base_path = os.path.join(data_path, 'QuoraData')\n",
        "qa_data_path = os.path.join(qa_data_base_path, 'quora_duplicate_questions.tsv')"
      ],
      "execution_count": 2,
      "outputs": []
    },
    {
      "cell_type": "code",
      "metadata": {
        "colab": {
          "base_uri": "https://localhost:8080/"
        },
        "id": "0xZc3KGGVyys",
        "outputId": "df231760-8786-427c-b028-d7299e3d8c75"
      },
      "source": [
        "%cd 'gdrive/MyDrive/TSAI_END2/Session7/Assignment2'"
      ],
      "execution_count": 2,
      "outputs": [
        {
          "output_type": "stream",
          "text": [
            "/content/gdrive/MyDrive/TSAI_END2/Session7/Assignment2\n"
          ],
          "name": "stdout"
        }
      ]
    },
    {
      "cell_type": "code",
      "metadata": {
        "id": "B6s9uMNsWAVG"
      },
      "source": [
        "from nlp_api import *"
      ],
      "execution_count": 4,
      "outputs": []
    },
    {
      "cell_type": "code",
      "metadata": {
        "id": "4M-n38wdCB5k"
      },
      "source": [
        "import torch\n",
        "import torch.nn as nn\n",
        "import torch.optim as optim\n",
        "\n",
        "from torchtext.legacy import data\n",
        "from torchtext.legacy.data import Field, BucketIterator\n",
        "\n",
        "import spacy\n",
        "import numpy as np\n",
        "\n",
        "import random\n",
        "import math\n",
        "import time"
      ],
      "execution_count": 5,
      "outputs": []
    },
    {
      "cell_type": "code",
      "metadata": {
        "id": "yrKIqB0SDy6W"
      },
      "source": [
        "SEED = 1234\n",
        "\n",
        "random.seed(SEED)\n",
        "np.random.seed(SEED)\n",
        "torch.manual_seed(SEED)\n",
        "torch.cuda.manual_seed(SEED)\n",
        "torch.backends.cudnn.deterministic = True\n",
        "# !pip install spacy --upgrade"
      ],
      "execution_count": 6,
      "outputs": []
    },
    {
      "cell_type": "markdown",
      "metadata": {
        "id": "ffuUPlBGSmen"
      },
      "source": [
        "### Data Loading, Model Building and Training\n",
        "---"
      ]
    },
    {
      "cell_type": "code",
      "metadata": {
        "colab": {
          "base_uri": "https://localhost:8080/"
        },
        "id": "AWgTsHPtgNvu",
        "outputId": "e9d9bf61-e419-43e4-9310-c6fb18974a65"
      },
      "source": [
        "model_params = {'enc_emb_dim': 256, 'dec_emb_dim': 256, 'hid_dim': 512, 'n_layers': 2, 'enc_dropout': 0.5, 'dec_dropout': 0.5}\n",
        "params = {'data_path': './data/QuoraData/quora_duplicate_questions.tsv', 'data_name': 'quora', 'model_name': 'lstm encoder-decoder sequence model', 'model_params': model_params, 'seed': SEED, 'batch_size': 128, 'device': torch.device('cuda' if torch.cuda.is_available() else 'cpu')}\n",
        "\n",
        "nlp_pipeline = NLP_Pipeline(**params)\n",
        "nlp_pipeline.train_model(10, './saved_models/QuoraData')\n",
        "nlp_pipeline.evaluate_model()"
      ],
      "execution_count": 7,
      "outputs": [
        {
          "output_type": "stream",
          "text": [
            "Loading data...\n",
            "Number of training examples: 104484\n",
            "Number of testing examples: 44779\n",
            "Unique tokens in source vocabulary: 14522\n",
            "Unique tokens in target vocabulary: 14469\n",
            "Data is loaded\n",
            "Loading model....\n",
            "The model has 22200709 trainable parameters\n",
            "Epoch: 01 | Time: 4m 23s\n",
            "\tTrain Loss: 4.825 | Train PPL: 124.636\n",
            "\t Val. Loss: 4.667 |  Val. PPL: 106.393\n",
            "Epoch: 02 | Time: 4m 23s\n",
            "\tTrain Loss: 3.831 | Train PPL:  46.130\n",
            "\t Val. Loss: 4.163 |  Val. PPL:  64.238\n",
            "Epoch: 03 | Time: 4m 23s\n",
            "\tTrain Loss: 3.316 | Train PPL:  27.563\n",
            "\t Val. Loss: 3.858 |  Val. PPL:  47.368\n",
            "Epoch: 04 | Time: 4m 24s\n",
            "\tTrain Loss: 2.983 | Train PPL:  19.745\n",
            "\t Val. Loss: 3.730 |  Val. PPL:  41.700\n",
            "Epoch: 05 | Time: 4m 24s\n",
            "\tTrain Loss: 2.745 | Train PPL:  15.559\n",
            "\t Val. Loss: 3.646 |  Val. PPL:  38.319\n",
            "Epoch: 06 | Time: 4m 24s\n",
            "\tTrain Loss: 2.563 | Train PPL:  12.970\n",
            "\t Val. Loss: 3.604 |  Val. PPL:  36.744\n",
            "Epoch: 07 | Time: 4m 23s\n",
            "\tTrain Loss: 2.418 | Train PPL:  11.221\n",
            "\t Val. Loss: 3.614 |  Val. PPL:  37.122\n",
            "Epoch: 08 | Time: 4m 22s\n",
            "\tTrain Loss: 2.317 | Train PPL:  10.146\n",
            "\t Val. Loss: 3.552 |  Val. PPL:  34.876\n",
            "Epoch: 09 | Time: 4m 23s\n",
            "\tTrain Loss: 2.203 | Train PPL:   9.053\n",
            "\t Val. Loss: 3.584 |  Val. PPL:  36.013\n",
            "Epoch: 10 | Time: 4m 22s\n",
            "\tTrain Loss: 2.137 | Train PPL:   8.476\n",
            "\t Val. Loss: 3.565 |  Val. PPL:  35.329\n",
            "| Test Loss: 3.565 | Test PPL:  35.329 |\n"
          ],
          "name": "stdout"
        }
      ]
    },
    {
      "cell_type": "markdown",
      "metadata": {
        "id": "X4qCxLUFSrLA"
      },
      "source": [
        "### Model Evaluation\n",
        "---"
      ]
    },
    {
      "cell_type": "code",
      "metadata": {
        "id": "nacp0_zWQtuc",
        "colab": {
          "base_uri": "https://localhost:8080/"
        },
        "outputId": "8cac26a6-43f8-4e8a-d3a2-8434a7af83b1"
      },
      "source": [
        "nlp_pipeline.evaluate_model()"
      ],
      "execution_count": null,
      "outputs": [
        {
          "output_type": "stream",
          "text": [
            "| Test Loss: 3.552 | Test PPL:  34.876 |\n"
          ],
          "name": "stdout"
        }
      ]
    }
  ]
}