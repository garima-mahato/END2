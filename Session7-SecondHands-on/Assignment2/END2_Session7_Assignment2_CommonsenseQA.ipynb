{
  "nbformat": 4,
  "nbformat_minor": 0,
  "metadata": {
    "colab": {
      "name": "END2_Session7_Assignment2_CommonsenseQA.ipynb",
      "provenance": [],
      "collapsed_sections": []
    },
    "kernelspec": {
      "name": "python3",
      "display_name": "Python 3"
    },
    "language_info": {
      "name": "python"
    },
    "accelerator": "GPU"
  },
  "cells": [
    {
      "cell_type": "markdown",
      "metadata": {
        "id": "XldGuOFet6c6"
      },
      "source": [
        "# Sequence to Sequence Prediction on Commonsense QA Data\n",
        "---\n",
        "\n",
        "**Task: Answer Common sense question**\n",
        "\n",
        "**Description:**\n",
        "\n",
        "CommonsenseQA is a new multiple-choice question answering dataset that requires different types of commonsense knowledge to predict the correct answers . It contains 12,102 questions with one correct answer and four distractor answers.  The dataset is provided in two major training/validation/testing set splits.\n",
        "\n",
        "There are 3 JSON files for: train, validate, test.\n",
        "\n",
        "We will consider train and validate files because test does not contain answers."
      ]
    },
    {
      "cell_type": "code",
      "metadata": {
        "colab": {
          "base_uri": "https://localhost:8080/"
        },
        "id": "ExEEcyERPfrM",
        "outputId": "b22a475f-c7d5-4b87-a8ea-479f9b7023d6"
      },
      "source": [
        "from google.colab import drive\n",
        "drive.mount('/content/gdrive', force_remount=True)"
      ],
      "execution_count": 1,
      "outputs": [
        {
          "output_type": "stream",
          "text": [
            "Mounted at /content/gdrive\n"
          ],
          "name": "stdout"
        }
      ]
    },
    {
      "cell_type": "markdown",
      "metadata": {
        "id": "Zf8vjtASPy2P"
      },
      "source": [
        "## Data Exploration\n",
        "---\n"
      ]
    },
    {
      "cell_type": "code",
      "metadata": {
        "id": "BAFgGB77xZ10"
      },
      "source": [
        "from io import BytesIO\n",
        "from zipfile import ZipFile\n",
        "from urllib.request import urlopen\n",
        "import json\n",
        "import pandas as pd\n",
        "\n",
        "train_url = 'https://s3.amazonaws.com/commensenseqa/train_rand_split.jsonl'\n",
        "dev_url = 'https://s3.amazonaws.com/commensenseqa/dev_rand_split.jsonl'\n",
        "test_url = 'https://s3.amazonaws.com/commensenseqa/test_rand_split_no_answers.jsonl'\n",
        "\n",
        "resp = urlopen(train_url).read().decode()\n",
        "data = pd.read_json(resp,lines=True)\n",
        "\n",
        "# zipfile = ZipFile(BytesIO(resp.read()))\n",
        "# files = zipfile.namelist()\n",
        "# print(files)\n",
        "# for fs in files:\n",
        "#   if 'train' in fs:\n",
        "#     with zipfile.open(fs) as json_file:\n",
        "#       train_json_data = json.load(json_file)\n",
        "#   elif 'dev' in fs:\n",
        "#     with zipfile.open(fs) as json_file:\n",
        "#       test_json_data = json.load(json_file)"
      ],
      "execution_count": 1,
      "outputs": []
    },
    {
      "cell_type": "code",
      "metadata": {
        "id": "1LbJbjIsPqbZ"
      },
      "source": [
        "df = pd.json_normalize(data.to_dict(orient='records'))"
      ],
      "execution_count": 2,
      "outputs": []
    },
    {
      "cell_type": "markdown",
      "metadata": {
        "id": "rtkLOrKlvsgR"
      },
      "source": [
        "Each line in JSON file represents record. Each record consists of: \n",
        "\n",
        "1) answerKey:- It denotes the key  or label for correct option.\n",
        "\n",
        "2) id:- uniques question id\n",
        "\n",
        "3) question:- It is a dictionary of:\n",
        "\n",
        "> i) question_concept - denotes the category to which question belong.\n",
        "\n",
        "> ii) choices - denotes choices among which answer lies. It is a list of dictionary containing:\n",
        "\n",
        ">> a) label: can be A or B or C or D\n",
        "\n",
        ">> b) text\n",
        "\n",
        "> iii) stem\n",
        "\n",
        "Below is the structure when converted to Data Frame"
      ]
    },
    {
      "cell_type": "code",
      "metadata": {
        "colab": {
          "base_uri": "https://localhost:8080/",
          "height": 417
        },
        "id": "7l15vhi7xSWs",
        "outputId": "31b662ee-811c-41d4-e338-26e9d93a49f2"
      },
      "source": [
        "df"
      ],
      "execution_count": 3,
      "outputs": [
        {
          "output_type": "execute_result",
          "data": {
            "text/html": [
              "<div>\n",
              "<style scoped>\n",
              "    .dataframe tbody tr th:only-of-type {\n",
              "        vertical-align: middle;\n",
              "    }\n",
              "\n",
              "    .dataframe tbody tr th {\n",
              "        vertical-align: top;\n",
              "    }\n",
              "\n",
              "    .dataframe thead th {\n",
              "        text-align: right;\n",
              "    }\n",
              "</style>\n",
              "<table border=\"1\" class=\"dataframe\">\n",
              "  <thead>\n",
              "    <tr style=\"text-align: right;\">\n",
              "      <th></th>\n",
              "      <th>answerKey</th>\n",
              "      <th>id</th>\n",
              "      <th>question.question_concept</th>\n",
              "      <th>question.choices</th>\n",
              "      <th>question.stem</th>\n",
              "    </tr>\n",
              "  </thead>\n",
              "  <tbody>\n",
              "    <tr>\n",
              "      <th>0</th>\n",
              "      <td>A</td>\n",
              "      <td>075e483d21c29a511267ef62bedc0461</td>\n",
              "      <td>punishing</td>\n",
              "      <td>[{'label': 'A', 'text': 'ignore'}, {'label': '...</td>\n",
              "      <td>The sanctions against the school were a punish...</td>\n",
              "    </tr>\n",
              "    <tr>\n",
              "      <th>1</th>\n",
              "      <td>B</td>\n",
              "      <td>61fe6e879ff18686d7552425a36344c8</td>\n",
              "      <td>people</td>\n",
              "      <td>[{'label': 'A', 'text': 'race track'}, {'label...</td>\n",
              "      <td>Sammy wanted to go to where the people were.  ...</td>\n",
              "    </tr>\n",
              "    <tr>\n",
              "      <th>2</th>\n",
              "      <td>A</td>\n",
              "      <td>4c1cb0e95b99f72d55c068ba0255c54d</td>\n",
              "      <td>choker</td>\n",
              "      <td>[{'label': 'A', 'text': 'jewelry store'}, {'la...</td>\n",
              "      <td>To locate a choker not located in a jewelry bo...</td>\n",
              "    </tr>\n",
              "    <tr>\n",
              "      <th>3</th>\n",
              "      <td>D</td>\n",
              "      <td>02e821a3e53cb320790950aab4489e85</td>\n",
              "      <td>highway</td>\n",
              "      <td>[{'label': 'A', 'text': 'united states'}, {'la...</td>\n",
              "      <td>Google Maps and other highway and street GPS s...</td>\n",
              "    </tr>\n",
              "    <tr>\n",
              "      <th>4</th>\n",
              "      <td>C</td>\n",
              "      <td>23505889b94e880c3e89cff4ba119860</td>\n",
              "      <td>fox</td>\n",
              "      <td>[{'label': 'A', 'text': 'pretty flowers.'}, {'...</td>\n",
              "      <td>The fox walked from the city into the forest, ...</td>\n",
              "    </tr>\n",
              "    <tr>\n",
              "      <th>...</th>\n",
              "      <td>...</td>\n",
              "      <td>...</td>\n",
              "      <td>...</td>\n",
              "      <td>...</td>\n",
              "      <td>...</td>\n",
              "    </tr>\n",
              "    <tr>\n",
              "      <th>9736</th>\n",
              "      <td>E</td>\n",
              "      <td>f1b2a30a1facff543e055231c5f90dd0</td>\n",
              "      <td>going public</td>\n",
              "      <td>[{'label': 'A', 'text': 'consequences'}, {'lab...</td>\n",
              "      <td>What would someone need to do if he or she wan...</td>\n",
              "    </tr>\n",
              "    <tr>\n",
              "      <th>9737</th>\n",
              "      <td>D</td>\n",
              "      <td>a63b4d0c0b34d6e5f5ce7b2c2c08b825</td>\n",
              "      <td>chair</td>\n",
              "      <td>[{'label': 'A', 'text': 'stadium'}, {'label': ...</td>\n",
              "      <td>Where might you find a chair at an office?</td>\n",
              "    </tr>\n",
              "    <tr>\n",
              "      <th>9738</th>\n",
              "      <td>A</td>\n",
              "      <td>22d0eea15e10be56024fd00bb0e4f72f</td>\n",
              "      <td>jeans</td>\n",
              "      <td>[{'label': 'A', 'text': 'shopping mall'}, {'la...</td>\n",
              "      <td>Where would you buy jeans in a place with a la...</td>\n",
              "    </tr>\n",
              "    <tr>\n",
              "      <th>9739</th>\n",
              "      <td>A</td>\n",
              "      <td>7c55160a4630de9690eb328b57a18dc2</td>\n",
              "      <td>well</td>\n",
              "      <td>[{'label': 'A', 'text': 'fairytale'}, {'label'...</td>\n",
              "      <td>John fell down the well.  he couldn't believe ...</td>\n",
              "    </tr>\n",
              "    <tr>\n",
              "      <th>9740</th>\n",
              "      <td>C</td>\n",
              "      <td>dd640927f9920930501fb8dc3efc196b</td>\n",
              "      <td>electricity</td>\n",
              "      <td>[{'label': 'A', 'text': 'put in to the water'}...</td>\n",
              "      <td>I forgot to pay the electricity bill, now what...</td>\n",
              "    </tr>\n",
              "  </tbody>\n",
              "</table>\n",
              "<p>9741 rows × 5 columns</p>\n",
              "</div>"
            ],
            "text/plain": [
              "     answerKey  ...                                      question.stem\n",
              "0            A  ...  The sanctions against the school were a punish...\n",
              "1            B  ...  Sammy wanted to go to where the people were.  ...\n",
              "2            A  ...  To locate a choker not located in a jewelry bo...\n",
              "3            D  ...  Google Maps and other highway and street GPS s...\n",
              "4            C  ...  The fox walked from the city into the forest, ...\n",
              "...        ...  ...                                                ...\n",
              "9736         E  ...  What would someone need to do if he or she wan...\n",
              "9737         D  ...         Where might you find a chair at an office?\n",
              "9738         A  ...  Where would you buy jeans in a place with a la...\n",
              "9739         A  ...  John fell down the well.  he couldn't believe ...\n",
              "9740         C  ...  I forgot to pay the electricity bill, now what...\n",
              "\n",
              "[9741 rows x 5 columns]"
            ]
          },
          "metadata": {
            "tags": []
          },
          "execution_count": 3
        }
      ]
    },
    {
      "cell_type": "code",
      "metadata": {
        "colab": {
          "base_uri": "https://localhost:8080/"
        },
        "id": "XOxCJyvQv1jV",
        "outputId": "9407052a-82ca-4b90-d299-5c746b3522ff"
      },
      "source": [
        "df['question.choices']"
      ],
      "execution_count": 4,
      "outputs": [
        {
          "output_type": "execute_result",
          "data": {
            "text/plain": [
              "0       [{'label': 'A', 'text': 'ignore'}, {'label': '...\n",
              "1       [{'label': 'A', 'text': 'race track'}, {'label...\n",
              "2       [{'label': 'A', 'text': 'jewelry store'}, {'la...\n",
              "3       [{'label': 'A', 'text': 'united states'}, {'la...\n",
              "4       [{'label': 'A', 'text': 'pretty flowers.'}, {'...\n",
              "                              ...                        \n",
              "9736    [{'label': 'A', 'text': 'consequences'}, {'lab...\n",
              "9737    [{'label': 'A', 'text': 'stadium'}, {'label': ...\n",
              "9738    [{'label': 'A', 'text': 'shopping mall'}, {'la...\n",
              "9739    [{'label': 'A', 'text': 'fairytale'}, {'label'...\n",
              "9740    [{'label': 'A', 'text': 'put in to the water'}...\n",
              "Name: question.choices, Length: 9741, dtype: object"
            ]
          },
          "metadata": {
            "tags": []
          },
          "execution_count": 4
        }
      ]
    },
    {
      "cell_type": "code",
      "metadata": {
        "colab": {
          "base_uri": "https://localhost:8080/"
        },
        "id": "tskoy1wLxYh-",
        "outputId": "08e15aca-3d9a-41dd-a9c7-f8b5c23daab6"
      },
      "source": [
        "df.info()"
      ],
      "execution_count": 5,
      "outputs": [
        {
          "output_type": "stream",
          "text": [
            "<class 'pandas.core.frame.DataFrame'>\n",
            "RangeIndex: 9741 entries, 0 to 9740\n",
            "Data columns (total 5 columns):\n",
            " #   Column                     Non-Null Count  Dtype \n",
            "---  ------                     --------------  ----- \n",
            " 0   answerKey                  9741 non-null   object\n",
            " 1   id                         9741 non-null   object\n",
            " 2   question.question_concept  9741 non-null   object\n",
            " 3   question.choices           9741 non-null   object\n",
            " 4   question.stem              9741 non-null   object\n",
            "dtypes: object(5)\n",
            "memory usage: 380.6+ KB\n"
          ],
          "name": "stdout"
        }
      ]
    },
    {
      "cell_type": "code",
      "metadata": {
        "colab": {
          "base_uri": "https://localhost:8080/"
        },
        "id": "fjhg7a9hxc11",
        "outputId": "97604d69-6646-4bd1-bac0-326b688b6e76"
      },
      "source": [
        "df['answerKey'].value_counts()"
      ],
      "execution_count": 6,
      "outputs": [
        {
          "output_type": "execute_result",
          "data": {
            "text/plain": [
              "D    1985\n",
              "B    1973\n",
              "C    1946\n",
              "E    1928\n",
              "A    1909\n",
              "Name: answerKey, dtype: int64"
            ]
          },
          "metadata": {
            "tags": []
          },
          "execution_count": 6
        }
      ]
    },
    {
      "cell_type": "markdown",
      "metadata": {
        "id": "YjGbNWl6fGM0"
      },
      "source": [
        "To create answer column, answerKey is matched with question.choices."
      ]
    },
    {
      "cell_type": "code",
      "metadata": {
        "id": "ODUSVTvfxWrd"
      },
      "source": [
        "# pd.concat([pd.DataFrame(x) for x in df['question.choices']], keys=df.index).reset_index(level=1, drop=True).reset_index(drop=True)\n",
        "df['answer'] = df.apply(lambda r: [x for x in r['question.choices'] if x['label']==r['answerKey']][0]['text'], axis=1)"
      ],
      "execution_count": 14,
      "outputs": []
    },
    {
      "cell_type": "code",
      "metadata": {
        "colab": {
          "base_uri": "https://localhost:8080/",
          "height": 417
        },
        "id": "4ZkVXc499SrW",
        "outputId": "d508421c-2d51-4437-8c9d-52a03f00ac90"
      },
      "source": [
        "df"
      ],
      "execution_count": 15,
      "outputs": [
        {
          "output_type": "execute_result",
          "data": {
            "text/html": [
              "<div>\n",
              "<style scoped>\n",
              "    .dataframe tbody tr th:only-of-type {\n",
              "        vertical-align: middle;\n",
              "    }\n",
              "\n",
              "    .dataframe tbody tr th {\n",
              "        vertical-align: top;\n",
              "    }\n",
              "\n",
              "    .dataframe thead th {\n",
              "        text-align: right;\n",
              "    }\n",
              "</style>\n",
              "<table border=\"1\" class=\"dataframe\">\n",
              "  <thead>\n",
              "    <tr style=\"text-align: right;\">\n",
              "      <th></th>\n",
              "      <th>answerKey</th>\n",
              "      <th>id</th>\n",
              "      <th>question.question_concept</th>\n",
              "      <th>question.choices</th>\n",
              "      <th>question.stem</th>\n",
              "      <th>answer</th>\n",
              "    </tr>\n",
              "  </thead>\n",
              "  <tbody>\n",
              "    <tr>\n",
              "      <th>0</th>\n",
              "      <td>A</td>\n",
              "      <td>075e483d21c29a511267ef62bedc0461</td>\n",
              "      <td>punishing</td>\n",
              "      <td>[{'label': 'A', 'text': 'ignore'}, {'label': '...</td>\n",
              "      <td>The sanctions against the school were a punish...</td>\n",
              "      <td>ignore</td>\n",
              "    </tr>\n",
              "    <tr>\n",
              "      <th>1</th>\n",
              "      <td>B</td>\n",
              "      <td>61fe6e879ff18686d7552425a36344c8</td>\n",
              "      <td>people</td>\n",
              "      <td>[{'label': 'A', 'text': 'race track'}, {'label...</td>\n",
              "      <td>Sammy wanted to go to where the people were.  ...</td>\n",
              "      <td>populated areas</td>\n",
              "    </tr>\n",
              "    <tr>\n",
              "      <th>2</th>\n",
              "      <td>A</td>\n",
              "      <td>4c1cb0e95b99f72d55c068ba0255c54d</td>\n",
              "      <td>choker</td>\n",
              "      <td>[{'label': 'A', 'text': 'jewelry store'}, {'la...</td>\n",
              "      <td>To locate a choker not located in a jewelry bo...</td>\n",
              "      <td>jewelry store</td>\n",
              "    </tr>\n",
              "    <tr>\n",
              "      <th>3</th>\n",
              "      <td>D</td>\n",
              "      <td>02e821a3e53cb320790950aab4489e85</td>\n",
              "      <td>highway</td>\n",
              "      <td>[{'label': 'A', 'text': 'united states'}, {'la...</td>\n",
              "      <td>Google Maps and other highway and street GPS s...</td>\n",
              "      <td>atlas</td>\n",
              "    </tr>\n",
              "    <tr>\n",
              "      <th>4</th>\n",
              "      <td>C</td>\n",
              "      <td>23505889b94e880c3e89cff4ba119860</td>\n",
              "      <td>fox</td>\n",
              "      <td>[{'label': 'A', 'text': 'pretty flowers.'}, {'...</td>\n",
              "      <td>The fox walked from the city into the forest, ...</td>\n",
              "      <td>natural habitat</td>\n",
              "    </tr>\n",
              "    <tr>\n",
              "      <th>...</th>\n",
              "      <td>...</td>\n",
              "      <td>...</td>\n",
              "      <td>...</td>\n",
              "      <td>...</td>\n",
              "      <td>...</td>\n",
              "      <td>...</td>\n",
              "    </tr>\n",
              "    <tr>\n",
              "      <th>9736</th>\n",
              "      <td>E</td>\n",
              "      <td>f1b2a30a1facff543e055231c5f90dd0</td>\n",
              "      <td>going public</td>\n",
              "      <td>[{'label': 'A', 'text': 'consequences'}, {'lab...</td>\n",
              "      <td>What would someone need to do if he or she wan...</td>\n",
              "      <td>telling all</td>\n",
              "    </tr>\n",
              "    <tr>\n",
              "      <th>9737</th>\n",
              "      <td>D</td>\n",
              "      <td>a63b4d0c0b34d6e5f5ce7b2c2c08b825</td>\n",
              "      <td>chair</td>\n",
              "      <td>[{'label': 'A', 'text': 'stadium'}, {'label': ...</td>\n",
              "      <td>Where might you find a chair at an office?</td>\n",
              "      <td>cubicle</td>\n",
              "    </tr>\n",
              "    <tr>\n",
              "      <th>9738</th>\n",
              "      <td>A</td>\n",
              "      <td>22d0eea15e10be56024fd00bb0e4f72f</td>\n",
              "      <td>jeans</td>\n",
              "      <td>[{'label': 'A', 'text': 'shopping mall'}, {'la...</td>\n",
              "      <td>Where would you buy jeans in a place with a la...</td>\n",
              "      <td>shopping mall</td>\n",
              "    </tr>\n",
              "    <tr>\n",
              "      <th>9739</th>\n",
              "      <td>A</td>\n",
              "      <td>7c55160a4630de9690eb328b57a18dc2</td>\n",
              "      <td>well</td>\n",
              "      <td>[{'label': 'A', 'text': 'fairytale'}, {'label'...</td>\n",
              "      <td>John fell down the well.  he couldn't believe ...</td>\n",
              "      <td>fairytale</td>\n",
              "    </tr>\n",
              "    <tr>\n",
              "      <th>9740</th>\n",
              "      <td>C</td>\n",
              "      <td>dd640927f9920930501fb8dc3efc196b</td>\n",
              "      <td>electricity</td>\n",
              "      <td>[{'label': 'A', 'text': 'put in to the water'}...</td>\n",
              "      <td>I forgot to pay the electricity bill, now what...</td>\n",
              "      <td>produce heat</td>\n",
              "    </tr>\n",
              "  </tbody>\n",
              "</table>\n",
              "<p>9741 rows × 6 columns</p>\n",
              "</div>"
            ],
            "text/plain": [
              "     answerKey  ...           answer\n",
              "0            A  ...           ignore\n",
              "1            B  ...  populated areas\n",
              "2            A  ...    jewelry store\n",
              "3            D  ...            atlas\n",
              "4            C  ...  natural habitat\n",
              "...        ...  ...              ...\n",
              "9736         E  ...      telling all\n",
              "9737         D  ...          cubicle\n",
              "9738         A  ...    shopping mall\n",
              "9739         A  ...        fairytale\n",
              "9740         C  ...     produce heat\n",
              "\n",
              "[9741 rows x 6 columns]"
            ]
          },
          "metadata": {
            "tags": []
          },
          "execution_count": 15
        }
      ]
    },
    {
      "cell_type": "markdown",
      "metadata": {
        "id": "-MDp-C8NfUMb"
      },
      "source": [
        "Question column is question.stem"
      ]
    },
    {
      "cell_type": "code",
      "metadata": {
        "colab": {
          "base_uri": "https://localhost:8080/",
          "height": 417
        },
        "id": "eUvCIazP-Qo6",
        "outputId": "1031955b-ea5e-4f62-867b-2f12c6182636"
      },
      "source": [
        "df[['question.stem','answer']]"
      ],
      "execution_count": 16,
      "outputs": [
        {
          "output_type": "execute_result",
          "data": {
            "text/html": [
              "<div>\n",
              "<style scoped>\n",
              "    .dataframe tbody tr th:only-of-type {\n",
              "        vertical-align: middle;\n",
              "    }\n",
              "\n",
              "    .dataframe tbody tr th {\n",
              "        vertical-align: top;\n",
              "    }\n",
              "\n",
              "    .dataframe thead th {\n",
              "        text-align: right;\n",
              "    }\n",
              "</style>\n",
              "<table border=\"1\" class=\"dataframe\">\n",
              "  <thead>\n",
              "    <tr style=\"text-align: right;\">\n",
              "      <th></th>\n",
              "      <th>question.stem</th>\n",
              "      <th>answer</th>\n",
              "    </tr>\n",
              "  </thead>\n",
              "  <tbody>\n",
              "    <tr>\n",
              "      <th>0</th>\n",
              "      <td>The sanctions against the school were a punish...</td>\n",
              "      <td>ignore</td>\n",
              "    </tr>\n",
              "    <tr>\n",
              "      <th>1</th>\n",
              "      <td>Sammy wanted to go to where the people were.  ...</td>\n",
              "      <td>populated areas</td>\n",
              "    </tr>\n",
              "    <tr>\n",
              "      <th>2</th>\n",
              "      <td>To locate a choker not located in a jewelry bo...</td>\n",
              "      <td>jewelry store</td>\n",
              "    </tr>\n",
              "    <tr>\n",
              "      <th>3</th>\n",
              "      <td>Google Maps and other highway and street GPS s...</td>\n",
              "      <td>atlas</td>\n",
              "    </tr>\n",
              "    <tr>\n",
              "      <th>4</th>\n",
              "      <td>The fox walked from the city into the forest, ...</td>\n",
              "      <td>natural habitat</td>\n",
              "    </tr>\n",
              "    <tr>\n",
              "      <th>...</th>\n",
              "      <td>...</td>\n",
              "      <td>...</td>\n",
              "    </tr>\n",
              "    <tr>\n",
              "      <th>9736</th>\n",
              "      <td>What would someone need to do if he or she wan...</td>\n",
              "      <td>telling all</td>\n",
              "    </tr>\n",
              "    <tr>\n",
              "      <th>9737</th>\n",
              "      <td>Where might you find a chair at an office?</td>\n",
              "      <td>cubicle</td>\n",
              "    </tr>\n",
              "    <tr>\n",
              "      <th>9738</th>\n",
              "      <td>Where would you buy jeans in a place with a la...</td>\n",
              "      <td>shopping mall</td>\n",
              "    </tr>\n",
              "    <tr>\n",
              "      <th>9739</th>\n",
              "      <td>John fell down the well.  he couldn't believe ...</td>\n",
              "      <td>fairytale</td>\n",
              "    </tr>\n",
              "    <tr>\n",
              "      <th>9740</th>\n",
              "      <td>I forgot to pay the electricity bill, now what...</td>\n",
              "      <td>produce heat</td>\n",
              "    </tr>\n",
              "  </tbody>\n",
              "</table>\n",
              "<p>9741 rows × 2 columns</p>\n",
              "</div>"
            ],
            "text/plain": [
              "                                          question.stem           answer\n",
              "0     The sanctions against the school were a punish...           ignore\n",
              "1     Sammy wanted to go to where the people were.  ...  populated areas\n",
              "2     To locate a choker not located in a jewelry bo...    jewelry store\n",
              "3     Google Maps and other highway and street GPS s...            atlas\n",
              "4     The fox walked from the city into the forest, ...  natural habitat\n",
              "...                                                 ...              ...\n",
              "9736  What would someone need to do if he or she wan...      telling all\n",
              "9737         Where might you find a chair at an office?          cubicle\n",
              "9738  Where would you buy jeans in a place with a la...    shopping mall\n",
              "9739  John fell down the well.  he couldn't believe ...        fairytale\n",
              "9740  I forgot to pay the electricity bill, now what...     produce heat\n",
              "\n",
              "[9741 rows x 2 columns]"
            ]
          },
          "metadata": {
            "tags": []
          },
          "execution_count": 16
        }
      ]
    },
    {
      "cell_type": "markdown",
      "metadata": {
        "id": "TLxKUPBSqBBg"
      },
      "source": [
        "## Data Paths\n",
        "---"
      ]
    },
    {
      "cell_type": "code",
      "metadata": {
        "id": "mPCT7MoAQRH2"
      },
      "source": [
        "import os\n",
        "\n",
        "base_path = 'gdrive/MyDrive/TSAI_END2/Session7/Assignment2'\n",
        "data_path = ['https://s3.amazonaws.com/commensenseqa/train_rand_split.jsonl', 'https://s3.amazonaws.com/commensenseqa/dev_rand_split.jsonl']"
      ],
      "execution_count": 2,
      "outputs": []
    },
    {
      "cell_type": "markdown",
      "metadata": {
        "id": "s0RrH84KqFvs"
      },
      "source": [
        "## Create NLP Pipeline\n",
        "---\n"
      ]
    },
    {
      "cell_type": "markdown",
      "metadata": {
        "id": "gRggDE6oqVHa"
      },
      "source": [
        "### Import libraries and set seed\n",
        "---"
      ]
    },
    {
      "cell_type": "code",
      "metadata": {
        "id": "bS2oIqsapsMa",
        "colab": {
          "base_uri": "https://localhost:8080/"
        },
        "outputId": "69017a66-03f3-433f-9d7f-79db19d38e19"
      },
      "source": [
        "%cd 'gdrive/MyDrive/TSAI_END2/Session7/Assignment2'"
      ],
      "execution_count": 3,
      "outputs": [
        {
          "output_type": "stream",
          "text": [
            "/content/gdrive/MyDrive/TSAI_END2/Session7/Assignment2\n"
          ],
          "name": "stdout"
        }
      ]
    },
    {
      "cell_type": "code",
      "metadata": {
        "id": "8Lx-qvyxpwsU"
      },
      "source": [
        "from nlp_seq2seq_api import *"
      ],
      "execution_count": 4,
      "outputs": []
    },
    {
      "cell_type": "code",
      "metadata": {
        "id": "4M-n38wdCB5k"
      },
      "source": [
        "import torch\n",
        "import torch.nn as nn\n",
        "import torch.optim as optim\n",
        "\n",
        "from torchtext.legacy import data\n",
        "from torchtext.legacy.data import Field, BucketIterator\n",
        "\n",
        "import spacy\n",
        "import numpy as np\n",
        "\n",
        "import random\n",
        "import math\n",
        "import time"
      ],
      "execution_count": 5,
      "outputs": []
    },
    {
      "cell_type": "code",
      "metadata": {
        "id": "yrKIqB0SDy6W"
      },
      "source": [
        "SEED = 1234\n",
        "\n",
        "random.seed(SEED)\n",
        "np.random.seed(SEED)\n",
        "torch.manual_seed(SEED)\n",
        "torch.cuda.manual_seed(SEED)\n",
        "torch.backends.cudnn.deterministic = True\n",
        "# !pip install spacy --upgrade"
      ],
      "execution_count": 6,
      "outputs": []
    },
    {
      "cell_type": "markdown",
      "metadata": {
        "id": "bItEnVV0qamS"
      },
      "source": [
        "### Data Loading and Model Building\n",
        "---"
      ]
    },
    {
      "cell_type": "code",
      "metadata": {
        "id": "g8Dd9sX6qhUU",
        "colab": {
          "base_uri": "https://localhost:8080/"
        },
        "outputId": "25e2a540-4ac0-4435-8bc5-150b857d567b"
      },
      "source": [
        "model_params = {'enc_emb_dim': 256, 'dec_emb_dim': 256, 'hid_dim': 512, 'n_layers': 2, 'enc_dropout': 0.5, 'dec_dropout': 0.5}\n",
        "params = {'data_path': data_path, 'data_name': 'commonsense', 'model_name': 'lstm encoder-decoder sequence model', 'model_params': model_params, 'seed': SEED, 'batch_size': 128, 'device': torch.device('cuda' if torch.cuda.is_available() else 'cpu')}\n",
        "\n",
        "nlp_pipeline = NLPSeq2SeqPipeline(**params)"
      ],
      "execution_count": 7,
      "outputs": [
        {
          "output_type": "stream",
          "text": [
            "Loading data...\n",
            "Number of training examples: 7673\n",
            "Number of testing examples: 3289\n",
            "Unique tokens in source vocabulary: 3989\n",
            "Unique tokens in target vocabulary: 1576\n",
            "Sample Data:-\n",
            "                                                 src              trg\n",
            "0  The sanctions against the school were a punish...           ignore\n",
            "1  Sammy wanted to go to where the people were.  ...  populated areas\n",
            "2  To locate a choker not located in a jewelry bo...    jewelry store\n",
            "3  Google Maps and other highway and street GPS s...            atlas\n",
            "4  The fox walked from the city into the forest, ...  natural habitat\n",
            "Data is loaded\n",
            "\n",
            "\n",
            "Loading model...\n",
            "Model Loaded...\n",
            "Model Structure:- \n",
            "Seq2Seq(\n",
            "  (encoder): Encoder(\n",
            "    (embedding): Embedding(3989, 256)\n",
            "    (rnn): LSTM(256, 512, num_layers=2, dropout=0.5)\n",
            "    (dropout): Dropout(p=0.5, inplace=False)\n",
            "  )\n",
            "  (decoder): Decoder(\n",
            "    (embedding): Embedding(1576, 256)\n",
            "    (rnn): LSTM(256, 512, num_layers=2, dropout=0.5)\n",
            "    (fc_out): Linear(in_features=512, out_features=1576, bias=True)\n",
            "    (dropout): Dropout(p=0.5, inplace=False)\n",
            "  )\n",
            ")\n",
            "The model has 9,589,544 trainable parameters\n",
            "Model Built\n"
          ],
          "name": "stdout"
        }
      ]
    },
    {
      "cell_type": "markdown",
      "metadata": {
        "id": "P_P6JPRjrhBU"
      },
      "source": [
        "### Model Training\n",
        "---"
      ]
    },
    {
      "cell_type": "code",
      "metadata": {
        "id": "Va27vQCJrkQi",
        "colab": {
          "base_uri": "https://localhost:8080/"
        },
        "outputId": "650f14e2-179b-4152-b022-870f02299ddf"
      },
      "source": [
        "nlp_pipeline.train_model(10, './saved_models/CommonsenseQAData')"
      ],
      "execution_count": 8,
      "outputs": [
        {
          "output_type": "stream",
          "text": [
            "Epoch: 01 | Time: 0m 2s\n",
            "\tTrain Loss: 4.370 | Train PPL:  79.055\n",
            "\t Val. Loss: 3.704 |  Val. PPL:  40.627\n",
            "Epoch: 02 | Time: 0m 1s\n",
            "\tTrain Loss: 3.981 | Train PPL:  53.564\n",
            "\t Val. Loss: 3.669 |  Val. PPL:  39.217\n",
            "Epoch: 03 | Time: 0m 1s\n",
            "\tTrain Loss: 3.913 | Train PPL:  50.067\n",
            "\t Val. Loss: 3.628 |  Val. PPL:  37.643\n",
            "Epoch: 04 | Time: 0m 1s\n",
            "\tTrain Loss: 3.816 | Train PPL:  45.423\n",
            "\t Val. Loss: 3.659 |  Val. PPL:  38.823\n",
            "Epoch: 05 | Time: 0m 1s\n",
            "\tTrain Loss: 3.812 | Train PPL:  45.256\n",
            "\t Val. Loss: 3.659 |  Val. PPL:  38.832\n",
            "Epoch: 06 | Time: 0m 1s\n",
            "\tTrain Loss: 3.742 | Train PPL:  42.173\n",
            "\t Val. Loss: 3.683 |  Val. PPL:  39.761\n",
            "Epoch: 07 | Time: 0m 1s\n",
            "\tTrain Loss: 3.712 | Train PPL:  40.929\n",
            "\t Val. Loss: 3.706 |  Val. PPL:  40.707\n",
            "Epoch: 08 | Time: 0m 1s\n",
            "\tTrain Loss: 3.656 | Train PPL:  38.712\n",
            "\t Val. Loss: 3.758 |  Val. PPL:  42.873\n",
            "Epoch: 09 | Time: 0m 1s\n",
            "\tTrain Loss: 3.605 | Train PPL:  36.764\n",
            "\t Val. Loss: 3.709 |  Val. PPL:  40.801\n",
            "Epoch: 10 | Time: 0m 1s\n",
            "\tTrain Loss: 3.534 | Train PPL:  34.275\n",
            "\t Val. Loss: 3.723 |  Val. PPL:  41.378\n"
          ],
          "name": "stdout"
        }
      ]
    },
    {
      "cell_type": "markdown",
      "metadata": {
        "id": "NcurBhDOrtRS"
      },
      "source": [
        "### Model Evaluation\n",
        "---"
      ]
    },
    {
      "cell_type": "code",
      "metadata": {
        "id": "ZtHWkkFHrwO7",
        "colab": {
          "base_uri": "https://localhost:8080/"
        },
        "outputId": "2b4d29d9-20f0-428a-b600-490813fcdce5"
      },
      "source": [
        "nlp_pipeline.evaluate_model()"
      ],
      "execution_count": 9,
      "outputs": [
        {
          "output_type": "stream",
          "text": [
            "| Test Loss: 3.723 | Test PPL:  41.378 |\n"
          ],
          "name": "stdout"
        }
      ]
    }
  ]
}