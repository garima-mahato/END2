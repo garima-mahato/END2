{
  "nbformat": 4,
  "nbformat_minor": 0,
  "metadata": {
    "colab": {
      "name": "END2_Session7_Assignment1_SentimentClassification_SSTDataset.ipynb",
      "provenance": [],
      "collapsed_sections": [],
      "authorship_tag": "ABX9TyMIty+Mu+Wc/TYLb0ZJPIuN"
    },
    "kernelspec": {
      "name": "python3",
      "display_name": "Python 3"
    },
    "language_info": {
      "name": "python"
    },
    "accelerator": "GPU"
  },
  "cells": [
    {
      "cell_type": "code",
      "metadata": {
        "colab": {
          "base_uri": "https://localhost:8080/"
        },
        "id": "O54i_eImAgvG",
        "outputId": "c67d39ed-fd4f-4b66-a876-d05db8235354"
      },
      "source": [
        "from google.colab import drive\n",
        "drive.mount('/content/gdrive', force_remount=True)"
      ],
      "execution_count": null,
      "outputs": [
        {
          "output_type": "stream",
          "text": [
            "Mounted at /content/gdrive\n"
          ],
          "name": "stdout"
        }
      ]
    },
    {
      "cell_type": "code",
      "metadata": {
        "colab": {
          "base_uri": "https://localhost:8080/",
          "height": 370
        },
        "id": "kWIAvdghkh4v",
        "outputId": "3600b548-be4a-4917-9aae-67ac2f70496d"
      },
      "source": [
        "!pip install nltk==3.4"
      ],
      "execution_count": null,
      "outputs": [
        {
          "output_type": "stream",
          "text": [
            "Collecting nltk==3.4\n",
            "\u001b[?25l  Downloading https://files.pythonhosted.org/packages/6f/ed/9c755d357d33bc1931e157f537721efb5b88d2c583fe593cc09603076cc3/nltk-3.4.zip (1.4MB)\n",
            "\u001b[K     |████████████████████████████████| 1.4MB 3.8MB/s \n",
            "\u001b[?25hRequirement already satisfied: six in /usr/local/lib/python3.7/dist-packages (from nltk==3.4) (1.15.0)\n",
            "Collecting singledispatch\n",
            "  Downloading https://files.pythonhosted.org/packages/cd/d1/6a9e922826e03f5af7bf348cfb75bcb0bc4c67e19c36805c2545f34427e5/singledispatch-3.6.2-py2.py3-none-any.whl\n",
            "Building wheels for collected packages: nltk\n",
            "  Building wheel for nltk (setup.py) ... \u001b[?25l\u001b[?25hdone\n",
            "  Created wheel for nltk: filename=nltk-3.4-cp37-none-any.whl size=1436401 sha256=9237941f196f8ec632ef7eb56ba6102f7807b02deddfe00f28bcf7d79ffc160b\n",
            "  Stored in directory: /root/.cache/pip/wheels/4b/c8/24/b2343664bcceb7147efeb21c0b23703a05b23fcfeaceaa2a1e\n",
            "Successfully built nltk\n",
            "Installing collected packages: singledispatch, nltk\n",
            "  Found existing installation: nltk 3.2.5\n",
            "    Uninstalling nltk-3.2.5:\n",
            "      Successfully uninstalled nltk-3.2.5\n",
            "Successfully installed nltk-3.4 singledispatch-3.6.2\n"
          ],
          "name": "stdout"
        },
        {
          "output_type": "display_data",
          "data": {
            "application/vnd.colab-display-data+json": {
              "pip_warning": {
                "packages": [
                  "nltk"
                ]
              }
            }
          },
          "metadata": {
            "tags": []
          }
        }
      ]
    },
    {
      "cell_type": "code",
      "metadata": {
        "id": "8_il5UQd5JAD"
      },
      "source": [
        "import os\n",
        "\n",
        "base_path = 'gdrive/MyDrive/TSAI_END2/Session7/Assignment1'\n",
        "out_path = os.path.join('gdrive/MyDrive/TSAI_END2/Session5/data/', 'sst_{}.txt')\n",
        "sst_path = 'gdrive/MyDrive/TSAI_END2/Session5/stanfordSentimentTreebank'"
      ],
      "execution_count": null,
      "outputs": []
    },
    {
      "cell_type": "markdown",
      "metadata": {
        "id": "z_vm2Jum_UA3"
      },
      "source": [
        "## Dataset\n",
        "---"
      ]
    },
    {
      "cell_type": "code",
      "metadata": {
        "id": "h004GGeE3qVw"
      },
      "source": [
        "import pandas as pd\n",
        "import matplotlib.pyplot as plt"
      ],
      "execution_count": null,
      "outputs": []
    },
    {
      "cell_type": "code",
      "metadata": {
        "colab": {
          "base_uri": "https://localhost:8080/"
        },
        "id": "1IIIADtaa4LM",
        "outputId": "afa5581c-df70-4a8d-90d7-a280b4d6128f"
      },
      "source": [
        "# Download these NLTK packages\n",
        "import nltk\n",
        "nltk.download('punkt')\n",
        "nltk.download('stopwords')\n",
        "nltk.download('averaged_perceptron_tagger')\n",
        "nltk.download('maxent_ne_chunker')\n",
        "nltk.download('words')\n",
        "nltk.download('wordnet')"
      ],
      "execution_count": null,
      "outputs": [
        {
          "output_type": "stream",
          "text": [
            "[nltk_data] Downloading package punkt to /root/nltk_data...\n",
            "[nltk_data]   Package punkt is already up-to-date!\n",
            "[nltk_data] Downloading package stopwords to /root/nltk_data...\n",
            "[nltk_data]   Package stopwords is already up-to-date!\n",
            "[nltk_data] Downloading package averaged_perceptron_tagger to\n",
            "[nltk_data]     /root/nltk_data...\n",
            "[nltk_data]   Package averaged_perceptron_tagger is already up-to-\n",
            "[nltk_data]       date!\n",
            "[nltk_data] Downloading package maxent_ne_chunker to\n",
            "[nltk_data]     /root/nltk_data...\n",
            "[nltk_data]   Package maxent_ne_chunker is already up-to-date!\n",
            "[nltk_data] Downloading package words to /root/nltk_data...\n",
            "[nltk_data]   Package words is already up-to-date!\n",
            "[nltk_data] Downloading package wordnet to /root/nltk_data...\n",
            "[nltk_data]   Package wordnet is already up-to-date!\n"
          ],
          "name": "stdout"
        },
        {
          "output_type": "execute_result",
          "data": {
            "text/plain": [
              "True"
            ]
          },
          "metadata": {
            "tags": []
          },
          "execution_count": 11
        }
      ]
    },
    {
      "cell_type": "code",
      "metadata": {
        "id": "plrp3-37bG3p"
      },
      "source": [
        "# Import necessary libraries\n",
        "import pandas as pd\n",
        "import numpy as np\n",
        "import matplotlib.pyplot as plt\n",
        "import seaborn as sns\n",
        "import warnings\n",
        "import nltk, time\n",
        "from nltk.tokenize import word_tokenize\n",
        "from nltk.corpus import stopwords\n",
        "from collections import Counter\n",
        "from nltk.stem import WordNetLemmatizer\n",
        "import collections, itertools"
      ],
      "execution_count": null,
      "outputs": []
    },
    {
      "cell_type": "code",
      "metadata": {
        "id": "0apYvYlsoEQf"
      },
      "source": [
        "import numpy as np\n",
        "import pandas as pd\n",
        "\n",
        "class SST():\n",
        "  def __init__(self, sst_path):\n",
        "    self.ranges = [0, 0.2, 0.4, 0.6, 0.8, 1.0]\n",
        "    self.labels = ['very negative', 'negative', 'neutral', 'positive', 'very positive']\n",
        "    self.label = [0, 1, 2, 3, 4]\n",
        "\n",
        "    self.sst_sents = pd.read_csv(os.path.join(sst_path, 'datasetSentences.txt'), delimiter='\\t')\n",
        "    self.sst_phrases = pd.read_csv(os.path.join(sst_path, 'dictionary.txt'), delimiter='|', names=['phrase','phrase_id'])\n",
        "    self.sst_labels  = pd.read_csv(os.path.join(sst_path, 'sentiment_labels.txt'), delimiter='|')\n",
        "  \n",
        "  def extract(self):\n",
        "    sst_sentences_phrases = pd.merge(self.sst_sents, self.sst_phrases, how='inner', left_on=['sentence'], right_on=['phrase'])\n",
        "    sst = pd.merge(sst_sentences_phrases, self.sst_labels, how='inner', left_on=['phrase_id'], right_on=['phrase ids'])[['sentence','sentiment values']]\n",
        "    sst['labels'] = pd.cut(sst['sentiment values'], bins=self.ranges, labels=self.labels, include_lowest=True)\n",
        "    sst_data = sst[['sentence', 'labels']]\n",
        "\n",
        "    return sst_data"
      ],
      "execution_count": null,
      "outputs": []
    },
    {
      "cell_type": "code",
      "metadata": {
        "colab": {
          "base_uri": "https://localhost:8080/"
        },
        "id": "lQDfHnR0Ms54",
        "outputId": "27e0af21-b7c6-498f-f678-89c8cbefabf4"
      },
      "source": [
        "# Read data\n",
        "sst_df = SST(sst_path).extract()\n",
        "\n",
        "print('Sample SST data:')\n",
        "print(sst_df.head())\n",
        "print(f'Data Size: {len(sst_df)}')"
      ],
      "execution_count": null,
      "outputs": [
        {
          "output_type": "stream",
          "text": [
            "Sample SST data:\n",
            "                                            sentence         labels\n",
            "0  The Rock is destined to be the 21st Century 's...       positive\n",
            "1  The gorgeously elaborate continuation of `` Th...  very positive\n",
            "2                     Effective but too-tepid biopic        neutral\n",
            "3  If you sometimes like to go to the movies to h...       positive\n",
            "4  Emerges as something rare , an issue movie tha...  very positive\n",
            "Data Size: 11286\n"
          ],
          "name": "stdout"
        }
      ]
    },
    {
      "cell_type": "code",
      "metadata": {
        "id": "wDTVz3K6K_k3"
      },
      "source": [
        "# Function to tokenize the tweets\n",
        "def custom_tokenize(text):\n",
        "    \"\"\"Function that tokenizes text\"\"\"\n",
        "    from nltk.tokenize import word_tokenize\n",
        "    if not text:\n",
        "        print('The text to be tokenized is a None type. Defaulting to blank string.')\n",
        "        text = ''\n",
        "    return word_tokenize(text)\n",
        "\n",
        "# Function that applies the cleaning steps\n",
        "def clean_up(data1):\n",
        "    \"\"\"Function that cleans up the data into a shape that can be further used for modeling\"\"\"\n",
        "    data = data1.copy()\n",
        "    tokenized = data['sentence'].apply(custom_tokenize) # Tokenize tweets\n",
        "    lower_tokens = tokenized.apply(lambda x: [t.lower() for t in x]) # Convert tokens into lower case\n",
        "    alpha_only = lower_tokens.apply(lambda x: [t for t in x if t.isalpha()]) # Remove punctuations\n",
        "    no_stops = alpha_only.apply(lambda x: [t for t in x if t not in stopwords.words('english')]) # remove stop words\n",
        "    data['cleaned_text'] = no_stops\n",
        "    return data"
      ],
      "execution_count": null,
      "outputs": []
    },
    {
      "cell_type": "code",
      "metadata": {
        "id": "4qqUTNvZN5mC"
      },
      "source": [
        "sst_df_cleaned = clean_up(sst_df)"
      ],
      "execution_count": null,
      "outputs": []
    },
    {
      "cell_type": "code",
      "metadata": {
        "colab": {
          "base_uri": "https://localhost:8080/"
        },
        "id": "vWF5UfklLSBU",
        "outputId": "3df813c2-5310-4729-c6d2-f1fb0f734563"
      },
      "source": [
        "print('Sample cleaned SST data:')\n",
        "print(sst_df_cleaned.head())\n",
        "print(f' Data Size: {len(sst_df_cleaned)}')"
      ],
      "execution_count": null,
      "outputs": [
        {
          "output_type": "stream",
          "text": [
            "Sample cleaned SST data:\n",
            "                                            sentence  ...                                       cleaned_text\n",
            "0  The Rock is destined to be the 21st Century 's...  ...  [rock, destined, century, new, conan, going, m...\n",
            "1  The gorgeously elaborate continuation of `` Th...  ...  [gorgeously, elaborate, continuation, lord, ri...\n",
            "2                     Effective but too-tepid biopic  ...                                [effective, biopic]\n",
            "3  If you sometimes like to go to the movies to h...  ...  [sometimes, like, go, movies, fun, wasabi, goo...\n",
            "4  Emerges as something rare , an issue movie tha...  ...  [emerges, something, rare, issue, movie, hones...\n",
            "\n",
            "[5 rows x 3 columns]\n",
            " Data Size: 11286\n"
          ],
          "name": "stdout"
        }
      ]
    },
    {
      "cell_type": "markdown",
      "metadata": {
        "id": "te4hJLdbwoaG"
      },
      "source": [
        "## Dataset Creation\n",
        "---"
      ]
    },
    {
      "cell_type": "code",
      "metadata": {
        "id": "VAn-R3oEbsdv",
        "colab": {
          "base_uri": "https://localhost:8080/"
        },
        "outputId": "2528ecf5-f9b7-4f79-a4ed-3e390fac2765"
      },
      "source": [
        "# Import Library\n",
        "import random\n",
        "import torch, torchtext\n",
        "from torchtext.legacy import data \n",
        "\n",
        "# Manual Seed\n",
        "SEED = 42\n",
        "torch.manual_seed(SEED)"
      ],
      "execution_count": null,
      "outputs": [
        {
          "output_type": "execute_result",
          "data": {
            "text/plain": [
              "<torch._C.Generator at 0x7f42e63bc4d0>"
            ]
          },
          "metadata": {
            "tags": []
          },
          "execution_count": 52
        }
      ]
    },
    {
      "cell_type": "code",
      "metadata": {
        "id": "FxefZFPCA98t"
      },
      "source": [
        "Text = data.Field(sequential = True, tokenize = 'spacy', batch_first =True, include_lengths=True)\n",
        "Label = data.LabelField(tokenize ='spacy', is_target=True, batch_first =True, sequential =True)\n",
        "\n",
        "fields = [('text', Text),('label',Label)]\n",
        "example = [data.Example.fromlist([sst_df.sentence[i],sst_df.labels[i]], fields) for i in range(sst_df.shape[0])] \n",
        "\n",
        "# Creating dataset\n",
        "SSTDataset = data.Dataset(example, fields)\n",
        "\n",
        "(train_data, test_data) = SSTDataset.split(split_ratio=[0.7, 0.3], random_state=random.seed(SEED))"
      ],
      "execution_count": null,
      "outputs": []
    },
    {
      "cell_type": "code",
      "metadata": {
        "colab": {
          "base_uri": "https://localhost:8080/"
        },
        "id": "Du4WY7wc5nFw",
        "outputId": "80b85da4-5c27-43b6-f85e-d8d0d8bff50e"
      },
      "source": [
        "(len(train_data), len(test_data))"
      ],
      "execution_count": null,
      "outputs": [
        {
          "output_type": "execute_result",
          "data": {
            "text/plain": [
              "(7900, 3386)"
            ]
          },
          "metadata": {
            "tags": []
          },
          "execution_count": 54
        }
      ]
    },
    {
      "cell_type": "code",
      "metadata": {
        "colab": {
          "base_uri": "https://localhost:8080/"
        },
        "id": "JXctnJtm8TPV",
        "outputId": "020c968e-773a-4af1-cf9c-a84b75b278b5"
      },
      "source": [
        "vars(train_data.examples[10])"
      ],
      "execution_count": null,
      "outputs": [
        {
          "output_type": "execute_result",
          "data": {
            "text/plain": [
              "{'label': 'very positive',\n",
              " 'text': ['If',\n",
              "  'you',\n",
              "  'dig',\n",
              "  'on',\n",
              "  'David',\n",
              "  'Mamet',\n",
              "  \"'s\",\n",
              "  'mind',\n",
              "  'tricks',\n",
              "  '...',\n",
              "  'rent',\n",
              "  'this',\n",
              "  'movie',\n",
              "  'and',\n",
              "  'enjoy',\n",
              "  '!']}"
            ]
          },
          "metadata": {
            "tags": []
          },
          "execution_count": 55
        }
      ]
    },
    {
      "cell_type": "code",
      "metadata": {
        "id": "FTR4v1w_8YuB"
      },
      "source": [
        "# Text.build_vocab(train)\n",
        "# Label.build_vocab(train)\n",
        "\n",
        "MAX_VOCAB_SIZE = 25_000\n",
        "\n",
        "Text.build_vocab(train_data,  \n",
        "                 vectors = \"glove.6B.100d\", \n",
        "                 unk_init = torch.Tensor.normal_)\n",
        "\n",
        "Label.build_vocab(train_data)"
      ],
      "execution_count": null,
      "outputs": []
    },
    {
      "cell_type": "code",
      "metadata": {
        "colab": {
          "base_uri": "https://localhost:8080/"
        },
        "id": "G8oKvGuC8mrn",
        "outputId": "d3093a06-0bf4-4590-bbdb-2104fc3470d7"
      },
      "source": [
        "print('Size of input vocab : ', len(Text.vocab))\n",
        "print('Size of label vocab : ', len(Label.vocab))\n",
        "print('Top 10 words appreared repeatedly :', list(Text.vocab.freqs.most_common(10)))\n",
        "print('Labels : ', Label.vocab.stoi)"
      ],
      "execution_count": null,
      "outputs": [
        {
          "output_type": "stream",
          "text": [
            "Size of input vocab :  16404\n",
            "Size of label vocab :  5\n",
            "Top 10 words appreared repeatedly : [('.', 7441), (',', 6576), ('the', 5603), ('of', 4119), ('and', 4091), ('a', 4049), ('to', 2773), ('-', 2538), ('is', 2314), (\"'s\", 2286)]\n",
            "Labels :  defaultdict(None, {'negative': 0, 'positive': 1, 'neutral': 2, 'very positive': 3, 'very negative': 4})\n"
          ],
          "name": "stdout"
        }
      ]
    },
    {
      "cell_type": "code",
      "metadata": {
        "id": "XRN7dd8X8p8O"
      },
      "source": [
        "device = torch.device(\"cuda\" if torch.cuda.is_available() else \"cpu\")"
      ],
      "execution_count": null,
      "outputs": []
    },
    {
      "cell_type": "code",
      "metadata": {
        "id": "4Z3O2AOt89G7"
      },
      "source": [
        "train_iterator, test_iterator = data.BucketIterator.splits((train_data, test_data), batch_size = 64, \n",
        "                                                            sort_key = lambda x: len(x.text), sort=False,shuffle=True,\n",
        "                                                            sort_within_batch=True, device = device)"
      ],
      "execution_count": null,
      "outputs": []
    },
    {
      "cell_type": "code",
      "metadata": {
        "id": "SseNvmxZ9DsF"
      },
      "source": [
        "import os, pickle\n",
        "with open(os.path.join(base_path, 'glove_sst_sentence_tokenizer.pkl'), 'wb') as tokens: \n",
        "    pickle.dump(Text.vocab.stoi, tokens)\n",
        "\n",
        "with open(os.path.join(base_path, 'sst_label.pkl'), 'wb') as tokens: \n",
        "    pickle.dump(Label.vocab.stoi, tokens)"
      ],
      "execution_count": null,
      "outputs": []
    },
    {
      "cell_type": "markdown",
      "metadata": {
        "id": "BA4MUIEgASlP"
      },
      "source": [
        "## Model Building\n",
        "---"
      ]
    },
    {
      "cell_type": "code",
      "metadata": {
        "id": "k1sLKwu89QbD"
      },
      "source": [
        "import torch\n",
        "import torch.nn as nn\n",
        "import torch.nn.functional as F\n",
        "from torch.nn.utils.rnn import pack_padded_sequence, pad_packed_sequence\n",
        "\n",
        "class classifier(nn.Module):\n",
        "    \n",
        "    # Define all the layers used in model\n",
        "    def __init__(self, vocab_size, embedding_dim, hidden_dim1, hidden_dim2, output_dim, n_layers,\n",
        "                 bidirectional, dropout, pad_index):\n",
        "        # Constructor\n",
        "        super().__init__()\n",
        "\n",
        "        # embedding layer\n",
        "        self.embedding = nn.Embedding(vocab_size, embedding_dim, padding_idx = pad_index)\n",
        "\n",
        "        # lstm layer\n",
        "        self.lstm = nn.LSTM(embedding_dim,\n",
        "                            hidden_dim1,\n",
        "                            num_layers=n_layers,\n",
        "                            bidirectional=bidirectional,\n",
        "                            batch_first=True)\n",
        "        self.fc1 = nn.Linear(hidden_dim1 * 2, hidden_dim2)\n",
        "        self.fc2 = nn.Linear(hidden_dim2, output_dim)\n",
        "        self.relu = nn.ReLU()\n",
        "        self.dropout = nn.Dropout(dropout)\n",
        "        # activation function\n",
        "        self.act = nn.Softmax() #\\ F.log_softmax(outp)\n",
        "\n",
        "    def forward(self, text, text_lengths):\n",
        "        # text = [batch size,sent_length]\n",
        "        embedded = self.embedding(text)\n",
        "        # embedded = [batch size, sent_len, emb dim]\n",
        "\n",
        "        # packed sequence\n",
        "        packed_embedded = pack_padded_sequence(embedded, text_lengths.to('cpu'), batch_first=True) # unpad\n",
        "\n",
        "        packed_output, (hidden, cell) = self.lstm(packed_embedded)\n",
        "        # packed_output shape = (batch, seq_len, num_directions * hidden_size)\n",
        "        # hidden shape  = (num_layers * num_directions, batch, hidden_size)\n",
        "\n",
        "        # concat the final forward and backward hidden state\n",
        "        cat = torch.cat((hidden[-2, :, :], hidden[-1, :, :]), dim=1)\n",
        "        # output, output_lengths = pad_packed_sequence(packed_output)  # pad the sequence to the max length in the batch\n",
        "\n",
        "        rel = self.relu(cat)\n",
        "        dense1 = self.fc1(rel)\n",
        "\n",
        "        drop = self.dropout(dense1)\n",
        "        preds = self.fc2(drop)\n",
        "\n",
        "        return preds"
      ],
      "execution_count": null,
      "outputs": []
    },
    {
      "cell_type": "code",
      "metadata": {
        "id": "NLaavDGc9XbY"
      },
      "source": [
        "# Define hyperparameters\n",
        "size_of_vocab = len(Text.vocab)\n",
        "embedding_dim = 100\n",
        "num_hidden_nodes = 256\n",
        "num_output_nodes = len(Label.vocab)\n",
        "num_layers = 2\n",
        "dropout = 0.2\n",
        "PAD_IDX = Text.vocab.stoi[Text.pad_token]\n",
        "\n",
        "hidden_dim2 = 128\n",
        "bi_directional = True\n",
        "\n",
        "# Instantiate the model\n",
        "model = classifier(size_of_vocab, embedding_dim, num_hidden_nodes, hidden_dim2, num_output_nodes, num_layers, bi_directional, dropout = dropout, pad_index=PAD_IDX)"
      ],
      "execution_count": null,
      "outputs": []
    },
    {
      "cell_type": "code",
      "metadata": {
        "colab": {
          "base_uri": "https://localhost:8080/"
        },
        "id": "o5yghx0g9a9c",
        "outputId": "c86766fb-16d8-45b0-bdbc-a3dedec5cd63"
      },
      "source": [
        "print(model)\n",
        "\n",
        "#No. of trianable parameters\n",
        "def count_parameters(model):\n",
        "    return sum(p.numel() for p in model.parameters() if p.requires_grad)\n",
        "    \n",
        "print(f'The model has {count_parameters(model):,} trainable parameters')"
      ],
      "execution_count": null,
      "outputs": [
        {
          "output_type": "stream",
          "text": [
            "classifier(\n",
            "  (embedding): Embedding(16404, 100, padding_idx=1)\n",
            "  (lstm): LSTM(100, 256, num_layers=2, batch_first=True, bidirectional=True)\n",
            "  (fc1): Linear(in_features=512, out_features=128, bias=True)\n",
            "  (fc2): Linear(in_features=128, out_features=5, bias=True)\n",
            "  (relu): ReLU()\n",
            "  (dropout): Dropout(p=0.2, inplace=False)\n",
            "  (act): Softmax(dim=None)\n",
            ")\n",
            "The model has 4,016,853 trainable parameters\n"
          ],
          "name": "stdout"
        }
      ]
    },
    {
      "cell_type": "code",
      "metadata": {
        "colab": {
          "base_uri": "https://localhost:8080/"
        },
        "id": "VaZyEhuj98vs",
        "outputId": "6df4b74b-82b0-4c62-fb82-dbf69058008b"
      },
      "source": [
        "pretrained_embeddings = Text.vocab.vectors\n",
        "\n",
        "model.embedding.weight.data.copy_(pretrained_embeddings)"
      ],
      "execution_count": null,
      "outputs": [
        {
          "output_type": "execute_result",
          "data": {
            "text/plain": [
              "tensor([[ 1.9269,  1.4873,  0.9007,  ...,  0.1233,  0.3499,  0.6173],\n",
              "        [ 0.7262,  0.0912, -0.3891,  ...,  0.0821,  0.4440, -0.7240],\n",
              "        [-0.3398,  0.2094,  0.4635,  ..., -0.2339,  0.4730, -0.0288],\n",
              "        ...,\n",
              "        [-0.2805,  0.1506,  0.3955,  ...,  0.6393,  0.0779,  0.7722],\n",
              "        [ 0.5732, -1.0756, -0.1600,  ...,  0.4548,  0.2344,  0.0364],\n",
              "        [ 0.8964, -1.2446,  0.4262,  ..., -1.1711,  0.7639,  0.5323]])"
            ]
          },
          "metadata": {
            "tags": []
          },
          "execution_count": 82
        }
      ]
    },
    {
      "cell_type": "code",
      "metadata": {
        "id": "NGuH8NzR9_Dz"
      },
      "source": [
        "UNK_IDX = Text.vocab.stoi[Text.unk_token]\n",
        "\n",
        "model.embedding.weight.data[UNK_IDX] = torch.zeros(embedding_dim)\n",
        "model.embedding.weight.data[PAD_IDX] = torch.zeros(embedding_dim)"
      ],
      "execution_count": null,
      "outputs": []
    },
    {
      "cell_type": "markdown",
      "metadata": {
        "id": "cEZNKUwc-C83"
      },
      "source": [
        "## Model Training\n",
        "---"
      ]
    },
    {
      "cell_type": "code",
      "metadata": {
        "id": "pIE64GSF-GOq"
      },
      "source": [
        "import torch.optim as optim\n",
        "\n",
        "# define optimizer and loss\n",
        "optimizer = optim.Adam(model.parameters())\n",
        "criterion = nn.CrossEntropyLoss()\n",
        "\n",
        "# define metric\n",
        "def categorical_accuracy(preds, y):\n",
        "    \"\"\"\n",
        "    Returns accuracy per batch, i.e. if you get 8/10 right, this returns 0.8, NOT 8\n",
        "    \"\"\"\n",
        "    top_pred = preds.argmax(1, keepdim = True)\n",
        "    correct = top_pred.eq(y.view_as(top_pred)).sum()\n",
        "    acc = correct.float() / y.shape[0]\n",
        "    return acc\n",
        "    \n",
        "# push to cuda if available\n",
        "model = model.to(device)\n",
        "criterion = criterion.to(device)"
      ],
      "execution_count": null,
      "outputs": []
    },
    {
      "cell_type": "code",
      "metadata": {
        "id": "hMukM4zO-J7L"
      },
      "source": [
        "def train(model, iterator, optimizer, criterion):\n",
        "    \n",
        "    # initialize every epoch \n",
        "    epoch_loss = 0\n",
        "    epoch_acc = 0\n",
        "    \n",
        "    # set the model in training phase\n",
        "    model.train()  \n",
        "    \n",
        "    for batch in iterator:\n",
        "        \n",
        "        # resets the gradients after every batch\n",
        "        optimizer.zero_grad()   \n",
        "        \n",
        "        # retrieve text and no. of words\n",
        "        text, text_lengths = batch.text   \n",
        "        \n",
        "        # convert to 1D tensor\n",
        "        predictions = model(text, text_lengths)\n",
        "        # print(predictions.shape)\n",
        "        # print(batch.label.shape)\n",
        "        # compute the loss\n",
        "        loss = criterion(predictions, batch.label)        \n",
        "        \n",
        "        # compute the categorical accuracy\n",
        "        acc = categorical_accuracy(predictions, batch.label)   \n",
        "        \n",
        "        # backpropage the loss and compute the gradients\n",
        "        loss.backward()       \n",
        "        \n",
        "        # update the weights\n",
        "        optimizer.step()      \n",
        "        \n",
        "        # loss and accuracy\n",
        "        epoch_loss += loss.item()  \n",
        "        epoch_acc += acc.item()    \n",
        "        \n",
        "    return epoch_loss / len(iterator), epoch_acc / len(iterator)"
      ],
      "execution_count": null,
      "outputs": []
    },
    {
      "cell_type": "code",
      "metadata": {
        "id": "4cDUbJav-OAR"
      },
      "source": [
        "def evaluate(model, iterator, criterion):\n",
        "    \n",
        "    # initialize every epoch\n",
        "    epoch_loss = 0\n",
        "    epoch_acc = 0\n",
        "\n",
        "    # deactivating dropout layers\n",
        "    model.eval()\n",
        "    \n",
        "    # deactivates autograd\n",
        "    with torch.no_grad():\n",
        "    \n",
        "        for batch in iterator:\n",
        "        \n",
        "            # retrieve text and no. of words\n",
        "            text, text_lengths = batch.text   \n",
        "            \n",
        "            # convert to 1D tensor\n",
        "            predictions = model(text, text_lengths).squeeze(1)\n",
        "            \n",
        "            # compute loss and accuracy\n",
        "            loss = criterion(predictions, batch.label)\n",
        "            acc = categorical_accuracy(predictions, batch.label)\n",
        "            \n",
        "            # keep track of loss and accuracy\n",
        "            epoch_loss += loss.item()\n",
        "            epoch_acc += acc.item()\n",
        "        \n",
        "    return epoch_loss / len(iterator), epoch_acc / len(iterator)"
      ],
      "execution_count": null,
      "outputs": []
    },
    {
      "cell_type": "code",
      "metadata": {
        "id": "t5Qyth7Y-R97"
      },
      "source": [
        "import time\n",
        "\n",
        "def epoch_time(start_time, end_time):\n",
        "    elapsed_time = end_time - start_time\n",
        "    elapsed_mins = int(elapsed_time / 60)\n",
        "    elapsed_secs = int(elapsed_time - (elapsed_mins * 60))\n",
        "    return elapsed_mins, elapsed_secs"
      ],
      "execution_count": null,
      "outputs": []
    },
    {
      "cell_type": "code",
      "metadata": {
        "colab": {
          "base_uri": "https://localhost:8080/"
        },
        "id": "AWby5GFW-UQh",
        "outputId": "86764e98-2a58-47cb-f00f-45b6d3de835c"
      },
      "source": [
        "N_EPOCHS = 10\n",
        "best_valid_loss = float('inf')\n",
        "train_losses = []\n",
        "train_accs = []\n",
        "valid_losses = []\n",
        "valid_accs = []\n",
        "\n",
        "for epoch in range(N_EPOCHS):\n",
        "    start_time = time.time()\n",
        "    # train the model\n",
        "    train_loss, train_acc = train(model, train_iterator, optimizer, criterion)\n",
        "    \n",
        "    # evaluate the model\n",
        "    valid_loss, valid_acc = evaluate(model, test_iterator, criterion)\n",
        "    \n",
        "    end_time = time.time()\n",
        "    epoch_mins, epoch_secs = epoch_time(start_time, end_time)\n",
        "\n",
        "    # save the best model\n",
        "    if valid_loss < best_valid_loss:\n",
        "        best_valid_loss = valid_loss\n",
        "        torch.save(model.state_dict(), os.path.join(base_path, 'saved_weights.pt'))\n",
        "    \n",
        "    train_losses.append(train_loss)\n",
        "    train_accs.append(train_acc)\n",
        "    valid_losses.append(valid_loss)\n",
        "    valid_accs.append(valid_acc)\n",
        "\n",
        "    print(f'Epoch: {epoch+1:02} | Epoch Time: {epoch_mins}m {epoch_secs}s')\n",
        "    print(f'\\tTrain Loss: {train_loss:.3f} | Train Acc: {train_acc*100:.2f}%')\n",
        "    print(f'\\t Val. Loss: {valid_loss:.3f} |  Val. Acc: {valid_acc*100:.2f}% \\n')\n",
        "\n",
        "torch.save(model.state_dict(), os.path.join(base_path, 'ep10_saved_weights.pt'))"
      ],
      "execution_count": null,
      "outputs": [
        {
          "output_type": "stream",
          "text": [
            "Epoch: 01 | Epoch Time: 0m 3s\n",
            "\tTrain Loss: 1.513 | Train Acc: 32.41%\n",
            "\t Val. Loss: 1.450 |  Val. Acc: 37.15% \n",
            "\n",
            "Epoch: 02 | Epoch Time: 0m 3s\n",
            "\tTrain Loss: 1.330 | Train Acc: 41.18%\n",
            "\t Val. Loss: 1.354 |  Val. Acc: 40.87% \n",
            "\n",
            "Epoch: 03 | Epoch Time: 0m 3s\n",
            "\tTrain Loss: 1.171 | Train Acc: 47.44%\n",
            "\t Val. Loss: 1.342 |  Val. Acc: 41.35% \n",
            "\n",
            "Epoch: 04 | Epoch Time: 0m 3s\n",
            "\tTrain Loss: 0.996 | Train Acc: 56.11%\n",
            "\t Val. Loss: 1.425 |  Val. Acc: 40.87% \n",
            "\n",
            "Epoch: 05 | Epoch Time: 0m 3s\n",
            "\tTrain Loss: 0.796 | Train Acc: 67.04%\n",
            "\t Val. Loss: 1.660 |  Val. Acc: 37.96% \n",
            "\n",
            "Epoch: 06 | Epoch Time: 0m 3s\n",
            "\tTrain Loss: 0.597 | Train Acc: 76.47%\n",
            "\t Val. Loss: 2.035 |  Val. Acc: 39.62% \n",
            "\n",
            "Epoch: 07 | Epoch Time: 0m 3s\n",
            "\tTrain Loss: 0.413 | Train Acc: 84.35%\n",
            "\t Val. Loss: 2.526 |  Val. Acc: 38.83% \n",
            "\n",
            "Epoch: 08 | Epoch Time: 0m 3s\n",
            "\tTrain Loss: 0.280 | Train Acc: 89.69%\n",
            "\t Val. Loss: 2.906 |  Val. Acc: 38.91% \n",
            "\n",
            "Epoch: 09 | Epoch Time: 0m 3s\n",
            "\tTrain Loss: 0.164 | Train Acc: 94.12%\n",
            "\t Val. Loss: 3.431 |  Val. Acc: 38.06% \n",
            "\n",
            "Epoch: 10 | Epoch Time: 0m 3s\n",
            "\tTrain Loss: 0.098 | Train Acc: 96.60%\n",
            "\t Val. Loss: 4.340 |  Val. Acc: 39.41% \n",
            "\n"
          ],
          "name": "stdout"
        }
      ]
    },
    {
      "cell_type": "markdown",
      "metadata": {
        "id": "ucV0c6i1-_fy"
      },
      "source": [
        "## Visualization\n",
        "---"
      ]
    },
    {
      "cell_type": "code",
      "metadata": {
        "id": "_ACy669a-egH"
      },
      "source": [
        "# visualize accuracy and loss graph\n",
        "def visualize_graph(train_losses, train_acc, test_losses, test_acc):\n",
        "  fig, axs = plt.subplots(2,2,figsize=(15,10))\n",
        "  axs[0, 0].plot(train_losses)\n",
        "  axs[0, 0].set_title(\"Training Loss\")\n",
        "  axs[1, 0].plot(train_acc)\n",
        "  axs[1, 0].set_title(\"Training Accuracy\")\n",
        "  axs[0, 1].plot(test_losses)\n",
        "  axs[0, 1].set_title(\"Test Loss\")\n",
        "  axs[1, 1].plot(test_acc)\n",
        "  axs[1, 1].set_title(\"Test Accuracy\")\n",
        "\n",
        "def visualize_save_train_vs_test_graph(EPOCHS, dict_list, title, xlabel, ylabel, PATH, name=\"fig\"):\n",
        "  plt.figure(figsize=(20,10))\n",
        "  #epochs = range(1,EPOCHS+1)\n",
        "  for label, item in dict_list.items():\n",
        "    x = np.linspace(1, EPOCHS+1, len(item))\n",
        "    plt.plot(x, item, label=label)\n",
        "  \n",
        "  plt.title(title)\n",
        "  plt.xlabel(xlabel)\n",
        "  plt.ylabel(ylabel)\n",
        "  plt.legend()\n",
        "  plt.savefig(PATH+\"/\"+name+\".png\")"
      ],
      "execution_count": null,
      "outputs": []
    },
    {
      "cell_type": "code",
      "metadata": {
        "colab": {
          "base_uri": "https://localhost:8080/",
          "height": 607
        },
        "id": "jF2iiQ5t-ilE",
        "outputId": "9e45eb4e-0abf-415a-c944-6b2581599638"
      },
      "source": [
        "visualize_graph(train_losses, train_accs, valid_losses, valid_accs)"
      ],
      "execution_count": null,
      "outputs": [
        {
          "output_type": "display_data",
          "data": {
            "image/png": "[encoded data removed]",
            "text/plain": [
              "<Figure size 1080x720 with 4 Axes>"
            ]
          },
          "metadata": {
            "tags": [],
            "needs_background": "light"
          }
        }
      ]
    },
    {
      "cell_type": "code",
      "metadata": {
        "colab": {
          "base_uri": "https://localhost:8080/",
          "height": 621
        },
        "id": "Wbwm3Hrz-lm2",
        "outputId": "d4ee1061-eca6-48a1-bcf7-1cb39eb50e55"
      },
      "source": [
        "dict_list = {'Training Accuracy': train_accs, 'Test Accuracy': valid_accs}\n",
        "title = \"Training vs Test Accuracy\"\n",
        "xlabel = \"Epochs\"\n",
        "ylabel = \"Accuracy(in Percentage)\"\n",
        "name = \"train_vs_test_acc_comparison_graph\"\n",
        "\n",
        "visualize_save_train_vs_test_graph(N_EPOCHS, dict_list, title, xlabel, ylabel, base_path, name=name)"
      ],
      "execution_count": null,
      "outputs": [
        {
          "output_type": "display_data",
          "data": {
            "image/png": "[encoded data removed]",
            "text/plain": [
              "<Figure size 1440x720 with 1 Axes>"
            ]
          },
          "metadata": {
            "tags": [],
            "needs_background": "light"
          }
        }
      ]
    },
    {
      "cell_type": "code",
      "metadata": {
        "colab": {
          "base_uri": "https://localhost:8080/",
          "height": 621
        },
        "id": "304c2Vc3-or9",
        "outputId": "08024e97-a532-450d-e593-ef5ac2be8de0"
      },
      "source": [
        "dict_list = {'Training Loss': train_losses, 'Test Accuracy': valid_losses}\n",
        "title = \"Training vs Test Loss\"\n",
        "xlabel = \"Epochs\"\n",
        "ylabel = \"Loss\"\n",
        "name = \"train_vs_test_loss_comparison_graph\"\n",
        "\n",
        "visualize_save_train_vs_test_graph(N_EPOCHS, dict_list, title, xlabel, ylabel, base_path, name=name)"
      ],
      "execution_count": null,
      "outputs": [
        {
          "output_type": "display_data",
          "data": {
            "image/png": "[encoded data removed]",
            "text/plain": [
              "<Figure size 1440x720 with 1 Axes>"
            ]
          },
          "metadata": {
            "tags": [],
            "needs_background": "light"
          }
        }
      ]
    },
    {
      "cell_type": "markdown",
      "metadata": {
        "id": "eFqdlyxP-tDc"
      },
      "source": [
        "## Evaluation\n",
        "---"
      ]
    },
    {
      "cell_type": "code",
      "metadata": {
        "id": "_99P44-r-v6W"
      },
      "source": [
        "from sklearn.metrics import confusion_matrix\n",
        "import matplotlib.pyplot as plt\n",
        "import numpy as np\n",
        "\n",
        "\n",
        "def plot_confusion_matrix(y_true, y_pred, \n",
        "                          classes=['Very Negative','Negative','Neutral','Positive','Very Positive'],#[1, 2, 3, 4, 5],\n",
        "                          normalize=False,\n",
        "                          cmap=plt.cm.YlOrBr):\n",
        "    \"\"\"\n",
        "    This function prints and plots the confusion matrix.\n",
        "    Normalization can be applied by setting `normalize=True`.\n",
        "    (Adapted from scikit-learn docs).\n",
        "    \"\"\"\n",
        "    # Compute confusion matrix\n",
        "    cm = confusion_matrix(y_true, y_pred)\n",
        "\n",
        "    if normalize:\n",
        "        cm = cm.astype('float') / cm.sum(axis=1)[:, np.newaxis]\n",
        "\n",
        "    fig, ax = plt.subplots()\n",
        "    im = ax.imshow(cm, interpolation='nearest', origin='lower', cmap=cmap)\n",
        "    ax.figure.colorbar(im, ax=ax)\n",
        "    # Show all ticks\n",
        "    ax.set(xticks=np.arange(cm.shape[1]),\n",
        "           yticks=np.arange(cm.shape[0]),\n",
        "           # Label with respective list entries\n",
        "           xticklabels=classes, yticklabels=classes,\n",
        "           ylabel='True label',\n",
        "           xlabel='Predicted label')\n",
        "\n",
        "    # Set alignment of tick labels\n",
        "    plt.setp(ax.get_xticklabels(), rotation=0, ha=\"right\",\n",
        "             rotation_mode=\"anchor\")\n",
        "\n",
        "    # Loop over data dimensions and create text annotations\n",
        "    fmt = '.2f' if normalize else 'd'\n",
        "    thresh = cm.max() / 2.\n",
        "    for i in range(cm.shape[0]):\n",
        "        for j in range(cm.shape[1]):\n",
        "            ax.text(j, i, format(cm[i, j], fmt),\n",
        "                    ha=\"center\", va=\"center\",\n",
        "                    color=\"white\" if cm[i, j] > thresh else \"black\")\n",
        "    return fig, ax"
      ],
      "execution_count": null,
      "outputs": []
    },
    {
      "cell_type": "code",
      "metadata": {
        "id": "zqfhFiDm-z3s"
      },
      "source": [
        "#load weights and tokenizer\n",
        "import pickle\n",
        "\n",
        "# path='gdrive/MyDrive/TSAI_END2/Session5/saved_weights.pt'\n",
        "# model.load_state_dict(torch.load(path));\n",
        "model.eval();\n",
        "tokenizer_file = open(os.path.join(base_path, 'glove_sst_sentence_tokenizer.pkl'), 'rb')\n",
        "tokenizer = pickle.load(tokenizer_file)\n",
        "\n",
        "#inference \n",
        "\n",
        "import spacy\n",
        "nlp = spacy.load('en')\n",
        "\n",
        "def classify_text(text):\n",
        "    \n",
        "    categories = {0:'very negative', 1:'negative', 2:'neutral', 3:'positive', 4:'very positive'}\n",
        "    \n",
        "    # tokenize the tweet \n",
        "    tokenized = [tok.text for tok in nlp.tokenizer(text)] \n",
        "    # convert to integer sequence using predefined tokenizer dictionary\n",
        "    indexed = [tokenizer[t] for t in tokenized]        \n",
        "    # compute no. of words        \n",
        "    length = [len(indexed)]\n",
        "    # convert to tensor                                    \n",
        "    tensor = torch.LongTensor(indexed).to(device)   \n",
        "    # reshape in form of batch, no. of words           \n",
        "    tensor = tensor.unsqueeze(1).T  \n",
        "    # convert to tensor                          \n",
        "    length_tensor = torch.LongTensor(length)\n",
        "    # Get the model prediction                  \n",
        "    prediction = model(tensor, length_tensor)\n",
        "\n",
        "    # _, pred = torch.max(prediction, 1) \n",
        "    pred = prediction.argmax(1, keepdim = True)\n",
        "    \n",
        "    return categories[pred.item()]"
      ],
      "execution_count": null,
      "outputs": []
    },
    {
      "cell_type": "code",
      "metadata": {
        "id": "_WgbVlAUaFph"
      },
      "source": [
        "def evaluation_pred(model, iterator):\n",
        "    \n",
        "    # initialize every epoch\n",
        "    epoch_loss = 0\n",
        "    epoch_acc = 0\n",
        "\n",
        "    # deactivating dropout layers\n",
        "    model.eval()\n",
        "    eval_df = pd.DataFrame(columns=['label','pred'])\n",
        "    # deactivates autograd\n",
        "    with torch.no_grad():\n",
        "    \n",
        "        for batch in iterator:\n",
        "        \n",
        "            # retrieve text and no. of words\n",
        "            text, text_lengths = batch.text \n",
        "            label = batch.label.cpu().numpy()  \n",
        "            \n",
        "            # convert to 1D tensor\n",
        "            predictions = model(text, text_lengths)\n",
        "            top_pred = predictions.argmax(1, keepdim = True).cpu().numpy()\n",
        "            batch_df = pd.DataFrame(top_pred, columns=['pred'])\n",
        "            batch_df['label'] = label\n",
        "            batch_df['pred'] = batch_df['pred'].astype(int)\n",
        "            batch_df['label'] = batch_df['label'].astype(int)\n",
        "            eval_df = pd.concat([eval_df, batch_df])          \n",
        "        \n",
        "    return eval_df"
      ],
      "execution_count": null,
      "outputs": []
    },
    {
      "cell_type": "code",
      "metadata": {
        "id": "vnJI2ujocYCH"
      },
      "source": [
        "from sklearn.metrics import f1_score, accuracy_score\n",
        "def print_accuracy(df, target_col, pred_column):\n",
        "    \"Print f1 score and accuracy after making predictions\"\n",
        "    f1_macro = f1_score(df[target_col].astype(int), df[pred_column].astype(int), average='macro')\n",
        "    acc = accuracy_score(df[target_col].astype(int), df[pred_column].astype(int))*100\n",
        "    return f1_macro, acc"
      ],
      "execution_count": null,
      "outputs": []
    },
    {
      "cell_type": "code",
      "metadata": {
        "id": "gpXs-HYKbeX5"
      },
      "source": [
        "plt.rcParams[\"figure.figsize\"] = (8,8)"
      ],
      "execution_count": null,
      "outputs": []
    },
    {
      "cell_type": "code",
      "metadata": {
        "id": "kV05Cwgzbv1P"
      },
      "source": [
        "eval_df = evaluation_pred(model, test_iterator)"
      ],
      "execution_count": null,
      "outputs": []
    },
    {
      "cell_type": "code",
      "metadata": {
        "colab": {
          "base_uri": "https://localhost:8080/",
          "height": 500
        },
        "id": "Br-47erQcI3Y",
        "outputId": "d2c5cc48-ad9c-4e53-de22-9e9fff93c6f3"
      },
      "source": [
        "plot_confusion_matrix(eval_df['label'].values.tolist(), eval_df['pred'].values.tolist())"
      ],
      "execution_count": null,
      "outputs": [
        {
          "output_type": "execute_result",
          "data": {
            "text/plain": [
              "(<Figure size 576x576 with 2 Axes>,\n",
              " <matplotlib.axes._subplots.AxesSubplot at 0x7f424e307990>)"
            ]
          },
          "metadata": {
            "tags": []
          },
          "execution_count": 99
        },
        {
          "output_type": "display_data",
          "data": {
            "image/png": "[encoded data removed]",
            "text/plain": [
              "<Figure size 576x576 with 2 Axes>"
            ]
          },
          "metadata": {
            "tags": [],
            "needs_background": "light"
          }
        }
      ]
    },
    {
      "cell_type": "code",
      "metadata": {
        "colab": {
          "base_uri": "https://localhost:8080/"
        },
        "id": "ItQLGKyYcMTT",
        "outputId": "27f23c26-328e-4df0-d21b-9817152c4661"
      },
      "source": [
        "f1_macro, acc = print_accuracy(eval_df, 'label', 'pred')\n",
        "print(f'F1 Macro Score: {f1_macro}')\n",
        "print(f'Accuracy: {acc} %')"
      ],
      "execution_count": null,
      "outputs": [
        {
          "output_type": "stream",
          "text": [
            "F1 Macro Score: 0.37888155595873435\n",
            "Accuracy: 39.42705256940343 %\n"
          ],
          "name": "stdout"
        }
      ]
    },
    {
      "cell_type": "code",
      "metadata": {
        "id": "pRmWVH8xvuqz"
      },
      "source": [
        "# model.load_state_dict(torch.load(os.path.join(base_path, 'ep10_saved_weights.pt')))\n",
        "# model = model.to(device)"
      ],
      "execution_count": null,
      "outputs": []
    },
    {
      "cell_type": "code",
      "metadata": {
        "id": "jHQqG3ivcRis"
      },
      "source": [
        "# SentimentClass = {0:'Very Negative', 1:'Negative', 2:'Neutral', 3:'Positive', 4:'Very Positive'}\n",
        "sst_df['pred'] = sst_df['sentence'].apply(classify_text)"
      ],
      "execution_count": null,
      "outputs": []
    },
    {
      "cell_type": "code",
      "metadata": {
        "colab": {
          "base_uri": "https://localhost:8080/"
        },
        "id": "55mcUW6_cg22",
        "outputId": "0a8db59e-b81f-4407-f66e-bdba7dbbdadc"
      },
      "source": [
        "correctly_classified_texts = sst_df[sst_df['labels'] == sst_df['pred']][:20]\n",
        "print(\"*\"*40)\n",
        "print(\"***** Correctly Classified Text: *******\")\n",
        "print(\"*\"*40)\n",
        "for i, (index, row) in enumerate(correctly_classified_texts.iterrows()):\n",
        "  print(f\"{i+1}) Text: {row['sentence']}\")\n",
        "  print(f\"   Target Sentiment: {row['labels']}\")\n",
        "  print(f\"   Predicted Sentiment: {row['pred']}\")\n",
        "  print()"
      ],
      "execution_count": null,
      "outputs": [
        {
          "output_type": "stream",
          "text": [
            "****************************************\n",
            "***** Correctly Classified Text: *******\n",
            "****************************************\n",
            "1) Text: Effective but too-tepid biopic\n",
            "   Target Sentiment: neutral\n",
            "   Predicted Sentiment: neutral\n",
            "\n",
            "2) Text: The film provides some great insight into the neurotic mindset of all comics -- even those who have reached the absolute top of the game .\n",
            "   Target Sentiment: neutral\n",
            "   Predicted Sentiment: neutral\n",
            "\n",
            "3) Text: Perhaps no picture ever made has more literally showed that the road to hell is paved with good intentions .\n",
            "   Target Sentiment: positive\n",
            "   Predicted Sentiment: positive\n",
            "\n",
            "4) Text: Ultimately , it ponders the reasons we need stories so much .\n",
            "   Target Sentiment: neutral\n",
            "   Predicted Sentiment: neutral\n",
            "\n",
            "5) Text: Illuminating if overly talky documentary .\n",
            "   Target Sentiment: neutral\n",
            "   Predicted Sentiment: neutral\n",
            "\n",
            "6) Text: Light , cute and forgettable .\n",
            "   Target Sentiment: neutral\n",
            "   Predicted Sentiment: neutral\n",
            "\n",
            "7) Text: Cantet perfectly captures the hotel lobbies , two-lane highways , and roadside cafes that permeate Vincent 's days\n",
            "   Target Sentiment: positive\n",
            "   Predicted Sentiment: positive\n",
            "\n",
            "8) Text: A heavy reliance on CGI technology is beginning to creep into the series .\n",
            "   Target Sentiment: neutral\n",
            "   Predicted Sentiment: neutral\n",
            "\n",
            "9) Text: Karmen moves like rhythm itself , her lips chanting to the beat , her long , braided hair doing little to wipe away the jeweled beads of sweat .\n",
            "   Target Sentiment: neutral\n",
            "   Predicted Sentiment: neutral\n",
            "\n",
            "10) Text: Manages to be original , even though it rips off many of its ideas .\n",
            "   Target Sentiment: neutral\n",
            "   Predicted Sentiment: neutral\n",
            "\n",
            "11) Text: Disney has always been hit-or-miss when bringing beloved kids ' books to the screen ... Tuck Everlasting is a little of both .\n",
            "   Target Sentiment: neutral\n",
            "   Predicted Sentiment: neutral\n",
            "\n",
            "12) Text: The appearance of Treebeard and Gollum 's expanded role will either have you loving what you 're seeing , or rolling your eyes .\n",
            "   Target Sentiment: neutral\n",
            "   Predicted Sentiment: neutral\n",
            "\n",
            "13) Text: A few artsy flourishes aside , Narc is as gritty as a movie gets these days .\n",
            "   Target Sentiment: neutral\n",
            "   Predicted Sentiment: neutral\n",
            "\n",
            "14) Text: Writer-director Burger imaginatively fans the embers of a dormant national grief and curiosity that has calcified into chronic cynicism and fear .\n",
            "   Target Sentiment: positive\n",
            "   Predicted Sentiment: positive\n",
            "\n",
            "15) Text: I enjoyed Time of Favor while I was watching it , but I was surprised at how quickly it faded from my memory .\n",
            "   Target Sentiment: neutral\n",
            "   Predicted Sentiment: neutral\n",
            "\n",
            "16) Text: It 's this memory-as-identity obviation that gives Secret Life its intermittent unease , reaffirming that long-held illusions are indeed reality , and that erasing them recasts the self .\n",
            "   Target Sentiment: neutral\n",
            "   Predicted Sentiment: neutral\n",
            "\n",
            "17) Text: Hip-hop has a history , and it 's a metaphor for this love story .\n",
            "   Target Sentiment: neutral\n",
            "   Predicted Sentiment: neutral\n",
            "\n",
            "18) Text: Between the drama of Cube ?\n",
            "   Target Sentiment: neutral\n",
            "   Predicted Sentiment: neutral\n",
            "\n",
            "19) Text: You Should Pay Nine Bucks for This : Because you can hear about suffering Afghan refugees on the news and still be unaffected .\n",
            "   Target Sentiment: neutral\n",
            "   Predicted Sentiment: neutral\n",
            "\n",
            "20) Text: A thunderous ride at first , quiet cadences of pure finesse are few and far between ; their shortage dilutes the potency of otherwise respectable action .\n",
            "   Target Sentiment: neutral\n",
            "   Predicted Sentiment: neutral\n",
            "\n"
          ],
          "name": "stdout"
        }
      ]
    },
    {
      "cell_type": "code",
      "metadata": {
        "colab": {
          "base_uri": "https://localhost:8080/"
        },
        "id": "nD4IOTjKdBSD",
        "outputId": "bda6ceff-38e4-48e6-996a-f2103240cdc9"
      },
      "source": [
        "incorrectly_classified_texts = sst_df[sst_df['labels'] != sst_df['pred']][:10]\n",
        "print(\"*\"*40)\n",
        "print(\"***** Incorrectly Classified Text: *****\")\n",
        "print(\"*\"*40)\n",
        "for i, (index, row) in enumerate(incorrectly_classified_texts.iterrows()):\n",
        "  print(f\"{i+1}) Text: {row['sentence']}\")\n",
        "  print(f\"   Target Sentiment: {row['labels']}\")\n",
        "  print(f\"   Predicted Sentiment: {row['pred']}\")\n",
        "  print()"
      ],
      "execution_count": null,
      "outputs": [
        {
          "output_type": "stream",
          "text": [
            "****************************************\n",
            "***** Incorrectly Classified Text: *****\n",
            "****************************************\n",
            "1) Text: The Rock is destined to be the 21st Century 's new `` Conan '' and that he 's going to make a splash even greater than Arnold Schwarzenegger , Jean-Claud Van Damme or Steven Segal .\n",
            "   Target Sentiment: positive\n",
            "   Predicted Sentiment: negative\n",
            "\n",
            "2) Text: The gorgeously elaborate continuation of `` The Lord of the Rings '' trilogy is so huge that a column of words can not adequately describe co-writer\\/director Peter Jackson 's expanded vision of J.R.R. Tolkien 's Middle-earth .\n",
            "   Target Sentiment: very positive\n",
            "   Predicted Sentiment: positive\n",
            "\n",
            "3) Text: If you sometimes like to go to the movies to have fun , Wasabi is a good place to start .\n",
            "   Target Sentiment: positive\n",
            "   Predicted Sentiment: negative\n",
            "\n",
            "4) Text: Emerges as something rare , an issue movie that 's so honest and keenly observed that it does n't feel like one .\n",
            "   Target Sentiment: very positive\n",
            "   Predicted Sentiment: positive\n",
            "\n",
            "5) Text: Offers that rare combination of entertainment and education .\n",
            "   Target Sentiment: very positive\n",
            "   Predicted Sentiment: positive\n",
            "\n",
            "6) Text: Steers turns in a snappy screenplay that curls at the edges ; it 's so clever you want to hate it .\n",
            "   Target Sentiment: positive\n",
            "   Predicted Sentiment: negative\n",
            "\n",
            "7) Text: But he somehow pulls it off .\n",
            "   Target Sentiment: positive\n",
            "   Predicted Sentiment: negative\n",
            "\n",
            "8) Text: Take Care of My Cat offers a refreshingly different slice of Asian cinema .\n",
            "   Target Sentiment: positive\n",
            "   Predicted Sentiment: negative\n",
            "\n",
            "9) Text: This is a film well worth seeing , talking and singing heads and all .\n",
            "   Target Sentiment: very positive\n",
            "   Predicted Sentiment: positive\n",
            "\n",
            "10) Text: What really surprises about Wisegirls is its low-key quality and genuine tenderness .\n",
            "   Target Sentiment: positive\n",
            "   Predicted Sentiment: negative\n",
            "\n"
          ],
          "name": "stdout"
        }
      ]
    },
    {
      "cell_type": "code",
      "metadata": {
        "id": "6plGpse7yge2"
      },
      "source": [
        ""
      ],
      "execution_count": null,
      "outputs": []
    }
  ]
}
