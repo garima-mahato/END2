{
  "nbformat": 4,
  "nbformat_minor": 0,
  "metadata": {
    "colab": {
      "name": "Sentiment Analysis using LSTM RNN.ipynb",
      "provenance": [],
      "collapsed_sections": []
    },
    "kernelspec": {
      "name": "python3",
      "display_name": "Python 3"
    },
    "accelerator": "GPU"
  },
  "cells": [
    {
      "cell_type": "code",
      "metadata": {
        "colab": {
          "base_uri": "https://localhost:8080/"
        },
        "id": "0Uzr6jhf2XAe",
        "outputId": "e2fadd8e-3313-4e91-8440-df668658ad9d"
      },
      "source": [
        "from google.colab import drive\n",
        "drive.mount('/content/gdrive', force_remount=True)"
      ],
      "execution_count": 1,
      "outputs": [
        {
          "output_type": "stream",
          "text": [
            "Mounted at /content/gdrive\n"
          ],
          "name": "stdout"
        }
      ]
    },
    {
      "cell_type": "code",
      "metadata": {
        "id": "DsUBiByt2iMO"
      },
      "source": [
        "import os\n",
        "\n",
        "base_path = 'gdrive/MyDrive/TSAI_END2/Session5/'\n",
        "data_path = os.path.join(base_path, 'data/')\n",
        "out_path = os.path.join(data_path, 'sst_{}.txt')\n",
        "sst_path = os.path.join(base_path, 'stanfordSentimentTreebank')"
      ],
      "execution_count": 2,
      "outputs": []
    },
    {
      "cell_type": "code",
      "metadata": {
        "colab": {
          "base_uri": "https://localhost:8080/"
        },
        "id": "RYBnWw2_fXfS",
        "outputId": "39d55c99-f32a-42a6-9899-b475df442472"
      },
      "source": [
        "# Download these NLTK packages\n",
        "import nltk\n",
        "nltk.download('punkt')\n",
        "nltk.download('stopwords')\n",
        "nltk.download('averaged_perceptron_tagger')\n",
        "nltk.download('maxent_ne_chunker')\n",
        "nltk.download('words')\n",
        "nltk.download('wordnet')"
      ],
      "execution_count": 3,
      "outputs": [
        {
          "output_type": "stream",
          "text": [
            "[nltk_data] Downloading package punkt to /root/nltk_data...\n",
            "[nltk_data]   Unzipping tokenizers/punkt.zip.\n",
            "[nltk_data] Downloading package stopwords to /root/nltk_data...\n",
            "[nltk_data]   Unzipping corpora/stopwords.zip.\n",
            "[nltk_data] Downloading package averaged_perceptron_tagger to\n",
            "[nltk_data]     /root/nltk_data...\n",
            "[nltk_data]   Unzipping taggers/averaged_perceptron_tagger.zip.\n",
            "[nltk_data] Downloading package maxent_ne_chunker to\n",
            "[nltk_data]     /root/nltk_data...\n",
            "[nltk_data]   Unzipping chunkers/maxent_ne_chunker.zip.\n",
            "[nltk_data] Downloading package words to /root/nltk_data...\n",
            "[nltk_data]   Unzipping corpora/words.zip.\n",
            "[nltk_data] Downloading package wordnet to /root/nltk_data...\n",
            "[nltk_data]   Unzipping corpora/wordnet.zip.\n"
          ],
          "name": "stdout"
        },
        {
          "output_type": "execute_result",
          "data": {
            "text/plain": [
              "True"
            ]
          },
          "metadata": {
            "tags": []
          },
          "execution_count": 3
        }
      ]
    },
    {
      "cell_type": "code",
      "metadata": {
        "id": "WzlHTmov3GV2"
      },
      "source": [
        "# Import necessary libraries\n",
        "import pandas as pd\n",
        "import numpy as np\n",
        "import matplotlib.pyplot as plt\n",
        "import seaborn as sns\n",
        "import warnings\n",
        "import nltk, time\n",
        "from nltk.tokenize import word_tokenize\n",
        "from nltk.corpus import stopwords\n",
        "from collections import Counter\n",
        "from nltk.stem import WordNetLemmatizer\n",
        "import collections, itertools"
      ],
      "execution_count": 4,
      "outputs": []
    },
    {
      "cell_type": "markdown",
      "metadata": {
        "id": "GYiRsFGD6iUC"
      },
      "source": [
        "# 0 TorchText"
      ]
    },
    {
      "cell_type": "markdown",
      "metadata": {
        "id": "tp5IzBGsPGHs"
      },
      "source": [
        "## Dataset Preview\n",
        "\n",
        "Your first step to deep learning in NLP. We will be mostly using PyTorch. Just like torchvision, PyTorch provides an official library, torchtext, for handling text-processing pipelines. \n",
        "\n",
        "We will be using previous session tweet dataset. Let's just preview the dataset."
      ]
    },
    {
      "cell_type": "code",
      "metadata": {
        "colab": {
          "base_uri": "https://localhost:8080/"
        },
        "id": "QmQq4LGK3XE5",
        "outputId": "18dcce45-eddb-4b08-ac7e-0449c066e191"
      },
      "source": [
        "# Read train data\n",
        "train_df = pd.read_csv(out_path.format('train'), sep='\\t', header=None, names=['label', 'text'])\n",
        "train_df['label'] = train_df['label'].str.replace('__label__', '')\n",
        "train_df['label'] = train_df['label'].astype(int).astype('category')\n",
        "\n",
        "# Read test data\n",
        "test_df = pd.read_csv(out_path.format('test'), sep='\\t', header=None, names=['label', 'text'])\n",
        "test_df['label'] = test_df['label'].str.replace('__label__', '')\n",
        "test_df['label'] = test_df['label'].astype(int).astype('category')\n",
        "\n",
        "# Read evaluation data\n",
        "eval_df = pd.read_csv(out_path.format('dev'), sep='\\t', header=None, names=['label', 'text'])\n",
        "eval_df['label'] = eval_df['label'].str.replace('__label__', '')\n",
        "eval_df['label'] = eval_df['label'].astype(int).astype('category')\n",
        "\n",
        "df = pd.concat([train_df, test_df])\n",
        "df.reset_index(inplace=True,drop=True)\n",
        "\n",
        "print('Sample training data:')\n",
        "print(train_df.head())\n",
        "print(f' Data Size: {len(train_df)}')\n",
        "print('\\n')\n",
        "\n",
        "print('Sample test data:')\n",
        "print(test_df.head())\n",
        "print(f' Data Size: {len(test_df)}')\n",
        "print('\\n')\n",
        "\n",
        "print('Sample evaluation data:')\n",
        "print(eval_df.head())\n",
        "print(f' Data Size: {len(eval_df)}')\n",
        "print('\\n')\n",
        "\n",
        "print('Sample of entire data:')\n",
        "print(df.head())\n",
        "print(f'Entire Data Size: {len(df)}')"
      ],
      "execution_count": 93,
      "outputs": [
        {
          "output_type": "stream",
          "text": [
            "Sample training data:\n",
            "  label                                               text\n",
            "0     4  The Rock is destined to be the 21st Century 's...\n",
            "1     5  The gorgeously elaborate continuation of `` Th...\n",
            "2     4  Singer/composer Bryan Adams contributes a slew...\n",
            "3     3  You 'd think by now America would have had eno...\n",
            "4     4               Yet the act is still charming here .\n",
            " Data Size: 8544\n",
            "\n",
            "\n",
            "Sample test data:\n",
            "  label                                               text\n",
            "0     3                     Effective but too-tepid biopic\n",
            "1     4  If you sometimes like to go to the movies to h...\n",
            "2     5  Emerges as something rare , an issue movie tha...\n",
            "3     3  The film provides some great insight into the ...\n",
            "4     5  Offers that rare combination of entertainment ...\n",
            " Data Size: 2210\n",
            "\n",
            "\n",
            "Sample evaluation data:\n",
            "  label                                               text\n",
            "0     4  It 's a lovely film with lovely performances b...\n",
            "1     3  No one goes unindicted here , which is probabl...\n",
            "2     4  And if you 're not nearly moved to tears by a ...\n",
            "3     5                   A warm , funny , engaging film .\n",
            "4     5  Uses sharp humor and insight into human nature...\n",
            " Data Size: 1101\n",
            "\n",
            "\n",
            "Sample of entire data:\n",
            "  label                                               text\n",
            "0     4  The Rock is destined to be the 21st Century 's...\n",
            "1     5  The gorgeously elaborate continuation of `` Th...\n",
            "2     4  Singer/composer Bryan Adams contributes a slew...\n",
            "3     3  You 'd think by now America would have had eno...\n",
            "4     4               Yet the act is still charming here .\n",
            "Entire Data Size: 10754\n"
          ],
          "name": "stdout"
        }
      ]
    },
    {
      "cell_type": "code",
      "metadata": {
        "id": "R7JdpCW-YbAG",
        "colab": {
          "base_uri": "https://localhost:8080/"
        },
        "outputId": "aed1526b-6e98-4ce5-f365-bac079cba683"
      },
      "source": [
        "df.shape"
      ],
      "execution_count": 94,
      "outputs": [
        {
          "output_type": "execute_result",
          "data": {
            "text/plain": [
              "(10754, 2)"
            ]
          },
          "metadata": {
            "tags": []
          },
          "execution_count": 94
        }
      ]
    },
    {
      "cell_type": "code",
      "metadata": {
        "colab": {
          "base_uri": "https://localhost:8080/"
        },
        "id": "kCt0kjgNLq79",
        "outputId": "fc676db8-6886-4044-b9ed-1e7a0adb6886"
      },
      "source": [
        "df.index[-1]"
      ],
      "execution_count": 95,
      "outputs": [
        {
          "output_type": "execute_result",
          "data": {
            "text/plain": [
              "10753"
            ]
          },
          "metadata": {
            "tags": []
          },
          "execution_count": 95
        }
      ]
    },
    {
      "cell_type": "code",
      "metadata": {
        "id": "zqRsoF6xYdgl",
        "colab": {
          "base_uri": "https://localhost:8080/"
        },
        "outputId": "ea127ca4-ef8a-4036-b479-6c7ec832ec97"
      },
      "source": [
        "df.label.value_counts()"
      ],
      "execution_count": 96,
      "outputs": [
        {
          "output_type": "execute_result",
          "data": {
            "text/plain": [
              "2    2851\n",
              "4    2832\n",
              "3    2013\n",
              "5    1687\n",
              "1    1371\n",
              "Name: label, dtype: int64"
            ]
          },
          "metadata": {
            "tags": []
          },
          "execution_count": 96
        }
      ]
    },
    {
      "cell_type": "markdown",
      "metadata": {
        "id": "WVjCuKK_LVEF"
      },
      "source": [
        "## Discussion on Data Augmentation Techniques \n",
        "\n",
        "You might wonder exactly how you can augment text data. After all, you can’t really flip it horizontally as you can an image! :D \n",
        "\n",
        "In contrast to data augmentation in images, augmentation techniques on data is very specific to final product you are building. As its general usage on any type of textual data doesn't provides a significant performance boost, that's why unlike torchvision, torchtext doesn’t offer a augmentation pipeline. Due to powerful models as transformers, augmentation tecnhiques are not so preferred now-a-days. But its better to know about some techniques with text that will provide your model with a little more information for training. \n",
        "\n",
        "### Synonym Replacement\n",
        "\n",
        "First, you could replace words in the sentence with synonyms, like so:\n",
        "\n",
        "    The dog slept on the mat\n",
        "\n",
        "could become\n",
        "\n",
        "    The dog slept on the rug\n",
        "\n",
        "Aside from the dog's insistence that a rug is much softer than a mat, the meaning of the sentence hasn’t changed. But mat and rug will be mapped to different indices in the vocabulary, so the model will learn that the two sentences map to the same label, and hopefully that there’s a connection between those two words, as everything else in the sentences is the same."
      ]
    },
    {
      "cell_type": "markdown",
      "metadata": {
        "id": "T_uEfWJpL6Nq"
      },
      "source": [
        "### Random Insertion\n",
        "A random insertion technique looks at a sentence and then randomly inserts synonyms of existing non-stopwords into the sentence n times. Assuming you have a way of getting a synonym of a word and a way of eliminating stopwords (common words such as and, it, the, etc.), shown, but not implemented, in this function via get_synonyms() and get_stopwords(), an implementation of this would be as follows:\n"
      ]
    },
    {
      "cell_type": "code",
      "metadata": {
        "id": "7Alm5D7WIvAC"
      },
      "source": [
        "def custom_tokenize(text):\n",
        "    \"\"\"Function that tokenizes text\"\"\"\n",
        "    from nltk.tokenize import word_tokenize\n",
        "    if not text:\n",
        "        print('The text to be tokenized is a None type. Defaulting to blank string.')\n",
        "        text = ''\n",
        "    return word_tokenize(text)\n",
        "\n",
        "def remove_stopwords(sentence):\n",
        "    tokenized = sentence #custom_tokenize(sentence) #data['text'].apply(custom_tokenize) # Tokenize tweets\n",
        "    lower_tokens = [t.lower() for t in tokenized] #tokenized.apply(lambda x: [t.lower() for t in x]) # Convert tokens into lower case\n",
        "    alpha_only = [t for t in lower_tokens if t.isalpha()] #lower_tokens.apply(lambda x: [t for t in x if t.isalpha()]) # Remove punctuations\n",
        "    no_stops = [t for t in alpha_only if t not in stopwords.words('english')] #alpha_only.apply(lambda x: [t for t in x if t not in stopwords.words('english')]) # remove stop words\n",
        "\n",
        "    return no_stops\n",
        "\n",
        "def get_synonyms(word):\n",
        "    import nltk\n",
        "    from nltk.corpus import wordnet\n",
        "    synonyms = []\n",
        "      \n",
        "    for syn in wordnet.synsets(word):\n",
        "        for l in syn.lemmas():\n",
        "            synonyms.append(l.name())\n",
        "            # if l.antonyms():\n",
        "            #     antonyms.append(l.antonyms()[0].name())\n",
        "    synonyms = list(set(synonyms))\n",
        "    if len(synonyms) > 0:\n",
        "      new_synonym = random.choice(synonyms)\n",
        "    else:\n",
        "      new_synonym = word\n",
        "\n",
        "    return new_synonym\n",
        "\n",
        "def random_insertion(sentence, n): \n",
        "    from random import randrange\n",
        "    words = remove_stopwords(sentence) \n",
        "    for _ in range(n):\n",
        "        word = random.choice(words)\n",
        "        new_synonym = get_synonyms(word)\n",
        "        sentence.insert(randrange(len(sentence)+1), new_synonym)\n",
        "    return sentence"
      ],
      "execution_count": 61,
      "outputs": []
    },
    {
      "cell_type": "code",
      "metadata": {
        "colab": {
          "base_uri": "https://localhost:8080/"
        },
        "id": "G0OjKHD_qyKO",
        "outputId": "ab48513c-6fd8-4965-8ea6-5645c9e25461"
      },
      "source": [
        "s=vars(train.examples[12])['text']\n",
        "print(s)\n",
        "random_insertion(s, 10)"
      ],
      "execution_count": 63,
      "outputs": [
        {
          "output_type": "stream",
          "text": [
            "['There', \"'s\", 'suspension', 'of', 'disbelief', 'and', 'then', 'there', \"'s\", 'bad', 'screenwriting', '...', 'this', 'film', 'packs', 'a', 'wallop', 'of', 'the', 'latter', '.']\n"
          ],
          "name": "stdout"
        },
        {
          "output_type": "execute_result",
          "data": {
            "text/plain": [
              "['There',\n",
              " \"'s\",\n",
              " 'suspension',\n",
              " 'temporary_removal',\n",
              " 'unbelief',\n",
              " 'of',\n",
              " 'dangling',\n",
              " 'whack',\n",
              " 'disbelief',\n",
              " 'and',\n",
              " 'then',\n",
              " 'there',\n",
              " \"'s\",\n",
              " 'bad',\n",
              " 'impact',\n",
              " 'screenwriting',\n",
              " 'mental_rejection',\n",
              " '...',\n",
              " 'this',\n",
              " 'film',\n",
              " 'packs',\n",
              " 'latter',\n",
              " 'a',\n",
              " 'wallop',\n",
              " 'latter',\n",
              " 'of',\n",
              " 'unbelief',\n",
              " 'the',\n",
              " 'latter',\n",
              " 'latter',\n",
              " '.']"
            ]
          },
          "metadata": {
            "tags": []
          },
          "execution_count": 63
        }
      ]
    },
    {
      "cell_type": "markdown",
      "metadata": {
        "id": "gqLWzwJ3Mm8h"
      },
      "source": [
        "## Random Deletion\n",
        "As the name suggests, random deletion deletes words from a sentence. Given a probability parameter p, it will go through the sentence and decide whether to delete a word or not based on that random probability. Consider of it as pixel dropouts while treating images."
      ]
    },
    {
      "cell_type": "code",
      "metadata": {
        "id": "-7Dz7JJfMqyC"
      },
      "source": [
        "def random_deletion(words, p=0.5): \n",
        "    if len(words) == 1: # return if single word\n",
        "        return words\n",
        "    remaining = list(filter(lambda x: random.uniform(0,1) > p,words)) \n",
        "    if len(remaining) == 0: # if not left, sample a random word\n",
        "        return [random.choice(words)] \n",
        "    else:\n",
        "        return remaining"
      ],
      "execution_count": 64,
      "outputs": []
    },
    {
      "cell_type": "code",
      "metadata": {
        "colab": {
          "base_uri": "https://localhost:8080/"
        },
        "id": "d-zQ28-jxMeP",
        "outputId": "fb8c09a8-b800-4ea0-c20b-5b70e5dd7c17"
      },
      "source": [
        "s=vars(train.examples[12])['text']\n",
        "print(s)\n",
        "random_deletion(s)"
      ],
      "execution_count": 65,
      "outputs": [
        {
          "output_type": "stream",
          "text": [
            "['There', \"'s\", 'suspension', 'temporary_removal', 'unbelief', 'of', 'dangling', 'whack', 'disbelief', 'and', 'then', 'there', \"'s\", 'bad', 'impact', 'screenwriting', 'mental_rejection', '...', 'this', 'film', 'packs', 'latter', 'a', 'wallop', 'latter', 'of', 'unbelief', 'the', 'latter', 'latter', '.']\n"
          ],
          "name": "stdout"
        },
        {
          "output_type": "execute_result",
          "data": {
            "text/plain": [
              "[\"'s\",\n",
              " 'of',\n",
              " 'there',\n",
              " \"'s\",\n",
              " 'bad',\n",
              " 'impact',\n",
              " 'screenwriting',\n",
              " '...',\n",
              " 'film',\n",
              " 'packs',\n",
              " 'a',\n",
              " 'the',\n",
              " 'latter',\n",
              " '.']"
            ]
          },
          "metadata": {
            "tags": []
          },
          "execution_count": 65
        }
      ]
    },
    {
      "cell_type": "markdown",
      "metadata": {
        "id": "zOIbi5WzO5OU"
      },
      "source": [
        "### Random Swap\n",
        "The random swap augmentation takes a sentence and then swaps words within it n times, with each iteration working on the previously swapped sentence. Here we sample two random numbers based on the length of the sentence, and then just keep swapping until we hit n."
      ]
    },
    {
      "cell_type": "code",
      "metadata": {
        "id": "LnkbG15HO3Yj"
      },
      "source": [
        "def random_swap(sentence, n=5): \n",
        "    length = range(len(sentence)) \n",
        "    for _ in range(n):\n",
        "        idx1, idx2 = random.sample(length, 2)\n",
        "        sentence[idx1], sentence[idx2] = sentence[idx2], sentence[idx1] \n",
        "    return sentence"
      ],
      "execution_count": 66,
      "outputs": []
    },
    {
      "cell_type": "code",
      "metadata": {
        "colab": {
          "base_uri": "https://localhost:8080/"
        },
        "id": "1a_bauXKzFd_",
        "outputId": "7e70a477-4969-40af-bbf4-1106779903b6"
      },
      "source": [
        "s=vars(train.examples[12])['text']\n",
        "print(s)\n",
        "random_swap(s)"
      ],
      "execution_count": 67,
      "outputs": [
        {
          "output_type": "stream",
          "text": [
            "['There', \"'s\", 'suspension', 'temporary_removal', 'unbelief', 'of', 'dangling', 'whack', 'disbelief', 'and', 'then', 'there', \"'s\", 'bad', 'impact', 'screenwriting', 'mental_rejection', '...', 'this', 'film', 'packs', 'latter', 'a', 'wallop', 'latter', 'of', 'unbelief', 'the', 'latter', 'latter', '.']\n"
          ],
          "name": "stdout"
        },
        {
          "output_type": "execute_result",
          "data": {
            "text/plain": [
              "['There',\n",
              " \"'s\",\n",
              " '...',\n",
              " 'latter',\n",
              " 'unbelief',\n",
              " 'of',\n",
              " 'dangling',\n",
              " 'whack',\n",
              " 'disbelief',\n",
              " 'screenwriting',\n",
              " 'then',\n",
              " 'there',\n",
              " \"'s\",\n",
              " 'bad',\n",
              " 'impact',\n",
              " 'and',\n",
              " 'mental_rejection',\n",
              " 'suspension',\n",
              " 'this',\n",
              " 'film',\n",
              " 'packs',\n",
              " 'temporary_removal',\n",
              " 'a',\n",
              " '.',\n",
              " 'latter',\n",
              " 'of',\n",
              " 'unbelief',\n",
              " 'the',\n",
              " 'latter',\n",
              " 'latter',\n",
              " 'wallop']"
            ]
          },
          "metadata": {
            "tags": []
          },
          "execution_count": 67
        }
      ]
    },
    {
      "cell_type": "markdown",
      "metadata": {
        "id": "a5aeKuNCRGip"
      },
      "source": [
        "For more on this please go through this [paper](https://arxiv.org/pdf/1901.11196.pdf).\n",
        "\n",
        "### Back Translation\n",
        "\n",
        "Another popular approach for augmenting text datasets is back translation. This involves translating a sentence from our target language into one or more other languages and then translating all of them back to the original language. We can use the Python library googletrans for this purpose. "
      ]
    },
    {
      "cell_type": "code",
      "metadata": {
        "colab": {
          "base_uri": "https://localhost:8080/"
        },
        "id": "NhfglKlnqavj",
        "outputId": "2bf298e7-9dd0-4528-a749-24f85ec08454"
      },
      "source": [
        "!pip install google-trans-new"
      ],
      "execution_count": 69,
      "outputs": [
        {
          "output_type": "stream",
          "text": [
            "Collecting google-trans-new\n",
            "  Downloading https://files.pythonhosted.org/packages/f9/7b/9f136106dc5824dc98185c97991d3cd9b53e70a197154dd49f7b899128f6/google_trans_new-1.1.9-py3-none-any.whl\n",
            "Installing collected packages: google-trans-new\n",
            "Successfully installed google-trans-new-1.1.9\n"
          ],
          "name": "stdout"
        }
      ]
    },
    {
      "cell_type": "code",
      "metadata": {
        "id": "pHhNBbYrRXNy"
      },
      "source": [
        "import random\n",
        "import google_trans_new\n",
        "from google_trans_new import google_translator  \n",
        "\n",
        "def back_translation(sentence):\n",
        "    translator = google_translator()\n",
        "\n",
        "    available_langs = list(google_trans_new.LANGUAGES.keys()) \n",
        "    trans_lang = random.choice(available_langs) \n",
        "    # print(f\"Translating to {google_trans_new.LANGUAGES[trans_lang]}\")\n",
        "\n",
        "    translations = translator.translate(sentence, lang_tgt=trans_lang) \n",
        "    # t_text = [t for t in translations]\n",
        "    # print(translations)\n",
        "\n",
        "    translations_en_random = translator.translate(translations, lang_src=trans_lang, lang_tgt='en') \n",
        "    # en_text = [t for t in translations_en_random]\n",
        "    # print(translations_en_random)\n",
        "\n",
        "    return translations_en_random #en_text"
      ],
      "execution_count": 85,
      "outputs": []
    },
    {
      "cell_type": "code",
      "metadata": {
        "colab": {
          "base_uri": "https://localhost:8080/"
        },
        "id": "4b1_chRt4uhU",
        "outputId": "eb9242df-e50b-4fa1-bedb-62a0ca966ee0"
      },
      "source": [
        "s=vars(train.examples[12])['text']\n",
        "print(s)\n",
        "print(back_translation(df.text[0]))"
      ],
      "execution_count": 152,
      "outputs": [
        {
          "output_type": "stream",
          "text": [
            "['There', \"'s\", '...', 'latter', 'unbelief', 'of', 'dangling', 'whack', 'disbelief', 'screenwriting', 'then', 'there', \"'s\", 'bad', 'impact', 'and', 'mental_rejection', 'suspension', 'this', 'film', 'packs', 'temporary_removal', 'a', '.', 'latter', 'of', 'unbelief', 'the', 'latter', 'latter', 'wallop']\n",
            "Translating to bengali\n",
            "The rock must be a new 'Canaan' of the 21th century and he is going to create a splash than Arnold Shwarzenegger, Jean-Cloud Van Dam or Steven Segal. \n"
          ],
          "name": "stdout"
        }
      ]
    },
    {
      "cell_type": "markdown",
      "metadata": {
        "id": "PYV-kiBIeK_S"
      },
      "source": [
        "### Data Augmentation"
      ]
    },
    {
      "cell_type": "code",
      "metadata": {
        "id": "I7KFFNsAeKMV"
      },
      "source": [
        "import re\n",
        "class NLPDataAugmentor():\n",
        "  def __init__(self, data, label, text, ratio=0.5):\n",
        "    self.data = data\n",
        "    self.label = label\n",
        "    self.text = text\n",
        "    self.ratio = int(ratio*len(self.data))\n",
        "  \n",
        "  #cleaning up text\n",
        "  import re\n",
        "  def get_only_chars(self,line):\n",
        "\n",
        "      clean_line = \"\"\n",
        "\n",
        "      line = line.replace(\"’\", \"\")\n",
        "      line = line.replace(\"'\", \"\")\n",
        "      line = line.replace(\"-\", \" \") #replace hyphens with spaces\n",
        "      line = line.replace(\"\\t\", \" \")\n",
        "      line = line.replace(\"\\n\", \" \")\n",
        "      line = line.lower()\n",
        "\n",
        "      for char in line:\n",
        "          if char in 'qwertyuiopasdfghjklzxcvbnm ':\n",
        "              clean_line += char\n",
        "          else:\n",
        "              clean_line += ' '\n",
        "\n",
        "      clean_line = re.sub(' +',' ',clean_line) #delete extra spaces\n",
        "      if clean_line[0] == ' ':\n",
        "          clean_line = clean_line[1:]\n",
        "      return clean_line\n",
        "\n",
        "  def remove_stopwords(self,sentence):\n",
        "    tokenized = sentence #custom_tokenize(sentence) #data['text'].apply(custom_tokenize) # Tokenize tweets\n",
        "    lower_tokens = [t.lower() for t in tokenized] #tokenized.apply(lambda x: [t.lower() for t in x]) # Convert tokens into lower case\n",
        "    alpha_only = [t for t in lower_tokens if t.isalpha()] #lower_tokens.apply(lambda x: [t for t in x if t.isalpha()]) # Remove punctuations\n",
        "    no_stops = [t for t in alpha_only if t not in stopwords.words('english')] #alpha_only.apply(lambda x: [t for t in x if t not in stopwords.words('english')]) # remove stop words\n",
        "\n",
        "    return no_stops\n",
        "\n",
        "  def get_synonyms(self,word):\n",
        "      import nltk\n",
        "      from nltk.corpus import wordnet\n",
        "      synonyms = []\n",
        "        \n",
        "      for syn in wordnet.synsets(word):\n",
        "          for l in syn.lemmas():\n",
        "              synonyms.append(l.name())\n",
        "              # if l.antonyms():\n",
        "              #     antonyms.append(l.antonyms()[0].name())\n",
        "      synonyms = list(set(synonyms))\n",
        "      if len(synonyms) > 0:\n",
        "        new_synonym = random.choice(synonyms)\n",
        "      else:\n",
        "        new_synonym = word\n",
        "\n",
        "      return new_synonym\n",
        "\n",
        "  def random_insertion(self, sentence, n=5): \n",
        "      from random import randrange\n",
        "      words = self.remove_stopwords(sentence) \n",
        "      if len(words)<=0:\n",
        "        words = sentence\n",
        "      for _ in range(n):\n",
        "          word = random.choice(words)\n",
        "          new_synonym = self.get_synonyms(word)\n",
        "          sentence.insert(randrange(len(sentence)+1), new_synonym)\n",
        "      return sentence\n",
        "  \n",
        "  # random deletion\n",
        "  def random_deletion(self, words, p=0.5): \n",
        "    if len(words) == 1: # return if single word\n",
        "        return words\n",
        "    remaining = list(filter(lambda x: random.uniform(0,1) > p,words)) \n",
        "    if len(remaining) == 0: # if not left, sample a random word\n",
        "        return [random.choice(words)] \n",
        "    else:\n",
        "        return remaining\n",
        "  \n",
        "  # random swap\n",
        "  def random_swap(self, sentence, n=5): \n",
        "    length = range(len(sentence)) \n",
        "    for _ in range(n):\n",
        "        idx1, idx2 = random.sample(length, 2)\n",
        "        sentence[idx1], sentence[idx2] = sentence[idx2], sentence[idx1] \n",
        "    return sentence\n",
        "  \n",
        "  import random\n",
        "  import google_trans_new\n",
        "  from google_trans_new import google_translator  \n",
        "\n",
        "  def back_translation(self, sentence):\n",
        "      translator = google_translator()\n",
        "\n",
        "      available_langs = list(google_trans_new.LANGUAGES.keys()) \n",
        "      trans_lang = random.choice(available_langs) \n",
        "\n",
        "      translations = translator.translate(sentence, lang_tgt=trans_lang) \n",
        "\n",
        "      translations_en_random = translator.translate(translations, lang_src=trans_lang, lang_tgt='en') \n",
        "\n",
        "      return translations_en_random\n",
        "  \n",
        "  def clean_up(self, sentence):\n",
        "    sentence = self.get_only_chars(sentence)\n",
        "    words = sentence.split(' ')\n",
        "    words = [word for word in words if word is not '']\n",
        "\n",
        "    return words\n",
        "\n",
        "  def execute(self):\n",
        "    s1 = self.data.sample(self.ratio,random_state=4).reset_index(drop=True)\n",
        "    s1[self.text] = s1[self.text].apply(self.clean_up).apply(self.random_insertion).map(lambda x: ' '.join(x))\n",
        "    print('random insertion done')\n",
        "\n",
        "    s2 = self.data.sample(self.ratio,random_state=1).reset_index(drop=True)\n",
        "    s2[self.text] = s2[self.text].apply(self.clean_up).apply(self.random_deletion).map(lambda x: ' '.join(x))\n",
        "    print('random deletion done')\n",
        "\n",
        "    s3 = self.data[self.data[self.text].apply(self.clean_up).apply(len)>=3].sample(self.ratio,random_state=6).reset_index(drop=True)\n",
        "    s3[self.text] = s3[self.text].apply(self.clean_up).apply(self.random_swap).map(lambda x: ' '.join(x))\n",
        "    print('random swap done')\n",
        "\n",
        "    s4 = self.data.sample(n=200,random_state=3).reset_index(drop=True)\n",
        "    s4[self.text] = s4[self.text].apply(self.back_translation)\n",
        "    print('back translation done')\n",
        "\n",
        "    new_data = pd.concat([self.data,s1,s2,s3,s4])\n",
        "    new_data.reset_index(inplace=True, drop=True)\n",
        "\n",
        "    return new_data"
      ],
      "execution_count": 153,
      "outputs": []
    },
    {
      "cell_type": "code",
      "metadata": {
        "colab": {
          "base_uri": "https://localhost:8080/"
        },
        "id": "EXWl2NYWM6pU",
        "outputId": "f6119e8e-1ab9-4235-e78f-0f504d66db61"
      },
      "source": [
        "aug = NLPDataAugmentor(df,'label','text')\n",
        "new_train = aug.execute()"
      ],
      "execution_count": 154,
      "outputs": [
        {
          "output_type": "stream",
          "text": [
            "random insertion done\n",
            "random deletion done\n",
            "random swap done\n",
            "back translation done\n"
          ],
          "name": "stdout"
        }
      ]
    },
    {
      "cell_type": "code",
      "metadata": {
        "colab": {
          "base_uri": "https://localhost:8080/",
          "height": 417
        },
        "id": "N4vO1al7jYCB",
        "outputId": "c8cb58dd-bf34-41a9-87ef-ac42550e6a81"
      },
      "source": [
        "new_train"
      ],
      "execution_count": 155,
      "outputs": [
        {
          "output_type": "execute_result",
          "data": {
            "text/html": [
              "<div>\n",
              "<style scoped>\n",
              "    .dataframe tbody tr th:only-of-type {\n",
              "        vertical-align: middle;\n",
              "    }\n",
              "\n",
              "    .dataframe tbody tr th {\n",
              "        vertical-align: top;\n",
              "    }\n",
              "\n",
              "    .dataframe thead th {\n",
              "        text-align: right;\n",
              "    }\n",
              "</style>\n",
              "<table border=\"1\" class=\"dataframe\">\n",
              "  <thead>\n",
              "    <tr style=\"text-align: right;\">\n",
              "      <th></th>\n",
              "      <th>label</th>\n",
              "      <th>text</th>\n",
              "    </tr>\n",
              "  </thead>\n",
              "  <tbody>\n",
              "    <tr>\n",
              "      <th>0</th>\n",
              "      <td>4</td>\n",
              "      <td>The Rock is destined to be the 21st Century 's...</td>\n",
              "    </tr>\n",
              "    <tr>\n",
              "      <th>1</th>\n",
              "      <td>5</td>\n",
              "      <td>The gorgeously elaborate continuation of `` Th...</td>\n",
              "    </tr>\n",
              "    <tr>\n",
              "      <th>2</th>\n",
              "      <td>4</td>\n",
              "      <td>Singer/composer Bryan Adams contributes a slew...</td>\n",
              "    </tr>\n",
              "    <tr>\n",
              "      <th>3</th>\n",
              "      <td>3</td>\n",
              "      <td>You 'd think by now America would have had eno...</td>\n",
              "    </tr>\n",
              "    <tr>\n",
              "      <th>4</th>\n",
              "      <td>4</td>\n",
              "      <td>Yet the act is still charming here .</td>\n",
              "    </tr>\n",
              "    <tr>\n",
              "      <th>...</th>\n",
              "      <td>...</td>\n",
              "      <td>...</td>\n",
              "    </tr>\n",
              "    <tr>\n",
              "      <th>27080</th>\n",
              "      <td>4</td>\n",
              "      <td>It is successful by following the good formula...</td>\n",
              "    </tr>\n",
              "    <tr>\n",
              "      <th>27081</th>\n",
              "      <td>5</td>\n",
              "      <td>The most thoughtful fictional examination of t...</td>\n",
              "    </tr>\n",
              "    <tr>\n",
              "      <th>27082</th>\n",
              "      <td>3</td>\n",
              "      <td>Humorous, artsy and even cute, off-kit, dark, ...</td>\n",
              "    </tr>\n",
              "    <tr>\n",
              "      <th>27083</th>\n",
              "      <td>2</td>\n",
              "      <td>It's hard to love the girl's daughter to be a ...</td>\n",
              "    </tr>\n",
              "    <tr>\n",
              "      <th>27084</th>\n",
              "      <td>4</td>\n",
              "      <td>It affects, fun, sad and reflective.</td>\n",
              "    </tr>\n",
              "  </tbody>\n",
              "</table>\n",
              "<p>27085 rows × 2 columns</p>\n",
              "</div>"
            ],
            "text/plain": [
              "      label                                               text\n",
              "0         4  The Rock is destined to be the 21st Century 's...\n",
              "1         5  The gorgeously elaborate continuation of `` Th...\n",
              "2         4  Singer/composer Bryan Adams contributes a slew...\n",
              "3         3  You 'd think by now America would have had eno...\n",
              "4         4               Yet the act is still charming here .\n",
              "...     ...                                                ...\n",
              "27080     4  It is successful by following the good formula...\n",
              "27081     5  The most thoughtful fictional examination of t...\n",
              "27082     3  Humorous, artsy and even cute, off-kit, dark, ...\n",
              "27083     2  It's hard to love the girl's daughter to be a ...\n",
              "27084     4              It affects, fun, sad and reflective. \n",
              "\n",
              "[27085 rows x 2 columns]"
            ]
          },
          "metadata": {
            "tags": []
          },
          "execution_count": 155
        }
      ]
    },
    {
      "cell_type": "code",
      "metadata": {
        "id": "qWEyg6sFfG2l"
      },
      "source": [
        "new_train.to_csv('gdrive/MyDrive/TSAI_END2/Session5/data/train.csv', index=False)"
      ],
      "execution_count": 157,
      "outputs": []
    },
    {
      "cell_type": "markdown",
      "metadata": {
        "id": "3AoftFIBHAu_"
      },
      "source": [
        "---"
      ]
    },
    {
      "cell_type": "markdown",
      "metadata": {
        "id": "UMKBQpdGKW6G"
      },
      "source": [
        "#### Load augmented data"
      ]
    },
    {
      "cell_type": "code",
      "metadata": {
        "colab": {
          "base_uri": "https://localhost:8080/"
        },
        "id": "giX-TDq3J8cm",
        "outputId": "d01d6750-47e4-4f1f-8902-8b257e59bbd2"
      },
      "source": [
        "new_train = pd.read_csv(os.path.join(data_path, 'train.csv'))\n",
        "new_train['label'] = new_train['label'] - 1 #labels must start with 0\n",
        "\n",
        "# Read evaluation data as test data\n",
        "eval_df = pd.read_csv(out_path.format('dev'), sep='\\t', header=None, names=['label', 'text'])\n",
        "eval_df['label'] = eval_df['label'].str.replace('__label__', '')\n",
        "eval_df['label'] = eval_df['label'].astype(int)\n",
        "eval_df['label'] = eval_df['label'] - 1 #labels must start with 0\n",
        "\n",
        "print('Sample training data:')\n",
        "print(new_train.head())\n",
        "print(f' Data Size: {len(new_train)}')\n",
        "print('\\n')\n",
        "\n",
        "print('Sample test data:')\n",
        "print(eval_df.head())\n",
        "print(f' Data Size: {len(eval_df)}')\n",
        "print('\\n')"
      ],
      "execution_count": 5,
      "outputs": [
        {
          "output_type": "stream",
          "text": [
            "Sample training data:\n",
            "   label                                               text\n",
            "0      3  The Rock is destined to be the 21st Century 's...\n",
            "1      4  The gorgeously elaborate continuation of `` Th...\n",
            "2      3  Singer/composer Bryan Adams contributes a slew...\n",
            "3      2  You 'd think by now America would have had eno...\n",
            "4      3               Yet the act is still charming here .\n",
            " Data Size: 27085\n",
            "\n",
            "\n",
            "Sample test data:\n",
            "   label                                               text\n",
            "0      3  It 's a lovely film with lovely performances b...\n",
            "1      2  No one goes unindicted here , which is probabl...\n",
            "2      3  And if you 're not nearly moved to tears by a ...\n",
            "3      4                   A warm , funny , engaging film .\n",
            "4      4  Uses sharp humor and insight into human nature...\n",
            " Data Size: 1101\n",
            "\n",
            "\n"
          ],
          "name": "stdout"
        }
      ]
    },
    {
      "cell_type": "markdown",
      "metadata": {
        "id": "XJ6o_79ISSVb"
      },
      "source": [
        "## Defining Fields"
      ]
    },
    {
      "cell_type": "markdown",
      "metadata": {
        "id": "e63g08ijOrf7"
      },
      "source": [
        "Now we shall be defining LABEL as a LabelField, which is a subclass of Field that sets sequen tial to False (as it’s our numerical category class). TEXT is a standard Field object, where we have decided to use the spaCy tokenizer and convert all the text to lower‐ case."
      ]
    },
    {
      "cell_type": "code",
      "metadata": {
        "id": "qk8IP4SK1Lrp",
        "colab": {
          "base_uri": "https://localhost:8080/"
        },
        "outputId": "5fe90293-2b0c-46a3-9ad6-195662f7709a"
      },
      "source": [
        "# Import Library\n",
        "import random\n",
        "import torch, torchtext\n",
        "from torchtext.legacy import data \n",
        "\n",
        "# Manual Seed\n",
        "SEED = 42\n",
        "torch.manual_seed(SEED)"
      ],
      "execution_count": 150,
      "outputs": [
        {
          "output_type": "execute_result",
          "data": {
            "text/plain": [
              "<torch._C.Generator at 0x7f69d7d84a50>"
            ]
          },
          "metadata": {
            "tags": []
          },
          "execution_count": 150
        }
      ]
    },
    {
      "cell_type": "code",
      "metadata": {
        "id": "u6bKQax2Mf_U"
      },
      "source": [
        "Text = data.Field(sequential = True, tokenize = 'spacy', batch_first =True, include_lengths=True)\n",
        "Label = data.LabelField(dtype = torch.int64) #data.LabelField(tokenize ='spacy', is_target=True, batch_first =True, sequential =False)"
      ],
      "execution_count": 151,
      "outputs": []
    },
    {
      "cell_type": "markdown",
      "metadata": {
        "id": "mX-lYIe_O7Vy"
      },
      "source": [
        "Having defined those fields, we now need to produce a list that maps them onto the list of rows that are in the CSV:"
      ]
    },
    {
      "cell_type": "code",
      "metadata": {
        "id": "VawdWq36O6td"
      },
      "source": [
        "fields = [('text', Text),('label',Label)]"
      ],
      "execution_count": 152,
      "outputs": []
    },
    {
      "cell_type": "markdown",
      "metadata": {
        "id": "ZbtZ-Ph2P1xL"
      },
      "source": [
        "Armed with our declared fields, lets convert from pandas to list to torchtext. We could also use TabularDataset to apply that definition to the CSV directly but showing an alternative approach too."
      ]
    },
    {
      "cell_type": "code",
      "metadata": {
        "id": "L3OLcJ5B7rHz"
      },
      "source": [
        "train_example = [data.Example.fromlist([new_train.text[i],new_train.label[i]], fields) for i in range(new_train.shape[0])] \n",
        "test_example = [data.Example.fromlist([eval_df.text[i],eval_df.label[i]], fields) for i in range(eval_df.shape[0])] "
      ],
      "execution_count": 153,
      "outputs": []
    },
    {
      "cell_type": "code",
      "metadata": {
        "id": "nT-flpH-P1cd"
      },
      "source": [
        "# Creating dataset\n",
        "\n",
        "# reviewDataset = data.Dataset(example, fields)\n",
        "\n",
        "train_data = data.Dataset(train_example, fields)\n",
        "valid_data = data.Dataset(test_example, fields)"
      ],
      "execution_count": 155,
      "outputs": []
    },
    {
      "cell_type": "markdown",
      "metadata": {
        "id": "g6ZnyCPaR08F"
      },
      "source": [
        "Finally, we can split into training, testing, and validation sets by using the split() method:"
      ]
    },
    {
      "cell_type": "code",
      "metadata": {
        "id": "LlksvNv-mdwT"
      },
      "source": [
        "# (train, valid) = reviewDataset.split(split_ratio=[0.85, 0.15], random_state=random.seed(SEED))"
      ],
      "execution_count": 156,
      "outputs": []
    },
    {
      "cell_type": "markdown",
      "metadata": {
        "id": "gpmKkoIO8vEO"
      },
      "source": [
        ""
      ]
    },
    {
      "cell_type": "code",
      "metadata": {
        "id": "ykvsCGQMR6UD",
        "colab": {
          "base_uri": "https://localhost:8080/"
        },
        "outputId": "4b2978ca-337a-412a-c7a4-bef9d9bd2380"
      },
      "source": [
        "(len(train_data), len(valid_data))"
      ],
      "execution_count": 157,
      "outputs": [
        {
          "output_type": "execute_result",
          "data": {
            "text/plain": [
              "(27085, 1101)"
            ]
          },
          "metadata": {
            "tags": []
          },
          "execution_count": 157
        }
      ]
    },
    {
      "cell_type": "markdown",
      "metadata": {
        "id": "kix8P2IKSBaV"
      },
      "source": [
        "An example from the dataset:"
      ]
    },
    {
      "cell_type": "code",
      "metadata": {
        "id": "dUpEOQruR9JL",
        "colab": {
          "base_uri": "https://localhost:8080/"
        },
        "outputId": "6fa815e3-72f7-4c49-bda7-b09f424cff6c"
      },
      "source": [
        "vars(train_data.examples[10])"
      ],
      "execution_count": 158,
      "outputs": [
        {
          "output_type": "execute_result",
          "data": {
            "text/plain": [
              "{'label': 4,\n",
              " 'text': ['Good',\n",
              "  'fun',\n",
              "  ',',\n",
              "  'good',\n",
              "  'action',\n",
              "  ',',\n",
              "  'good',\n",
              "  'acting',\n",
              "  ',',\n",
              "  'good',\n",
              "  'dialogue',\n",
              "  ',',\n",
              "  'good',\n",
              "  'pace',\n",
              "  ',',\n",
              "  'good',\n",
              "  'cinematography',\n",
              "  '.']}"
            ]
          },
          "metadata": {
            "tags": []
          },
          "execution_count": 158
        }
      ]
    },
    {
      "cell_type": "markdown",
      "metadata": {
        "id": "AKdllP3FST4N"
      },
      "source": [
        "## Building Vocabulary"
      ]
    },
    {
      "cell_type": "markdown",
      "metadata": {
        "id": "SuvWQ-SpSmSz"
      },
      "source": [
        "At this point we would have built a one-hot encoding of each word that is present in the dataset—a rather tedious process. Thankfully, torchtext will do this for us, and will also allow a max_size parameter to be passed in to limit the vocabu‐ lary to the most common words. This is normally done to prevent the construction of a huge, memory-hungry model. We don’t want our GPUs too overwhelmed, after all. \n",
        "\n",
        "Let’s limit the vocabulary to a maximum of 5000 words in our training set:\n"
      ]
    },
    {
      "cell_type": "code",
      "metadata": {
        "id": "mx955u93SGeY"
      },
      "source": [
        "# Text.build_vocab(train)\n",
        "# Label.build_vocab(train)\n",
        "\n",
        "MAX_VOCAB_SIZE = 25_000\n",
        "\n",
        "Text.build_vocab(train_data,  \n",
        "                 vectors = \"glove.6B.100d\", \n",
        "                 unk_init = torch.Tensor.normal_)\n",
        "\n",
        "Label.build_vocab(train_data)"
      ],
      "execution_count": 216,
      "outputs": []
    },
    {
      "cell_type": "code",
      "metadata": {
        "colab": {
          "base_uri": "https://localhost:8080/"
        },
        "id": "fiklbf5eV_LF",
        "outputId": "290043d2-0d48-43df-a5e7-bed8545d7b42"
      },
      "source": [
        "# len(Label.vocab)\n",
        "Text.vocab.vectors"
      ],
      "execution_count": 217,
      "outputs": [
        {
          "output_type": "execute_result",
          "data": {
            "text/plain": [
              "tensor([[ 0.1015, -0.5950, -0.1061,  ..., -0.7039, -0.6821,  0.2343],\n",
              "        [-1.3000,  1.6834,  0.2743,  ...,  2.5565, -2.2498,  0.8826],\n",
              "        [-0.0382, -0.2449,  0.7281,  ..., -0.1459,  0.8278,  0.2706],\n",
              "        ...,\n",
              "        [-0.2909, -0.7498, -0.2997,  ..., -0.4769,  0.4399, -0.2560],\n",
              "        [ 0.0109, -0.8665,  0.2749,  ...,  0.1131,  0.1014,  0.3842],\n",
              "        [-0.1327, -0.8911,  0.2346,  ..., -0.1750, -0.1385,  0.6226]])"
            ]
          },
          "metadata": {
            "tags": []
          },
          "execution_count": 217
        }
      ]
    },
    {
      "cell_type": "markdown",
      "metadata": {
        "id": "xvyEeEjXTGhX"
      },
      "source": [
        "By default, torchtext will add two more special tokens, <unk> for unknown words and <pad>, a padding token that will be used to pad all our text to roughly the same size to help with efficient batching on the GPU."
      ]
    },
    {
      "cell_type": "code",
      "metadata": {
        "id": "rA3tIESdcJdN",
        "colab": {
          "base_uri": "https://localhost:8080/"
        },
        "outputId": "7e88a906-4207-4232-ee12-fe4a57e5dc13"
      },
      "source": [
        "print('Size of input vocab : ', len(Text.vocab))\n",
        "print('Size of label vocab : ', len(Label.vocab))\n",
        "print('Top 10 words appreared repeatedly :', list(Text.vocab.freqs.most_common(10)))\n",
        "print('Labels : ', Label.vocab.stoi)"
      ],
      "execution_count": 218,
      "outputs": [
        {
          "output_type": "stream",
          "text": [
            "Size of input vocab :  27179\n",
            "Size of label vocab :  5\n",
            "Top 10 words appreared repeatedly : [('the', 19376), ('a', 13997), ('and', 12912), ('of', 12704), ('.', 10329), (',', 9173), ('to', 8742), ('is', 7245), ('it', 6141), ('that', 5462)]\n",
            "Labels :  defaultdict(None, {1: 0, 3: 1, 2: 2, 4: 3, 0: 4})\n"
          ],
          "name": "stdout"
        }
      ]
    },
    {
      "cell_type": "markdown",
      "metadata": {
        "id": "sLWW221gTpNs"
      },
      "source": [
        "Now we need to create a data loader to feed into our training loop. Torchtext provides the BucketIterator method that will produce what it calls a Batch, which is almost, but not quite, like the data loader we used on images."
      ]
    },
    {
      "cell_type": "markdown",
      "metadata": {
        "id": "EQqMhMoDUDmn"
      },
      "source": [
        "But at first declare the device we are using."
      ]
    },
    {
      "cell_type": "code",
      "metadata": {
        "id": "Zfo2QhGJUK4l"
      },
      "source": [
        "device = torch.device(\"cuda\" if torch.cuda.is_available() else \"cpu\")"
      ],
      "execution_count": 219,
      "outputs": []
    },
    {
      "cell_type": "code",
      "metadata": {
        "id": "zK2ORoqdTNsM"
      },
      "source": [
        "train_iterator, valid_iterator = data.BucketIterator.splits((train_data, valid_data), batch_size = 64, \n",
        "                                                            sort_key = lambda x: len(x.text), sort=False,shuffle=True,\n",
        "                                                            sort_within_batch=True, device = device)"
      ],
      "execution_count": 220,
      "outputs": []
    },
    {
      "cell_type": "markdown",
      "metadata": {
        "id": "Gg7gTFQO4fby"
      },
      "source": [
        "Save the vocabulary for later use"
      ]
    },
    {
      "cell_type": "code",
      "metadata": {
        "id": "niE9Cc6-2bD_"
      },
      "source": [
        "import os, pickle\n",
        "with open('gdrive/MyDrive/TSAI_END2/Session5/data/glove_tokenizer.pkl', 'wb') as tokens: \n",
        "    pickle.dump(Text.vocab.stoi, tokens)"
      ],
      "execution_count": 221,
      "outputs": []
    },
    {
      "cell_type": "markdown",
      "metadata": {
        "id": "1AbsQwqkVyAy"
      },
      "source": [
        "## Defining Our Model"
      ]
    },
    {
      "cell_type": "markdown",
      "metadata": {
        "id": "E4PED4HJWH4t"
      },
      "source": [
        "We use the Embedding and LSTM modules in PyTorch to build a simple model for classifying tweets.\n",
        "\n",
        "In this model we create three layers. \n",
        "1. First, the words in our tweets are pushed into an Embedding layer, which we have established as a 300-dimensional vector embedding. \n",
        "2. That’s then fed into a 2 stacked-LSTMs with 100 hidden features (again, we’re compressing down from the 300-dimensional input like we did with images). We are using 2 LSTMs for using the dropout.\n",
        "3. Finally, the output of the LSTM (the final hidden state after processing the incoming tweet) is pushed through a standard fully connected layer with three outputs to correspond to our three possible classes (negative, positive, or neutral)."
      ]
    },
    {
      "cell_type": "code",
      "metadata": {
        "id": "43pVRccMT0bT"
      },
      "source": [
        "import torch\n",
        "import torch.nn as nn\n",
        "import torch.nn.functional as F\n",
        "from torch.nn.utils.rnn import pack_padded_sequence, pad_packed_sequence\n",
        "\n",
        "class classifier(nn.Module):\n",
        "    \n",
        "    # Define all the layers used in model\n",
        "    def __init__(self, vocab_size, embedding_dim, hidden_dim1, hidden_dim2, output_dim, n_layers,\n",
        "                 bidirectional, dropout, pad_index):\n",
        "        # Constructor\n",
        "        super().__init__()\n",
        "\n",
        "        # embedding layer\n",
        "        self.embedding = nn.Embedding(vocab_size, embedding_dim, padding_idx = pad_index)\n",
        "\n",
        "        # lstm layer\n",
        "        self.lstm = nn.LSTM(embedding_dim,\n",
        "                            hidden_dim1,\n",
        "                            num_layers=n_layers,\n",
        "                            bidirectional=bidirectional,\n",
        "                            batch_first=True)\n",
        "        self.fc1 = nn.Linear(hidden_dim1 * 2, hidden_dim2)\n",
        "        self.fc2 = nn.Linear(hidden_dim2, output_dim)\n",
        "        self.relu = nn.ReLU()\n",
        "        self.dropout = nn.Dropout(dropout)\n",
        "        # activation function\n",
        "        self.act = nn.Softmax() #\\ F.log_softmax(outp)\n",
        "\n",
        "    def forward(self, text, text_lengths):\n",
        "        # text = [batch size,sent_length]\n",
        "        embedded = self.embedding(text)\n",
        "        # embedded = [batch size, sent_len, emb dim]\n",
        "\n",
        "        # packed sequence\n",
        "        packed_embedded = pack_padded_sequence(embedded, text_lengths.to('cpu'), batch_first=True) # unpad\n",
        "\n",
        "        packed_output, (hidden, cell) = self.lstm(packed_embedded)\n",
        "        # packed_output shape = (batch, seq_len, num_directions * hidden_size)\n",
        "        # hidden shape  = (num_layers * num_directions, batch, hidden_size)\n",
        "\n",
        "        # concat the final forward and backward hidden state\n",
        "        cat = torch.cat((hidden[-2, :, :], hidden[-1, :, :]), dim=1)\n",
        "        # output, output_lengths = pad_packed_sequence(packed_output)  # pad the sequence to the max length in the batch\n",
        "\n",
        "        rel = self.relu(cat)\n",
        "        dense1 = self.fc1(rel)\n",
        "\n",
        "        drop = self.dropout(dense1)\n",
        "        preds = self.fc2(drop)\n",
        "\n",
        "        # Final activation function\n",
        "        # preds = self.act(preds)\n",
        "        # preds = preds.argmax(dim=1).unsqueeze(0)\n",
        "        return preds"
      ],
      "execution_count": 222,
      "outputs": []
    },
    {
      "cell_type": "code",
      "metadata": {
        "id": "rwBoGE_X_Fl8"
      },
      "source": [
        "# Define hyperparameters\n",
        "size_of_vocab = len(Text.vocab)\n",
        "embedding_dim = 100\n",
        "num_hidden_nodes = 256\n",
        "num_output_nodes = len(Label.vocab)\n",
        "num_layers = 2\n",
        "dropout = 0.2\n",
        "PAD_IDX = Text.vocab.stoi[Text.pad_token]\n",
        "\n",
        "hidden_dim2 = 128\n",
        "bi_directional = True\n",
        "\n",
        "# Instantiate the model\n",
        "model = classifier(size_of_vocab, embedding_dim, num_hidden_nodes, hidden_dim2, num_output_nodes, num_layers, bi_directional, dropout = dropout, pad_index=PAD_IDX)"
      ],
      "execution_count": 243,
      "outputs": []
    },
    {
      "cell_type": "code",
      "metadata": {
        "id": "O-pOMqzJ3eTv",
        "colab": {
          "base_uri": "https://localhost:8080/"
        },
        "outputId": "e9e420b0-a300-4c4b-afd9-cf60b4e38fa1"
      },
      "source": [
        "print(model)\n",
        "\n",
        "#No. of trianable parameters\n",
        "def count_parameters(model):\n",
        "    return sum(p.numel() for p in model.parameters() if p.requires_grad)\n",
        "    \n",
        "print(f'The model has {count_parameters(model):,} trainable parameters')"
      ],
      "execution_count": 244,
      "outputs": [
        {
          "output_type": "stream",
          "text": [
            "classifier(\n",
            "  (embedding): Embedding(27179, 100, padding_idx=1)\n",
            "  (lstm): LSTM(100, 256, num_layers=2, batch_first=True, bidirectional=True)\n",
            "  (fc1): Linear(in_features=512, out_features=128, bias=True)\n",
            "  (fc2): Linear(in_features=128, out_features=5, bias=True)\n",
            "  (relu): ReLU()\n",
            "  (dropout): Dropout(p=0.2, inplace=False)\n",
            "  (act): Softmax(dim=None)\n",
            ")\n",
            "The model has 5,094,353 trainable parameters\n"
          ],
          "name": "stdout"
        }
      ]
    },
    {
      "cell_type": "code",
      "metadata": {
        "colab": {
          "base_uri": "https://localhost:8080/"
        },
        "id": "k4mqaw9cX9p5",
        "outputId": "c3a55245-25cd-4df1-b598-be0d2d0018ab"
      },
      "source": [
        "pretrained_embeddings = Text.vocab.vectors\n",
        "\n",
        "model.embedding.weight.data.copy_(pretrained_embeddings)"
      ],
      "execution_count": 245,
      "outputs": [
        {
          "output_type": "execute_result",
          "data": {
            "text/plain": [
              "tensor([[ 0.1015, -0.5950, -0.1061,  ..., -0.7039, -0.6821,  0.2343],\n",
              "        [-1.3000,  1.6834,  0.2743,  ...,  2.5565, -2.2498,  0.8826],\n",
              "        [-0.0382, -0.2449,  0.7281,  ..., -0.1459,  0.8278,  0.2706],\n",
              "        ...,\n",
              "        [-0.2909, -0.7498, -0.2997,  ..., -0.4769,  0.4399, -0.2560],\n",
              "        [ 0.0109, -0.8665,  0.2749,  ...,  0.1131,  0.1014,  0.3842],\n",
              "        [-0.1327, -0.8911,  0.2346,  ..., -0.1750, -0.1385,  0.6226]])"
            ]
          },
          "metadata": {
            "tags": []
          },
          "execution_count": 245
        }
      ]
    },
    {
      "cell_type": "code",
      "metadata": {
        "id": "qzu7Gh2yYMex"
      },
      "source": [
        "UNK_IDX = Text.vocab.stoi[Text.unk_token]\n",
        "\n",
        "model.embedding.weight.data[UNK_IDX] = torch.zeros(embedding_dim)\n",
        "model.embedding.weight.data[PAD_IDX] = torch.zeros(embedding_dim)"
      ],
      "execution_count": 246,
      "outputs": []
    },
    {
      "cell_type": "markdown",
      "metadata": {
        "id": "eXajorf5Xz7t"
      },
      "source": [
        "## Model Training and Evaluation"
      ]
    },
    {
      "cell_type": "markdown",
      "metadata": {
        "id": "PrE9RpMtZ1Vs"
      },
      "source": [
        "First define the optimizer and loss functions"
      ]
    },
    {
      "cell_type": "code",
      "metadata": {
        "id": "-u86JWdlXvu5"
      },
      "source": [
        "import torch.optim as optim\n",
        "\n",
        "# define optimizer and loss\n",
        "optimizer = optim.Adam(model.parameters())\n",
        "criterion = nn.CrossEntropyLoss()\n",
        "\n",
        "# define metric\n",
        "def categorical_accuracy(preds, y):\n",
        "    \"\"\"\n",
        "    Returns accuracy per batch, i.e. if you get 8/10 right, this returns 0.8, NOT 8\n",
        "    \"\"\"\n",
        "    top_pred = preds.argmax(1, keepdim = True)\n",
        "    correct = top_pred.eq(y.view_as(top_pred)).sum()\n",
        "    acc = correct.float() / y.shape[0]\n",
        "    return acc\n",
        "    \n",
        "# push to cuda if available\n",
        "model = model.to(device)\n",
        "criterion = criterion.to(device)"
      ],
      "execution_count": 247,
      "outputs": []
    },
    {
      "cell_type": "markdown",
      "metadata": {
        "id": "3VCJtNb3Zt8w"
      },
      "source": [
        "The main thing to be aware of in this new training loop is that we have to reference `batch.tweets` and `batch.labels` to get the particular fields we’re interested in; they don’t fall out quite as nicely from the enumerator as they do in torchvision."
      ]
    },
    {
      "cell_type": "markdown",
      "metadata": {
        "id": "2WjEPLKsAiS_"
      },
      "source": [
        "**Training Loop**"
      ]
    },
    {
      "cell_type": "code",
      "metadata": {
        "id": "HDWNnGK3Y5oJ"
      },
      "source": [
        "def train(model, iterator, optimizer, criterion):\n",
        "    \n",
        "    # initialize every epoch \n",
        "    epoch_loss = 0\n",
        "    epoch_acc = 0\n",
        "    \n",
        "    # set the model in training phase\n",
        "    model.train()  \n",
        "    \n",
        "    for batch in iterator:\n",
        "        \n",
        "        # resets the gradients after every batch\n",
        "        optimizer.zero_grad()   \n",
        "        \n",
        "        # retrieve text and no. of words\n",
        "        text, text_lengths = batch.text   \n",
        "        \n",
        "        # convert to 1D tensor\n",
        "        predictions = model(text, text_lengths)\n",
        "        # print(predictions.shape)\n",
        "        # print(batch.label.shape)\n",
        "        # compute the loss\n",
        "        loss = criterion(predictions, batch.label)        \n",
        "        \n",
        "        # compute the categorical accuracy\n",
        "        acc = categorical_accuracy(predictions, batch.label)   \n",
        "        \n",
        "        # backpropage the loss and compute the gradients\n",
        "        loss.backward()       \n",
        "        \n",
        "        # update the weights\n",
        "        optimizer.step()      \n",
        "        \n",
        "        # loss and accuracy\n",
        "        epoch_loss += loss.item()  \n",
        "        epoch_acc += acc.item()    \n",
        "        \n",
        "    return epoch_loss / len(iterator), epoch_acc / len(iterator)"
      ],
      "execution_count": 248,
      "outputs": []
    },
    {
      "cell_type": "markdown",
      "metadata": {
        "id": "CZcHhkkvAsCt"
      },
      "source": [
        "**Evaluation Loop**"
      ]
    },
    {
      "cell_type": "code",
      "metadata": {
        "id": "zHEe-zSVAriL"
      },
      "source": [
        "def evaluate(model, iterator, criterion):\n",
        "    \n",
        "    # initialize every epoch\n",
        "    epoch_loss = 0\n",
        "    epoch_acc = 0\n",
        "\n",
        "    # deactivating dropout layers\n",
        "    model.eval()\n",
        "    \n",
        "    # deactivates autograd\n",
        "    with torch.no_grad():\n",
        "    \n",
        "        for batch in iterator:\n",
        "        \n",
        "            # retrieve text and no. of words\n",
        "            text, text_lengths = batch.text   \n",
        "            \n",
        "            # convert to 1D tensor\n",
        "            predictions = model(text, text_lengths).squeeze(1)\n",
        "            \n",
        "            # compute loss and accuracy\n",
        "            loss = criterion(predictions, batch.label)\n",
        "            acc = categorical_accuracy(predictions, batch.label)\n",
        "            \n",
        "            # keep track of loss and accuracy\n",
        "            epoch_loss += loss.item()\n",
        "            epoch_acc += acc.item()\n",
        "        \n",
        "    return epoch_loss / len(iterator), epoch_acc / len(iterator)"
      ],
      "execution_count": 249,
      "outputs": []
    },
    {
      "cell_type": "markdown",
      "metadata": {
        "id": "L6LJFW7HaJoV"
      },
      "source": [
        "**Let's Train and Evaluate**"
      ]
    },
    {
      "cell_type": "code",
      "metadata": {
        "id": "1pGuoe0Ia9GP"
      },
      "source": [
        "import time\n",
        "\n",
        "def epoch_time(start_time, end_time):\n",
        "    elapsed_time = end_time - start_time\n",
        "    elapsed_mins = int(elapsed_time / 60)\n",
        "    elapsed_secs = int(elapsed_time - (elapsed_mins * 60))\n",
        "    return elapsed_mins, elapsed_secs"
      ],
      "execution_count": 250,
      "outputs": []
    },
    {
      "cell_type": "code",
      "metadata": {
        "id": "tq330XlnaEU9",
        "colab": {
          "base_uri": "https://localhost:8080/"
        },
        "outputId": "c324b449-1d6d-4aef-86af-cd006ba6e532"
      },
      "source": [
        "N_EPOCHS = 10\n",
        "best_valid_loss = float('inf')\n",
        "train_losses = []\n",
        "train_accs = []\n",
        "valid_losses = []\n",
        "valid_accs = []\n",
        "\n",
        "for epoch in range(N_EPOCHS):\n",
        "    start_time = time.time()\n",
        "    # train the model\n",
        "    train_loss, train_acc = train(model, train_iterator, optimizer, criterion)\n",
        "    \n",
        "    # evaluate the model\n",
        "    valid_loss, valid_acc = evaluate(model, valid_iterator, criterion)\n",
        "    \n",
        "    end_time = time.time()\n",
        "    epoch_mins, epoch_secs = epoch_time(start_time, end_time)\n",
        "\n",
        "    # save the best model\n",
        "    if valid_loss < best_valid_loss:\n",
        "        best_valid_loss = valid_loss\n",
        "        torch.save(model.state_dict(), 'gdrive/MyDrive/TSAI_END2/Session5/saved_weights.pt')\n",
        "    \n",
        "    train_losses.append(train_loss)\n",
        "    train_accs.append(train_acc)\n",
        "    valid_losses.append(valid_loss)\n",
        "    valid_accs.append(valid_acc)\n",
        "\n",
        "    print(f'Epoch: {epoch+1:02} | Epoch Time: {epoch_mins}m {epoch_secs}s')\n",
        "    print(f'\\tTrain Loss: {train_loss:.3f} | Train Acc: {train_acc*100:.2f}%')\n",
        "    print(f'\\t Val. Loss: {valid_loss:.3f} |  Val. Acc: {valid_acc*100:.2f}% \\n')"
      ],
      "execution_count": 251,
      "outputs": [
        {
          "output_type": "stream",
          "text": [
            "Epoch: 01 | Epoch Time: 0m 5s\n",
            "\tTrain Loss: 1.375 | Train Acc: 38.88%\n",
            "\t Val. Loss: 1.308 |  Val. Acc: 40.18% \n",
            "\n",
            "Epoch: 02 | Epoch Time: 0m 5s\n",
            "\tTrain Loss: 1.094 | Train Acc: 52.54%\n",
            "\t Val. Loss: 1.386 |  Val. Acc: 40.34% \n",
            "\n",
            "Epoch: 03 | Epoch Time: 0m 5s\n",
            "\tTrain Loss: 0.819 | Train Acc: 66.72%\n",
            "\t Val. Loss: 1.605 |  Val. Acc: 38.51% \n",
            "\n",
            "Epoch: 04 | Epoch Time: 0m 5s\n",
            "\tTrain Loss: 0.568 | Train Acc: 78.20%\n",
            "\t Val. Loss: 1.957 |  Val. Acc: 39.29% \n",
            "\n",
            "Epoch: 05 | Epoch Time: 0m 5s\n",
            "\tTrain Loss: 0.368 | Train Acc: 86.26%\n",
            "\t Val. Loss: 2.394 |  Val. Acc: 40.07% \n",
            "\n",
            "Epoch: 06 | Epoch Time: 0m 5s\n",
            "\tTrain Loss: 0.245 | Train Acc: 90.98%\n",
            "\t Val. Loss: 2.866 |  Val. Acc: 38.60% \n",
            "\n",
            "Epoch: 07 | Epoch Time: 0m 5s\n",
            "\tTrain Loss: 0.166 | Train Acc: 93.80%\n",
            "\t Val. Loss: 3.697 |  Val. Acc: 38.94% \n",
            "\n",
            "Epoch: 08 | Epoch Time: 0m 5s\n",
            "\tTrain Loss: 0.117 | Train Acc: 95.75%\n",
            "\t Val. Loss: 4.880 |  Val. Acc: 37.29% \n",
            "\n",
            "Epoch: 09 | Epoch Time: 0m 5s\n",
            "\tTrain Loss: 0.093 | Train Acc: 96.80%\n",
            "\t Val. Loss: 5.191 |  Val. Acc: 38.06% \n",
            "\n",
            "Epoch: 10 | Epoch Time: 0m 5s\n",
            "\tTrain Loss: 0.062 | Train Acc: 97.81%\n",
            "\t Val. Loss: 5.869 |  Val. Acc: 37.47% \n",
            "\n"
          ],
          "name": "stdout"
        }
      ]
    },
    {
      "cell_type": "code",
      "metadata": {
        "id": "bn-Hi4qQRu2R"
      },
      "source": [
        "# visualize accuracy and loss graph\n",
        "def visualize_graph(train_losses, train_acc, test_losses, test_acc):\n",
        "  fig, axs = plt.subplots(2,2,figsize=(15,10))\n",
        "  axs[0, 0].plot(train_losses)\n",
        "  axs[0, 0].set_title(\"Training Loss\")\n",
        "  axs[1, 0].plot(train_acc)\n",
        "  axs[1, 0].set_title(\"Training Accuracy\")\n",
        "  axs[0, 1].plot(test_losses)\n",
        "  axs[0, 1].set_title(\"Test Loss\")\n",
        "  axs[1, 1].plot(test_acc)\n",
        "  axs[1, 1].set_title(\"Test Accuracy\")\n",
        "\n",
        "def visualize_save_train_vs_test_graph(EPOCHS, dict_list, title, xlabel, ylabel, PATH, name=\"fig\"):\n",
        "  plt.figure(figsize=(20,10))\n",
        "  #epochs = range(1,EPOCHS+1)\n",
        "  for label, item in dict_list.items():\n",
        "    x = np.linspace(1, EPOCHS+1, len(item))\n",
        "    plt.plot(x, item, label=label)\n",
        "  \n",
        "  plt.title(title)\n",
        "  plt.xlabel(xlabel)\n",
        "  plt.ylabel(ylabel)\n",
        "  plt.legend()\n",
        "  plt.savefig(PATH+\"/\"+name+\".png\")"
      ],
      "execution_count": 253,
      "outputs": []
    },
    {
      "cell_type": "code",
      "metadata": {
        "colab": {
          "base_uri": "https://localhost:8080/",
          "height": 607
        },
        "id": "amqUR9V6R7E7",
        "outputId": "c6a05c4f-bae8-402e-dedc-d43a64132302"
      },
      "source": [
        "visualize_graph(train_losses, train_accs, valid_losses, valid_accs)"
      ],
      "execution_count": 254,
      "outputs": [
        {
          "output_type": "display_data",
          "data": {
            "image/png": "[encoded data removed]",
            "text/plain": [
              "<Figure size 1080x720 with 4 Axes>"
            ]
          },
          "metadata": {
            "tags": [],
            "needs_background": "light"
          }
        }
      ]
    },
    {
      "cell_type": "code",
      "metadata": {
        "colab": {
          "base_uri": "https://localhost:8080/",
          "height": 621
        },
        "id": "ZPBuHUhiTK_n",
        "outputId": "a3b3ca77-854f-49b1-9dfd-52d0b3cc7de9"
      },
      "source": [
        "dict_list = {'Training Accuracy': train_accs, 'Test Accuracy': valid_accs}\n",
        "title = \"Training vs Test Accuracy\"\n",
        "xlabel = \"Epochs\"\n",
        "ylabel = \"Accuracy(in Percentage)\"\n",
        "name = \"train_vs_test_acc_comparison_graph\"\n",
        "\n",
        "visualize_save_train_vs_test_graph(N_EPOCHS, dict_list, title, xlabel, ylabel, base_path, name=name)"
      ],
      "execution_count": 255,
      "outputs": [
        {
          "output_type": "display_data",
          "data": {
            "image/png": "[encoded data removed]",
            "text/plain": [
              "<Figure size 1440x720 with 1 Axes>"
            ]
          },
          "metadata": {
            "tags": [],
            "needs_background": "light"
          }
        }
      ]
    },
    {
      "cell_type": "code",
      "metadata": {
        "colab": {
          "base_uri": "https://localhost:8080/",
          "height": 621
        },
        "id": "P7dU2tI9To93",
        "outputId": "d1b3e6af-a97a-47b8-9765-c612d0e5af2c"
      },
      "source": [
        "dict_list = {'Training Loss': train_losses, 'Test Accuracy': valid_losses}\n",
        "title = \"Training vs Test Loss\"\n",
        "xlabel = \"Epochs\"\n",
        "ylabel = \"Loss\"\n",
        "name = \"train_vs_test_loss_comparison_graph\"\n",
        "\n",
        "visualize_save_train_vs_test_graph(N_EPOCHS, dict_list, title, xlabel, ylabel, base_path, name=name)"
      ],
      "execution_count": 256,
      "outputs": [
        {
          "output_type": "display_data",
          "data": {
            "image/png": "[encoded data removed]",
            "text/plain": [
              "<Figure size 1440x720 with 1 Axes>"
            ]
          },
          "metadata": {
            "tags": [],
            "needs_background": "light"
          }
        }
      ]
    },
    {
      "cell_type": "markdown",
      "metadata": {
        "id": "LZgzB0ZkHVTI"
      },
      "source": [
        "## Model Testing"
      ]
    },
    {
      "cell_type": "code",
      "metadata": {
        "id": "IXLwdLEXRU34"
      },
      "source": [
        "from sklearn.metrics import confusion_matrix\n",
        "import matplotlib.pyplot as plt\n",
        "import numpy as np\n",
        "\n",
        "\n",
        "def plot_confusion_matrix(y_true, y_pred, \n",
        "                          classes=['Very Negative','Negative','Neutral','Positive','Very Positive'],#[1, 2, 3, 4, 5],\n",
        "                          normalize=False,\n",
        "                          cmap=plt.cm.YlOrBr):\n",
        "    \"\"\"\n",
        "    This function prints and plots the confusion matrix.\n",
        "    Normalization can be applied by setting `normalize=True`.\n",
        "    (Adapted from scikit-learn docs).\n",
        "    \"\"\"\n",
        "    # Compute confusion matrix\n",
        "    cm = confusion_matrix(y_true, y_pred)\n",
        "\n",
        "    if normalize:\n",
        "        cm = cm.astype('float') / cm.sum(axis=1)[:, np.newaxis]\n",
        "\n",
        "    fig, ax = plt.subplots()\n",
        "    im = ax.imshow(cm, interpolation='nearest', origin='lower', cmap=cmap)\n",
        "    ax.figure.colorbar(im, ax=ax)\n",
        "    # Show all ticks\n",
        "    ax.set(xticks=np.arange(cm.shape[1]),\n",
        "           yticks=np.arange(cm.shape[0]),\n",
        "           # Label with respective list entries\n",
        "           xticklabels=classes, yticklabels=classes,\n",
        "           ylabel='True label',\n",
        "           xlabel='Predicted label')\n",
        "\n",
        "    # Set alignment of tick labels\n",
        "    plt.setp(ax.get_xticklabels(), rotation=0, ha=\"right\",\n",
        "             rotation_mode=\"anchor\")\n",
        "\n",
        "    # Loop over data dimensions and create text annotations\n",
        "    fmt = '.2f' if normalize else 'd'\n",
        "    thresh = cm.max() / 2.\n",
        "    for i in range(cm.shape[0]):\n",
        "        for j in range(cm.shape[1]):\n",
        "            ax.text(j, i, format(cm[i, j], fmt),\n",
        "                    ha=\"center\", va=\"center\",\n",
        "                    color=\"white\" if cm[i, j] > thresh else \"black\")\n",
        "    return fig, ax"
      ],
      "execution_count": 276,
      "outputs": []
    },
    {
      "cell_type": "code",
      "metadata": {
        "id": "aZZfnWo0abRx"
      },
      "source": [
        "#load weights and tokenizer\n",
        "\n",
        "# path='gdrive/MyDrive/TSAI_END2/Session5/saved_weights.pt'\n",
        "# model.load_state_dict(torch.load(path));\n",
        "model.eval();\n",
        "tokenizer_file = open('gdrive/MyDrive/TSAI_END2/Session5/data/glove_tokenizer.pkl', 'rb')\n",
        "tokenizer = pickle.load(tokenizer_file)\n",
        "\n",
        "#inference \n",
        "\n",
        "import spacy\n",
        "nlp = spacy.load('en')\n",
        "\n",
        "def classify_text(tweet):\n",
        "    \n",
        "    categories = {0: \"0\", 1:\"1\", 2:\"2\", 3:\"3\", 4:\"4\"}\n",
        "    \n",
        "    # tokenize the tweet \n",
        "    tokenized = [tok.text for tok in nlp.tokenizer(tweet)] \n",
        "    # convert to integer sequence using predefined tokenizer dictionary\n",
        "    indexed = [tokenizer[t] for t in tokenized]        \n",
        "    # compute no. of words        \n",
        "    length = [len(indexed)]\n",
        "    # convert to tensor                                    \n",
        "    tensor = torch.LongTensor(indexed).to(device)   \n",
        "    # reshape in form of batch, no. of words           \n",
        "    tensor = tensor.unsqueeze(1).T  \n",
        "    # convert to tensor                          \n",
        "    length_tensor = torch.LongTensor(length)\n",
        "    # Get the model prediction                  \n",
        "    prediction = model(tensor, length_tensor)\n",
        "\n",
        "    # _, pred = torch.max(prediction, 1) \n",
        "    pred = prediction.argmax(1, keepdim = True)\n",
        "    \n",
        "    return categories[pred.item()]"
      ],
      "execution_count": 258,
      "outputs": []
    },
    {
      "cell_type": "code",
      "metadata": {
        "id": "yTkHLEipIlM9"
      },
      "source": [
        "new_train['pred'] = new_train['text'].apply(classify_text)#(\"A valid explanation for why Trump won't let women on the golf course.\")"
      ],
      "execution_count": 259,
      "outputs": []
    },
    {
      "cell_type": "code",
      "metadata": {
        "id": "nvA92MTFe-LW"
      },
      "source": [
        "plt.rcParams[\"figure.figsize\"] = (8,8)"
      ],
      "execution_count": 284,
      "outputs": []
    },
    {
      "cell_type": "code",
      "metadata": {
        "colab": {
          "base_uri": "https://localhost:8080/",
          "height": 506
        },
        "id": "4i8DS8mZNqSn",
        "outputId": "484afd1a-5eea-49ff-e089-78f18b0aa85e"
      },
      "source": [
        "plot_confusion_matrix(new_train['label'].values.tolist(), new_train['pred'].astype(int).values.tolist())"
      ],
      "execution_count": 285,
      "outputs": [
        {
          "output_type": "execute_result",
          "data": {
            "text/plain": [
              "(<Figure size 576x576 with 2 Axes>,\n",
              " <matplotlib.axes._subplots.AxesSubplot at 0x7f697e692710>)"
            ]
          },
          "metadata": {
            "tags": []
          },
          "execution_count": 285
        },
        {
          "output_type": "display_data",
          "data": {
            "image/png": "[encoded data removed]",
            "text/plain": [
              "<Figure size 576x576 with 2 Axes>"
            ]
          },
          "metadata": {
            "tags": [],
            "needs_background": "light"
          }
        }
      ]
    },
    {
      "cell_type": "code",
      "metadata": {
        "id": "gfwWZbAzYwXc"
      },
      "source": [
        "eval_df['pred'] = eval_df['text'].apply(classify_text).astype(int)"
      ],
      "execution_count": 265,
      "outputs": []
    },
    {
      "cell_type": "code",
      "metadata": {
        "colab": {
          "base_uri": "https://localhost:8080/",
          "height": 500
        },
        "id": "uALUBp5dZGlV",
        "outputId": "177809c3-058f-4a11-b31f-95a1d38c6bb1"
      },
      "source": [
        "plot_confusion_matrix(eval_df['label'].values.tolist(), eval_df['pred'].values.tolist())"
      ],
      "execution_count": 286,
      "outputs": [
        {
          "output_type": "execute_result",
          "data": {
            "text/plain": [
              "(<Figure size 576x576 with 2 Axes>,\n",
              " <matplotlib.axes._subplots.AxesSubplot at 0x7f6931d7b690>)"
            ]
          },
          "metadata": {
            "tags": []
          },
          "execution_count": 286
        },
        {
          "output_type": "display_data",
          "data": {
            "image/png": "[encoded data removed]",
            "text/plain": [
              "<Figure size 576x576 with 2 Axes>"
            ]
          },
          "metadata": {
            "tags": [],
            "needs_background": "light"
          }
        }
      ]
    },
    {
      "cell_type": "code",
      "metadata": {
        "id": "vilXSF7kfsIm"
      },
      "source": [
        "SentimentClass = {0:'Very Negative', 1:'Negative', 2:'Neutral', 3:'Positive', 4:'Very Positive'}"
      ],
      "execution_count": 288,
      "outputs": []
    },
    {
      "cell_type": "code",
      "metadata": {
        "colab": {
          "base_uri": "https://localhost:8080/"
        },
        "id": "c6pXU5S_ZbY5",
        "outputId": "f54eeb44-db35-47a9-d853-1c3894b98e47"
      },
      "source": [
        "correctly_classified_texts = eval_df[eval_df['label'] == eval_df['pred']][:10]\n",
        "print(\"*\"*40)\n",
        "print(\"***** Correctly Classified Text: *******\")\n",
        "print(\"*\"*40)\n",
        "for i, (index, row) in enumerate(correctly_classified_texts.iterrows()):\n",
        "  print(f\"{i+1}) Text: {row['text']}\")\n",
        "  print(f\"   Target Sentiment: {SentimentClass[row['label']]}\")\n",
        "  print(f\"   Predicted Sentiment: {SentimentClass[row['pred']]}\")\n",
        "  print()"
      ],
      "execution_count": 292,
      "outputs": [
        {
          "output_type": "stream",
          "text": [
            "****************************************\n",
            "***** Correctly Classified Text: *******\n",
            "****************************************\n",
            "1) Text: No one goes unindicted here , which is probably for the best .\n",
            "   Target Sentiment: Neutral\n",
            "   Predicted Sentiment: Neutral\n",
            "\n",
            "2) Text: There 's ... tremendous energy from the cast , a sense of playfulness and excitement that seems appropriate .\n",
            "   Target Sentiment: Positive\n",
            "   Predicted Sentiment: Positive\n",
            "\n",
            "3) Text: Here 's yet another studio horror franchise mucking up its storyline with glitches casual fans could correct in their sleep .\n",
            "   Target Sentiment: Very Negative\n",
            "   Predicted Sentiment: Very Negative\n",
            "\n",
            "4) Text: While the stoically delivered hokum of Hart 's War is never fun , it 's still a worthy addition to the growing canon of post-Saving Private Ryan tributes to the greatest generation .\n",
            "   Target Sentiment: Neutral\n",
            "   Predicted Sentiment: Neutral\n",
            "\n",
            "5) Text: Building slowly and subtly , the film , sporting a breezy spontaneity and realistically drawn characterizations , develops into a significant character study that is both moving and wise .\n",
            "   Target Sentiment: Positive\n",
            "   Predicted Sentiment: Positive\n",
            "\n",
            "6) Text: Ultimately feels empty and unsatisfying , like swallowing a Communion wafer without the wine .\n",
            "   Target Sentiment: Very Negative\n",
            "   Predicted Sentiment: Very Negative\n",
            "\n",
            "7) Text: Chilling , well-acted , and finely directed : David Jacobson 's Dahmer .\n",
            "   Target Sentiment: Positive\n",
            "   Predicted Sentiment: Positive\n",
            "\n",
            "8) Text: Against all odds in heaven and hell , it creeped me out just fine .\n",
            "   Target Sentiment: Positive\n",
            "   Predicted Sentiment: Positive\n",
            "\n",
            "9) Text: A compelling Spanish film about the withering effects of jealousy in the life of a young monarch whose sexual passion for her husband becomes an obsession .\n",
            "   Target Sentiment: Positive\n",
            "   Predicted Sentiment: Positive\n",
            "\n",
            "10) Text: It 's fascinating to see how Bettany and McDowell play off each other .\n",
            "   Target Sentiment: Positive\n",
            "   Predicted Sentiment: Positive\n",
            "\n"
          ],
          "name": "stdout"
        }
      ]
    },
    {
      "cell_type": "code",
      "metadata": {
        "colab": {
          "base_uri": "https://localhost:8080/"
        },
        "id": "QqgxCgFPZ4LF",
        "outputId": "23da57d6-0da5-4f0b-92c5-494ddfac2ff4"
      },
      "source": [
        "incorrectly_classified_texts = eval_df[eval_df['label'] != eval_df['pred']][:10]\n",
        "print(\"*\"*40)\n",
        "print(\"***** Incorrectly Classified Text: *****\")\n",
        "print(\"*\"*40)\n",
        "for i, (index, row) in enumerate(incorrectly_classified_texts.iterrows()):\n",
        "  print(f\"{i+1}) Text: {row['text']}\")\n",
        "  print(f\"   Target Sentiment: {SentimentClass[row['label']]}\")\n",
        "  print(f\"   Predicted Sentiment: {SentimentClass[row['pred']]}\")\n",
        "  print()"
      ],
      "execution_count": 294,
      "outputs": [
        {
          "output_type": "stream",
          "text": [
            "****************************************\n",
            "***** Incorrectly Classified Text: *****\n",
            "****************************************\n",
            "1) Text: It 's a lovely film with lovely performances by Buy and Accorsi .\n",
            "   Target Sentiment: Positive\n",
            "   Predicted Sentiment: Negative\n",
            "\n",
            "2) Text: And if you 're not nearly moved to tears by a couple of scenes , you 've got ice water in your veins .\n",
            "   Target Sentiment: Positive\n",
            "   Predicted Sentiment: Negative\n",
            "\n",
            "3) Text: A warm , funny , engaging film .\n",
            "   Target Sentiment: Very Positive\n",
            "   Predicted Sentiment: Positive\n",
            "\n",
            "4) Text: Uses sharp humor and insight into human nature to examine class conflict , adolescent yearning , the roots of friendship and sexual identity .\n",
            "   Target Sentiment: Very Positive\n",
            "   Predicted Sentiment: Negative\n",
            "\n",
            "5) Text: Half Submarine flick , Half Ghost Story , All in one criminally neglected film\n",
            "   Target Sentiment: Neutral\n",
            "   Predicted Sentiment: Very Positive\n",
            "\n",
            "6) Text: Entertains by providing good , lively company .\n",
            "   Target Sentiment: Positive\n",
            "   Predicted Sentiment: Negative\n",
            "\n",
            "7) Text: Dazzles with its fully-written characters , its determined stylishness ( which always relates to characters and story ) and Johnny Dankworth 's best soundtrack in years .\n",
            "   Target Sentiment: Very Positive\n",
            "   Predicted Sentiment: Negative\n",
            "\n",
            "8) Text: Visually imaginative , thematically instructive and thoroughly delightful , it takes us on a roller-coaster ride from innocence to experience without even a hint of that typical kiddie-flick sentimentality .\n",
            "   Target Sentiment: Very Positive\n",
            "   Predicted Sentiment: Positive\n",
            "\n",
            "9) Text: Nothing 's at stake , just a twisty double-cross you can smell a mile away -- still , the derivative Nine Queens is lots of fun .\n",
            "   Target Sentiment: Positive\n",
            "   Predicted Sentiment: Negative\n",
            "\n",
            "10) Text: Unlike the speedy wham-bam effect of most Hollywood offerings , character development -- and more importantly , character empathy -- is at the heart of Italian for Beginners .\n",
            "   Target Sentiment: Very Positive\n",
            "   Predicted Sentiment: Negative\n",
            "\n"
          ],
          "name": "stdout"
        }
      ]
    },
    {
      "cell_type": "code",
      "metadata": {
        "id": "LVhYE4iHg5Tg"
      },
      "source": [
        "from sklearn.metrics import f1_score, accuracy_score\n",
        "def print_accuracy(df, target_col, pred_column):\n",
        "    \"Print f1 score and accuracy after making predictions\"\n",
        "    f1_macro = f1_score(df[target_col], df[pred_column], average='macro')\n",
        "    acc = accuracy_score(df[target_col], df[pred_column])*100\n",
        "    return f1_macro, acc"
      ],
      "execution_count": 295,
      "outputs": []
    },
    {
      "cell_type": "code",
      "metadata": {
        "colab": {
          "base_uri": "https://localhost:8080/"
        },
        "id": "J_SJU-AIiJlr",
        "outputId": "fd9ef531-7ae7-4ca3-9872-f6ff4b3d20a9"
      },
      "source": [
        "f1_macro, acc = print_accuracy(eval_df, 'label', 'pred')\n",
        "print(f'F1 Macro Score: {f1_macro}')\n",
        "print(f'Accuracy: {acc} %')"
      ],
      "execution_count": 298,
      "outputs": [
        {
          "output_type": "stream",
          "text": [
            "F1 Macro Score: 0.19443600996641647\n",
            "Accuracy: 20.16348773841962 %\n"
          ],
          "name": "stdout"
        }
      ]
    },
    {
      "cell_type": "code",
      "metadata": {
        "colab": {
          "base_uri": "https://localhost:8080/",
          "height": 35
        },
        "id": "WVGHpYMuiQrT",
        "outputId": "bc491d3b-141d-48c3-b1fb-b65dbbcd209e"
      },
      "source": [
        "SentimentClass[int(classify_text('What a teacher!'))]"
      ],
      "execution_count": 301,
      "outputs": [
        {
          "output_type": "execute_result",
          "data": {
            "application/vnd.google.colaboratory.intrinsic+json": {
              "type": "string"
            },
            "text/plain": [
              "'Positive'"
            ]
          },
          "metadata": {
            "tags": []
          },
          "execution_count": 301
        }
      ]
    },
    {
      "cell_type": "code",
      "metadata": {
        "colab": {
          "base_uri": "https://localhost:8080/",
          "height": 35
        },
        "id": "f898IGvDi8fk",
        "outputId": "02d2ea61-7593-458d-9f92-a47f75957584"
      },
      "source": [
        "SentimentClass[int(classify_text('What a teacher?'))]"
      ],
      "execution_count": 302,
      "outputs": [
        {
          "output_type": "execute_result",
          "data": {
            "application/vnd.google.colaboratory.intrinsic+json": {
              "type": "string"
            },
            "text/plain": [
              "'Negative'"
            ]
          },
          "metadata": {
            "tags": []
          },
          "execution_count": 302
        }
      ]
    }
  ]
}
