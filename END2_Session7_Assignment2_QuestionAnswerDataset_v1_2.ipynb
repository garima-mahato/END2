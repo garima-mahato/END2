{
  "nbformat": 4,
  "nbformat_minor": 0,
  "metadata": {
    "colab": {
      "name": "END2_Session7_Assignment2_QuestionAnswerDataset_v1_2.ipynb",
      "provenance": [],
      "collapsed_sections": []
    },
    "kernelspec": {
      "name": "python3",
      "display_name": "Python 3"
    },
    "language_info": {
      "name": "python"
    }
  },
  "cells": [
    {
      "cell_type": "markdown",
      "metadata": {
        "id": "XldGuOFet6c6"
      },
      "source": [
        "# Sequence to Sequence Prediction on Wikipedia Question Answer Data\n",
        "---"
      ]
    },
    {
      "cell_type": "code",
      "metadata": {
        "colab": {
          "base_uri": "https://localhost:8080/"
        },
        "id": "ExEEcyERPfrM",
        "outputId": "79841108-4dc3-4661-a11b-e4391e708f15"
      },
      "source": [
        "from google.colab import drive\n",
        "drive.mount('/content/gdrive', force_remount=True)"
      ],
      "execution_count": 1,
      "outputs": [
        {
          "output_type": "stream",
          "text": [
            "Mounted at /content/gdrive\n"
          ],
          "name": "stdout"
        }
      ]
    },
    {
      "cell_type": "markdown",
      "metadata": {
        "id": "TLxKUPBSqBBg"
      },
      "source": [
        "## Extract Downloaded Data\n",
        "---"
      ]
    },
    {
      "cell_type": "code",
      "metadata": {
        "id": "mPCT7MoAQRH2"
      },
      "source": [
        "import os\n",
        "\n",
        "base_path = 'gdrive/MyDrive/TSAI_END2/Session7/Assignment2'\n",
        "data_path = os.path.join(base_path, 'data')\n",
        "qa_data_base_path = os.path.join(data_path, 'QuestionAnswerData')\n",
        "qa_data_path = os.path.join(qa_data_base_path, 'Question_Answer_Dataset_v1.2')\n",
        "qa_data_tar_path = os.path.join(qa_data_base_path, 'Question_Answer_Dataset_v1.2.tar.gz')"
      ],
      "execution_count": null,
      "outputs": []
    },
    {
      "cell_type": "code",
      "metadata": {
        "colab": {
          "base_uri": "https://localhost:8080/"
        },
        "id": "A_KIDWO0fZt3",
        "outputId": "117f0a79-3a34-49ee-a98c-20c0edfbcb84"
      },
      "source": [
        "import tarfile\n",
        "\n",
        "qa_file = tarfile.open(qa_data_tar_path)\n",
        "print(qa_file.getnames())\n",
        "qa_file.extractall(qa_data_base_path)\n",
        "qa_file.close()"
      ],
      "execution_count": null,
      "outputs": [
        {
          "output_type": "stream",
          "text": [
            "['Question_Answer_Dataset_v1.2', 'Question_Answer_Dataset_v1.2/S08', 'Question_Answer_Dataset_v1.2/S08/question_answer_pairs.txt', 'Question_Answer_Dataset_v1.2/S08/data', 'Question_Answer_Dataset_v1.2/S08/data/set4', 'Question_Answer_Dataset_v1.2/S08/data/set4/a6.txt.clean', 'Question_Answer_Dataset_v1.2/S08/data/set4/a3.txt.clean', 'Question_Answer_Dataset_v1.2/S08/data/set4/a3.txt', 'Question_Answer_Dataset_v1.2/S08/data/set4/a5.txt', 'Question_Answer_Dataset_v1.2/S08/data/set4/a4o.htm', 'Question_Answer_Dataset_v1.2/S08/data/set4/a3.htm', 'Question_Answer_Dataset_v1.2/S08/data/set4/a9.htm', 'Question_Answer_Dataset_v1.2/S08/data/set4/a2.txt', 'Question_Answer_Dataset_v1.2/S08/data/set4/a9.txt.clean', 'Question_Answer_Dataset_v1.2/S08/data/set4/a4.htm', 'Question_Answer_Dataset_v1.2/S08/data/set4/a4.txt', 'Question_Answer_Dataset_v1.2/S08/data/set4/a4.txt.clean', 'Question_Answer_Dataset_v1.2/S08/data/set4/a2.htm', 'Question_Answer_Dataset_v1.2/S08/data/set4/a7o.htm', 'Question_Answer_Dataset_v1.2/S08/data/set4/a6.txt', 'Question_Answer_Dataset_v1.2/S08/data/set4/a5o.htm', 'Question_Answer_Dataset_v1.2/S08/data/set4/a1o.htm', 'Question_Answer_Dataset_v1.2/S08/data/set4/a9o.htm', 'Question_Answer_Dataset_v1.2/S08/data/set4/a8.txt', 'Question_Answer_Dataset_v1.2/S08/data/set4/a10.htm', 'Question_Answer_Dataset_v1.2/S08/data/set4/a10.txt', 'Question_Answer_Dataset_v1.2/S08/data/set4/a8.txt.clean', 'Question_Answer_Dataset_v1.2/S08/data/set4/topics.txt', 'Question_Answer_Dataset_v1.2/S08/data/set4/a2o.htm', 'Question_Answer_Dataset_v1.2/S08/data/set4/a8.htm', 'Question_Answer_Dataset_v1.2/S08/data/set4/a7.htm', 'Question_Answer_Dataset_v1.2/S08/data/set4/a1.txt.clean', 'Question_Answer_Dataset_v1.2/S08/data/set4/a2.txt.clean', 'Question_Answer_Dataset_v1.2/S08/data/set4/a10.txt.clean', 'Question_Answer_Dataset_v1.2/S08/data/set4/a10o.htm', 'Question_Answer_Dataset_v1.2/S08/data/set4/a6.htm', 'Question_Answer_Dataset_v1.2/S08/data/set4/a7.txt', 'Question_Answer_Dataset_v1.2/S08/data/set4/a9.txt', 'Question_Answer_Dataset_v1.2/S08/data/set4/a6o.htm', 'Question_Answer_Dataset_v1.2/S08/data/set4/a8o.htm', 'Question_Answer_Dataset_v1.2/S08/data/set4/a1.htm', 'Question_Answer_Dataset_v1.2/S08/data/set4/a1.txt', 'Question_Answer_Dataset_v1.2/S08/data/set4/a7.txt.clean', 'Question_Answer_Dataset_v1.2/S08/data/set4/a5.txt.clean', 'Question_Answer_Dataset_v1.2/S08/data/set4/a5.htm', 'Question_Answer_Dataset_v1.2/S08/data/set4/a3o.htm', 'Question_Answer_Dataset_v1.2/S08/data/set3', 'Question_Answer_Dataset_v1.2/S08/data/set3/a6.txt.clean', 'Question_Answer_Dataset_v1.2/S08/data/set3/a3.txt.clean', 'Question_Answer_Dataset_v1.2/S08/data/set3/a3.txt', 'Question_Answer_Dataset_v1.2/S08/data/set3/a5.txt', 'Question_Answer_Dataset_v1.2/S08/data/set3/a4o.htm', 'Question_Answer_Dataset_v1.2/S08/data/set3/a3.htm', 'Question_Answer_Dataset_v1.2/S08/data/set3/a9.htm', 'Question_Answer_Dataset_v1.2/S08/data/set3/a2.txt', 'Question_Answer_Dataset_v1.2/S08/data/set3/a9.txt.clean', 'Question_Answer_Dataset_v1.2/S08/data/set3/a4.htm', 'Question_Answer_Dataset_v1.2/S08/data/set3/a4.txt', 'Question_Answer_Dataset_v1.2/S08/data/set3/a4.txt.clean', 'Question_Answer_Dataset_v1.2/S08/data/set3/a2.htm', 'Question_Answer_Dataset_v1.2/S08/data/set3/a7o.htm', 'Question_Answer_Dataset_v1.2/S08/data/set3/a6.txt', 'Question_Answer_Dataset_v1.2/S08/data/set3/a5o.htm', 'Question_Answer_Dataset_v1.2/S08/data/set3/a1o.htm', 'Question_Answer_Dataset_v1.2/S08/data/set3/a9o.htm', 'Question_Answer_Dataset_v1.2/S08/data/set3/a8.txt', 'Question_Answer_Dataset_v1.2/S08/data/set3/a10.htm', 'Question_Answer_Dataset_v1.2/S08/data/set3/a10.txt', 'Question_Answer_Dataset_v1.2/S08/data/set3/a8.txt.clean', 'Question_Answer_Dataset_v1.2/S08/data/set3/topics.txt', 'Question_Answer_Dataset_v1.2/S08/data/set3/a2o.htm', 'Question_Answer_Dataset_v1.2/S08/data/set3/a8.htm', 'Question_Answer_Dataset_v1.2/S08/data/set3/a7.htm', 'Question_Answer_Dataset_v1.2/S08/data/set3/a1.txt.clean', 'Question_Answer_Dataset_v1.2/S08/data/set3/a2.txt.clean', 'Question_Answer_Dataset_v1.2/S08/data/set3/a10.txt.clean', 'Question_Answer_Dataset_v1.2/S08/data/set3/a10o.htm', 'Question_Answer_Dataset_v1.2/S08/data/set3/a6.htm', 'Question_Answer_Dataset_v1.2/S08/data/set3/a7.txt', 'Question_Answer_Dataset_v1.2/S08/data/set3/a9.txt', 'Question_Answer_Dataset_v1.2/S08/data/set3/a6o.htm', 'Question_Answer_Dataset_v1.2/S08/data/set3/a8o.htm', 'Question_Answer_Dataset_v1.2/S08/data/set3/a1.htm', 'Question_Answer_Dataset_v1.2/S08/data/set3/a1.txt', 'Question_Answer_Dataset_v1.2/S08/data/set3/a7.txt.clean', 'Question_Answer_Dataset_v1.2/S08/data/set3/a5.txt.clean', 'Question_Answer_Dataset_v1.2/S08/data/set3/a5.htm', 'Question_Answer_Dataset_v1.2/S08/data/set3/a3o.htm', 'Question_Answer_Dataset_v1.2/S08/data/set2', 'Question_Answer_Dataset_v1.2/S08/data/set2/a6.txt.clean', 'Question_Answer_Dataset_v1.2/S08/data/set2/a3.txt.clean', 'Question_Answer_Dataset_v1.2/S08/data/set2/a3.txt', 'Question_Answer_Dataset_v1.2/S08/data/set2/a5.txt', 'Question_Answer_Dataset_v1.2/S08/data/set2/a4o.htm', 'Question_Answer_Dataset_v1.2/S08/data/set2/a3.htm', 'Question_Answer_Dataset_v1.2/S08/data/set2/a9.htm', 'Question_Answer_Dataset_v1.2/S08/data/set2/a2.txt', 'Question_Answer_Dataset_v1.2/S08/data/set2/a9.txt.clean', 'Question_Answer_Dataset_v1.2/S08/data/set2/a4.htm', 'Question_Answer_Dataset_v1.2/S08/data/set2/a4.txt', 'Question_Answer_Dataset_v1.2/S08/data/set2/a4.txt.clean', 'Question_Answer_Dataset_v1.2/S08/data/set2/a2.htm', 'Question_Answer_Dataset_v1.2/S08/data/set2/a7o.htm', 'Question_Answer_Dataset_v1.2/S08/data/set2/a6.txt', 'Question_Answer_Dataset_v1.2/S08/data/set2/a5o.htm', 'Question_Answer_Dataset_v1.2/S08/data/set2/a1o.htm', 'Question_Answer_Dataset_v1.2/S08/data/set2/a9o.htm', 'Question_Answer_Dataset_v1.2/S08/data/set2/a8.txt', 'Question_Answer_Dataset_v1.2/S08/data/set2/a10.htm', 'Question_Answer_Dataset_v1.2/S08/data/set2/a10.txt', 'Question_Answer_Dataset_v1.2/S08/data/set2/a8.txt.clean', 'Question_Answer_Dataset_v1.2/S08/data/set2/topics.txt', 'Question_Answer_Dataset_v1.2/S08/data/set2/a2o.htm', 'Question_Answer_Dataset_v1.2/S08/data/set2/a8.htm', 'Question_Answer_Dataset_v1.2/S08/data/set2/a7.htm', 'Question_Answer_Dataset_v1.2/S08/data/set2/a1.txt.clean', 'Question_Answer_Dataset_v1.2/S08/data/set2/a2.txt.clean', 'Question_Answer_Dataset_v1.2/S08/data/set2/a10.txt.clean', 'Question_Answer_Dataset_v1.2/S08/data/set2/a10o.htm', 'Question_Answer_Dataset_v1.2/S08/data/set2/a6.htm', 'Question_Answer_Dataset_v1.2/S08/data/set2/a7.txt', 'Question_Answer_Dataset_v1.2/S08/data/set2/a9.txt', 'Question_Answer_Dataset_v1.2/S08/data/set2/a6o.htm', 'Question_Answer_Dataset_v1.2/S08/data/set2/a8o.htm', 'Question_Answer_Dataset_v1.2/S08/data/set2/a1.htm', 'Question_Answer_Dataset_v1.2/S08/data/set2/a1.txt', 'Question_Answer_Dataset_v1.2/S08/data/set2/a7.txt.clean', 'Question_Answer_Dataset_v1.2/S08/data/set2/a5.txt.clean', 'Question_Answer_Dataset_v1.2/S08/data/set2/a5.htm', 'Question_Answer_Dataset_v1.2/S08/data/set2/a3o.htm', 'Question_Answer_Dataset_v1.2/S08/data/set1', 'Question_Answer_Dataset_v1.2/S08/data/set1/a6.txt.clean', 'Question_Answer_Dataset_v1.2/S08/data/set1/a3.txt.clean', 'Question_Answer_Dataset_v1.2/S08/data/set1/a3.txt', 'Question_Answer_Dataset_v1.2/S08/data/set1/a5.txt', 'Question_Answer_Dataset_v1.2/S08/data/set1/a4o.htm', 'Question_Answer_Dataset_v1.2/S08/data/set1/a3.htm', 'Question_Answer_Dataset_v1.2/S08/data/set1/a9.htm', 'Question_Answer_Dataset_v1.2/S08/data/set1/a2.txt', 'Question_Answer_Dataset_v1.2/S08/data/set1/a9.txt.clean', 'Question_Answer_Dataset_v1.2/S08/data/set1/a4.htm', 'Question_Answer_Dataset_v1.2/S08/data/set1/a4.txt', 'Question_Answer_Dataset_v1.2/S08/data/set1/a4.txt.clean', 'Question_Answer_Dataset_v1.2/S08/data/set1/a2.htm', 'Question_Answer_Dataset_v1.2/S08/data/set1/a7o.htm', 'Question_Answer_Dataset_v1.2/S08/data/set1/a6.txt', 'Question_Answer_Dataset_v1.2/S08/data/set1/a5o.htm', 'Question_Answer_Dataset_v1.2/S08/data/set1/a1o.htm', 'Question_Answer_Dataset_v1.2/S08/data/set1/a9o.htm', 'Question_Answer_Dataset_v1.2/S08/data/set1/a8.txt', 'Question_Answer_Dataset_v1.2/S08/data/set1/a10.htm', 'Question_Answer_Dataset_v1.2/S08/data/set1/a10.txt', 'Question_Answer_Dataset_v1.2/S08/data/set1/a8.txt.clean', 'Question_Answer_Dataset_v1.2/S08/data/set1/topics.txt', 'Question_Answer_Dataset_v1.2/S08/data/set1/a2o.htm', 'Question_Answer_Dataset_v1.2/S08/data/set1/a8.htm', 'Question_Answer_Dataset_v1.2/S08/data/set1/a7.htm', 'Question_Answer_Dataset_v1.2/S08/data/set1/a1.txt.clean', 'Question_Answer_Dataset_v1.2/S08/data/set1/a2.txt.clean', 'Question_Answer_Dataset_v1.2/S08/data/set1/a10.txt.clean', 'Question_Answer_Dataset_v1.2/S08/data/set1/a10o.htm', 'Question_Answer_Dataset_v1.2/S08/data/set1/a6.htm', 'Question_Answer_Dataset_v1.2/S08/data/set1/a7.txt', 'Question_Answer_Dataset_v1.2/S08/data/set1/a9.txt', 'Question_Answer_Dataset_v1.2/S08/data/set1/a6o.htm', 'Question_Answer_Dataset_v1.2/S08/data/set1/a8o.htm', 'Question_Answer_Dataset_v1.2/S08/data/set1/a1.htm', 'Question_Answer_Dataset_v1.2/S08/data/set1/a1.txt', 'Question_Answer_Dataset_v1.2/S08/data/set1/a7.txt.clean', 'Question_Answer_Dataset_v1.2/S08/data/set1/a5.txt.clean', 'Question_Answer_Dataset_v1.2/S08/data/set1/a5.htm', 'Question_Answer_Dataset_v1.2/S08/data/set1/a3o.htm', 'Question_Answer_Dataset_v1.2/S10', 'Question_Answer_Dataset_v1.2/S10/question_answer_pairs.txt', 'Question_Answer_Dataset_v1.2/S10/data', 'Question_Answer_Dataset_v1.2/S10/data/set6', 'Question_Answer_Dataset_v1.2/S10/data/set6/a6.txt.clean', 'Question_Answer_Dataset_v1.2/S10/data/set6/a3.txt.clean', 'Question_Answer_Dataset_v1.2/S10/data/set6/a3.txt', 'Question_Answer_Dataset_v1.2/S10/data/set6/a5.txt', 'Question_Answer_Dataset_v1.2/S10/data/set6/a4o.htm', 'Question_Answer_Dataset_v1.2/S10/data/set6/a3.htm', 'Question_Answer_Dataset_v1.2/S10/data/set6/a9.htm', 'Question_Answer_Dataset_v1.2/S10/data/set6/a2.txt', 'Question_Answer_Dataset_v1.2/S10/data/set6/a9.txt.clean', 'Question_Answer_Dataset_v1.2/S10/data/set6/a4.htm', 'Question_Answer_Dataset_v1.2/S10/data/set6/a4.txt', 'Question_Answer_Dataset_v1.2/S10/data/set6/a4.txt.clean', 'Question_Answer_Dataset_v1.2/S10/data/set6/a2.htm', 'Question_Answer_Dataset_v1.2/S10/data/set6/a7o.htm', 'Question_Answer_Dataset_v1.2/S10/data/set6/a6.txt', 'Question_Answer_Dataset_v1.2/S10/data/set6/a5o.htm', 'Question_Answer_Dataset_v1.2/S10/data/set6/a1o.htm', 'Question_Answer_Dataset_v1.2/S10/data/set6/a9o.htm', 'Question_Answer_Dataset_v1.2/S10/data/set6/a8.txt', 'Question_Answer_Dataset_v1.2/S10/data/set6/a10.htm', 'Question_Answer_Dataset_v1.2/S10/data/set6/a10.txt', 'Question_Answer_Dataset_v1.2/S10/data/set6/a8.txt.clean', 'Question_Answer_Dataset_v1.2/S10/data/set6/topics.txt', 'Question_Answer_Dataset_v1.2/S10/data/set6/a2o.htm', 'Question_Answer_Dataset_v1.2/S10/data/set6/a8.htm', 'Question_Answer_Dataset_v1.2/S10/data/set6/a7.htm', 'Question_Answer_Dataset_v1.2/S10/data/set6/a1.txt.clean', 'Question_Answer_Dataset_v1.2/S10/data/set6/a2.txt.clean', 'Question_Answer_Dataset_v1.2/S10/data/set6/a10.txt.clean', 'Question_Answer_Dataset_v1.2/S10/data/set6/a10o.htm', 'Question_Answer_Dataset_v1.2/S10/data/set6/a6.htm', 'Question_Answer_Dataset_v1.2/S10/data/set6/a7.txt', 'Question_Answer_Dataset_v1.2/S10/data/set6/a9.txt', 'Question_Answer_Dataset_v1.2/S10/data/set6/a6o.htm', 'Question_Answer_Dataset_v1.2/S10/data/set6/a8o.htm', 'Question_Answer_Dataset_v1.2/S10/data/set6/a1.htm', 'Question_Answer_Dataset_v1.2/S10/data/set6/a1.txt', 'Question_Answer_Dataset_v1.2/S10/data/set6/a7.txt.clean', 'Question_Answer_Dataset_v1.2/S10/data/set6/a5.txt.clean', 'Question_Answer_Dataset_v1.2/S10/data/set6/a5.htm', 'Question_Answer_Dataset_v1.2/S10/data/set6/a3o.htm', 'Question_Answer_Dataset_v1.2/S10/data/set4', 'Question_Answer_Dataset_v1.2/S10/data/set4/a6.txt.clean', 'Question_Answer_Dataset_v1.2/S10/data/set4/a3.txt.clean', 'Question_Answer_Dataset_v1.2/S10/data/set4/a3.txt', 'Question_Answer_Dataset_v1.2/S10/data/set4/a5.txt', 'Question_Answer_Dataset_v1.2/S10/data/set4/a4o.htm', 'Question_Answer_Dataset_v1.2/S10/data/set4/a3.htm', 'Question_Answer_Dataset_v1.2/S10/data/set4/a9.htm', 'Question_Answer_Dataset_v1.2/S10/data/set4/a2.txt', 'Question_Answer_Dataset_v1.2/S10/data/set4/a9.txt.clean', 'Question_Answer_Dataset_v1.2/S10/data/set4/a4.htm', 'Question_Answer_Dataset_v1.2/S10/data/set4/a4.txt', 'Question_Answer_Dataset_v1.2/S10/data/set4/a4.txt.clean', 'Question_Answer_Dataset_v1.2/S10/data/set4/a2.htm', 'Question_Answer_Dataset_v1.2/S10/data/set4/a7o.htm', 'Question_Answer_Dataset_v1.2/S10/data/set4/a6.txt', 'Question_Answer_Dataset_v1.2/S10/data/set4/a5o.htm', 'Question_Answer_Dataset_v1.2/S10/data/set4/a1o.htm', 'Question_Answer_Dataset_v1.2/S10/data/set4/a9o.htm', 'Question_Answer_Dataset_v1.2/S10/data/set4/a8.txt', 'Question_Answer_Dataset_v1.2/S10/data/set4/a10.htm', 'Question_Answer_Dataset_v1.2/S10/data/set4/a10.txt', 'Question_Answer_Dataset_v1.2/S10/data/set4/a8.txt.clean', 'Question_Answer_Dataset_v1.2/S10/data/set4/topics.txt', 'Question_Answer_Dataset_v1.2/S10/data/set4/a2o.htm', 'Question_Answer_Dataset_v1.2/S10/data/set4/a8.htm', 'Question_Answer_Dataset_v1.2/S10/data/set4/a7.htm', 'Question_Answer_Dataset_v1.2/S10/data/set4/a1.txt.clean', 'Question_Answer_Dataset_v1.2/S10/data/set4/a2.txt.clean', 'Question_Answer_Dataset_v1.2/S10/data/set4/a10.txt.clean', 'Question_Answer_Dataset_v1.2/S10/data/set4/a10o.htm', 'Question_Answer_Dataset_v1.2/S10/data/set4/a6.htm', 'Question_Answer_Dataset_v1.2/S10/data/set4/a7.txt', 'Question_Answer_Dataset_v1.2/S10/data/set4/a9.txt', 'Question_Answer_Dataset_v1.2/S10/data/set4/a6o.htm', 'Question_Answer_Dataset_v1.2/S10/data/set4/a8o.htm', 'Question_Answer_Dataset_v1.2/S10/data/set4/a1.htm', 'Question_Answer_Dataset_v1.2/S10/data/set4/a1.txt', 'Question_Answer_Dataset_v1.2/S10/data/set4/a7.txt.clean', 'Question_Answer_Dataset_v1.2/S10/data/set4/a5.txt.clean', 'Question_Answer_Dataset_v1.2/S10/data/set4/a5.htm', 'Question_Answer_Dataset_v1.2/S10/data/set4/a3o.htm', 'Question_Answer_Dataset_v1.2/S10/data/set3', 'Question_Answer_Dataset_v1.2/S10/data/set3/a6.txt.clean', 'Question_Answer_Dataset_v1.2/S10/data/set3/a3.txt.clean', 'Question_Answer_Dataset_v1.2/S10/data/set3/a3.txt', 'Question_Answer_Dataset_v1.2/S10/data/set3/a5.txt', 'Question_Answer_Dataset_v1.2/S10/data/set3/a4o.htm', 'Question_Answer_Dataset_v1.2/S10/data/set3/a3.htm', 'Question_Answer_Dataset_v1.2/S10/data/set3/a9.htm', 'Question_Answer_Dataset_v1.2/S10/data/set3/a2.txt', 'Question_Answer_Dataset_v1.2/S10/data/set3/a9.txt.clean', 'Question_Answer_Dataset_v1.2/S10/data/set3/a4.htm', 'Question_Answer_Dataset_v1.2/S10/data/set3/a4.txt', 'Question_Answer_Dataset_v1.2/S10/data/set3/a4.txt.clean', 'Question_Answer_Dataset_v1.2/S10/data/set3/a2.htm', 'Question_Answer_Dataset_v1.2/S10/data/set3/a7o.htm', 'Question_Answer_Dataset_v1.2/S10/data/set3/a6.txt', 'Question_Answer_Dataset_v1.2/S10/data/set3/a5o.htm', 'Question_Answer_Dataset_v1.2/S10/data/set3/a1o.htm', 'Question_Answer_Dataset_v1.2/S10/data/set3/a9o.htm', 'Question_Answer_Dataset_v1.2/S10/data/set3/a8.txt', 'Question_Answer_Dataset_v1.2/S10/data/set3/a10.htm', 'Question_Answer_Dataset_v1.2/S10/data/set3/a10.txt', 'Question_Answer_Dataset_v1.2/S10/data/set3/a8.txt.clean', 'Question_Answer_Dataset_v1.2/S10/data/set3/topics.txt', 'Question_Answer_Dataset_v1.2/S10/data/set3/a2o.htm', 'Question_Answer_Dataset_v1.2/S10/data/set3/a8.htm', 'Question_Answer_Dataset_v1.2/S10/data/set3/a7.htm', 'Question_Answer_Dataset_v1.2/S10/data/set3/a1.txt.clean', 'Question_Answer_Dataset_v1.2/S10/data/set3/a2.txt.clean', 'Question_Answer_Dataset_v1.2/S10/data/set3/a10.txt.clean', 'Question_Answer_Dataset_v1.2/S10/data/set3/a10o.htm', 'Question_Answer_Dataset_v1.2/S10/data/set3/a6.htm', 'Question_Answer_Dataset_v1.2/S10/data/set3/a7.txt', 'Question_Answer_Dataset_v1.2/S10/data/set3/a9.txt', 'Question_Answer_Dataset_v1.2/S10/data/set3/a6o.htm', 'Question_Answer_Dataset_v1.2/S10/data/set3/a8o.htm', 'Question_Answer_Dataset_v1.2/S10/data/set3/a1.htm', 'Question_Answer_Dataset_v1.2/S10/data/set3/a1.txt', 'Question_Answer_Dataset_v1.2/S10/data/set3/a7.txt.clean', 'Question_Answer_Dataset_v1.2/S10/data/set3/a5.txt.clean', 'Question_Answer_Dataset_v1.2/S10/data/set3/a5.htm', 'Question_Answer_Dataset_v1.2/S10/data/set3/a3o.htm', 'Question_Answer_Dataset_v1.2/S10/data/set2', 'Question_Answer_Dataset_v1.2/S10/data/set2/a6.txt.clean', 'Question_Answer_Dataset_v1.2/S10/data/set2/a3.txt.clean', 'Question_Answer_Dataset_v1.2/S10/data/set2/a3.txt', 'Question_Answer_Dataset_v1.2/S10/data/set2/a5.txt', 'Question_Answer_Dataset_v1.2/S10/data/set2/a4o.htm', 'Question_Answer_Dataset_v1.2/S10/data/set2/a3.htm', 'Question_Answer_Dataset_v1.2/S10/data/set2/a9.htm', 'Question_Answer_Dataset_v1.2/S10/data/set2/a2.txt', 'Question_Answer_Dataset_v1.2/S10/data/set2/a9.txt.clean', 'Question_Answer_Dataset_v1.2/S10/data/set2/a4.htm', 'Question_Answer_Dataset_v1.2/S10/data/set2/a4.txt', 'Question_Answer_Dataset_v1.2/S10/data/set2/a4.txt.clean', 'Question_Answer_Dataset_v1.2/S10/data/set2/a2.htm', 'Question_Answer_Dataset_v1.2/S10/data/set2/a7o.htm', 'Question_Answer_Dataset_v1.2/S10/data/set2/a6.txt', 'Question_Answer_Dataset_v1.2/S10/data/set2/a5o.htm', 'Question_Answer_Dataset_v1.2/S10/data/set2/a1o.htm', 'Question_Answer_Dataset_v1.2/S10/data/set2/a9o.htm', 'Question_Answer_Dataset_v1.2/S10/data/set2/a8.txt', 'Question_Answer_Dataset_v1.2/S10/data/set2/a10.htm', 'Question_Answer_Dataset_v1.2/S10/data/set2/a10.txt', 'Question_Answer_Dataset_v1.2/S10/data/set2/a8.txt.clean', 'Question_Answer_Dataset_v1.2/S10/data/set2/topics.txt', 'Question_Answer_Dataset_v1.2/S10/data/set2/a2o.htm', 'Question_Answer_Dataset_v1.2/S10/data/set2/a8.htm', 'Question_Answer_Dataset_v1.2/S10/data/set2/a7.htm', 'Question_Answer_Dataset_v1.2/S10/data/set2/a1.txt.clean', 'Question_Answer_Dataset_v1.2/S10/data/set2/a2.txt.clean', 'Question_Answer_Dataset_v1.2/S10/data/set2/a10.txt.clean', 'Question_Answer_Dataset_v1.2/S10/data/set2/a10o.htm', 'Question_Answer_Dataset_v1.2/S10/data/set2/a6.htm', 'Question_Answer_Dataset_v1.2/S10/data/set2/a7.txt', 'Question_Answer_Dataset_v1.2/S10/data/set2/a9.txt', 'Question_Answer_Dataset_v1.2/S10/data/set2/a6o.htm', 'Question_Answer_Dataset_v1.2/S10/data/set2/a8o.htm', 'Question_Answer_Dataset_v1.2/S10/data/set2/a1.htm', 'Question_Answer_Dataset_v1.2/S10/data/set2/a1.txt', 'Question_Answer_Dataset_v1.2/S10/data/set2/a7.txt.clean', 'Question_Answer_Dataset_v1.2/S10/data/set2/a5.txt.clean', 'Question_Answer_Dataset_v1.2/S10/data/set2/a5.htm', 'Question_Answer_Dataset_v1.2/S10/data/set2/a3o.htm', 'Question_Answer_Dataset_v1.2/S10/data/set5', 'Question_Answer_Dataset_v1.2/S10/data/set5/a6.txt.clean', 'Question_Answer_Dataset_v1.2/S10/data/set5/a3.txt.clean', 'Question_Answer_Dataset_v1.2/S10/data/set5/a3.txt', 'Question_Answer_Dataset_v1.2/S10/data/set5/a5.txt', 'Question_Answer_Dataset_v1.2/S10/data/set5/a4o.htm', 'Question_Answer_Dataset_v1.2/S10/data/set5/a3.htm', 'Question_Answer_Dataset_v1.2/S10/data/set5/a9.htm', 'Question_Answer_Dataset_v1.2/S10/data/set5/a2.txt', 'Question_Answer_Dataset_v1.2/S10/data/set5/a9.txt.clean', 'Question_Answer_Dataset_v1.2/S10/data/set5/a4.htm', 'Question_Answer_Dataset_v1.2/S10/data/set5/a4.txt', 'Question_Answer_Dataset_v1.2/S10/data/set5/a4.txt.clean', 'Question_Answer_Dataset_v1.2/S10/data/set5/a2.htm', 'Question_Answer_Dataset_v1.2/S10/data/set5/a7o.htm', 'Question_Answer_Dataset_v1.2/S10/data/set5/a6.txt', 'Question_Answer_Dataset_v1.2/S10/data/set5/a5o.htm', 'Question_Answer_Dataset_v1.2/S10/data/set5/a1o.htm', 'Question_Answer_Dataset_v1.2/S10/data/set5/a9o.htm', 'Question_Answer_Dataset_v1.2/S10/data/set5/a8.txt', 'Question_Answer_Dataset_v1.2/S10/data/set5/a10.htm', 'Question_Answer_Dataset_v1.2/S10/data/set5/a10.txt', 'Question_Answer_Dataset_v1.2/S10/data/set5/a8.txt.clean', 'Question_Answer_Dataset_v1.2/S10/data/set5/topics.txt', 'Question_Answer_Dataset_v1.2/S10/data/set5/a2o.htm', 'Question_Answer_Dataset_v1.2/S10/data/set5/a8.htm', 'Question_Answer_Dataset_v1.2/S10/data/set5/a7.htm', 'Question_Answer_Dataset_v1.2/S10/data/set5/a1.txt.clean', 'Question_Answer_Dataset_v1.2/S10/data/set5/a2.txt.clean', 'Question_Answer_Dataset_v1.2/S10/data/set5/a10.txt.clean', 'Question_Answer_Dataset_v1.2/S10/data/set5/a10o.htm', 'Question_Answer_Dataset_v1.2/S10/data/set5/a6.htm', 'Question_Answer_Dataset_v1.2/S10/data/set5/a7.txt', 'Question_Answer_Dataset_v1.2/S10/data/set5/a9.txt', 'Question_Answer_Dataset_v1.2/S10/data/set5/a6o.htm', 'Question_Answer_Dataset_v1.2/S10/data/set5/a8o.htm', 'Question_Answer_Dataset_v1.2/S10/data/set5/a1.htm', 'Question_Answer_Dataset_v1.2/S10/data/set5/a1.txt', 'Question_Answer_Dataset_v1.2/S10/data/set5/a7.txt.clean', 'Question_Answer_Dataset_v1.2/S10/data/set5/a5.txt.clean', 'Question_Answer_Dataset_v1.2/S10/data/set5/a5.htm', 'Question_Answer_Dataset_v1.2/S10/data/set5/a3o.htm', 'Question_Answer_Dataset_v1.2/S10/data/set1', 'Question_Answer_Dataset_v1.2/S10/data/set1/a6.txt.clean', 'Question_Answer_Dataset_v1.2/S10/data/set1/a3.txt.clean', 'Question_Answer_Dataset_v1.2/S10/data/set1/a3.txt', 'Question_Answer_Dataset_v1.2/S10/data/set1/a5.txt', 'Question_Answer_Dataset_v1.2/S10/data/set1/a4o.htm', 'Question_Answer_Dataset_v1.2/S10/data/set1/a3.htm', 'Question_Answer_Dataset_v1.2/S10/data/set1/a9.htm', 'Question_Answer_Dataset_v1.2/S10/data/set1/a2.txt', 'Question_Answer_Dataset_v1.2/S10/data/set1/a9.txt.clean', 'Question_Answer_Dataset_v1.2/S10/data/set1/a4.htm', 'Question_Answer_Dataset_v1.2/S10/data/set1/a4.txt', 'Question_Answer_Dataset_v1.2/S10/data/set1/a4.txt.clean', 'Question_Answer_Dataset_v1.2/S10/data/set1/a2.htm', 'Question_Answer_Dataset_v1.2/S10/data/set1/a7o.htm', 'Question_Answer_Dataset_v1.2/S10/data/set1/a6.txt', 'Question_Answer_Dataset_v1.2/S10/data/set1/a5o.htm', 'Question_Answer_Dataset_v1.2/S10/data/set1/a1o.htm', 'Question_Answer_Dataset_v1.2/S10/data/set1/a9o.htm', 'Question_Answer_Dataset_v1.2/S10/data/set1/a8.txt', 'Question_Answer_Dataset_v1.2/S10/data/set1/a10.htm', 'Question_Answer_Dataset_v1.2/S10/data/set1/a10.txt', 'Question_Answer_Dataset_v1.2/S10/data/set1/a8.txt.clean', 'Question_Answer_Dataset_v1.2/S10/data/set1/topics.txt', 'Question_Answer_Dataset_v1.2/S10/data/set1/a2o.htm', 'Question_Answer_Dataset_v1.2/S10/data/set1/a8.htm', 'Question_Answer_Dataset_v1.2/S10/data/set1/a7.htm', 'Question_Answer_Dataset_v1.2/S10/data/set1/a1.txt.clean', 'Question_Answer_Dataset_v1.2/S10/data/set1/a2.txt.clean', 'Question_Answer_Dataset_v1.2/S10/data/set1/a10.txt.clean', 'Question_Answer_Dataset_v1.2/S10/data/set1/a10o.htm', 'Question_Answer_Dataset_v1.2/S10/data/set1/a6.htm', 'Question_Answer_Dataset_v1.2/S10/data/set1/a7.txt', 'Question_Answer_Dataset_v1.2/S10/data/set1/a9.txt', 'Question_Answer_Dataset_v1.2/S10/data/set1/a6o.htm', 'Question_Answer_Dataset_v1.2/S10/data/set1/a8o.htm', 'Question_Answer_Dataset_v1.2/S10/data/set1/a1.htm', 'Question_Answer_Dataset_v1.2/S10/data/set1/a1.txt', 'Question_Answer_Dataset_v1.2/S10/data/set1/a7.txt.clean', 'Question_Answer_Dataset_v1.2/S10/data/set1/a5.txt.clean', 'Question_Answer_Dataset_v1.2/S10/data/set1/a5.htm', 'Question_Answer_Dataset_v1.2/S10/data/set1/a3o.htm', 'Question_Answer_Dataset_v1.2/LICENSE-S08,S09', 'Question_Answer_Dataset_v1.2/README.v1.2', 'Question_Answer_Dataset_v1.2/S09', 'Question_Answer_Dataset_v1.2/S09/question_answer_pairs.txt', 'Question_Answer_Dataset_v1.2/S09/data', 'Question_Answer_Dataset_v1.2/S09/data/set4', 'Question_Answer_Dataset_v1.2/S09/data/set4/a6.txt.clean', 'Question_Answer_Dataset_v1.2/S09/data/set4/a3.txt.clean', 'Question_Answer_Dataset_v1.2/S09/data/set4/a3.txt', 'Question_Answer_Dataset_v1.2/S09/data/set4/a5.txt', 'Question_Answer_Dataset_v1.2/S09/data/set4/a4o.htm', 'Question_Answer_Dataset_v1.2/S09/data/set4/a3.htm', 'Question_Answer_Dataset_v1.2/S09/data/set4/a9.htm', 'Question_Answer_Dataset_v1.2/S09/data/set4/a2.txt', 'Question_Answer_Dataset_v1.2/S09/data/set4/a9.txt.clean', 'Question_Answer_Dataset_v1.2/S09/data/set4/a4.htm', 'Question_Answer_Dataset_v1.2/S09/data/set4/a4.txt', 'Question_Answer_Dataset_v1.2/S09/data/set4/a4.txt.clean', 'Question_Answer_Dataset_v1.2/S09/data/set4/a2.htm', 'Question_Answer_Dataset_v1.2/S09/data/set4/a7o.htm', 'Question_Answer_Dataset_v1.2/S09/data/set4/a6.txt', 'Question_Answer_Dataset_v1.2/S09/data/set4/a5o.htm', 'Question_Answer_Dataset_v1.2/S09/data/set4/a1o.htm', 'Question_Answer_Dataset_v1.2/S09/data/set4/a9o.htm', 'Question_Answer_Dataset_v1.2/S09/data/set4/a8.txt', 'Question_Answer_Dataset_v1.2/S09/data/set4/a10.htm', 'Question_Answer_Dataset_v1.2/S09/data/set4/a10.txt', 'Question_Answer_Dataset_v1.2/S09/data/set4/a8.txt.clean', 'Question_Answer_Dataset_v1.2/S09/data/set4/topics.txt', 'Question_Answer_Dataset_v1.2/S09/data/set4/a2o.htm', 'Question_Answer_Dataset_v1.2/S09/data/set4/a8.htm', 'Question_Answer_Dataset_v1.2/S09/data/set4/a7.htm', 'Question_Answer_Dataset_v1.2/S09/data/set4/a1.txt.clean', 'Question_Answer_Dataset_v1.2/S09/data/set4/a2.txt.clean', 'Question_Answer_Dataset_v1.2/S09/data/set4/a10.txt.clean', 'Question_Answer_Dataset_v1.2/S09/data/set4/a10o.htm', 'Question_Answer_Dataset_v1.2/S09/data/set4/a6.htm', 'Question_Answer_Dataset_v1.2/S09/data/set4/a7.txt', 'Question_Answer_Dataset_v1.2/S09/data/set4/a9.txt', 'Question_Answer_Dataset_v1.2/S09/data/set4/a6o.htm', 'Question_Answer_Dataset_v1.2/S09/data/set4/a8o.htm', 'Question_Answer_Dataset_v1.2/S09/data/set4/a1.htm', 'Question_Answer_Dataset_v1.2/S09/data/set4/a1.txt', 'Question_Answer_Dataset_v1.2/S09/data/set4/a7.txt.clean', 'Question_Answer_Dataset_v1.2/S09/data/set4/a5.txt.clean', 'Question_Answer_Dataset_v1.2/S09/data/set4/a5.htm', 'Question_Answer_Dataset_v1.2/S09/data/set4/a3o.htm', 'Question_Answer_Dataset_v1.2/S09/data/set3', 'Question_Answer_Dataset_v1.2/S09/data/set3/a6.txt.clean', 'Question_Answer_Dataset_v1.2/S09/data/set3/a3.txt.clean', 'Question_Answer_Dataset_v1.2/S09/data/set3/a3.txt', 'Question_Answer_Dataset_v1.2/S09/data/set3/a5.txt', 'Question_Answer_Dataset_v1.2/S09/data/set3/a4o.htm', 'Question_Answer_Dataset_v1.2/S09/data/set3/a3.htm', 'Question_Answer_Dataset_v1.2/S09/data/set3/a9.htm', 'Question_Answer_Dataset_v1.2/S09/data/set3/a2.txt', 'Question_Answer_Dataset_v1.2/S09/data/set3/a9.txt.clean', 'Question_Answer_Dataset_v1.2/S09/data/set3/a4.htm', 'Question_Answer_Dataset_v1.2/S09/data/set3/a4.txt', 'Question_Answer_Dataset_v1.2/S09/data/set3/a4.txt.clean', 'Question_Answer_Dataset_v1.2/S09/data/set3/a2.htm', 'Question_Answer_Dataset_v1.2/S09/data/set3/a7o.htm', 'Question_Answer_Dataset_v1.2/S09/data/set3/a6.txt', 'Question_Answer_Dataset_v1.2/S09/data/set3/a5o.htm', 'Question_Answer_Dataset_v1.2/S09/data/set3/a1o.htm', 'Question_Answer_Dataset_v1.2/S09/data/set3/a9o.htm', 'Question_Answer_Dataset_v1.2/S09/data/set3/a8.txt', 'Question_Answer_Dataset_v1.2/S09/data/set3/a10.htm', 'Question_Answer_Dataset_v1.2/S09/data/set3/a10.txt', 'Question_Answer_Dataset_v1.2/S09/data/set3/a8.txt.clean', 'Question_Answer_Dataset_v1.2/S09/data/set3/topics.txt', 'Question_Answer_Dataset_v1.2/S09/data/set3/a2o.htm', 'Question_Answer_Dataset_v1.2/S09/data/set3/a8.htm', 'Question_Answer_Dataset_v1.2/S09/data/set3/a7.htm', 'Question_Answer_Dataset_v1.2/S09/data/set3/a1.txt.clean', 'Question_Answer_Dataset_v1.2/S09/data/set3/a2.txt.clean', 'Question_Answer_Dataset_v1.2/S09/data/set3/a10.txt.clean', 'Question_Answer_Dataset_v1.2/S09/data/set3/a10o.htm', 'Question_Answer_Dataset_v1.2/S09/data/set3/a6.htm', 'Question_Answer_Dataset_v1.2/S09/data/set3/a7.txt', 'Question_Answer_Dataset_v1.2/S09/data/set3/a9.txt', 'Question_Answer_Dataset_v1.2/S09/data/set3/a6o.htm', 'Question_Answer_Dataset_v1.2/S09/data/set3/a8o.htm', 'Question_Answer_Dataset_v1.2/S09/data/set3/a1.htm', 'Question_Answer_Dataset_v1.2/S09/data/set3/a1.txt', 'Question_Answer_Dataset_v1.2/S09/data/set3/a7.txt.clean', 'Question_Answer_Dataset_v1.2/S09/data/set3/a5.txt.clean', 'Question_Answer_Dataset_v1.2/S09/data/set3/a5.htm', 'Question_Answer_Dataset_v1.2/S09/data/set3/a3o.htm', 'Question_Answer_Dataset_v1.2/S09/data/set2', 'Question_Answer_Dataset_v1.2/S09/data/set2/a6.txt.clean', 'Question_Answer_Dataset_v1.2/S09/data/set2/a3.txt.clean', 'Question_Answer_Dataset_v1.2/S09/data/set2/a3.txt', 'Question_Answer_Dataset_v1.2/S09/data/set2/a5.txt', 'Question_Answer_Dataset_v1.2/S09/data/set2/a4o.htm', 'Question_Answer_Dataset_v1.2/S09/data/set2/a3.htm', 'Question_Answer_Dataset_v1.2/S09/data/set2/a9.htm', 'Question_Answer_Dataset_v1.2/S09/data/set2/a2.txt', 'Question_Answer_Dataset_v1.2/S09/data/set2/a9.txt.clean', 'Question_Answer_Dataset_v1.2/S09/data/set2/a4.htm', 'Question_Answer_Dataset_v1.2/S09/data/set2/a4.txt', 'Question_Answer_Dataset_v1.2/S09/data/set2/a4.txt.clean', 'Question_Answer_Dataset_v1.2/S09/data/set2/a2.htm', 'Question_Answer_Dataset_v1.2/S09/data/set2/a7o.htm', 'Question_Answer_Dataset_v1.2/S09/data/set2/a6.txt', 'Question_Answer_Dataset_v1.2/S09/data/set2/a5o.htm', 'Question_Answer_Dataset_v1.2/S09/data/set2/a1o.htm', 'Question_Answer_Dataset_v1.2/S09/data/set2/a9o.htm', 'Question_Answer_Dataset_v1.2/S09/data/set2/a8.txt', 'Question_Answer_Dataset_v1.2/S09/data/set2/a10.htm', 'Question_Answer_Dataset_v1.2/S09/data/set2/a10.txt', 'Question_Answer_Dataset_v1.2/S09/data/set2/a8.txt.clean', 'Question_Answer_Dataset_v1.2/S09/data/set2/topics.txt', 'Question_Answer_Dataset_v1.2/S09/data/set2/a2o.htm', 'Question_Answer_Dataset_v1.2/S09/data/set2/a8.htm', 'Question_Answer_Dataset_v1.2/S09/data/set2/a7.htm', 'Question_Answer_Dataset_v1.2/S09/data/set2/a1.txt.clean', 'Question_Answer_Dataset_v1.2/S09/data/set2/a2.txt.clean', 'Question_Answer_Dataset_v1.2/S09/data/set2/a10.txt.clean', 'Question_Answer_Dataset_v1.2/S09/data/set2/a10o.htm', 'Question_Answer_Dataset_v1.2/S09/data/set2/a6.htm', 'Question_Answer_Dataset_v1.2/S09/data/set2/a7.txt', 'Question_Answer_Dataset_v1.2/S09/data/set2/a9.txt', 'Question_Answer_Dataset_v1.2/S09/data/set2/a6o.htm', 'Question_Answer_Dataset_v1.2/S09/data/set2/a8o.htm', 'Question_Answer_Dataset_v1.2/S09/data/set2/a1.htm', 'Question_Answer_Dataset_v1.2/S09/data/set2/a1.txt', 'Question_Answer_Dataset_v1.2/S09/data/set2/a7.txt.clean', 'Question_Answer_Dataset_v1.2/S09/data/set2/a5.txt.clean', 'Question_Answer_Dataset_v1.2/S09/data/set2/a5.htm', 'Question_Answer_Dataset_v1.2/S09/data/set2/a3o.htm', 'Question_Answer_Dataset_v1.2/S09/data/set5', 'Question_Answer_Dataset_v1.2/S09/data/set5/a6.txt.clean', 'Question_Answer_Dataset_v1.2/S09/data/set5/a3.txt.clean', 'Question_Answer_Dataset_v1.2/S09/data/set5/a3.txt', 'Question_Answer_Dataset_v1.2/S09/data/set5/a5.txt', 'Question_Answer_Dataset_v1.2/S09/data/set5/a4o.htm', 'Question_Answer_Dataset_v1.2/S09/data/set5/a3.htm', 'Question_Answer_Dataset_v1.2/S09/data/set5/a9.htm', 'Question_Answer_Dataset_v1.2/S09/data/set5/a2.txt', 'Question_Answer_Dataset_v1.2/S09/data/set5/a9.txt.clean', 'Question_Answer_Dataset_v1.2/S09/data/set5/a4.htm', 'Question_Answer_Dataset_v1.2/S09/data/set5/a4.txt', 'Question_Answer_Dataset_v1.2/S09/data/set5/a4.txt.clean', 'Question_Answer_Dataset_v1.2/S09/data/set5/a2.htm', 'Question_Answer_Dataset_v1.2/S09/data/set5/a7o.htm', 'Question_Answer_Dataset_v1.2/S09/data/set5/a6.txt', 'Question_Answer_Dataset_v1.2/S09/data/set5/a5o.htm', 'Question_Answer_Dataset_v1.2/S09/data/set5/a1o.htm', 'Question_Answer_Dataset_v1.2/S09/data/set5/a9o.htm', 'Question_Answer_Dataset_v1.2/S09/data/set5/a8.txt', 'Question_Answer_Dataset_v1.2/S09/data/set5/a10.htm', 'Question_Answer_Dataset_v1.2/S09/data/set5/a10.txt', 'Question_Answer_Dataset_v1.2/S09/data/set5/a8.txt.clean', 'Question_Answer_Dataset_v1.2/S09/data/set5/topics.txt', 'Question_Answer_Dataset_v1.2/S09/data/set5/a2o.htm', 'Question_Answer_Dataset_v1.2/S09/data/set5/a8.htm', 'Question_Answer_Dataset_v1.2/S09/data/set5/a7.htm', 'Question_Answer_Dataset_v1.2/S09/data/set5/a1.txt.clean', 'Question_Answer_Dataset_v1.2/S09/data/set5/a2.txt.clean', 'Question_Answer_Dataset_v1.2/S09/data/set5/a10.txt.clean', 'Question_Answer_Dataset_v1.2/S09/data/set5/a10o.htm', 'Question_Answer_Dataset_v1.2/S09/data/set5/a6.htm', 'Question_Answer_Dataset_v1.2/S09/data/set5/a7.txt', 'Question_Answer_Dataset_v1.2/S09/data/set5/a9.txt', 'Question_Answer_Dataset_v1.2/S09/data/set5/a6o.htm', 'Question_Answer_Dataset_v1.2/S09/data/set5/a8o.htm', 'Question_Answer_Dataset_v1.2/S09/data/set5/a1.htm', 'Question_Answer_Dataset_v1.2/S09/data/set5/a1.txt', 'Question_Answer_Dataset_v1.2/S09/data/set5/a7.txt.clean', 'Question_Answer_Dataset_v1.2/S09/data/set5/a5.txt.clean', 'Question_Answer_Dataset_v1.2/S09/data/set5/a5.htm', 'Question_Answer_Dataset_v1.2/S09/data/set5/a3o.htm', 'Question_Answer_Dataset_v1.2/S09/data/set1', 'Question_Answer_Dataset_v1.2/S09/data/set1/a6.txt.clean', 'Question_Answer_Dataset_v1.2/S09/data/set1/a3.txt.clean', 'Question_Answer_Dataset_v1.2/S09/data/set1/a3.txt', 'Question_Answer_Dataset_v1.2/S09/data/set1/a5.txt', 'Question_Answer_Dataset_v1.2/S09/data/set1/a4o.htm', 'Question_Answer_Dataset_v1.2/S09/data/set1/a3.htm', 'Question_Answer_Dataset_v1.2/S09/data/set1/a9.htm', 'Question_Answer_Dataset_v1.2/S09/data/set1/a2.txt', 'Question_Answer_Dataset_v1.2/S09/data/set1/a9.txt.clean', 'Question_Answer_Dataset_v1.2/S09/data/set1/a4.htm', 'Question_Answer_Dataset_v1.2/S09/data/set1/a4.txt', 'Question_Answer_Dataset_v1.2/S09/data/set1/a4.txt.clean', 'Question_Answer_Dataset_v1.2/S09/data/set1/a2.htm', 'Question_Answer_Dataset_v1.2/S09/data/set1/a7o.htm', 'Question_Answer_Dataset_v1.2/S09/data/set1/a6.txt', 'Question_Answer_Dataset_v1.2/S09/data/set1/a5o.htm', 'Question_Answer_Dataset_v1.2/S09/data/set1/a1o.htm', 'Question_Answer_Dataset_v1.2/S09/data/set1/a9o.htm', 'Question_Answer_Dataset_v1.2/S09/data/set1/a8.txt', 'Question_Answer_Dataset_v1.2/S09/data/set1/a10.htm', 'Question_Answer_Dataset_v1.2/S09/data/set1/a10.txt', 'Question_Answer_Dataset_v1.2/S09/data/set1/a8.txt.clean', 'Question_Answer_Dataset_v1.2/S09/data/set1/topics.txt', 'Question_Answer_Dataset_v1.2/S09/data/set1/a2o.htm', 'Question_Answer_Dataset_v1.2/S09/data/set1/a8.htm', 'Question_Answer_Dataset_v1.2/S09/data/set1/a7.htm', 'Question_Answer_Dataset_v1.2/S09/data/set1/a1.txt.clean', 'Question_Answer_Dataset_v1.2/S09/data/set1/a2.txt.clean', 'Question_Answer_Dataset_v1.2/S09/data/set1/a10.txt.clean', 'Question_Answer_Dataset_v1.2/S09/data/set1/a10o.htm', 'Question_Answer_Dataset_v1.2/S09/data/set1/a6.htm', 'Question_Answer_Dataset_v1.2/S09/data/set1/a7.txt', 'Question_Answer_Dataset_v1.2/S09/data/set1/a9.txt', 'Question_Answer_Dataset_v1.2/S09/data/set1/a6o.htm', 'Question_Answer_Dataset_v1.2/S09/data/set1/a8o.htm', 'Question_Answer_Dataset_v1.2/S09/data/set1/a1.htm', 'Question_Answer_Dataset_v1.2/S09/data/set1/a1.txt', 'Question_Answer_Dataset_v1.2/S09/data/set1/a7.txt.clean', 'Question_Answer_Dataset_v1.2/S09/data/set1/a5.txt.clean', 'Question_Answer_Dataset_v1.2/S09/data/set1/a5.htm', 'Question_Answer_Dataset_v1.2/S09/data/set1/a3o.htm']\n"
          ],
          "name": "stdout"
        }
      ]
    },
    {
      "cell_type": "markdown",
      "metadata": {
        "id": "oLf34BMlUCar"
      },
      "source": [
        "## Data Exploration\n",
        "---"
      ]
    },
    {
      "cell_type": "code",
      "metadata": {
        "id": "Cn3dXYzqUv0k"
      },
      "source": [
        "import os\n",
        "\n",
        "base_path = 'gdrive/MyDrive/TSAI_END2/Session7/Assignment2'\n",
        "data_path = os.path.join(base_path, 'data')\n",
        "qa_data_base_path = os.path.join(data_path, 'QuestionAnswerData')\n",
        "qa_data_path = os.path.join(qa_data_base_path, 'Question_Answer_Dataset_v1.2')\n",
        "qa_data_tar_path = os.path.join(qa_data_base_path, 'Question_Answer_Dataset_v1.2.tar.gz')"
      ],
      "execution_count": 2,
      "outputs": []
    },
    {
      "cell_type": "markdown",
      "metadata": {
        "id": "k5RMI_oTWh9j"
      },
      "source": [
        "Folder Contents:-"
      ]
    },
    {
      "cell_type": "code",
      "metadata": {
        "colab": {
          "base_uri": "https://localhost:8080/"
        },
        "id": "_kDcN0bLVNJW",
        "outputId": "fe809f91-cb54-4ad3-a30b-785ff736202e"
      },
      "source": [
        "os.listdir(qa_data_path)"
      ],
      "execution_count": 3,
      "outputs": [
        {
          "output_type": "execute_result",
          "data": {
            "text/plain": [
              "['S09', 'S08', 'S10', 'LICENSE-S08,S09', 'README.v1.2']"
            ]
          },
          "metadata": {
            "tags": []
          },
          "execution_count": 3
        }
      ]
    },
    {
      "cell_type": "markdown",
      "metadata": {
        "id": "vKV8CG6yWmVM"
      },
      "source": [
        "There are 3 folders: S08, S09 and S10. The other 2 are files.\n",
        "\n",
        "Within each of S08, S09, S10, there are:\n",
        "\n",
        "> 1) data folder containing wikipedia articles\n",
        "\n",
        "> 2) question answer pair text file\n",
        "\n",
        "We need to consider this question answer text file."
      ]
    },
    {
      "cell_type": "code",
      "metadata": {
        "colab": {
          "base_uri": "https://localhost:8080/"
        },
        "id": "VeGu3d24VVdw",
        "outputId": "17b53df8-feaf-4be0-b8c5-3698017abf91"
      },
      "source": [
        "for subdir in os.listdir(qa_data_path):\n",
        "  subdirectory = os.path.join(qa_data_path, subdir)\n",
        "  print(subdirectory)\n",
        "  if os.path.isdir(subdirectory):\n",
        "    print(os.listdir(subdirectory))\n",
        "  print('\\n')"
      ],
      "execution_count": 4,
      "outputs": [
        {
          "output_type": "stream",
          "text": [
            "gdrive/MyDrive/TSAI_END2/Session7/Assignment2/data/QuestionAnswerData/Question_Answer_Dataset_v1.2/S09\n",
            "['data', 'question_answer_pairs.txt']\n",
            "\n",
            "\n",
            "gdrive/MyDrive/TSAI_END2/Session7/Assignment2/data/QuestionAnswerData/Question_Answer_Dataset_v1.2/S08\n",
            "['data', 'question_answer_pairs.txt']\n",
            "\n",
            "\n",
            "gdrive/MyDrive/TSAI_END2/Session7/Assignment2/data/QuestionAnswerData/Question_Answer_Dataset_v1.2/S10\n",
            "['data', 'question_answer_pairs.txt']\n",
            "\n",
            "\n",
            "gdrive/MyDrive/TSAI_END2/Session7/Assignment2/data/QuestionAnswerData/Question_Answer_Dataset_v1.2/LICENSE-S08,S09\n",
            "\n",
            "\n",
            "gdrive/MyDrive/TSAI_END2/Session7/Assignment2/data/QuestionAnswerData/Question_Answer_Dataset_v1.2/README.v1.2\n",
            "\n",
            "\n"
          ],
          "name": "stdout"
        }
      ]
    },
    {
      "cell_type": "markdown",
      "metadata": {
        "id": "q5KNzFGsXVnG"
      },
      "source": [
        "All 3 'question_answer_pairs.txt' were read and combined. The result is below."
      ]
    },
    {
      "cell_type": "code",
      "metadata": {
        "colab": {
          "base_uri": "https://localhost:8080/",
          "height": 417
        },
        "id": "PIeP2mhuUF8I",
        "outputId": "2bf29b90-408b-4e26-f95b-9a434dd0868e"
      },
      "source": [
        "import pandas as pd\n",
        "\n",
        "qa_data = pd.DataFrame()\n",
        "for subdir in os.listdir(qa_data_path):\n",
        "  subdirectory = os.path.join(qa_data_path, subdir)\n",
        "  if os.path.isdir(subdirectory):\n",
        "    for txt_file in os.listdir(subdirectory):\n",
        "      if '.txt' in txt_file:\n",
        "        df = pd.read_csv(os.path.join(subdirectory, txt_file), sep='\\t', encoding=' ISO-8859-1')\n",
        "        qa_data = pd.concat([qa_data, df]).reset_index(drop=True) \n",
        "qa_data"
      ],
      "execution_count": 9,
      "outputs": [
        {
          "output_type": "execute_result",
          "data": {
            "text/html": [
              "<div>\n",
              "<style scoped>\n",
              "    .dataframe tbody tr th:only-of-type {\n",
              "        vertical-align: middle;\n",
              "    }\n",
              "\n",
              "    .dataframe tbody tr th {\n",
              "        vertical-align: top;\n",
              "    }\n",
              "\n",
              "    .dataframe thead th {\n",
              "        text-align: right;\n",
              "    }\n",
              "</style>\n",
              "<table border=\"1\" class=\"dataframe\">\n",
              "  <thead>\n",
              "    <tr style=\"text-align: right;\">\n",
              "      <th></th>\n",
              "      <th>ArticleTitle</th>\n",
              "      <th>Question</th>\n",
              "      <th>Answer</th>\n",
              "      <th>DifficultyFromQuestioner</th>\n",
              "      <th>DifficultyFromAnswerer</th>\n",
              "      <th>ArticleFile</th>\n",
              "    </tr>\n",
              "  </thead>\n",
              "  <tbody>\n",
              "    <tr>\n",
              "      <th>0</th>\n",
              "      <td>Alessandro_Volta</td>\n",
              "      <td>Was Volta an Italian physicist?</td>\n",
              "      <td>yes</td>\n",
              "      <td>easy</td>\n",
              "      <td>easy</td>\n",
              "      <td>data/set4/a10</td>\n",
              "    </tr>\n",
              "    <tr>\n",
              "      <th>1</th>\n",
              "      <td>Alessandro_Volta</td>\n",
              "      <td>Was Volta an Italian physicist?</td>\n",
              "      <td>yes</td>\n",
              "      <td>easy</td>\n",
              "      <td>easy</td>\n",
              "      <td>data/set4/a10</td>\n",
              "    </tr>\n",
              "    <tr>\n",
              "      <th>2</th>\n",
              "      <td>Alessandro_Volta</td>\n",
              "      <td>Is Volta buried in the city of Pittsburgh?</td>\n",
              "      <td>no</td>\n",
              "      <td>easy</td>\n",
              "      <td>easy</td>\n",
              "      <td>data/set4/a10</td>\n",
              "    </tr>\n",
              "    <tr>\n",
              "      <th>3</th>\n",
              "      <td>Alessandro_Volta</td>\n",
              "      <td>Is Volta buried in the city of Pittsburgh?</td>\n",
              "      <td>no</td>\n",
              "      <td>easy</td>\n",
              "      <td>easy</td>\n",
              "      <td>data/set4/a10</td>\n",
              "    </tr>\n",
              "    <tr>\n",
              "      <th>4</th>\n",
              "      <td>Alessandro_Volta</td>\n",
              "      <td>Did Volta have a passion for the study of elec...</td>\n",
              "      <td>yes</td>\n",
              "      <td>easy</td>\n",
              "      <td>medium</td>\n",
              "      <td>data/set4/a10</td>\n",
              "    </tr>\n",
              "    <tr>\n",
              "      <th>...</th>\n",
              "      <td>...</td>\n",
              "      <td>...</td>\n",
              "      <td>...</td>\n",
              "      <td>...</td>\n",
              "      <td>...</td>\n",
              "      <td>...</td>\n",
              "    </tr>\n",
              "    <tr>\n",
              "      <th>3993</th>\n",
              "      <td>Zebra</td>\n",
              "      <td>What areas do the Grevy's Zebras inhabit?</td>\n",
              "      <td>NaN</td>\n",
              "      <td>hard</td>\n",
              "      <td>NaN</td>\n",
              "      <td>data/set1/a9</td>\n",
              "    </tr>\n",
              "    <tr>\n",
              "      <th>3994</th>\n",
              "      <td>Zebra</td>\n",
              "      <td>Which species of zebra is known as the common ...</td>\n",
              "      <td>Plains Zebra (Equus quagga, formerly Equus bur...</td>\n",
              "      <td>hard</td>\n",
              "      <td>medium</td>\n",
              "      <td>data/set1/a9</td>\n",
              "    </tr>\n",
              "    <tr>\n",
              "      <th>3995</th>\n",
              "      <td>Zebra</td>\n",
              "      <td>Which species of zebra is known as the common ...</td>\n",
              "      <td>Plains Zebra</td>\n",
              "      <td>hard</td>\n",
              "      <td>medium</td>\n",
              "      <td>data/set1/a9</td>\n",
              "    </tr>\n",
              "    <tr>\n",
              "      <th>3996</th>\n",
              "      <td>Zebra</td>\n",
              "      <td>At what age can a zebra breed?</td>\n",
              "      <td>five or six</td>\n",
              "      <td>hard</td>\n",
              "      <td>medium</td>\n",
              "      <td>data/set1/a9</td>\n",
              "    </tr>\n",
              "    <tr>\n",
              "      <th>3997</th>\n",
              "      <td>Zebra</td>\n",
              "      <td>At what age can a zebra breed?</td>\n",
              "      <td>5 or 6</td>\n",
              "      <td>hard</td>\n",
              "      <td>hard</td>\n",
              "      <td>data/set1/a9</td>\n",
              "    </tr>\n",
              "  </tbody>\n",
              "</table>\n",
              "<p>3998 rows × 6 columns</p>\n",
              "</div>"
            ],
            "text/plain": [
              "          ArticleTitle  ...    ArticleFile\n",
              "0     Alessandro_Volta  ...  data/set4/a10\n",
              "1     Alessandro_Volta  ...  data/set4/a10\n",
              "2     Alessandro_Volta  ...  data/set4/a10\n",
              "3     Alessandro_Volta  ...  data/set4/a10\n",
              "4     Alessandro_Volta  ...  data/set4/a10\n",
              "...                ...  ...            ...\n",
              "3993             Zebra  ...   data/set1/a9\n",
              "3994             Zebra  ...   data/set1/a9\n",
              "3995             Zebra  ...   data/set1/a9\n",
              "3996             Zebra  ...   data/set1/a9\n",
              "3997             Zebra  ...   data/set1/a9\n",
              "\n",
              "[3998 rows x 6 columns]"
            ]
          },
          "metadata": {
            "tags": []
          },
          "execution_count": 9
        }
      ]
    },
    {
      "cell_type": "code",
      "metadata": {
        "colab": {
          "base_uri": "https://localhost:8080/"
        },
        "id": "-ln6QcBxWFHB",
        "outputId": "d53d4922-224f-4686-f764-9f5246ba56f1"
      },
      "source": [
        "qa_data.info()"
      ],
      "execution_count": 10,
      "outputs": [
        {
          "output_type": "stream",
          "text": [
            "<class 'pandas.core.frame.DataFrame'>\n",
            "RangeIndex: 3998 entries, 0 to 3997\n",
            "Data columns (total 6 columns):\n",
            " #   Column                    Non-Null Count  Dtype \n",
            "---  ------                    --------------  ----- \n",
            " 0   ArticleTitle              3998 non-null   object\n",
            " 1   Question                  3961 non-null   object\n",
            " 2   Answer                    3422 non-null   object\n",
            " 3   DifficultyFromQuestioner  3043 non-null   object\n",
            " 4   DifficultyFromAnswerer    3418 non-null   object\n",
            " 5   ArticleFile               3996 non-null   object\n",
            "dtypes: object(6)\n",
            "memory usage: 187.5+ KB\n"
          ],
          "name": "stdout"
        }
      ]
    },
    {
      "cell_type": "code",
      "metadata": {
        "colab": {
          "base_uri": "https://localhost:8080/",
          "height": 172
        },
        "id": "4pXnS4oTV0rA",
        "outputId": "143226f4-4815-44de-bd11-a0af45d66cf5"
      },
      "source": [
        "qa_data.describe()"
      ],
      "execution_count": 11,
      "outputs": [
        {
          "output_type": "execute_result",
          "data": {
            "text/html": [
              "<div>\n",
              "<style scoped>\n",
              "    .dataframe tbody tr th:only-of-type {\n",
              "        vertical-align: middle;\n",
              "    }\n",
              "\n",
              "    .dataframe tbody tr th {\n",
              "        vertical-align: top;\n",
              "    }\n",
              "\n",
              "    .dataframe thead th {\n",
              "        text-align: right;\n",
              "    }\n",
              "</style>\n",
              "<table border=\"1\" class=\"dataframe\">\n",
              "  <thead>\n",
              "    <tr style=\"text-align: right;\">\n",
              "      <th></th>\n",
              "      <th>ArticleTitle</th>\n",
              "      <th>Question</th>\n",
              "      <th>Answer</th>\n",
              "      <th>DifficultyFromQuestioner</th>\n",
              "      <th>DifficultyFromAnswerer</th>\n",
              "      <th>ArticleFile</th>\n",
              "    </tr>\n",
              "  </thead>\n",
              "  <tbody>\n",
              "    <tr>\n",
              "      <th>count</th>\n",
              "      <td>3998</td>\n",
              "      <td>3961</td>\n",
              "      <td>3422</td>\n",
              "      <td>3043</td>\n",
              "      <td>3418</td>\n",
              "      <td>3996</td>\n",
              "    </tr>\n",
              "    <tr>\n",
              "      <th>unique</th>\n",
              "      <td>109</td>\n",
              "      <td>2456</td>\n",
              "      <td>1828</td>\n",
              "      <td>4</td>\n",
              "      <td>5</td>\n",
              "      <td>57</td>\n",
              "    </tr>\n",
              "    <tr>\n",
              "      <th>top</th>\n",
              "      <td>Amedeo_Avogadro</td>\n",
              "      <td>Was King Victor Emmanuel III there to pay homa...</td>\n",
              "      <td>Yes</td>\n",
              "      <td>easy</td>\n",
              "      <td>easy</td>\n",
              "      <td>data/set4/a8</td>\n",
              "    </tr>\n",
              "    <tr>\n",
              "      <th>freq</th>\n",
              "      <td>132</td>\n",
              "      <td>6</td>\n",
              "      <td>492</td>\n",
              "      <td>1035</td>\n",
              "      <td>1344</td>\n",
              "      <td>132</td>\n",
              "    </tr>\n",
              "  </tbody>\n",
              "</table>\n",
              "</div>"
            ],
            "text/plain": [
              "           ArticleTitle  ...   ArticleFile\n",
              "count              3998  ...          3996\n",
              "unique              109  ...            57\n",
              "top     Amedeo_Avogadro  ...  data/set4/a8\n",
              "freq                132  ...           132\n",
              "\n",
              "[4 rows x 6 columns]"
            ]
          },
          "metadata": {
            "tags": []
          },
          "execution_count": 11
        }
      ]
    },
    {
      "cell_type": "markdown",
      "metadata": {
        "id": "fCaOcpREXlG2"
      },
      "source": [
        "There were many columns. We jsut needed question and answer column."
      ]
    },
    {
      "cell_type": "code",
      "metadata": {
        "colab": {
          "base_uri": "https://localhost:8080/",
          "height": 417
        },
        "id": "wz2onkD7WAID",
        "outputId": "fff30659-6234-4f38-d79a-cb47f68b2643"
      },
      "source": [
        "qa_data = qa_data[['Question','Answer']] \n",
        "qa_data"
      ],
      "execution_count": 12,
      "outputs": [
        {
          "output_type": "execute_result",
          "data": {
            "text/html": [
              "<div>\n",
              "<style scoped>\n",
              "    .dataframe tbody tr th:only-of-type {\n",
              "        vertical-align: middle;\n",
              "    }\n",
              "\n",
              "    .dataframe tbody tr th {\n",
              "        vertical-align: top;\n",
              "    }\n",
              "\n",
              "    .dataframe thead th {\n",
              "        text-align: right;\n",
              "    }\n",
              "</style>\n",
              "<table border=\"1\" class=\"dataframe\">\n",
              "  <thead>\n",
              "    <tr style=\"text-align: right;\">\n",
              "      <th></th>\n",
              "      <th>Question</th>\n",
              "      <th>Answer</th>\n",
              "    </tr>\n",
              "  </thead>\n",
              "  <tbody>\n",
              "    <tr>\n",
              "      <th>0</th>\n",
              "      <td>Was Volta an Italian physicist?</td>\n",
              "      <td>yes</td>\n",
              "    </tr>\n",
              "    <tr>\n",
              "      <th>1</th>\n",
              "      <td>Was Volta an Italian physicist?</td>\n",
              "      <td>yes</td>\n",
              "    </tr>\n",
              "    <tr>\n",
              "      <th>2</th>\n",
              "      <td>Is Volta buried in the city of Pittsburgh?</td>\n",
              "      <td>no</td>\n",
              "    </tr>\n",
              "    <tr>\n",
              "      <th>3</th>\n",
              "      <td>Is Volta buried in the city of Pittsburgh?</td>\n",
              "      <td>no</td>\n",
              "    </tr>\n",
              "    <tr>\n",
              "      <th>4</th>\n",
              "      <td>Did Volta have a passion for the study of elec...</td>\n",
              "      <td>yes</td>\n",
              "    </tr>\n",
              "    <tr>\n",
              "      <th>...</th>\n",
              "      <td>...</td>\n",
              "      <td>...</td>\n",
              "    </tr>\n",
              "    <tr>\n",
              "      <th>3993</th>\n",
              "      <td>What areas do the Grevy's Zebras inhabit?</td>\n",
              "      <td>NaN</td>\n",
              "    </tr>\n",
              "    <tr>\n",
              "      <th>3994</th>\n",
              "      <td>Which species of zebra is known as the common ...</td>\n",
              "      <td>Plains Zebra (Equus quagga, formerly Equus bur...</td>\n",
              "    </tr>\n",
              "    <tr>\n",
              "      <th>3995</th>\n",
              "      <td>Which species of zebra is known as the common ...</td>\n",
              "      <td>Plains Zebra</td>\n",
              "    </tr>\n",
              "    <tr>\n",
              "      <th>3996</th>\n",
              "      <td>At what age can a zebra breed?</td>\n",
              "      <td>five or six</td>\n",
              "    </tr>\n",
              "    <tr>\n",
              "      <th>3997</th>\n",
              "      <td>At what age can a zebra breed?</td>\n",
              "      <td>5 or 6</td>\n",
              "    </tr>\n",
              "  </tbody>\n",
              "</table>\n",
              "<p>3998 rows × 2 columns</p>\n",
              "</div>"
            ],
            "text/plain": [
              "                                               Question                                             Answer\n",
              "0                       Was Volta an Italian physicist?                                                yes\n",
              "1                       Was Volta an Italian physicist?                                                yes\n",
              "2            Is Volta buried in the city of Pittsburgh?                                                 no\n",
              "3            Is Volta buried in the city of Pittsburgh?                                                 no\n",
              "4     Did Volta have a passion for the study of elec...                                                yes\n",
              "...                                                 ...                                                ...\n",
              "3993          What areas do the Grevy's Zebras inhabit?                                                NaN\n",
              "3994  Which species of zebra is known as the common ...  Plains Zebra (Equus quagga, formerly Equus bur...\n",
              "3995  Which species of zebra is known as the common ...                                       Plains Zebra\n",
              "3996                     At what age can a zebra breed?                                        five or six\n",
              "3997                     At what age can a zebra breed?                                             5 or 6\n",
              "\n",
              "[3998 rows x 2 columns]"
            ]
          },
          "metadata": {
            "tags": []
          },
          "execution_count": 12
        }
      ]
    },
    {
      "cell_type": "markdown",
      "metadata": {
        "id": "gFNoxU96XtAr"
      },
      "source": [
        "There are null values. These needs to be dropped."
      ]
    },
    {
      "cell_type": "code",
      "metadata": {
        "colab": {
          "base_uri": "https://localhost:8080/"
        },
        "id": "OTnN5ZRdWQ9g",
        "outputId": "942e16b8-080d-4c51-b386-cd15a36f8fa5"
      },
      "source": [
        "qa_data.info()"
      ],
      "execution_count": 13,
      "outputs": [
        {
          "output_type": "stream",
          "text": [
            "<class 'pandas.core.frame.DataFrame'>\n",
            "RangeIndex: 3998 entries, 0 to 3997\n",
            "Data columns (total 2 columns):\n",
            " #   Column    Non-Null Count  Dtype \n",
            "---  ------    --------------  ----- \n",
            " 0   Question  3961 non-null   object\n",
            " 1   Answer    3422 non-null   object\n",
            "dtypes: object(2)\n",
            "memory usage: 62.6+ KB\n"
          ],
          "name": "stdout"
        }
      ]
    },
    {
      "cell_type": "markdown",
      "metadata": {
        "id": "5KETEknbX5kB"
      },
      "source": [
        "Final data with only question-answer column and no null values."
      ]
    },
    {
      "cell_type": "code",
      "metadata": {
        "colab": {
          "base_uri": "https://localhost:8080/",
          "height": 417
        },
        "id": "9BvR4ZBeWVK1",
        "outputId": "6595d47c-c5d7-4efa-aaf6-558a0b49a661"
      },
      "source": [
        "qa_data = qa_data.dropna().reset_index(drop=True)\n",
        "qa_data"
      ],
      "execution_count": 14,
      "outputs": [
        {
          "output_type": "execute_result",
          "data": {
            "text/html": [
              "<div>\n",
              "<style scoped>\n",
              "    .dataframe tbody tr th:only-of-type {\n",
              "        vertical-align: middle;\n",
              "    }\n",
              "\n",
              "    .dataframe tbody tr th {\n",
              "        vertical-align: top;\n",
              "    }\n",
              "\n",
              "    .dataframe thead th {\n",
              "        text-align: right;\n",
              "    }\n",
              "</style>\n",
              "<table border=\"1\" class=\"dataframe\">\n",
              "  <thead>\n",
              "    <tr style=\"text-align: right;\">\n",
              "      <th></th>\n",
              "      <th>Question</th>\n",
              "      <th>Answer</th>\n",
              "    </tr>\n",
              "  </thead>\n",
              "  <tbody>\n",
              "    <tr>\n",
              "      <th>0</th>\n",
              "      <td>Was Volta an Italian physicist?</td>\n",
              "      <td>yes</td>\n",
              "    </tr>\n",
              "    <tr>\n",
              "      <th>1</th>\n",
              "      <td>Was Volta an Italian physicist?</td>\n",
              "      <td>yes</td>\n",
              "    </tr>\n",
              "    <tr>\n",
              "      <th>2</th>\n",
              "      <td>Is Volta buried in the city of Pittsburgh?</td>\n",
              "      <td>no</td>\n",
              "    </tr>\n",
              "    <tr>\n",
              "      <th>3</th>\n",
              "      <td>Is Volta buried in the city of Pittsburgh?</td>\n",
              "      <td>no</td>\n",
              "    </tr>\n",
              "    <tr>\n",
              "      <th>4</th>\n",
              "      <td>Did Volta have a passion for the study of elec...</td>\n",
              "      <td>yes</td>\n",
              "    </tr>\n",
              "    <tr>\n",
              "      <th>...</th>\n",
              "      <td>...</td>\n",
              "      <td>...</td>\n",
              "    </tr>\n",
              "    <tr>\n",
              "      <th>3417</th>\n",
              "      <td>What areas do the Grevy's Zebras inhabit?</td>\n",
              "      <td>semi-arid grasslands of Ethiopia and northern ...</td>\n",
              "    </tr>\n",
              "    <tr>\n",
              "      <th>3418</th>\n",
              "      <td>Which species of zebra is known as the common ...</td>\n",
              "      <td>Plains Zebra (Equus quagga, formerly Equus bur...</td>\n",
              "    </tr>\n",
              "    <tr>\n",
              "      <th>3419</th>\n",
              "      <td>Which species of zebra is known as the common ...</td>\n",
              "      <td>Plains Zebra</td>\n",
              "    </tr>\n",
              "    <tr>\n",
              "      <th>3420</th>\n",
              "      <td>At what age can a zebra breed?</td>\n",
              "      <td>five or six</td>\n",
              "    </tr>\n",
              "    <tr>\n",
              "      <th>3421</th>\n",
              "      <td>At what age can a zebra breed?</td>\n",
              "      <td>5 or 6</td>\n",
              "    </tr>\n",
              "  </tbody>\n",
              "</table>\n",
              "<p>3422 rows × 2 columns</p>\n",
              "</div>"
            ],
            "text/plain": [
              "                                               Question                                             Answer\n",
              "0                       Was Volta an Italian physicist?                                                yes\n",
              "1                       Was Volta an Italian physicist?                                                yes\n",
              "2            Is Volta buried in the city of Pittsburgh?                                                 no\n",
              "3            Is Volta buried in the city of Pittsburgh?                                                 no\n",
              "4     Did Volta have a passion for the study of elec...                                                yes\n",
              "...                                                 ...                                                ...\n",
              "3417          What areas do the Grevy's Zebras inhabit?  semi-arid grasslands of Ethiopia and northern ...\n",
              "3418  Which species of zebra is known as the common ...  Plains Zebra (Equus quagga, formerly Equus bur...\n",
              "3419  Which species of zebra is known as the common ...                                       Plains Zebra\n",
              "3420                     At what age can a zebra breed?                                        five or six\n",
              "3421                     At what age can a zebra breed?                                             5 or 6\n",
              "\n",
              "[3422 rows x 2 columns]"
            ]
          },
          "metadata": {
            "tags": []
          },
          "execution_count": 14
        }
      ]
    },
    {
      "cell_type": "code",
      "metadata": {
        "colab": {
          "base_uri": "https://localhost:8080/"
        },
        "id": "zFVt3kRNWYGb",
        "outputId": "3fd61562-988f-4750-dcee-64bf389a6dfa"
      },
      "source": [
        "qa_data.info()"
      ],
      "execution_count": 15,
      "outputs": [
        {
          "output_type": "stream",
          "text": [
            "<class 'pandas.core.frame.DataFrame'>\n",
            "RangeIndex: 3422 entries, 0 to 3421\n",
            "Data columns (total 2 columns):\n",
            " #   Column    Non-Null Count  Dtype \n",
            "---  ------    --------------  ----- \n",
            " 0   Question  3422 non-null   object\n",
            " 1   Answer    3422 non-null   object\n",
            "dtypes: object(2)\n",
            "memory usage: 53.6+ KB\n"
          ],
          "name": "stdout"
        }
      ]
    },
    {
      "cell_type": "markdown",
      "metadata": {
        "id": "s0RrH84KqFvs"
      },
      "source": [
        "## Create NLP Pipeline\n",
        "---\n"
      ]
    },
    {
      "cell_type": "markdown",
      "metadata": {
        "id": "gRggDE6oqVHa"
      },
      "source": [
        "### Import libraries and set seed\n",
        "---"
      ]
    },
    {
      "cell_type": "code",
      "metadata": {
        "id": "bS2oIqsapsMa",
        "colab": {
          "base_uri": "https://localhost:8080/"
        },
        "outputId": "1657407c-33b2-4647-e0bf-5bfbab4e80a7"
      },
      "source": [
        "%cd 'gdrive/MyDrive/TSAI_END2/Session7/Assignment2'"
      ],
      "execution_count": null,
      "outputs": [
        {
          "output_type": "stream",
          "text": [
            "/content/gdrive/MyDrive/TSAI_END2/Session7/Assignment2\n"
          ],
          "name": "stdout"
        }
      ]
    },
    {
      "cell_type": "code",
      "metadata": {
        "id": "8Lx-qvyxpwsU"
      },
      "source": [
        "from nlp_api import *"
      ],
      "execution_count": null,
      "outputs": []
    },
    {
      "cell_type": "code",
      "metadata": {
        "id": "4M-n38wdCB5k"
      },
      "source": [
        "import torch\n",
        "import torch.nn as nn\n",
        "import torch.optim as optim\n",
        "\n",
        "from torchtext.legacy import data\n",
        "from torchtext.legacy.data import Field, BucketIterator\n",
        "\n",
        "import spacy\n",
        "import numpy as np\n",
        "\n",
        "import random\n",
        "import math\n",
        "import time"
      ],
      "execution_count": null,
      "outputs": []
    },
    {
      "cell_type": "code",
      "metadata": {
        "id": "yrKIqB0SDy6W"
      },
      "source": [
        "SEED = 1234\n",
        "\n",
        "random.seed(SEED)\n",
        "np.random.seed(SEED)\n",
        "torch.manual_seed(SEED)\n",
        "torch.cuda.manual_seed(SEED)\n",
        "torch.backends.cudnn.deterministic = True\n",
        "# !pip install spacy --upgrade"
      ],
      "execution_count": null,
      "outputs": []
    },
    {
      "cell_type": "markdown",
      "metadata": {
        "id": "bItEnVV0qamS"
      },
      "source": [
        "### Data Loading and Model Building\n",
        "---"
      ]
    },
    {
      "cell_type": "code",
      "metadata": {
        "id": "g8Dd9sX6qhUU",
        "colab": {
          "base_uri": "https://localhost:8080/"
        },
        "outputId": "a2ee9fbe-c237-44f2-b340-c54b6f3433c7"
      },
      "source": [
        "model_params = {'enc_emb_dim': 256, 'dec_emb_dim': 256, 'hid_dim': 512, 'n_layers': 2, 'enc_dropout': 0.5, 'dec_dropout': 0.5}\n",
        "params = {'data_path': './data/QuestionAnswerData/Question_Answer_Dataset_v1.2', 'data_name': 'wikipedia qa', 'model_name': 'lstm encoder-decoder sequence model', 'model_params': model_params, 'seed': SEED, 'batch_size': 128, 'device': torch.device('cuda' if torch.cuda.is_available() else 'cpu')}\n",
        "\n",
        "nlp_pipeline = NLP_Pipeline(**params)"
      ],
      "execution_count": null,
      "outputs": [
        {
          "output_type": "stream",
          "text": [
            "Loading data...\n",
            "Number of training examples: 2395\n",
            "Number of testing examples: 1027\n",
            "Unique tokens in source vocabulary: 1951\n",
            "Unique tokens in target vocabulary: 1279\n",
            "Data is loaded\n",
            "Loading model....\n",
            "The model has 8839423 trainable parameters\n"
          ],
          "name": "stdout"
        }
      ]
    },
    {
      "cell_type": "markdown",
      "metadata": {
        "id": "P_P6JPRjrhBU"
      },
      "source": [
        "### Model Training\n",
        "---"
      ]
    },
    {
      "cell_type": "code",
      "metadata": {
        "id": "Va27vQCJrkQi",
        "colab": {
          "base_uri": "https://localhost:8080/"
        },
        "outputId": "272b18e8-3ba5-4475-d24d-064fd7143648"
      },
      "source": [
        "nlp_pipeline.train_model(10, './saved_models/QAData')"
      ],
      "execution_count": null,
      "outputs": [
        {
          "output_type": "stream",
          "text": [
            "Epoch: 01 | Time: 0m 2s\n",
            "\tTrain Loss: 5.204 | Train PPL: 182.027\n",
            "\t Val. Loss: 3.509 |  Val. PPL:  33.412\n",
            "Epoch: 02 | Time: 0m 2s\n",
            "\tTrain Loss: 4.419 | Train PPL:  83.054\n",
            "\t Val. Loss: 3.510 |  Val. PPL:  33.464\n",
            "Epoch: 03 | Time: 0m 2s\n",
            "\tTrain Loss: 4.319 | Train PPL:  75.132\n",
            "\t Val. Loss: 3.494 |  Val. PPL:  32.933\n",
            "Epoch: 04 | Time: 0m 2s\n",
            "\tTrain Loss: 4.245 | Train PPL:  69.727\n",
            "\t Val. Loss: 3.480 |  Val. PPL:  32.472\n",
            "Epoch: 05 | Time: 0m 2s\n",
            "\tTrain Loss: 4.213 | Train PPL:  67.582\n",
            "\t Val. Loss: 3.444 |  Val. PPL:  31.318\n",
            "Epoch: 06 | Time: 0m 2s\n",
            "\tTrain Loss: 4.149 | Train PPL:  63.400\n",
            "\t Val. Loss: 3.454 |  Val. PPL:  31.636\n",
            "Epoch: 07 | Time: 0m 2s\n",
            "\tTrain Loss: 4.085 | Train PPL:  59.424\n",
            "\t Val. Loss: 3.454 |  Val. PPL:  31.614\n",
            "Epoch: 08 | Time: 0m 2s\n",
            "\tTrain Loss: 4.065 | Train PPL:  58.289\n",
            "\t Val. Loss: 3.423 |  Val. PPL:  30.671\n",
            "Epoch: 09 | Time: 0m 2s\n",
            "\tTrain Loss: 3.972 | Train PPL:  53.077\n",
            "\t Val. Loss: 3.269 |  Val. PPL:  26.280\n",
            "Epoch: 10 | Time: 0m 2s\n",
            "\tTrain Loss: 3.925 | Train PPL:  50.666\n",
            "\t Val. Loss: 3.277 |  Val. PPL:  26.501\n"
          ],
          "name": "stdout"
        }
      ]
    },
    {
      "cell_type": "markdown",
      "metadata": {
        "id": "NcurBhDOrtRS"
      },
      "source": [
        "### Model Evaluation\n",
        "---"
      ]
    },
    {
      "cell_type": "code",
      "metadata": {
        "id": "ZtHWkkFHrwO7",
        "colab": {
          "base_uri": "https://localhost:8080/"
        },
        "outputId": "23d8a2c9-d507-414c-c2ea-3d1bc9e1886c"
      },
      "source": [
        "nlp_pipeline.evaluate_model()"
      ],
      "execution_count": null,
      "outputs": [
        {
          "output_type": "stream",
          "text": [
            "| Test Loss: 3.277 | Test PPL:  26.501 |\n"
          ],
          "name": "stdout"
        }
      ]
    }
  ]
}