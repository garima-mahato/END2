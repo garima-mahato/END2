{
  "nbformat": 4,
  "nbformat_minor": 0,
  "metadata": {
    "colab": {
      "name": "END2_Session3_PytorchAssignment.ipynb",
      "provenance": [],
      "collapsed_sections": [],
      "include_colab_link": true
    },
    "kernelspec": {
      "name": "python3",
      "display_name": "Python 3"
    },
    "language_info": {
      "name": "python"
    },
    "accelerator": "GPU"
  },
  "cells": [
    {
      "cell_type": "markdown",
      "metadata": {
        "id": "view-in-github",
        "colab_type": "text"
      },
      "source": [
        "<a href=\"https://colab.research.google.com/github/garima-mahato/END2/blob/main/END2_Session3_PytorchAssignment.ipynb\" target=\"_parent\"><img src=\"https://colab.research.google.com/assets/colab-badge.svg\" alt=\"Open In Colab\"/></a>"
      ]
    },
    {
      "cell_type": "markdown",
      "metadata": {
        "id": "hcvnZC9gxS7l"
      },
      "source": [
        "# Identity Adder\n",
        "---\n",
        "\n"
      ]
    },
    {
      "cell_type": "code",
      "metadata": {
        "colab": {
          "base_uri": "https://localhost:8080/"
        },
        "id": "Z6bXKR5cBaA5",
        "outputId": "53e8f04e-972f-423d-eb43-90c3e710e343"
      },
      "source": [
        "from google.colab import drive\n",
        "drive.mount('/content/gdrive', force_remount=True)"
      ],
      "execution_count": null,
      "outputs": [
        {
          "output_type": "stream",
          "text": [
            "Mounted at /content/gdrive\n"
          ],
          "name": "stdout"
        }
      ]
    },
    {
      "cell_type": "code",
      "metadata": {
        "colab": {
          "base_uri": "https://localhost:8080/"
        },
        "id": "u9GguNhPByDT",
        "outputId": "cb575290-9002-4544-c652-451ecd42fde3"
      },
      "source": [
        "%cd 'gdrive/MyDrive/END2'"
      ],
      "execution_count": null,
      "outputs": [
        {
          "output_type": "stream",
          "text": [
            "/content/gdrive/MyDrive/END2\n"
          ],
          "name": "stdout"
        }
      ]
    },
    {
      "cell_type": "markdown",
      "metadata": {
        "id": "55ML3A-3vekT"
      },
      "source": [
        "# Code\n",
        "---"
      ]
    },
    {
      "cell_type": "code",
      "metadata": {
        "id": "b4r-b51WYQh4"
      },
      "source": [
        "import os\n",
        "import numpy as np\n",
        "import torch\n",
        "from torch.utils.data import Dataset, DataLoader\n",
        "from torchvision import datasets, transforms\n",
        "from torchvision.transforms import Compose, ToTensor\n",
        "from torch import nn\n",
        "import torch.nn.functional as F\n",
        "import torch.optim as optim\n",
        "from torchsummary import summary\n",
        "from torch.utils.data.sampler import SubsetRandomSampler\n",
        "\n",
        "import matplotlib.pyplot as plt\n",
        "from random import randrange"
      ],
      "execution_count": null,
      "outputs": []
    },
    {
      "cell_type": "code",
      "metadata": {
        "id": "Evu8eAVWrrJU",
        "colab": {
          "base_uri": "https://localhost:8080/"
        },
        "outputId": "39222588-8b3d-4c12-91ed-6f4937ebb266"
      },
      "source": [
        "from torch_lr_finder import *"
      ],
      "execution_count": null,
      "outputs": [
        {
          "output_type": "stream",
          "text": [
            "WARNING:torch_lr_finder.lr_finder:To enable mixed precision training, please install `apex`. Or you can re-install this package by the following command:\n",
            "  pip install torch-lr-finder -v --global-option=\"amp\"\n"
          ],
          "name": "stderr"
        }
      ]
    },
    {
      "cell_type": "code",
      "metadata": {
        "id": "3yBPaxtabF7G"
      },
      "source": [
        "use_cuda = torch.cuda.is_available()\n",
        "device = torch.device(\"cuda\" if use_cuda else \"cpu\")"
      ],
      "execution_count": null,
      "outputs": []
    },
    {
      "cell_type": "markdown",
      "metadata": {
        "id": "UkFKae0WwPn4"
      },
      "source": [
        "## Utility\n",
        "---"
      ]
    },
    {
      "cell_type": "code",
      "metadata": {
        "id": "RMbBUOTIDQxP"
      },
      "source": [
        "# visualize accuracy and loss graph\n",
        "def visualize_graph(train_losses, train_acc, test_losses, test_acc):\n",
        "  fig, axs = plt.subplots(2,2,figsize=(15,10))\n",
        "  axs[0, 0].plot(train_losses)\n",
        "  axs[0, 0].set_title(\"Training Loss\")\n",
        "  axs[1, 0].plot(train_acc)\n",
        "  axs[1, 0].set_title(\"Training Accuracy\")\n",
        "  axs[0, 1].plot(test_losses)\n",
        "  axs[0, 1].set_title(\"Test Loss\")\n",
        "  axs[1, 1].plot(test_acc)\n",
        "  axs[1, 1].set_title(\"Test Accuracy\")"
      ],
      "execution_count": null,
      "outputs": []
    },
    {
      "cell_type": "code",
      "metadata": {
        "id": "Ir-zaWMEMUVV"
      },
      "source": [
        "def visualize_save_train_vs_test_graph(EPOCHS, dict_list, title, xlabel, ylabel, PATH, name=\"fig\"):\n",
        "  plt.figure(figsize=(20,10))\n",
        "  #epochs = range(1,EPOCHS+1)\n",
        "  for label, item in dict_list.items():\n",
        "    x = np.linspace(1, EPOCHS+1, len(item))\n",
        "    plt.plot(x, item, label=label)\n",
        "  \n",
        "  plt.title(title)\n",
        "  plt.xlabel(xlabel)\n",
        "  plt.ylabel(ylabel)\n",
        "  plt.legend()\n",
        "  plt.savefig(PATH+\"/\"+name+\".png\")"
      ],
      "execution_count": null,
      "outputs": []
    },
    {
      "cell_type": "code",
      "metadata": {
        "id": "f7t06Q3uQBEB"
      },
      "source": [
        "def display_model_eval(model, test_loader):\n",
        "  # get some random training images\n",
        "  dataiter = iter(test_loader)\n",
        "  images, numbers, target_nums, target_sums = dataiter.next()\n",
        "  with torch.no_grad():\n",
        "    images, numbers = images.to(device), numbers.to(device)\n",
        "    nums, sums = model(images, numbers)\n",
        "    pred_num = (F.log_softmax(nums, dim=1)).argmax(dim=1, keepdim=True) # get the index of the max log-probability\n",
        "    pred_sum = (F.log_softmax(sums, dim=1)).argmax(dim=1, keepdim=True)\n",
        "\n",
        "    figure = plt.figure(figsize=(12, 12))\n",
        "    figure.suptitle('Model Prediction Results', fontsize=16)\n",
        "    cols, rows = 3, 3\n",
        "    for i in range(1, cols * rows + 1):\n",
        "        image = images[i-1].cpu()\n",
        "        number = numbers[i-1].cpu().item()\n",
        "        num = pred_num[i-1].cpu().item()\n",
        "        sum = pred_sum[i-1].cpu().item()\n",
        "        target_num = target_nums[i-1].cpu().item()\n",
        "        target_sum = target_sums[i-1].cpu().item()\n",
        "        \n",
        "        figure.add_subplot(rows, cols, i)\n",
        "        plt.title(f'Target: {target_num} + {number} = {target_sum} \\n Predicted: {num} + {number} = {sum}')\n",
        "        plt.axis(\"off\")\n",
        "        plt.imshow(image.squeeze(), cmap=\"gray\")\n",
        "    plt.show()"
      ],
      "execution_count": null,
      "outputs": []
    },
    {
      "cell_type": "code",
      "metadata": {
        "id": "lWSdt2dDR-or"
      },
      "source": [
        "#view dataset\n",
        "\n",
        "def view_dataset(loader, title):\n",
        "  # get some random images\n",
        "  dataiter = iter(loader)\n",
        "  images, numbers, nums, sums = dataiter.next()\n",
        "\n",
        "  figure = plt.figure(figsize=(10, 10))\n",
        "  figure.suptitle(title, fontsize=16)\n",
        "  cols, rows = 3, 3\n",
        "  for i in range(1, cols * rows + 1):\n",
        "      image = images[i].cpu().numpy()\n",
        "      number = numbers[i].cpu().numpy()\n",
        "      num= nums[i].cpu().item()\n",
        "      sum = sums[i].cpu().item()\n",
        "      figure.add_subplot(rows, cols, i)\n",
        "      plt.title(f'{num} + {number} = {sum}')\n",
        "      plt.axis(\"off\")\n",
        "      plt.imshow(image.squeeze(), cmap=\"gray\")\n",
        "  plt.show()"
      ],
      "execution_count": null,
      "outputs": []
    },
    {
      "cell_type": "markdown",
      "metadata": {
        "id": "9d5ZVPPQvoGV"
      },
      "source": [
        "## Dataset Creation\n",
        "---"
      ]
    },
    {
      "cell_type": "code",
      "metadata": {
        "id": "ThtB7yJc5iL4"
      },
      "source": [
        "class IdentityAdderDataset(Dataset):\n",
        "  def __init__(self, train=True, transform=None):\n",
        "    self.transform = transform\n",
        "    self.mnist_data = datasets.MNIST(root=\"data\", train=train, download=True, transform=None)\n",
        "    self.max_rand = 10\n",
        "    self.max_sum = 19\n",
        "  \n",
        "  def __len__(self):\n",
        "    return len(self.mnist_data)\n",
        "\n",
        "  def __getitem__(self, idx):\n",
        "    img_input, number = self.mnist_data[idx]\n",
        "    rand = randrange(self.max_rand)\n",
        "    sum = number + rand\n",
        "\n",
        "    if self.transform:\n",
        "      img_input = self.transform(img_input)\n",
        "    \n",
        "    return img_input, rand, number, sum"
      ],
      "execution_count": null,
      "outputs": []
    },
    {
      "cell_type": "code",
      "metadata": {
        "id": "DafrDoYdNvEL"
      },
      "source": [
        "train_transforms = transforms.Compose([\n",
        "                    #transforms.ToPILImage(),\n",
        "                    transforms.RandomAffine(degrees=20, translate=(0.1,0.1), scale=(0.9, 1.1)),\n",
        "                    transforms.ColorJitter(brightness=0.2, contrast=0.2),\n",
        "                    transforms.ToTensor(),\n",
        "                    transforms.Normalize((0.1307,), (0.3081,))\n",
        "                  ])\n",
        "\n",
        "test_transforms = transforms.Compose([\n",
        "                      transforms.ToTensor(),\n",
        "                      transforms.Normalize((0.1307,), (0.3081,))\n",
        "                  ])\n",
        "train_dataset = IdentityAdderDataset(train=True, transform=train_transforms)\n",
        "test_dataset = IdentityAdderDataset(train=True, transform=test_transforms)\n",
        "eval_dataset = IdentityAdderDataset(train=False, transform=test_transforms)"
      ],
      "execution_count": null,
      "outputs": []
    },
    {
      "cell_type": "code",
      "metadata": {
        "id": "FG6Ge-9cTBMF"
      },
      "source": [
        "# set seed\n",
        "random_seed = 1\n",
        "torch.manual_seed(random_seed)\n",
        "batch_size = 128\n",
        "kwargs = {'num_workers': 2, 'pin_memory': True} if use_cuda else {}\n",
        "\n",
        "ratio = 0.2\n",
        "num_train = len(train_dataset)\n",
        "indices = list(range(num_train))\n",
        "split = int(np.floor(ratio * num_train))\n",
        "\n",
        "np.random.seed(random_seed)\n",
        "np.random.shuffle(indices)\n",
        "\n",
        "train_idx, test_idx = indices[split:], indices[:split]\n",
        "train_sampler = SubsetRandomSampler(train_idx)\n",
        "test_sampler = SubsetRandomSampler(test_idx)\n",
        "\n",
        "# creating train data loader with transformations\n",
        "# train_loader = DataLoader(train_dataset, batch_size=batch_size, shuffle=True, **kwargs)\n",
        "train_loader = DataLoader(train_dataset, batch_size=batch_size, sampler=train_sampler, **kwargs)\n",
        "\n",
        "# creating test data loader with transformations\n",
        "#test_loader = DataLoader(test_dataset, batch_size=batch_size, shuffle=True, **kwargs)\n",
        "test_loader = DataLoader(test_dataset, batch_size=batch_size, sampler=test_sampler, **kwargs)\n",
        "\n",
        "eval_loader = DataLoader(eval_dataset, batch_size=batch_size, shuffle=True, **kwargs)"
      ],
      "execution_count": null,
      "outputs": []
    },
    {
      "cell_type": "code",
      "metadata": {
        "colab": {
          "base_uri": "https://localhost:8080/"
        },
        "id": "6E2uxs1-Xov6",
        "outputId": "6deff0b4-cc57-4e57-dd4d-50691785a3d3"
      },
      "source": [
        "print(f'Training Dataset size: {len(train_idx)}')\n",
        "print(f'Validation Dataset size: {len(test_idx)}') \n",
        "print(f'Test.Evaluation Dataset size: {len(eval_dataset)}') "
      ],
      "execution_count": null,
      "outputs": [
        {
          "output_type": "stream",
          "text": [
            "Training Dataset size: 48000\n",
            "Validation Dataset size: 12000\n",
            "Test.Evaluation Dataset size: 10000\n"
          ],
          "name": "stdout"
        }
      ]
    },
    {
      "cell_type": "markdown",
      "metadata": {
        "id": "xrPrNX7UvwxF"
      },
      "source": [
        "### View dataset\n",
        "---\n",
        "\n",
        "1) Training dataset"
      ]
    },
    {
      "cell_type": "code",
      "metadata": {
        "id": "aXPI2tqQAIEO",
        "colab": {
          "base_uri": "https://localhost:8080/",
          "height": 646
        },
        "outputId": "3ed4be24-61d4-460a-ef98-a7258d9532b4"
      },
      "source": [
        "view_dataset(train_loader,'Train Data')"
      ],
      "execution_count": null,
      "outputs": [
        {
          "output_type": "display_data",
          "data": {
            "image/png": "[encoded data removed]",
            "text/plain": [
              "<Figure size 720x720 with 9 Axes>"
            ]
          },
          "metadata": {
            "tags": [],
            "needs_background": "light"
          }
        }
      ]
    },
    {
      "cell_type": "markdown",
      "metadata": {
        "id": "Uccx5iHGv526"
      },
      "source": [
        "2) Test dataset"
      ]
    },
    {
      "cell_type": "code",
      "metadata": {
        "colab": {
          "base_uri": "https://localhost:8080/",
          "height": 646
        },
        "id": "QBg1ElBSt59V",
        "outputId": "a0623f26-ac80-4e63-ce97-762b25e1a5c3"
      },
      "source": [
        "view_dataset(test_loader, 'Test Data')"
      ],
      "execution_count": null,
      "outputs": [
        {
          "output_type": "display_data",
          "data": {
            "image/png": "[encoded data removed]",
            "text/plain": [
              "<Figure size 720x720 with 9 Axes>"
            ]
          },
          "metadata": {
            "tags": [],
            "needs_background": "light"
          }
        }
      ]
    },
    {
      "cell_type": "markdown",
      "metadata": {
        "id": "7D5ZrI5uxJHG"
      },
      "source": [
        "3) Evaluation Dataset"
      ]
    },
    {
      "cell_type": "code",
      "metadata": {
        "colab": {
          "base_uri": "https://localhost:8080/",
          "height": 646
        },
        "id": "GJmqT1A3Seaa",
        "outputId": "b9885353-dae5-4358-eb7b-f249372e876c"
      },
      "source": [
        "view_dataset(eval_loader, 'Evaluation Data')"
      ],
      "execution_count": null,
      "outputs": [
        {
          "output_type": "display_data",
          "data": {
            "image/png": "[encoded data removed]",
            "text/plain": [
              "<Figure size 720x720 with 9 Axes>"
            ]
          },
          "metadata": {
            "tags": [],
            "needs_background": "light"
          }
        }
      ]
    },
    {
      "cell_type": "markdown",
      "metadata": {
        "id": "9eXyvUafQLC2"
      },
      "source": [
        "## Model\n",
        "---\n"
      ]
    },
    {
      "cell_type": "code",
      "metadata": {
        "id": "0_ZzeNH5P4Cl"
      },
      "source": [
        "class IdentityAdderModel(nn.Module):\n",
        "  def __init__(self, num_channels=1, img_classes=10, sum_classes=19, dropout=0.1):\n",
        "    super(IdentityAdderModel, self).__init__()\n",
        "    self.num_channels = num_channels\n",
        "    self.img_classes = img_classes\n",
        "    self.sum_classes = sum_classes\n",
        "    self.dropout = dropout\n",
        "\n",
        "    # block 1\n",
        "    self.conv1 = nn.Sequential(\n",
        "        nn.Conv2d(self.num_channels, 8, 3, padding=1,bias=False),   #Input : 28*28*1 - Output : 28*28*8 -  RF : 3*3\n",
        "        nn.ReLU(),            \n",
        "        nn.BatchNorm2d(8),\n",
        "        nn.Dropout(self.dropout)\n",
        "    )\n",
        "    self.conv2 = nn.Sequential(\n",
        "        nn.Conv2d(8, 8, 3, padding=1,bias=False),  #Input : 28*28*8 - Output : 28*28*8 -  RF : 5*5\n",
        "        nn.ReLU(),            \n",
        "        nn.BatchNorm2d(8),\n",
        "        nn.Dropout(self.dropout)\n",
        "    )\n",
        "    self.pool1 = nn.MaxPool2d(2, 2)                 #Input : 28*28*8 - Output : 14*14*8 -  RF : 6*6\n",
        "\n",
        "    # block 2\n",
        "    self.conv3 = nn.Sequential(\n",
        "        nn.Conv2d(8, 16, 3, padding=1,bias=False),  #Input : 14*14*8 - Output : 14*14*16 -  RF : 10*10\n",
        "        nn.ReLU(),            \n",
        "        nn.BatchNorm2d(16),\n",
        "        nn.Dropout(self.dropout)\n",
        "    )\n",
        "    self.conv4 = nn.Sequential(\n",
        "        nn.Conv2d(16, 16, 3, padding=1,bias=False),  #Input : 14*14*16 - Output : 14*14*16 -  RF : 14*14\n",
        "        nn.ReLU(),            \n",
        "        nn.BatchNorm2d(16),\n",
        "        nn.Dropout(self.dropout)\n",
        "    )\n",
        "    self.pool2 = nn.MaxPool2d(2, 2)                          #Input : 14*14*16 - Output : 7*7*16 -  RF : 16*16\n",
        "\n",
        "    # block 3\n",
        "    self.conv5 = nn.Sequential(\n",
        "        nn.Conv2d(16, 16, 3, padding=1, bias=False),             #Input : 7*7*16 - Output : 7*7*16 -  RF : 24*24\n",
        "        nn.ReLU(),            \n",
        "        nn.BatchNorm2d(16)\n",
        "    )\n",
        "    self.conv6 = nn.Sequential(\n",
        "        nn.Conv2d(16, 16, 3,bias=False),             #Input : 7*7*16 - Output : 5*5*32 -  RF : 32*32\n",
        "        nn.ReLU(),            \n",
        "        nn.BatchNorm2d(16),\n",
        "        nn.Dropout(self.dropout)\n",
        "    )\n",
        "    self.gap = nn.AvgPool2d(kernel_size=5)\n",
        "    self.flatten = nn.Flatten()\n",
        "\n",
        "    self.fc1 = nn.Sequential(\n",
        "        nn.Linear(16, 20, bias=False),\n",
        "        nn.BatchNorm1d(20),\n",
        "        nn.ReLU()\n",
        "    )\n",
        "    self.fc2 = nn.Sequential(\n",
        "        nn.Linear(30, 64, bias=False),\n",
        "        nn.BatchNorm1d(64),\n",
        "        nn.ReLU()\n",
        "    )\n",
        "    self.out_num = nn.Sequential(\n",
        "        nn.Linear(64, self.img_classes, bias=False)\n",
        "    )\n",
        "    self.out_sum = nn.Sequential(\n",
        "        nn.Linear(64, self.sum_classes, bias=False)\n",
        "    )\n",
        "  \n",
        "  def forward(self, img, num):\n",
        "    x = self.conv1(img)\n",
        "    x = self.conv2(x)\n",
        "    x = self.pool1(x)\n",
        "\n",
        "    x = self.conv3(x)\n",
        "    x = self.conv4(x)\n",
        "    x = self.pool2(x)\n",
        "\n",
        "    x = self.conv5(x)\n",
        "    x = self.conv6(x)\n",
        "    x = self.gap(x)\n",
        "    x = self.flatten(x)\n",
        "    x = self.fc1(x)\n",
        "\n",
        "    inp2 = torch.squeeze(F.one_hot(num.long(), num_classes=self.img_classes), dim=1)\n",
        "    inp = torch.cat([x, inp2], 1)\n",
        "    x = self.fc2(inp)\n",
        "\n",
        "    y1 = self.out_num(x)\n",
        "    y2 = self.out_sum(x)\n",
        "\n",
        "    return y1, y2"
      ],
      "execution_count": null,
      "outputs": []
    },
    {
      "cell_type": "markdown",
      "metadata": {
        "id": "AmEfCn78w7B3"
      },
      "source": [
        "**Model Summary**"
      ]
    },
    {
      "cell_type": "code",
      "metadata": {
        "id": "e1_tiWckxjk9",
        "colab": {
          "base_uri": "https://localhost:8080/"
        },
        "outputId": "45c133a2-415d-4d77-c904-17f15ce1153b"
      },
      "source": [
        "model = IdentityAdderModel().to(device)\n",
        "summary(model, input_size=[[1, 28, 28],[1]], batch_size=1)"
      ],
      "execution_count": null,
      "outputs": [
        {
          "output_type": "stream",
          "text": [
            "----------------------------------------------------------------\n",
            "        Layer (type)               Output Shape         Param #\n",
            "================================================================\n",
            "            Conv2d-1             [1, 8, 28, 28]              72\n",
            "              ReLU-2             [1, 8, 28, 28]               0\n",
            "       BatchNorm2d-3             [1, 8, 28, 28]              16\n",
            "           Dropout-4             [1, 8, 28, 28]               0\n",
            "            Conv2d-5             [1, 8, 28, 28]             576\n",
            "              ReLU-6             [1, 8, 28, 28]               0\n",
            "       BatchNorm2d-7             [1, 8, 28, 28]              16\n",
            "           Dropout-8             [1, 8, 28, 28]               0\n",
            "         MaxPool2d-9             [1, 8, 14, 14]               0\n",
            "           Conv2d-10            [1, 16, 14, 14]           1,152\n",
            "             ReLU-11            [1, 16, 14, 14]               0\n",
            "      BatchNorm2d-12            [1, 16, 14, 14]              32\n",
            "          Dropout-13            [1, 16, 14, 14]               0\n",
            "           Conv2d-14            [1, 16, 14, 14]           2,304\n",
            "             ReLU-15            [1, 16, 14, 14]               0\n",
            "      BatchNorm2d-16            [1, 16, 14, 14]              32\n",
            "          Dropout-17            [1, 16, 14, 14]               0\n",
            "        MaxPool2d-18              [1, 16, 7, 7]               0\n",
            "           Conv2d-19              [1, 16, 7, 7]           2,304\n",
            "             ReLU-20              [1, 16, 7, 7]               0\n",
            "      BatchNorm2d-21              [1, 16, 7, 7]              32\n",
            "           Conv2d-22              [1, 16, 5, 5]           2,304\n",
            "             ReLU-23              [1, 16, 5, 5]               0\n",
            "      BatchNorm2d-24              [1, 16, 5, 5]              32\n",
            "          Dropout-25              [1, 16, 5, 5]               0\n",
            "        AvgPool2d-26              [1, 16, 1, 1]               0\n",
            "          Flatten-27                    [1, 16]               0\n",
            "           Linear-28                    [1, 20]             320\n",
            "      BatchNorm1d-29                    [1, 20]              40\n",
            "             ReLU-30                    [1, 20]               0\n",
            "           Linear-31                    [1, 64]           1,920\n",
            "      BatchNorm1d-32                    [1, 64]             128\n",
            "             ReLU-33                    [1, 64]               0\n",
            "           Linear-34                    [1, 10]             640\n",
            "           Linear-35                    [1, 19]           1,216\n",
            "================================================================\n",
            "Total params: 13,136\n",
            "Trainable params: 13,136\n",
            "Non-trainable params: 0\n",
            "----------------------------------------------------------------\n",
            "Input size (MB): 0.00\n",
            "Forward/backward pass size (MB): 0.62\n",
            "Params size (MB): 0.05\n",
            "Estimated Total Size (MB): 0.68\n",
            "----------------------------------------------------------------\n"
          ],
          "name": "stdout"
        }
      ]
    },
    {
      "cell_type": "markdown",
      "metadata": {
        "id": "TzjRDAhDxpi2"
      },
      "source": [
        "## Training, Testing and Evaluation Code\n",
        "---"
      ]
    },
    {
      "cell_type": "code",
      "metadata": {
        "id": "c8cNXZBEWyNV"
      },
      "source": [
        "from tqdm import tqdm\n",
        "\n",
        "train_losses = []\n",
        "test_losses = []\n",
        "train_acc = []\n",
        "test_acc = []\n",
        "\n",
        "def train(model, device, train_loader, criterion, optimizer, epoch, scheduler=None):\n",
        "  model.train()\n",
        "  pbar = tqdm(train_loader)\n",
        "  correct = 0\n",
        "  processed = 0\n",
        "  for batch_idx, (inp1, inp2, num, sum) in enumerate(pbar):\n",
        "    # get samples\n",
        "    inp1, inp2, num, sum = inp1.to(device), inp2.to(device), num.to(device), sum.to(device)\n",
        "\n",
        "    # Init\n",
        "    optimizer.zero_grad()\n",
        "    # In PyTorch, we need to set the gradients to zero before starting to do backpropragation because PyTorch accumulates the gradients on subsequent backward passes. \n",
        "    # Because of this, when you start your training loop, ideally you should zero out the gradients so that you do the parameter update correctly.\n",
        "\n",
        "    # Predict\n",
        "    out1, out2 = model(inp1, inp2)\n",
        "\n",
        "    # Calculate loss\n",
        "    loss = criterion(out1, num) + criterion(out2, sum)\n",
        "    train_losses.append(loss)\n",
        "\n",
        "    # Backpropagation\n",
        "    loss.backward()\n",
        "    optimizer.step()\n",
        "    if scheduler is not None:\n",
        "\t\t    scheduler.step()\n",
        "\n",
        "    # Update pbar-tqdm\n",
        "    \n",
        "    pred1 = (F.log_softmax(out1, dim=1)).argmax(dim=1, keepdim=True) #out1.argmax(dim=1, keepdim=True)  # get the index of the max log-probability\n",
        "    pred2 = (F.log_softmax(out2, dim=1)).argmax(dim=1, keepdim=True) #out2.argmax(dim=1, keepdim=True)  # get the index of the max log-probability\n",
        "    correct += torch.logical_and(pred1.eq(num.view_as(pred1)), pred2.eq(sum.view_as(pred2))).sum().item()\n",
        "    processed += len(inp1)\n",
        "\n",
        "    pbar.set_description(desc= f'Loss={loss.item()} Batch_id={batch_idx} Accuracy={100*correct/processed:0.2f}')\n",
        "    train_acc.append(100*correct/processed)\n",
        "\n",
        "def test(model, device, test_loader, criterion, scheduler=None):\n",
        "    model.eval()\n",
        "    test_loss = 0\n",
        "    correct = 0\n",
        "    with torch.no_grad():\n",
        "        for inp1, inp2, num, sum in test_loader:\n",
        "            # get samples\n",
        "            inp1, inp2, num, sum = inp1.to(device), inp2.to(device), num.to(device), sum.to(device)\n",
        "            out1, out2 = model(inp1, inp2)\n",
        "            # Calculate loss\n",
        "            loss = criterion(out1, num) + criterion(out2, sum)\n",
        "            test_loss += torch.sum(loss).item()  # sum up batch loss\n",
        "            pred1 = (F.log_softmax(out1, dim=1)).argmax(dim=1, keepdim=True) #out1.argmax(dim=1, keepdim=True)  # get the index of the max log-probability\n",
        "            pred2 = (F.log_softmax(out2, dim=1)).argmax(dim=1, keepdim=True) #out2.argmax(dim=1, keepdim=True)  # get the index of the max log-probability\n",
        "            correct += torch.logical_and(pred1.eq(num.view_as(pred1)), pred2.eq(sum.view_as(pred2))).sum().item()\n",
        "\n",
        "    test_loss /= len(test_loader.sampler)\n",
        "    if scheduler is not None:\n",
        "\t\t    scheduler.step(test_loss)\n",
        "    test_losses.append(test_loss)\n",
        "\n",
        "    print('\\nTest set: Average loss: {:.4f}, Accuracy: {}/{} ({:.2f}%)\\n'.format(\n",
        "        test_loss, correct, len(test_loader.sampler),\n",
        "        100. * correct / len(test_loader.sampler)))\n",
        "    \n",
        "    test_acc.append(100. * correct / len(test_loader.sampler))\n",
        "\n",
        "\n",
        "# Evaluate model\n",
        "\n",
        "def evaluate(model, device, test_loader, criterion):\n",
        "    model.eval()\n",
        "    test_loss = 0\n",
        "    correct = 0\n",
        "    loss_num = 0\n",
        "    loss_sum = 0\n",
        "    correct_num = 0\n",
        "    correct_sum = 0\n",
        "    with torch.no_grad():\n",
        "        for image, rand_num, num, sum in test_loader:\n",
        "            # get samples\n",
        "            image, rand_num, num, sum = image.to(device), rand_num.to(device), num.to(device), sum.to(device)\n",
        "            out_num, out_sum = model(image, rand_num)\n",
        "            # Calculate loss\n",
        "            loss_num += torch.sum(criterion(out_num, num)).item()\n",
        "            loss_sum += torch.sum(criterion(out_sum, sum)).item()\n",
        "            loss = criterion(out_num, num) + criterion(out_sum, sum)\n",
        "            test_loss += torch.sum(loss).item()  # sum up batch loss\n",
        "            pred_num = (F.log_softmax(out_num, dim=1)).argmax(dim=1, keepdim=True) #out1.argmax(dim=1, keepdim=True)  # get the index of the max log-probability\n",
        "            pred_sum = (F.log_softmax(out_sum, dim=1)).argmax(dim=1, keepdim=True) #out2.argmax(dim=1, keepdim=True)  # get the index of the max log-probability\n",
        "            correct_num += pred_num.eq(num.view_as(pred_num)).sum().item()\n",
        "            correct_sum += pred_sum.eq(sum.view_as(pred_sum)).sum().item()\n",
        "            correct += torch.logical_and(pred_num.eq(num.view_as(pred_num)), pred_sum.eq(sum.view_as(pred_sum))).sum().item()\n",
        "\n",
        "    test_loss /= len(test_loader.dataset)\n",
        "    test_losses.append(test_loss)\n",
        "\n",
        "    avg_loss_num = loss_num / len(test_loader.dataset)\n",
        "    avg_loss_sum = loss_sum / len(test_loader.dataset)\n",
        "    avg_loss = test_loss\n",
        "\n",
        "    acc_num = 100. * correct_num / len(test_loader.dataset)\n",
        "    acc_sum = 100. * correct_sum / len(test_loader.dataset)\n",
        "    acc = 100. * correct / len(test_loader.dataset)\n",
        "\n",
        "    print('+--------------------------+')\n",
        "    print('   Model Evaluation Result')\n",
        "    print('+--------------------------+')\n",
        "    print(f'Average Loss for MNIST Number Prediction: {avg_loss_num}')\n",
        "    print(f'Average Loss for Sum Prediction: {avg_loss_sum}')\n",
        "    print(f'Average Loss for both Prediction: {avg_loss_num}')\n",
        "    print(f'Accuracy for Sum Prediction: {acc_sum}')\n",
        "    print(f'Accuracy for MNIST Number Prediction: {acc_num}')\n",
        "    print(f'Accuracy for both Prediction: {acc}')\n",
        "    print('+--------------------------+')"
      ],
      "execution_count": null,
      "outputs": []
    },
    {
      "cell_type": "markdown",
      "metadata": {
        "id": "87Xg2WYnxKby"
      },
      "source": [
        "## Experimentation\n",
        "---"
      ]
    },
    {
      "cell_type": "markdown",
      "metadata": {
        "id": "23A8wa-xyreA"
      },
      "source": [
        "#### With LR=0.01\n",
        "---\n",
        "\n",
        "**Model Building and Training**"
      ]
    },
    {
      "cell_type": "code",
      "metadata": {
        "colab": {
          "base_uri": "https://localhost:8080/"
        },
        "id": "2X5fXKXBneh9",
        "outputId": "1b5fb16f-c160-4928-a2b8-fa904d9d87d4"
      },
      "source": [
        "# Instantiate the model\n",
        "model = IdentityAdderModel().to(device)\n",
        "criterion = nn.CrossEntropyLoss()\n",
        "# Define the optimizer\n",
        "optimizer = optim.SGD(model.parameters(), lr=0.01, momentum=0.9)\n",
        "\n",
        "epochs = 15\n",
        "\n",
        "for epoch in range(1, epochs+1):\n",
        "    print(f'\\nEPOCH {epoch}/{epochs}')\n",
        "    train(model, device, train_loader, criterion, optimizer, epoch)\n",
        "    test(model, device, test_loader, criterion)"
      ],
      "execution_count": null,
      "outputs": [
        {
          "output_type": "stream",
          "text": [
            "\r  0%|          | 0/375 [00:00<?, ?it/s]"
          ],
          "name": "stderr"
        },
        {
          "output_type": "stream",
          "text": [
            "\n",
            "EPOCH 1/15\n"
          ],
          "name": "stdout"
        },
        {
          "output_type": "stream",
          "text": [
            "Loss=1.0322102308273315 Batch_id=374 Accuracy=44.63: 100%|██████████| 375/375 [00:23<00:00, 16.18it/s]\n",
            "  0%|          | 0/375 [00:00<?, ?it/s]"
          ],
          "name": "stderr"
        },
        {
          "output_type": "stream",
          "text": [
            "\n",
            "Test set: Average loss: 0.0076, Accuracy: 10928/12000 (91.07%)\n",
            "\n",
            "\n",
            "EPOCH 2/15\n"
          ],
          "name": "stdout"
        },
        {
          "output_type": "stream",
          "text": [
            "Loss=0.4946836233139038 Batch_id=374 Accuracy=93.14: 100%|██████████| 375/375 [00:23<00:00, 16.19it/s]\n",
            "  0%|          | 0/375 [00:00<?, ?it/s]"
          ],
          "name": "stderr"
        },
        {
          "output_type": "stream",
          "text": [
            "\n",
            "Test set: Average loss: 0.0020, Accuracy: 11622/12000 (96.85%)\n",
            "\n",
            "\n",
            "EPOCH 3/15\n"
          ],
          "name": "stdout"
        },
        {
          "output_type": "stream",
          "text": [
            "Loss=0.27549850940704346 Batch_id=374 Accuracy=95.51: 100%|██████████| 375/375 [00:23<00:00, 16.03it/s]\n",
            "  0%|          | 0/375 [00:00<?, ?it/s]"
          ],
          "name": "stderr"
        },
        {
          "output_type": "stream",
          "text": [
            "\n",
            "Test set: Average loss: 0.0016, Accuracy: 11629/12000 (96.91%)\n",
            "\n",
            "\n",
            "EPOCH 4/15\n"
          ],
          "name": "stdout"
        },
        {
          "output_type": "stream",
          "text": [
            "Loss=0.23915772140026093 Batch_id=374 Accuracy=96.25: 100%|██████████| 375/375 [00:22<00:00, 16.38it/s]\n",
            "  0%|          | 0/375 [00:00<?, ?it/s]"
          ],
          "name": "stderr"
        },
        {
          "output_type": "stream",
          "text": [
            "\n",
            "Test set: Average loss: 0.0010, Accuracy: 11775/12000 (98.12%)\n",
            "\n",
            "\n",
            "EPOCH 5/15\n"
          ],
          "name": "stdout"
        },
        {
          "output_type": "stream",
          "text": [
            "Loss=0.07156952470541 Batch_id=374 Accuracy=96.45: 100%|██████████| 375/375 [00:23<00:00, 16.10it/s]\n",
            "  0%|          | 0/375 [00:00<?, ?it/s]"
          ],
          "name": "stderr"
        },
        {
          "output_type": "stream",
          "text": [
            "\n",
            "Test set: Average loss: 0.0011, Accuracy: 11753/12000 (97.94%)\n",
            "\n",
            "\n",
            "EPOCH 6/15\n"
          ],
          "name": "stdout"
        },
        {
          "output_type": "stream",
          "text": [
            "Loss=0.09192883968353271 Batch_id=374 Accuracy=96.89: 100%|██████████| 375/375 [00:23<00:00, 16.19it/s]\n",
            "  0%|          | 0/375 [00:00<?, ?it/s]"
          ],
          "name": "stderr"
        },
        {
          "output_type": "stream",
          "text": [
            "\n",
            "Test set: Average loss: 0.0010, Accuracy: 11756/12000 (97.97%)\n",
            "\n",
            "\n",
            "EPOCH 7/15\n"
          ],
          "name": "stdout"
        },
        {
          "output_type": "stream",
          "text": [
            "Loss=0.31063559651374817 Batch_id=374 Accuracy=97.13: 100%|██████████| 375/375 [00:22<00:00, 16.35it/s]\n",
            "  0%|          | 0/375 [00:00<?, ?it/s]"
          ],
          "name": "stderr"
        },
        {
          "output_type": "stream",
          "text": [
            "\n",
            "Test set: Average loss: 0.0008, Accuracy: 11796/12000 (98.30%)\n",
            "\n",
            "\n",
            "EPOCH 8/15\n"
          ],
          "name": "stdout"
        },
        {
          "output_type": "stream",
          "text": [
            "Loss=0.09314237534999847 Batch_id=374 Accuracy=97.19: 100%|██████████| 375/375 [00:22<00:00, 16.44it/s]\n",
            "  0%|          | 0/375 [00:00<?, ?it/s]"
          ],
          "name": "stderr"
        },
        {
          "output_type": "stream",
          "text": [
            "\n",
            "Test set: Average loss: 0.0008, Accuracy: 11794/12000 (98.28%)\n",
            "\n",
            "\n",
            "EPOCH 9/15\n"
          ],
          "name": "stdout"
        },
        {
          "output_type": "stream",
          "text": [
            "Loss=0.16797074675559998 Batch_id=374 Accuracy=97.43: 100%|██████████| 375/375 [00:22<00:00, 16.33it/s]\n",
            "  0%|          | 0/375 [00:00<?, ?it/s]"
          ],
          "name": "stderr"
        },
        {
          "output_type": "stream",
          "text": [
            "\n",
            "Test set: Average loss: 0.0006, Accuracy: 11848/12000 (98.73%)\n",
            "\n",
            "\n",
            "EPOCH 10/15\n"
          ],
          "name": "stdout"
        },
        {
          "output_type": "stream",
          "text": [
            "Loss=0.047105997800827026 Batch_id=374 Accuracy=97.39: 100%|██████████| 375/375 [00:22<00:00, 16.36it/s]\n",
            "  0%|          | 0/375 [00:00<?, ?it/s]"
          ],
          "name": "stderr"
        },
        {
          "output_type": "stream",
          "text": [
            "\n",
            "Test set: Average loss: 0.0007, Accuracy: 11836/12000 (98.63%)\n",
            "\n",
            "\n",
            "EPOCH 11/15\n"
          ],
          "name": "stdout"
        },
        {
          "output_type": "stream",
          "text": [
            "Loss=0.12345760315656662 Batch_id=374 Accuracy=97.47: 100%|██████████| 375/375 [00:23<00:00, 16.26it/s]\n",
            "  0%|          | 0/375 [00:00<?, ?it/s]"
          ],
          "name": "stderr"
        },
        {
          "output_type": "stream",
          "text": [
            "\n",
            "Test set: Average loss: 0.0008, Accuracy: 11814/12000 (98.45%)\n",
            "\n",
            "\n",
            "EPOCH 12/15\n"
          ],
          "name": "stdout"
        },
        {
          "output_type": "stream",
          "text": [
            "Loss=0.07551822811365128 Batch_id=374 Accuracy=97.56: 100%|██████████| 375/375 [00:22<00:00, 16.40it/s]\n",
            "  0%|          | 0/375 [00:00<?, ?it/s]"
          ],
          "name": "stderr"
        },
        {
          "output_type": "stream",
          "text": [
            "\n",
            "Test set: Average loss: 0.0007, Accuracy: 11827/12000 (98.56%)\n",
            "\n",
            "\n",
            "EPOCH 13/15\n"
          ],
          "name": "stdout"
        },
        {
          "output_type": "stream",
          "text": [
            "Loss=0.10593828558921814 Batch_id=374 Accuracy=97.58: 100%|██████████| 375/375 [00:22<00:00, 16.30it/s]\n",
            "  0%|          | 0/375 [00:00<?, ?it/s]"
          ],
          "name": "stderr"
        },
        {
          "output_type": "stream",
          "text": [
            "\n",
            "Test set: Average loss: 0.0006, Accuracy: 11852/12000 (98.77%)\n",
            "\n",
            "\n",
            "EPOCH 14/15\n"
          ],
          "name": "stdout"
        },
        {
          "output_type": "stream",
          "text": [
            "Loss=0.061090365052223206 Batch_id=374 Accuracy=97.75: 100%|██████████| 375/375 [00:22<00:00, 16.44it/s]\n",
            "  0%|          | 0/375 [00:00<?, ?it/s]"
          ],
          "name": "stderr"
        },
        {
          "output_type": "stream",
          "text": [
            "\n",
            "Test set: Average loss: 0.0006, Accuracy: 11859/12000 (98.83%)\n",
            "\n",
            "\n",
            "EPOCH 15/15\n"
          ],
          "name": "stdout"
        },
        {
          "output_type": "stream",
          "text": [
            "Loss=0.35829782485961914 Batch_id=374 Accuracy=97.84: 100%|██████████| 375/375 [00:22<00:00, 16.40it/s]\n"
          ],
          "name": "stderr"
        },
        {
          "output_type": "stream",
          "text": [
            "\n",
            "Test set: Average loss: 0.0006, Accuracy: 11861/12000 (98.84%)\n",
            "\n"
          ],
          "name": "stdout"
        }
      ]
    },
    {
      "cell_type": "markdown",
      "metadata": {
        "id": "Sdg_jPhowmX4"
      },
      "source": [
        "Save model"
      ]
    },
    {
      "cell_type": "code",
      "metadata": {
        "colab": {
          "base_uri": "https://localhost:8080/"
        },
        "id": "YmHGgIlB4KBs",
        "outputId": "8f5b1aa9-8a78-45d1-941b-1bb5ea5c31f0"
      },
      "source": [
        "print(\"\\n Saving trained model...\")\n",
        "torch.save(model.state_dict(), \"./model/final_model.pth\")"
      ],
      "execution_count": null,
      "outputs": [
        {
          "output_type": "stream",
          "text": [
            "\n",
            " Saving trained model...\n"
          ],
          "name": "stdout"
        }
      ]
    },
    {
      "cell_type": "markdown",
      "metadata": {
        "id": "A173fgRhwZb7"
      },
      "source": [
        "#### View Accuracy and Loss while model training and testing\n",
        "---"
      ]
    },
    {
      "cell_type": "code",
      "metadata": {
        "colab": {
          "base_uri": "https://localhost:8080/",
          "height": 641
        },
        "id": "9Wppq7iNzKvT",
        "outputId": "b85380f1-5a13-4f5f-c536-c499b3e91ada"
      },
      "source": [
        "print(\"\\n Visualizing:\")\n",
        "visualize_graph(train_losses, train_acc, test_losses, test_acc)"
      ],
      "execution_count": null,
      "outputs": [
        {
          "output_type": "stream",
          "text": [
            "\n",
            " Visualizing:\n"
          ],
          "name": "stdout"
        },
        {
          "output_type": "display_data",
          "data": {
            "image/png": "[encoded data removed]",
            "text/plain": [
              "<Figure size 1080x720 with 4 Axes>"
            ]
          },
          "metadata": {
            "tags": [],
            "needs_background": "light"
          }
        }
      ]
    },
    {
      "cell_type": "markdown",
      "metadata": {
        "id": "0Gfjo9owwPEo"
      },
      "source": [
        "#### Train versus Test Accuracy Plot\n",
        "---"
      ]
    },
    {
      "cell_type": "code",
      "metadata": {
        "colab": {
          "base_uri": "https://localhost:8080/",
          "height": 621
        },
        "id": "iyWLNdC-zW6n",
        "outputId": "2295cda0-53a2-466d-d30a-3b12114ee630"
      },
      "source": [
        "dict_list = {'Training Accuracy': train_acc, 'Test Accuracy': test_acc}\n",
        "title = \"Training vs Test Accuracy\"\n",
        "xlabel = \"Epochs\"\n",
        "ylabel = \"Accuracy(in Percentage)\"\n",
        "name = \"train_vs_test_acc_comparison_graph\"\n",
        "\n",
        "visualize_save_train_vs_test_graph(epochs, dict_list, title, xlabel, ylabel, \"./visualization\", name=name)"
      ],
      "execution_count": null,
      "outputs": [
        {
          "output_type": "display_data",
          "data": {
            "image/png": "[encoded data removed]",
            "text/plain": [
              "<Figure size 1440x720 with 1 Axes>"
            ]
          },
          "metadata": {
            "tags": [],
            "needs_background": "light"
          }
        }
      ]
    },
    {
      "cell_type": "markdown",
      "metadata": {
        "id": "4SAKGEA_wDIi"
      },
      "source": [
        "#### Evalution Metrics on Evaluation Dataset\n",
        "---"
      ]
    },
    {
      "cell_type": "code",
      "metadata": {
        "colab": {
          "base_uri": "https://localhost:8080/"
        },
        "id": "gJGY52wszmwA",
        "outputId": "ad4f76ac-a1b2-4688-d45d-dceb4db03703"
      },
      "source": [
        "evaluate(model, device, eval_loader, criterion)"
      ],
      "execution_count": null,
      "outputs": [
        {
          "output_type": "stream",
          "text": [
            "+--------------------------+\n",
            "   Model Evaluation Result\n",
            "+--------------------------+\n",
            "Average Loss for MNIST Number Prediction: 0.00021177259932737797\n",
            "Average Loss for Sum Prediction: 0.0002466738427290693\n",
            "Average Loss for both Prediction: 0.00021177259932737797\n",
            "Accuracy for Sum Prediction: 99.12\n",
            "Accuracy for MNIST Number Prediction: 99.16\n",
            "Accuracy for both Prediction: 99.0\n",
            "+--------------------------+\n"
          ],
          "name": "stdout"
        }
      ]
    },
    {
      "cell_type": "markdown",
      "metadata": {
        "id": "NwoDAqTwv7M9"
      },
      "source": [
        "#### View Model Predictions for Evaluation dataset\n",
        "---"
      ]
    },
    {
      "cell_type": "code",
      "metadata": {
        "colab": {
          "base_uri": "https://localhost:8080/",
          "height": 770
        },
        "id": "_sjQU_4czrQn",
        "outputId": "1b0f4114-f966-4036-a020-87a725a28dd5"
      },
      "source": [
        "display_model_eval(model, eval_loader)"
      ],
      "execution_count": null,
      "outputs": [
        {
          "output_type": "display_data",
          "data": {
            "image/png": "[encoded data removed]",
            "text/plain": [
              "<Figure size 864x864 with 9 Axes>"
            ]
          },
          "metadata": {
            "tags": [],
            "needs_background": "light"
          }
        }
      ]
    },
    {
      "cell_type": "markdown",
      "metadata": {
        "id": "D0YEThoRvz2f"
      },
      "source": [
        "### Save as ONNX model"
      ]
    },
    {
      "cell_type": "code",
      "metadata": {
        "colab": {
          "base_uri": "https://localhost:8080/"
        },
        "id": "00MwHKPM45xs",
        "outputId": "b39b04ee-7005-455f-a3e6-079ec8e95aed"
      },
      "source": [
        "import torch.onnx\n",
        "import netron\n",
        "\n",
        "dataiter = iter(test_loader)\n",
        "images, numbers, _, _ = dataiter.next()\n",
        "with torch.no_grad():\n",
        "    images, numbers = images.to(device), numbers.to(device)\n",
        "    images, numbers = images.cpu(), numbers.cpu()\n",
        "    image = images[0].cpu().unsqueeze(0)\n",
        "    number = numbers[0].cpu().unsqueeze(0).unsqueeze(0)\n",
        "    m = IdentityAdderModel()\n",
        "    o = m(images, numbers)\n",
        "    \n",
        "    onnx_path = \"onnx_identity_adder_model.onnx\"\n",
        "    torch.onnx.export(m, (image, number), onnx_path)\n",
        "    \n",
        "    netron.start(onnx_path)"
      ],
      "execution_count": null,
      "outputs": [
        {
          "output_type": "stream",
          "text": [
            "Serving 'onnx_identity_adder_model.onnx' at http://localhost:19621\n"
          ],
          "name": "stdout"
        },
        {
          "output_type": "stream",
          "text": [
            "/usr/local/lib/python3.7/dist-packages/torch/onnx/symbolic_opset9.py:662: UserWarning: This model contains a squeeze operation on dimension 1. If the model is intended to be used with dynamic input shapes, please use opset version 11 to export the model.\n",
            "  \"intended to be used with dynamic input shapes, please use opset version 11 to export the model.\")\n"
          ],
          "name": "stderr"
        }
      ]
    }
  ]
}
