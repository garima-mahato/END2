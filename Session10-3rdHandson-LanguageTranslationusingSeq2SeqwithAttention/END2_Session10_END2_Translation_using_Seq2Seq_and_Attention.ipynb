{
  "nbformat": 4,
  "nbformat_minor": 0,
  "metadata": {
    "colab": {
      "name": "END2_Session10_END2 Translation using Seq2Seq and Attention.ipynb",
      "provenance": [],
      "collapsed_sections": [],
      "machine_shape": "hm"
    },
    "kernelspec": {
      "name": "python3",
      "display_name": "Python 3"
    },
    "language_info": {
      "name": "python"
    },
    "accelerator": "GPU"
  },
  "cells": [
    {
      "cell_type": "code",
      "metadata": {
        "id": "vxCla6HFCtRH",
        "colab": {
          "base_uri": "https://localhost:8080/"
        },
        "outputId": "1ea3f1b6-9df9-448a-9efb-bfec33eef7d9"
      },
      "source": [
        "%matplotlib inline\n",
        "!pip install bcolz"
      ],
      "execution_count": 3,
      "outputs": [
        {
          "output_type": "stream",
          "text": [
            "Collecting bcolz\n",
            "\u001b[?25l  Downloading https://files.pythonhosted.org/packages/5c/4e/23942de9d5c0fb16f10335fa83e52b431bcb8c0d4a8419c9ac206268c279/bcolz-1.2.1.tar.gz (1.5MB)\n",
            "\r\u001b[K     |▎                               | 10kB 17.8MB/s eta 0:00:01\r\u001b[K     |▌                               | 20kB 24.1MB/s eta 0:00:01\r\u001b[K     |▊                               | 30kB 18.8MB/s eta 0:00:01\r\u001b[K     |█                               | 40kB 15.8MB/s eta 0:00:01\r\u001b[K     |█▏                              | 51kB 9.2MB/s eta 0:00:01\r\u001b[K     |█▍                              | 61kB 9.3MB/s eta 0:00:01\r\u001b[K     |█▋                              | 71kB 10.4MB/s eta 0:00:01\r\u001b[K     |█▉                              | 81kB 10.8MB/s eta 0:00:01\r\u001b[K     |██                              | 92kB 8.1MB/s eta 0:00:01\r\u001b[K     |██▎                             | 102kB 8.8MB/s eta 0:00:01\r\u001b[K     |██▌                             | 112kB 8.8MB/s eta 0:00:01\r\u001b[K     |██▊                             | 122kB 8.8MB/s eta 0:00:01\r\u001b[K     |███                             | 133kB 8.8MB/s eta 0:00:01\r\u001b[K     |███▏                            | 143kB 8.8MB/s eta 0:00:01\r\u001b[K     |███▍                            | 153kB 8.8MB/s eta 0:00:01\r\u001b[K     |███▋                            | 163kB 8.8MB/s eta 0:00:01\r\u001b[K     |███▉                            | 174kB 8.8MB/s eta 0:00:01\r\u001b[K     |████                            | 184kB 8.8MB/s eta 0:00:01\r\u001b[K     |████▎                           | 194kB 8.8MB/s eta 0:00:01\r\u001b[K     |████▌                           | 204kB 8.8MB/s eta 0:00:01\r\u001b[K     |████▊                           | 215kB 8.8MB/s eta 0:00:01\r\u001b[K     |█████                           | 225kB 8.8MB/s eta 0:00:01\r\u001b[K     |█████▏                          | 235kB 8.8MB/s eta 0:00:01\r\u001b[K     |█████▍                          | 245kB 8.8MB/s eta 0:00:01\r\u001b[K     |█████▋                          | 256kB 8.8MB/s eta 0:00:01\r\u001b[K     |█████▉                          | 266kB 8.8MB/s eta 0:00:01\r\u001b[K     |██████                          | 276kB 8.8MB/s eta 0:00:01\r\u001b[K     |██████▎                         | 286kB 8.8MB/s eta 0:00:01\r\u001b[K     |██████▌                         | 296kB 8.8MB/s eta 0:00:01\r\u001b[K     |██████▊                         | 307kB 8.8MB/s eta 0:00:01\r\u001b[K     |███████                         | 317kB 8.8MB/s eta 0:00:01\r\u001b[K     |███████▏                        | 327kB 8.8MB/s eta 0:00:01\r\u001b[K     |███████▍                        | 337kB 8.8MB/s eta 0:00:01\r\u001b[K     |███████▋                        | 348kB 8.8MB/s eta 0:00:01\r\u001b[K     |███████▉                        | 358kB 8.8MB/s eta 0:00:01\r\u001b[K     |████████                        | 368kB 8.8MB/s eta 0:00:01\r\u001b[K     |████████▎                       | 378kB 8.8MB/s eta 0:00:01\r\u001b[K     |████████▌                       | 389kB 8.8MB/s eta 0:00:01\r\u001b[K     |████████▊                       | 399kB 8.8MB/s eta 0:00:01\r\u001b[K     |█████████                       | 409kB 8.8MB/s eta 0:00:01\r\u001b[K     |█████████▏                      | 419kB 8.8MB/s eta 0:00:01\r\u001b[K     |█████████▍                      | 430kB 8.8MB/s eta 0:00:01\r\u001b[K     |█████████▋                      | 440kB 8.8MB/s eta 0:00:01\r\u001b[K     |█████████▉                      | 450kB 8.8MB/s eta 0:00:01\r\u001b[K     |██████████                      | 460kB 8.8MB/s eta 0:00:01\r\u001b[K     |██████████▎                     | 471kB 8.8MB/s eta 0:00:01\r\u001b[K     |██████████▋                     | 481kB 8.8MB/s eta 0:00:01\r\u001b[K     |██████████▉                     | 491kB 8.8MB/s eta 0:00:01\r\u001b[K     |███████████                     | 501kB 8.8MB/s eta 0:00:01\r\u001b[K     |███████████▎                    | 512kB 8.8MB/s eta 0:00:01\r\u001b[K     |███████████▌                    | 522kB 8.8MB/s eta 0:00:01\r\u001b[K     |███████████▊                    | 532kB 8.8MB/s eta 0:00:01\r\u001b[K     |████████████                    | 542kB 8.8MB/s eta 0:00:01\r\u001b[K     |████████████▏                   | 552kB 8.8MB/s eta 0:00:01\r\u001b[K     |████████████▍                   | 563kB 8.8MB/s eta 0:00:01\r\u001b[K     |████████████▋                   | 573kB 8.8MB/s eta 0:00:01\r\u001b[K     |████████████▉                   | 583kB 8.8MB/s eta 0:00:01\r\u001b[K     |█████████████                   | 593kB 8.8MB/s eta 0:00:01\r\u001b[K     |█████████████▎                  | 604kB 8.8MB/s eta 0:00:01\r\u001b[K     |█████████████▌                  | 614kB 8.8MB/s eta 0:00:01\r\u001b[K     |█████████████▊                  | 624kB 8.8MB/s eta 0:00:01\r\u001b[K     |██████████████                  | 634kB 8.8MB/s eta 0:00:01\r\u001b[K     |██████████████▏                 | 645kB 8.8MB/s eta 0:00:01\r\u001b[K     |██████████████▍                 | 655kB 8.8MB/s eta 0:00:01\r\u001b[K     |██████████████▋                 | 665kB 8.8MB/s eta 0:00:01\r\u001b[K     |██████████████▉                 | 675kB 8.8MB/s eta 0:00:01\r\u001b[K     |███████████████                 | 686kB 8.8MB/s eta 0:00:01\r\u001b[K     |███████████████▎                | 696kB 8.8MB/s eta 0:00:01\r\u001b[K     |███████████████▌                | 706kB 8.8MB/s eta 0:00:01\r\u001b[K     |███████████████▊                | 716kB 8.8MB/s eta 0:00:01\r\u001b[K     |████████████████                | 727kB 8.8MB/s eta 0:00:01\r\u001b[K     |████████████████▏               | 737kB 8.8MB/s eta 0:00:01\r\u001b[K     |████████████████▍               | 747kB 8.8MB/s eta 0:00:01\r\u001b[K     |████████████████▋               | 757kB 8.8MB/s eta 0:00:01\r\u001b[K     |████████████████▉               | 768kB 8.8MB/s eta 0:00:01\r\u001b[K     |█████████████████               | 778kB 8.8MB/s eta 0:00:01\r\u001b[K     |█████████████████▎              | 788kB 8.8MB/s eta 0:00:01\r\u001b[K     |█████████████████▌              | 798kB 8.8MB/s eta 0:00:01\r\u001b[K     |█████████████████▊              | 808kB 8.8MB/s eta 0:00:01\r\u001b[K     |██████████████████              | 819kB 8.8MB/s eta 0:00:01\r\u001b[K     |██████████████████▏             | 829kB 8.8MB/s eta 0:00:01\r\u001b[K     |██████████████████▍             | 839kB 8.8MB/s eta 0:00:01\r\u001b[K     |██████████████████▋             | 849kB 8.8MB/s eta 0:00:01\r\u001b[K     |██████████████████▉             | 860kB 8.8MB/s eta 0:00:01\r\u001b[K     |███████████████████             | 870kB 8.8MB/s eta 0:00:01\r\u001b[K     |███████████████████▎            | 880kB 8.8MB/s eta 0:00:01\r\u001b[K     |███████████████████▌            | 890kB 8.8MB/s eta 0:00:01\r\u001b[K     |███████████████████▊            | 901kB 8.8MB/s eta 0:00:01\r\u001b[K     |████████████████████            | 911kB 8.8MB/s eta 0:00:01\r\u001b[K     |████████████████████▏           | 921kB 8.8MB/s eta 0:00:01\r\u001b[K     |████████████████████▍           | 931kB 8.8MB/s eta 0:00:01\r\u001b[K     |████████████████████▋           | 942kB 8.8MB/s eta 0:00:01\r\u001b[K     |████████████████████▉           | 952kB 8.8MB/s eta 0:00:01\r\u001b[K     |█████████████████████▏          | 962kB 8.8MB/s eta 0:00:01\r\u001b[K     |█████████████████████▍          | 972kB 8.8MB/s eta 0:00:01\r\u001b[K     |█████████████████████▋          | 983kB 8.8MB/s eta 0:00:01\r\u001b[K     |█████████████████████▉          | 993kB 8.8MB/s eta 0:00:01\r\u001b[K     |██████████████████████          | 1.0MB 8.8MB/s eta 0:00:01\r\u001b[K     |██████████████████████▎         | 1.0MB 8.8MB/s eta 0:00:01\r\u001b[K     |██████████████████████▌         | 1.0MB 8.8MB/s eta 0:00:01\r\u001b[K     |██████████████████████▊         | 1.0MB 8.8MB/s eta 0:00:01\r\u001b[K     |███████████████████████         | 1.0MB 8.8MB/s eta 0:00:01\r\u001b[K     |███████████████████████▏        | 1.1MB 8.8MB/s eta 0:00:01\r\u001b[K     |███████████████████████▍        | 1.1MB 8.8MB/s eta 0:00:01\r\u001b[K     |███████████████████████▋        | 1.1MB 8.8MB/s eta 0:00:01\r\u001b[K     |███████████████████████▉        | 1.1MB 8.8MB/s eta 0:00:01\r\u001b[K     |████████████████████████        | 1.1MB 8.8MB/s eta 0:00:01\r\u001b[K     |████████████████████████▎       | 1.1MB 8.8MB/s eta 0:00:01\r\u001b[K     |████████████████████████▌       | 1.1MB 8.8MB/s eta 0:00:01\r\u001b[K     |████████████████████████▊       | 1.1MB 8.8MB/s eta 0:00:01\r\u001b[K     |█████████████████████████       | 1.1MB 8.8MB/s eta 0:00:01\r\u001b[K     |█████████████████████████▏      | 1.1MB 8.8MB/s eta 0:00:01\r\u001b[K     |█████████████████████████▍      | 1.2MB 8.8MB/s eta 0:00:01\r\u001b[K     |█████████████████████████▋      | 1.2MB 8.8MB/s eta 0:00:01\r\u001b[K     |█████████████████████████▉      | 1.2MB 8.8MB/s eta 0:00:01\r\u001b[K     |██████████████████████████      | 1.2MB 8.8MB/s eta 0:00:01\r\u001b[K     |██████████████████████████▎     | 1.2MB 8.8MB/s eta 0:00:01\r\u001b[K     |██████████████████████████▌     | 1.2MB 8.8MB/s eta 0:00:01\r\u001b[K     |██████████████████████████▊     | 1.2MB 8.8MB/s eta 0:00:01\r\u001b[K     |███████████████████████████     | 1.2MB 8.8MB/s eta 0:00:01\r\u001b[K     |███████████████████████████▏    | 1.2MB 8.8MB/s eta 0:00:01\r\u001b[K     |███████████████████████████▍    | 1.2MB 8.8MB/s eta 0:00:01\r\u001b[K     |███████████████████████████▋    | 1.3MB 8.8MB/s eta 0:00:01\r\u001b[K     |███████████████████████████▉    | 1.3MB 8.8MB/s eta 0:00:01\r\u001b[K     |████████████████████████████    | 1.3MB 8.8MB/s eta 0:00:01\r\u001b[K     |████████████████████████████▎   | 1.3MB 8.8MB/s eta 0:00:01\r\u001b[K     |████████████████████████████▌   | 1.3MB 8.8MB/s eta 0:00:01\r\u001b[K     |████████████████████████████▊   | 1.3MB 8.8MB/s eta 0:00:01\r\u001b[K     |█████████████████████████████   | 1.3MB 8.8MB/s eta 0:00:01\r\u001b[K     |█████████████████████████████▏  | 1.3MB 8.8MB/s eta 0:00:01\r\u001b[K     |█████████████████████████████▍  | 1.3MB 8.8MB/s eta 0:00:01\r\u001b[K     |█████████████████████████████▋  | 1.4MB 8.8MB/s eta 0:00:01\r\u001b[K     |█████████████████████████████▉  | 1.4MB 8.8MB/s eta 0:00:01\r\u001b[K     |██████████████████████████████  | 1.4MB 8.8MB/s eta 0:00:01\r\u001b[K     |██████████████████████████████▎ | 1.4MB 8.8MB/s eta 0:00:01\r\u001b[K     |██████████████████████████████▌ | 1.4MB 8.8MB/s eta 0:00:01\r\u001b[K     |██████████████████████████████▊ | 1.4MB 8.8MB/s eta 0:00:01\r\u001b[K     |███████████████████████████████ | 1.4MB 8.8MB/s eta 0:00:01\r\u001b[K     |███████████████████████████████▏| 1.4MB 8.8MB/s eta 0:00:01\r\u001b[K     |███████████████████████████████▍| 1.4MB 8.8MB/s eta 0:00:01\r\u001b[K     |███████████████████████████████▊| 1.4MB 8.8MB/s eta 0:00:01\r\u001b[K     |████████████████████████████████| 1.5MB 8.8MB/s eta 0:00:01\r\u001b[K     |████████████████████████████████| 1.5MB 8.8MB/s \n",
            "\u001b[?25hRequirement already satisfied: numpy>=1.7 in /usr/local/lib/python3.7/dist-packages (from bcolz) (1.19.5)\n",
            "Building wheels for collected packages: bcolz\n",
            "  Building wheel for bcolz (setup.py) ... \u001b[?25l\u001b[?25hdone\n",
            "  Created wheel for bcolz: filename=bcolz-1.2.1-cp37-cp37m-linux_x86_64.whl size=2650833 sha256=f413d5199b0bd3f3ef78fffddcb392f0c3791905ccce0cc9adedf2b2b7d8b2da\n",
            "  Stored in directory: /root/.cache/pip/wheels/9f/78/26/fb8c0acb91a100dc8914bf236c4eaa4b207cb876893c40b745\n",
            "Successfully built bcolz\n",
            "Installing collected packages: bcolz\n",
            "Successfully installed bcolz-1.2.1\n"
          ],
          "name": "stdout"
        }
      ]
    },
    {
      "cell_type": "code",
      "metadata": {
        "colab": {
          "base_uri": "https://localhost:8080/"
        },
        "id": "lOr51ZdbymLp",
        "outputId": "5c3f69da-7365-43de-f630-5d0e8b51a389"
      },
      "source": [
        "from google.colab import drive\n",
        "drive.mount('/content/drive')"
      ],
      "execution_count": 75,
      "outputs": [
        {
          "output_type": "stream",
          "text": [
            "Drive already mounted at /content/drive; to attempt to forcibly remount, call drive.mount(\"/content/drive\", force_remount=True).\n"
          ],
          "name": "stdout"
        }
      ]
    },
    {
      "cell_type": "markdown",
      "metadata": {
        "id": "_4Sm1RVyDOVE"
      },
      "source": [
        "\n",
        "NLP From Scratch: Translation with a Sequence to Sequence Network and Attention\n",
        "*******************************************************************************\n",
        "**Author**: `Sean Robertson <https://github.com/spro/practical-pytorch>`_\n",
        "[PyTorch Source](https://pytorch.org/tutorials/intermediate/seq2seq_translation_tutorial.html)\n",
        "\n",
        "This is the third and final tutorial on doing \"NLP From Scratch\", where we\n",
        "write our own classes and functions to preprocess the data to do our NLP\n",
        "modeling tasks. We hope after you complete this tutorial that you'll proceed to\n",
        "learn how `torchtext` can handle much of this preprocessing for you in the\n",
        "three tutorials immediately following this one.\n",
        "\n",
        "In this project we will be teaching a neural network to translate from\n",
        "French to English.\n",
        "\n",
        "::\n",
        "\n",
        "    [KEY: > input, = target, < output]\n",
        "\n",
        "    > il est en train de peindre un tableau .\n",
        "    = he is painting a picture .\n",
        "    < he is painting a picture .\n",
        "\n",
        "    > pourquoi ne pas essayer ce vin delicieux ?\n",
        "    = why not try that delicious wine ?\n",
        "    < why not try that delicious wine ?\n",
        "\n",
        "    > elle n est pas poete mais romanciere .\n",
        "    = she is not a poet but a novelist .\n",
        "    < she not not a poet but a novelist .\n",
        "\n",
        "    > vous etes trop maigre .\n",
        "    = you re too skinny .\n",
        "    < you re all alone .\n",
        "\n",
        "... to varying degrees of success.\n",
        "\n",
        "This is made possible by the simple but powerful idea of the [sequence to sequence network](https://arxiv.org/abs/1409.3215), in which two\n",
        "recurrent neural networks work together to transform one sequence to\n",
        "another. An encoder network condenses an input sequence into a vector,\n",
        "and a decoder network unfolds that vector into a new sequence.\n",
        "\n",
        ".. figure:: /_static/img/seq-seq-images/seq2seq.png\n",
        "   :alt:\n",
        "\n",
        "To improve upon this model we'll use an [attention\n",
        "mechanism](https://arxiv.org/abs/1409.0473), which lets the decoder\n",
        "learn to focus over a specific range of the input sequence.\n",
        "\n",
        "**Recommended Reading:**\n",
        "\n",
        "I assume you have at least installed PyTorch, know Python, and\n",
        "understand Tensors:\n",
        "\n",
        "-  https://pytorch.org/ For installation instructions\n",
        "-  [Deep Learning with PyTorch](https://pytorch.org/tutorials/beginner/deep_learning_60min_blitz.html): A 60 Minute Blitz to get started with PyTorch in general\n",
        "-  [Learning PyTorch with Examples](https://pytorch.org/tutorials/beginner/pytorch_with_examples.html) for a wide and deep overview\n",
        "\n",
        "\n",
        "It would also be useful to know about Sequence to Sequence networks and\n",
        "how they work:\n",
        "\n",
        "-  [Learning Phrase Representations using RNN Encoder-Decoder for Statistical Machine Translation](https://arxiv.org/abs/1406.1078)\n",
        "-  [Sequence to Sequence Learning with Neural Networks](https://arxiv.org/abs/1409.3215)\n",
        "-  [Neural Machine Translation by Jointly Learning to Align and Translate](https://arxiv.org/abs/1409.0473)\n",
        "-  [A Neural Conversational Model](https://arxiv.org/abs/1506.05869)\n",
        "\n",
        "\n",
        "\n",
        "![Image](https://pytorch.org/tutorials/_images/seq2seq.png)\n",
        "\n",
        "**Requirements**"
      ]
    },
    {
      "cell_type": "code",
      "metadata": {
        "id": "3EEWOCJLDD-E"
      },
      "source": [
        "from __future__ import unicode_literals, print_function, division\n",
        "from io import open\n",
        "import unicodedata\n",
        "import string\n",
        "import re\n",
        "import random\n",
        "import bcolz  # to process the data from Glove File \n",
        "import pickle # to dump and load pretrained glove vectors \n",
        "import copy   # to make deepcopy of python lists and dictionaries\n",
        "import operator\n",
        "import numpy as np\n",
        "from pandas import DataFrame # to visualize the glove word embeddings in form of DataFrame\n",
        "\n",
        "import torch\n",
        "import torch.nn as nn\n",
        "from torch import optim\n",
        "import torch.nn.functional as F\n",
        "\n",
        "device = torch.device(\"cuda\" if torch.cuda.is_available() else \"cpu\")"
      ],
      "execution_count": 4,
      "outputs": []
    },
    {
      "cell_type": "markdown",
      "metadata": {
        "id": "30yEbATJDXCF"
      },
      "source": [
        "Loading data files\n",
        "==================\n",
        "\n",
        "The data for this project is a set of many thousands of English to\n",
        "French translation pairs.\n",
        "\n",
        "[This question on Open Data Stack\n",
        "Exchange](https://opendata.stackexchange.com/questions/3888/dataset-of-sentences-translated-into-many-languages)\n",
        "pointed me/him to the open translation site https://tatoeba.org/ which has\n",
        "downloads available at https://tatoeba.org/eng/downloads - and better\n",
        "yet, someone did the extra work of splitting language pairs into\n",
        "individual text files here: https://www.manythings.org/anki/\n",
        "\n",
        "The English to French pairs are too big to include in the repo, so\n",
        "download to ``data/eng-fra.txt`` before continuing. The file is a tab\n",
        "separated list of translation pairs:\n",
        "\n",
        "::\n",
        "\n",
        "    I am cold.    J'ai froid.\n",
        "\n",
        ".. Note::\n",
        "   Download the data from\n",
        "   `here <https://download.pytorch.org/tutorial/data.zip>`_\n",
        "   and extract it to the current directory.\n",
        "\n"
      ]
    },
    {
      "cell_type": "code",
      "metadata": {
        "colab": {
          "base_uri": "https://localhost:8080/"
        },
        "id": "d_EPl_QFDUSE",
        "outputId": "d788b5e8-be44-4163-e74e-504be2c6b15c"
      },
      "source": [
        "!wget https://download.pytorch.org/tutorial/data.zip\n",
        "\n",
        "!unzip data.zip"
      ],
      "execution_count": 5,
      "outputs": [
        {
          "output_type": "stream",
          "text": [
            "--2021-07-17 17:39:48--  https://download.pytorch.org/tutorial/data.zip\n",
            "Resolving download.pytorch.org (download.pytorch.org)... 99.86.37.74, 99.86.37.53, 99.86.37.116, ...\n",
            "Connecting to download.pytorch.org (download.pytorch.org)|99.86.37.74|:443... connected.\n",
            "HTTP request sent, awaiting response... 200 OK\n",
            "Length: 2882130 (2.7M) [application/zip]\n",
            "Saving to: ‘data.zip’\n",
            "\n",
            "\rdata.zip              0%[                    ]       0  --.-KB/s               \rdata.zip            100%[===================>]   2.75M  --.-KB/s    in 0.06s   \n",
            "\n",
            "2021-07-17 17:39:48 (48.5 MB/s) - ‘data.zip’ saved [2882130/2882130]\n",
            "\n",
            "Archive:  data.zip\n",
            "   creating: data/\n",
            "  inflating: data/eng-fra.txt        \n",
            "   creating: data/names/\n",
            "  inflating: data/names/Arabic.txt   \n",
            "  inflating: data/names/Chinese.txt  \n",
            "  inflating: data/names/Czech.txt    \n",
            "  inflating: data/names/Dutch.txt    \n",
            "  inflating: data/names/English.txt  \n",
            "  inflating: data/names/French.txt   \n",
            "  inflating: data/names/German.txt   \n",
            "  inflating: data/names/Greek.txt    \n",
            "  inflating: data/names/Irish.txt    \n",
            "  inflating: data/names/Italian.txt  \n",
            "  inflating: data/names/Japanese.txt  \n",
            "  inflating: data/names/Korean.txt   \n",
            "  inflating: data/names/Polish.txt   \n",
            "  inflating: data/names/Portuguese.txt  \n",
            "  inflating: data/names/Russian.txt  \n",
            "  inflating: data/names/Scottish.txt  \n",
            "  inflating: data/names/Spanish.txt  \n",
            "  inflating: data/names/Vietnamese.txt  \n"
          ],
          "name": "stdout"
        }
      ]
    },
    {
      "cell_type": "markdown",
      "metadata": {
        "id": "ugKjISLqznF-"
      },
      "source": [
        "Download  and Unzip Glove Embeddings"
      ]
    },
    {
      "cell_type": "code",
      "metadata": {
        "colab": {
          "base_uri": "https://localhost:8080/"
        },
        "id": "BVn2PBI6zdRg",
        "outputId": "51de98a7-0622-4299-d2c6-829ceef63024"
      },
      "source": [
        "!wget http://nlp.stanford.edu/data/wordvecs/glove.6B.zip\n",
        "\n",
        "!unzip glove.6B.zip"
      ],
      "execution_count": 30,
      "outputs": [
        {
          "output_type": "stream",
          "text": [
            "--2021-07-17 17:47:40--  http://nlp.stanford.edu/data/wordvecs/glove.6B.zip\n",
            "Resolving nlp.stanford.edu (nlp.stanford.edu)... 171.64.67.140\n",
            "Connecting to nlp.stanford.edu (nlp.stanford.edu)|171.64.67.140|:80... connected.\n",
            "HTTP request sent, awaiting response... 302 Found\n",
            "Location: https://nlp.stanford.edu/data/wordvecs/glove.6B.zip [following]\n",
            "--2021-07-17 17:47:40--  https://nlp.stanford.edu/data/wordvecs/glove.6B.zip\n",
            "Connecting to nlp.stanford.edu (nlp.stanford.edu)|171.64.67.140|:443... connected.\n",
            "HTTP request sent, awaiting response... 301 Moved Permanently\n",
            "Location: http://downloads.cs.stanford.edu/nlp/data/wordvecs/glove.6B.zip [following]\n",
            "--2021-07-17 17:47:40--  http://downloads.cs.stanford.edu/nlp/data/wordvecs/glove.6B.zip\n",
            "Resolving downloads.cs.stanford.edu (downloads.cs.stanford.edu)... 171.64.64.22\n",
            "Connecting to downloads.cs.stanford.edu (downloads.cs.stanford.edu)|171.64.64.22|:80... connected.\n",
            "HTTP request sent, awaiting response... 200 OK\n",
            "Length: 862182753 (822M) [application/zip]\n",
            "Saving to: ‘glove.6B.zip’\n",
            "\n",
            "glove.6B.zip        100%[===================>] 822.24M  5.10MB/s    in 2m 40s  \n",
            "\n",
            "2021-07-17 17:50:20 (5.15 MB/s) - ‘glove.6B.zip’ saved [862182753/862182753]\n",
            "\n",
            "Archive:  glove.6B.zip\n",
            "  inflating: glove.6B.100d.txt       \n",
            "  inflating: glove.6B.200d.txt       \n",
            "  inflating: glove.6B.300d.txt       \n",
            "  inflating: glove.6B.50d.txt        \n"
          ],
          "name": "stdout"
        }
      ]
    },
    {
      "cell_type": "code",
      "metadata": {
        "id": "w4Opt0fXOfRc"
      },
      "source": [
        "print(len(lines))          # number of words (aka vocabulary size)\n",
        "print(len(lines[0]))       # length of a line\n",
        "print(lines[130][0])       # word 130\n",
        "print(lines[130][1:])      # vector representation of word 130\n",
        "print(len(lines[130][1:])) # dimensionality of word 130\n"
      ],
      "execution_count": null,
      "outputs": []
    },
    {
      "cell_type": "markdown",
      "metadata": {
        "id": "WQ4g0l2aRYAr"
      },
      "source": [
        "#### Loading and Saving Glove Word Vectors"
      ]
    },
    {
      "cell_type": "code",
      "metadata": {
        "id": "HkdS9ZtC1oXB"
      },
      "source": [
        "words = []\n",
        "idx = 0\n",
        "word2idx = {}\n",
        "vectors = bcolz.carray(np.zeros(1), rootdir=f'/gdrive/MyDrive/TSAI_END2/Session10/6B.300.dat', mode='w')\n",
        "\n",
        "with open(f'/content/glove.6B.300d.txt', 'rb') as f:\n",
        "    for l in f:\n",
        "        line = l.decode().split()\n",
        "        word = line[0]\n",
        "        words.append(word)\n",
        "        word2idx[word] = idx\n",
        "        idx += 1\n",
        "        vect = np.array(line[1:]).astype(np.float)\n",
        "        vectors.append(vect)\n",
        "    \n",
        "vectors = bcolz.carray(vectors[1:].reshape((400001, 300)), rootdir=f'/gdrive/MyDrive/TSAI_END2/Session10/6B.300.dat', mode='w')\n",
        "vectors.flush()\n",
        "pickle.dump(words, open(f'/content/drive/MyDrive/TSAI_END2/Session10/glove.6B.300_words.pkl', 'wb'))\n",
        "pickle.dump(word2idx, open(f'/content/drive/MyDrive/TSAI_END2/Session10/glove.6B.300_idx.pkl', 'wb'))"
      ],
      "execution_count": 32,
      "outputs": []
    },
    {
      "cell_type": "code",
      "metadata": {
        "id": "mdPjq-hd8UYW"
      },
      "source": [
        "pickle.dump(words, open(f'./glove.6B.300_words.pkl', 'wb'))\n",
        "pickle.dump(word2idx, open(f'./glove.6B.300_idx.pkl', 'wb'))"
      ],
      "execution_count": 74,
      "outputs": []
    },
    {
      "cell_type": "code",
      "metadata": {
        "colab": {
          "base_uri": "https://localhost:8080/"
        },
        "id": "cpeptdfO9tro",
        "outputId": "21418792-b162-47e1-de1d-db515d55057d"
      },
      "source": [
        "!ls '/content/drive/MyDrive/TSAI_END2/Session10'"
      ],
      "execution_count": 76,
      "outputs": [
        {
          "output_type": "stream",
          "text": [
            "6B.300.dat  glove.6B.300_idx.pkl    glove.6B.50_idx.pkl\n",
            "6B.50.dat   glove.6B.300_words.pkl  glove.6B.50_words.pkl\n"
          ],
          "name": "stdout"
        }
      ]
    },
    {
      "cell_type": "markdown",
      "metadata": {
        "id": "zTIKUn1lcu2a"
      },
      "source": [
        "#### Load saved vectors"
      ]
    },
    {
      "cell_type": "code",
      "metadata": {
        "id": "UilzgUKWRfWZ"
      },
      "source": [
        "vectors = bcolz.open(f'/gdrive/MyDrive/TSAI_END2/Session10/6B.300.dat')[:]\n",
        "words = pickle.load(open(f'/gdrive/MyDrive/TSAI_END2/Session10/glove.6B.300_words.pkl', 'rb'))\n",
        "word2idx = pickle.load(open(f'/gdrive/MyDrive/TSAI_END2/Session10/glove.6B.300_idx.pkl', 'rb'))\n",
        "\n",
        "glove = {w: vectors[word2idx[w]] for w in words}"
      ],
      "execution_count": 62,
      "outputs": []
    },
    {
      "cell_type": "code",
      "metadata": {
        "id": "tCBGOD0XT2bP"
      },
      "source": [
        "glove_df = DataFrame(vectors, columns=range(1,301), index=words)"
      ],
      "execution_count": 35,
      "outputs": []
    },
    {
      "cell_type": "markdown",
      "metadata": {
        "id": "LyUmAVY4Uxrt"
      },
      "source": [
        "#### Visualize the Glove Word Embeddings by making a Pandas Dataframe"
      ]
    },
    {
      "cell_type": "code",
      "metadata": {
        "colab": {
          "base_uri": "https://localhost:8080/",
          "height": 406
        },
        "id": "B259PP29T8Ro",
        "outputId": "9b562a98-e75c-4ada-bfba-269e7a9fc0a8"
      },
      "source": [
        "glove_df[200:210]"
      ],
      "execution_count": 36,
      "outputs": [
        {
          "output_type": "execute_result",
          "data": {
            "text/html": [
              "<div>\n",
              "<style scoped>\n",
              "    .dataframe tbody tr th:only-of-type {\n",
              "        vertical-align: middle;\n",
              "    }\n",
              "\n",
              "    .dataframe tbody tr th {\n",
              "        vertical-align: top;\n",
              "    }\n",
              "\n",
              "    .dataframe thead th {\n",
              "        text-align: right;\n",
              "    }\n",
              "</style>\n",
              "<table border=\"1\" class=\"dataframe\">\n",
              "  <thead>\n",
              "    <tr style=\"text-align: right;\">\n",
              "      <th></th>\n",
              "      <th>1</th>\n",
              "      <th>2</th>\n",
              "      <th>3</th>\n",
              "      <th>4</th>\n",
              "      <th>5</th>\n",
              "      <th>6</th>\n",
              "      <th>7</th>\n",
              "      <th>8</th>\n",
              "      <th>9</th>\n",
              "      <th>10</th>\n",
              "      <th>11</th>\n",
              "      <th>12</th>\n",
              "      <th>13</th>\n",
              "      <th>14</th>\n",
              "      <th>15</th>\n",
              "      <th>16</th>\n",
              "      <th>17</th>\n",
              "      <th>18</th>\n",
              "      <th>19</th>\n",
              "      <th>20</th>\n",
              "      <th>21</th>\n",
              "      <th>22</th>\n",
              "      <th>23</th>\n",
              "      <th>24</th>\n",
              "      <th>25</th>\n",
              "      <th>26</th>\n",
              "      <th>27</th>\n",
              "      <th>28</th>\n",
              "      <th>29</th>\n",
              "      <th>30</th>\n",
              "      <th>31</th>\n",
              "      <th>32</th>\n",
              "      <th>33</th>\n",
              "      <th>34</th>\n",
              "      <th>35</th>\n",
              "      <th>36</th>\n",
              "      <th>37</th>\n",
              "      <th>38</th>\n",
              "      <th>39</th>\n",
              "      <th>40</th>\n",
              "      <th>...</th>\n",
              "      <th>261</th>\n",
              "      <th>262</th>\n",
              "      <th>263</th>\n",
              "      <th>264</th>\n",
              "      <th>265</th>\n",
              "      <th>266</th>\n",
              "      <th>267</th>\n",
              "      <th>268</th>\n",
              "      <th>269</th>\n",
              "      <th>270</th>\n",
              "      <th>271</th>\n",
              "      <th>272</th>\n",
              "      <th>273</th>\n",
              "      <th>274</th>\n",
              "      <th>275</th>\n",
              "      <th>276</th>\n",
              "      <th>277</th>\n",
              "      <th>278</th>\n",
              "      <th>279</th>\n",
              "      <th>280</th>\n",
              "      <th>281</th>\n",
              "      <th>282</th>\n",
              "      <th>283</th>\n",
              "      <th>284</th>\n",
              "      <th>285</th>\n",
              "      <th>286</th>\n",
              "      <th>287</th>\n",
              "      <th>288</th>\n",
              "      <th>289</th>\n",
              "      <th>290</th>\n",
              "      <th>291</th>\n",
              "      <th>292</th>\n",
              "      <th>293</th>\n",
              "      <th>294</th>\n",
              "      <th>295</th>\n",
              "      <th>296</th>\n",
              "      <th>297</th>\n",
              "      <th>298</th>\n",
              "      <th>299</th>\n",
              "      <th>300</th>\n",
              "    </tr>\n",
              "  </thead>\n",
              "  <tbody>\n",
              "    <tr>\n",
              "      <th>according</th>\n",
              "      <td>-0.279610</td>\n",
              "      <td>0.137320</td>\n",
              "      <td>0.043514</td>\n",
              "      <td>0.333020</td>\n",
              "      <td>-0.168460</td>\n",
              "      <td>0.067218</td>\n",
              "      <td>-0.166420</td>\n",
              "      <td>0.157180</td>\n",
              "      <td>-0.121350</td>\n",
              "      <td>-1.73860</td>\n",
              "      <td>-0.024858</td>\n",
              "      <td>-0.265710</td>\n",
              "      <td>0.175370</td>\n",
              "      <td>0.173250</td>\n",
              "      <td>-0.002423</td>\n",
              "      <td>0.159280</td>\n",
              "      <td>-0.186030</td>\n",
              "      <td>0.251630</td>\n",
              "      <td>-0.386520</td>\n",
              "      <td>-0.336200</td>\n",
              "      <td>0.126930</td>\n",
              "      <td>0.073719</td>\n",
              "      <td>0.249740</td>\n",
              "      <td>0.456310</td>\n",
              "      <td>-0.20157</td>\n",
              "      <td>0.017940</td>\n",
              "      <td>-0.085641</td>\n",
              "      <td>0.082276</td>\n",
              "      <td>0.202490</td>\n",
              "      <td>-0.137970</td>\n",
              "      <td>0.040790</td>\n",
              "      <td>0.547840</td>\n",
              "      <td>-0.041509</td>\n",
              "      <td>0.19313</td>\n",
              "      <td>-0.80545</td>\n",
              "      <td>-0.226530</td>\n",
              "      <td>0.200270</td>\n",
              "      <td>-0.039198</td>\n",
              "      <td>-0.175200</td>\n",
              "      <td>-0.179190</td>\n",
              "      <td>...</td>\n",
              "      <td>0.063811</td>\n",
              "      <td>0.47207</td>\n",
              "      <td>0.037923</td>\n",
              "      <td>-0.361250</td>\n",
              "      <td>0.209150</td>\n",
              "      <td>-0.245690</td>\n",
              "      <td>0.258970</td>\n",
              "      <td>-0.060094</td>\n",
              "      <td>-0.137910</td>\n",
              "      <td>-0.233440</td>\n",
              "      <td>-0.192400</td>\n",
              "      <td>-0.188730</td>\n",
              "      <td>0.157660</td>\n",
              "      <td>0.178660</td>\n",
              "      <td>0.11679</td>\n",
              "      <td>-0.192830</td>\n",
              "      <td>-1.9656</td>\n",
              "      <td>-0.10005</td>\n",
              "      <td>0.48721</td>\n",
              "      <td>0.004533</td>\n",
              "      <td>0.010740</td>\n",
              "      <td>-0.108050</td>\n",
              "      <td>0.054460</td>\n",
              "      <td>-0.356230</td>\n",
              "      <td>0.142410</td>\n",
              "      <td>0.184360</td>\n",
              "      <td>-0.032794</td>\n",
              "      <td>-0.066567</td>\n",
              "      <td>-0.16291</td>\n",
              "      <td>0.345220</td>\n",
              "      <td>-0.013469</td>\n",
              "      <td>-0.219000</td>\n",
              "      <td>0.037849</td>\n",
              "      <td>0.155860</td>\n",
              "      <td>0.442500</td>\n",
              "      <td>0.433770</td>\n",
              "      <td>-0.192290</td>\n",
              "      <td>0.390080</td>\n",
              "      <td>-0.324610</td>\n",
              "      <td>-0.01826</td>\n",
              "    </tr>\n",
              "    <tr>\n",
              "      <th>several</th>\n",
              "      <td>-0.278830</td>\n",
              "      <td>0.298990</td>\n",
              "      <td>-0.092609</td>\n",
              "      <td>-0.149200</td>\n",
              "      <td>0.102150</td>\n",
              "      <td>-0.187240</td>\n",
              "      <td>-0.057946</td>\n",
              "      <td>0.050455</td>\n",
              "      <td>-0.045006</td>\n",
              "      <td>-1.36610</td>\n",
              "      <td>-0.197030</td>\n",
              "      <td>0.145630</td>\n",
              "      <td>-0.187190</td>\n",
              "      <td>0.109940</td>\n",
              "      <td>0.350600</td>\n",
              "      <td>-0.108720</td>\n",
              "      <td>-0.462160</td>\n",
              "      <td>0.170320</td>\n",
              "      <td>0.117040</td>\n",
              "      <td>-0.029810</td>\n",
              "      <td>-0.005754</td>\n",
              "      <td>-0.049542</td>\n",
              "      <td>0.319010</td>\n",
              "      <td>0.118340</td>\n",
              "      <td>-0.32802</td>\n",
              "      <td>-0.151250</td>\n",
              "      <td>-0.486250</td>\n",
              "      <td>0.179170</td>\n",
              "      <td>-0.274930</td>\n",
              "      <td>0.317760</td>\n",
              "      <td>0.235180</td>\n",
              "      <td>0.155060</td>\n",
              "      <td>0.100110</td>\n",
              "      <td>0.23292</td>\n",
              "      <td>-0.55807</td>\n",
              "      <td>-0.352460</td>\n",
              "      <td>0.081194</td>\n",
              "      <td>0.386270</td>\n",
              "      <td>-0.094630</td>\n",
              "      <td>-0.074292</td>\n",
              "      <td>...</td>\n",
              "      <td>-0.017501</td>\n",
              "      <td>0.34991</td>\n",
              "      <td>0.358650</td>\n",
              "      <td>-0.209420</td>\n",
              "      <td>0.204730</td>\n",
              "      <td>-0.258020</td>\n",
              "      <td>-0.770900</td>\n",
              "      <td>-0.010413</td>\n",
              "      <td>0.049296</td>\n",
              "      <td>0.006965</td>\n",
              "      <td>0.144020</td>\n",
              "      <td>0.279530</td>\n",
              "      <td>-0.190090</td>\n",
              "      <td>0.130970</td>\n",
              "      <td>0.27707</td>\n",
              "      <td>0.009039</td>\n",
              "      <td>-2.6111</td>\n",
              "      <td>-0.17615</td>\n",
              "      <td>0.25067</td>\n",
              "      <td>0.108000</td>\n",
              "      <td>-0.391450</td>\n",
              "      <td>0.023849</td>\n",
              "      <td>0.234420</td>\n",
              "      <td>0.049562</td>\n",
              "      <td>-0.275360</td>\n",
              "      <td>0.289470</td>\n",
              "      <td>-0.143550</td>\n",
              "      <td>0.219270</td>\n",
              "      <td>0.46774</td>\n",
              "      <td>-0.174360</td>\n",
              "      <td>-0.064541</td>\n",
              "      <td>-0.324480</td>\n",
              "      <td>-0.180430</td>\n",
              "      <td>0.003164</td>\n",
              "      <td>-0.176020</td>\n",
              "      <td>0.478750</td>\n",
              "      <td>-0.237680</td>\n",
              "      <td>-0.224160</td>\n",
              "      <td>-0.366290</td>\n",
              "      <td>-0.21762</td>\n",
              "    </tr>\n",
              "    <tr>\n",
              "      <th>court</th>\n",
              "      <td>0.294920</td>\n",
              "      <td>-0.274790</td>\n",
              "      <td>-0.616680</td>\n",
              "      <td>-0.055869</td>\n",
              "      <td>0.385780</td>\n",
              "      <td>-0.582630</td>\n",
              "      <td>0.730860</td>\n",
              "      <td>-0.119370</td>\n",
              "      <td>-0.041382</td>\n",
              "      <td>-1.42530</td>\n",
              "      <td>-0.305880</td>\n",
              "      <td>-0.056891</td>\n",
              "      <td>-0.195040</td>\n",
              "      <td>0.198430</td>\n",
              "      <td>-0.554840</td>\n",
              "      <td>0.283550</td>\n",
              "      <td>-0.537580</td>\n",
              "      <td>-0.305180</td>\n",
              "      <td>0.569070</td>\n",
              "      <td>-0.239610</td>\n",
              "      <td>0.186620</td>\n",
              "      <td>-0.184960</td>\n",
              "      <td>0.440740</td>\n",
              "      <td>-0.083826</td>\n",
              "      <td>-0.25820</td>\n",
              "      <td>-0.044409</td>\n",
              "      <td>0.139150</td>\n",
              "      <td>-0.541320</td>\n",
              "      <td>-0.460620</td>\n",
              "      <td>0.581210</td>\n",
              "      <td>-0.022778</td>\n",
              "      <td>0.173250</td>\n",
              "      <td>0.178510</td>\n",
              "      <td>0.29736</td>\n",
              "      <td>-0.82185</td>\n",
              "      <td>-0.389630</td>\n",
              "      <td>0.094130</td>\n",
              "      <td>-0.205660</td>\n",
              "      <td>-0.772460</td>\n",
              "      <td>0.181290</td>\n",
              "      <td>...</td>\n",
              "      <td>0.189250</td>\n",
              "      <td>-0.16735</td>\n",
              "      <td>0.412260</td>\n",
              "      <td>0.142210</td>\n",
              "      <td>0.170160</td>\n",
              "      <td>-0.354630</td>\n",
              "      <td>0.061339</td>\n",
              "      <td>0.343660</td>\n",
              "      <td>-0.046048</td>\n",
              "      <td>-1.083400</td>\n",
              "      <td>0.439800</td>\n",
              "      <td>-0.694310</td>\n",
              "      <td>0.207420</td>\n",
              "      <td>0.119580</td>\n",
              "      <td>0.19484</td>\n",
              "      <td>-0.004723</td>\n",
              "      <td>-2.1147</td>\n",
              "      <td>0.18858</td>\n",
              "      <td>1.13600</td>\n",
              "      <td>0.931650</td>\n",
              "      <td>0.113970</td>\n",
              "      <td>0.024541</td>\n",
              "      <td>0.015915</td>\n",
              "      <td>0.209480</td>\n",
              "      <td>-0.301930</td>\n",
              "      <td>-0.062889</td>\n",
              "      <td>0.281870</td>\n",
              "      <td>0.570090</td>\n",
              "      <td>-0.53056</td>\n",
              "      <td>0.285680</td>\n",
              "      <td>0.437920</td>\n",
              "      <td>-0.014297</td>\n",
              "      <td>0.241620</td>\n",
              "      <td>0.506370</td>\n",
              "      <td>0.290290</td>\n",
              "      <td>0.025725</td>\n",
              "      <td>0.136190</td>\n",
              "      <td>-0.207100</td>\n",
              "      <td>0.015589</td>\n",
              "      <td>0.17391</td>\n",
              "    </tr>\n",
              "    <tr>\n",
              "      <th>say</th>\n",
              "      <td>0.056090</td>\n",
              "      <td>0.200350</td>\n",
              "      <td>-0.136570</td>\n",
              "      <td>0.057160</td>\n",
              "      <td>-0.127080</td>\n",
              "      <td>-0.201790</td>\n",
              "      <td>0.284300</td>\n",
              "      <td>0.261590</td>\n",
              "      <td>-0.052328</td>\n",
              "      <td>-1.75730</td>\n",
              "      <td>0.076761</td>\n",
              "      <td>-0.088249</td>\n",
              "      <td>-0.053148</td>\n",
              "      <td>0.581910</td>\n",
              "      <td>0.458550</td>\n",
              "      <td>0.270420</td>\n",
              "      <td>0.020048</td>\n",
              "      <td>0.052781</td>\n",
              "      <td>0.235690</td>\n",
              "      <td>0.287740</td>\n",
              "      <td>0.162650</td>\n",
              "      <td>0.162660</td>\n",
              "      <td>0.349910</td>\n",
              "      <td>-0.291750</td>\n",
              "      <td>-0.67895</td>\n",
              "      <td>0.058927</td>\n",
              "      <td>0.219020</td>\n",
              "      <td>-0.378070</td>\n",
              "      <td>-0.041854</td>\n",
              "      <td>-0.118250</td>\n",
              "      <td>0.445800</td>\n",
              "      <td>0.572670</td>\n",
              "      <td>-0.604510</td>\n",
              "      <td>-0.14544</td>\n",
              "      <td>-0.63381</td>\n",
              "      <td>0.081092</td>\n",
              "      <td>-0.002696</td>\n",
              "      <td>-0.210160</td>\n",
              "      <td>0.180770</td>\n",
              "      <td>-0.514370</td>\n",
              "      <td>...</td>\n",
              "      <td>0.145000</td>\n",
              "      <td>-0.19456</td>\n",
              "      <td>-0.159280</td>\n",
              "      <td>0.204040</td>\n",
              "      <td>-0.080843</td>\n",
              "      <td>0.223510</td>\n",
              "      <td>-0.135650</td>\n",
              "      <td>-0.096678</td>\n",
              "      <td>-0.085022</td>\n",
              "      <td>0.077191</td>\n",
              "      <td>0.182990</td>\n",
              "      <td>0.298280</td>\n",
              "      <td>0.107660</td>\n",
              "      <td>0.042735</td>\n",
              "      <td>0.36590</td>\n",
              "      <td>0.197160</td>\n",
              "      <td>-2.4170</td>\n",
              "      <td>0.10348</td>\n",
              "      <td>0.37408</td>\n",
              "      <td>-0.036688</td>\n",
              "      <td>0.004247</td>\n",
              "      <td>0.044540</td>\n",
              "      <td>-0.124100</td>\n",
              "      <td>0.285000</td>\n",
              "      <td>0.063308</td>\n",
              "      <td>0.182960</td>\n",
              "      <td>0.269000</td>\n",
              "      <td>-0.223500</td>\n",
              "      <td>-0.17115</td>\n",
              "      <td>0.082492</td>\n",
              "      <td>0.189930</td>\n",
              "      <td>-0.544910</td>\n",
              "      <td>0.171560</td>\n",
              "      <td>-0.017652</td>\n",
              "      <td>0.174040</td>\n",
              "      <td>-0.603500</td>\n",
              "      <td>-0.107820</td>\n",
              "      <td>-0.501320</td>\n",
              "      <td>-0.021014</td>\n",
              "      <td>0.44665</td>\n",
              "    </tr>\n",
              "    <tr>\n",
              "      <th>around</th>\n",
              "      <td>-0.469570</td>\n",
              "      <td>0.000895</td>\n",
              "      <td>-0.030859</td>\n",
              "      <td>-0.107720</td>\n",
              "      <td>-0.025968</td>\n",
              "      <td>0.408180</td>\n",
              "      <td>0.218770</td>\n",
              "      <td>0.382240</td>\n",
              "      <td>0.105420</td>\n",
              "      <td>-1.64180</td>\n",
              "      <td>-0.113610</td>\n",
              "      <td>0.291120</td>\n",
              "      <td>0.057045</td>\n",
              "      <td>0.199720</td>\n",
              "      <td>0.291610</td>\n",
              "      <td>0.366450</td>\n",
              "      <td>-0.456570</td>\n",
              "      <td>0.454240</td>\n",
              "      <td>-0.093902</td>\n",
              "      <td>0.331720</td>\n",
              "      <td>0.299060</td>\n",
              "      <td>0.338220</td>\n",
              "      <td>0.281110</td>\n",
              "      <td>-0.142310</td>\n",
              "      <td>0.18127</td>\n",
              "      <td>-0.004856</td>\n",
              "      <td>-0.112540</td>\n",
              "      <td>-0.024092</td>\n",
              "      <td>-0.254640</td>\n",
              "      <td>0.506790</td>\n",
              "      <td>0.098070</td>\n",
              "      <td>0.163230</td>\n",
              "      <td>-0.481590</td>\n",
              "      <td>0.55863</td>\n",
              "      <td>-0.67272</td>\n",
              "      <td>-0.025186</td>\n",
              "      <td>0.163960</td>\n",
              "      <td>0.465680</td>\n",
              "      <td>-0.088058</td>\n",
              "      <td>-0.114930</td>\n",
              "      <td>...</td>\n",
              "      <td>0.850180</td>\n",
              "      <td>0.27484</td>\n",
              "      <td>0.119640</td>\n",
              "      <td>-0.116100</td>\n",
              "      <td>0.069383</td>\n",
              "      <td>-0.413810</td>\n",
              "      <td>-0.262600</td>\n",
              "      <td>-0.124260</td>\n",
              "      <td>0.209350</td>\n",
              "      <td>-0.061349</td>\n",
              "      <td>-0.152320</td>\n",
              "      <td>0.141830</td>\n",
              "      <td>0.320900</td>\n",
              "      <td>0.116200</td>\n",
              "      <td>0.21903</td>\n",
              "      <td>-0.179330</td>\n",
              "      <td>-2.1543</td>\n",
              "      <td>-0.41776</td>\n",
              "      <td>0.08200</td>\n",
              "      <td>0.206420</td>\n",
              "      <td>-0.344030</td>\n",
              "      <td>-0.122760</td>\n",
              "      <td>-0.075667</td>\n",
              "      <td>-0.065374</td>\n",
              "      <td>-0.269220</td>\n",
              "      <td>0.390050</td>\n",
              "      <td>0.199480</td>\n",
              "      <td>-0.015338</td>\n",
              "      <td>-0.22481</td>\n",
              "      <td>-0.043952</td>\n",
              "      <td>0.573730</td>\n",
              "      <td>-0.227680</td>\n",
              "      <td>-0.388810</td>\n",
              "      <td>0.240210</td>\n",
              "      <td>-0.081779</td>\n",
              "      <td>0.140490</td>\n",
              "      <td>0.036649</td>\n",
              "      <td>0.184050</td>\n",
              "      <td>-0.110230</td>\n",
              "      <td>-0.31083</td>\n",
              "    </tr>\n",
              "    <tr>\n",
              "      <th>foreign</th>\n",
              "      <td>-0.095487</td>\n",
              "      <td>-0.209960</td>\n",
              "      <td>-0.199050</td>\n",
              "      <td>0.417170</td>\n",
              "      <td>-0.034925</td>\n",
              "      <td>-0.194490</td>\n",
              "      <td>-0.381970</td>\n",
              "      <td>0.391020</td>\n",
              "      <td>-0.281870</td>\n",
              "      <td>-2.79180</td>\n",
              "      <td>0.354780</td>\n",
              "      <td>0.162590</td>\n",
              "      <td>-0.333660</td>\n",
              "      <td>0.025810</td>\n",
              "      <td>-0.335900</td>\n",
              "      <td>-0.808810</td>\n",
              "      <td>0.071127</td>\n",
              "      <td>0.015254</td>\n",
              "      <td>-0.131030</td>\n",
              "      <td>-0.122410</td>\n",
              "      <td>-0.198780</td>\n",
              "      <td>0.070378</td>\n",
              "      <td>0.983250</td>\n",
              "      <td>-0.055934</td>\n",
              "      <td>-0.30992</td>\n",
              "      <td>0.323390</td>\n",
              "      <td>0.192530</td>\n",
              "      <td>0.245240</td>\n",
              "      <td>-0.130560</td>\n",
              "      <td>0.260320</td>\n",
              "      <td>-0.476990</td>\n",
              "      <td>-0.203560</td>\n",
              "      <td>0.213620</td>\n",
              "      <td>0.04692</td>\n",
              "      <td>-0.89056</td>\n",
              "      <td>-0.688440</td>\n",
              "      <td>0.192790</td>\n",
              "      <td>-0.446870</td>\n",
              "      <td>0.116330</td>\n",
              "      <td>0.271760</td>\n",
              "      <td>...</td>\n",
              "      <td>-0.226100</td>\n",
              "      <td>-0.40134</td>\n",
              "      <td>0.082960</td>\n",
              "      <td>0.521950</td>\n",
              "      <td>0.833800</td>\n",
              "      <td>-0.722610</td>\n",
              "      <td>-0.072281</td>\n",
              "      <td>-0.001010</td>\n",
              "      <td>-0.394940</td>\n",
              "      <td>0.068606</td>\n",
              "      <td>-0.099127</td>\n",
              "      <td>0.304630</td>\n",
              "      <td>-0.454250</td>\n",
              "      <td>-0.055678</td>\n",
              "      <td>-0.37260</td>\n",
              "      <td>0.151170</td>\n",
              "      <td>-1.6924</td>\n",
              "      <td>-0.41482</td>\n",
              "      <td>0.40577</td>\n",
              "      <td>-0.217920</td>\n",
              "      <td>0.402590</td>\n",
              "      <td>-0.233630</td>\n",
              "      <td>0.250910</td>\n",
              "      <td>-0.123690</td>\n",
              "      <td>0.548910</td>\n",
              "      <td>-0.432750</td>\n",
              "      <td>-0.079733</td>\n",
              "      <td>0.305510</td>\n",
              "      <td>0.32427</td>\n",
              "      <td>0.134810</td>\n",
              "      <td>-0.037153</td>\n",
              "      <td>-0.541010</td>\n",
              "      <td>0.109550</td>\n",
              "      <td>-0.251420</td>\n",
              "      <td>0.260630</td>\n",
              "      <td>0.715130</td>\n",
              "      <td>-0.140730</td>\n",
              "      <td>0.043425</td>\n",
              "      <td>-0.902620</td>\n",
              "      <td>0.49778</td>\n",
              "    </tr>\n",
              "    <tr>\n",
              "      <th>10</th>\n",
              "      <td>-0.441890</td>\n",
              "      <td>0.242480</td>\n",
              "      <td>-0.229970</td>\n",
              "      <td>0.172260</td>\n",
              "      <td>-0.096344</td>\n",
              "      <td>0.136520</td>\n",
              "      <td>0.039942</td>\n",
              "      <td>0.120760</td>\n",
              "      <td>0.389680</td>\n",
              "      <td>-0.96754</td>\n",
              "      <td>0.291700</td>\n",
              "      <td>0.275010</td>\n",
              "      <td>-0.175220</td>\n",
              "      <td>0.428170</td>\n",
              "      <td>0.012163</td>\n",
              "      <td>-0.045286</td>\n",
              "      <td>-0.129230</td>\n",
              "      <td>-0.029375</td>\n",
              "      <td>0.102550</td>\n",
              "      <td>-0.350450</td>\n",
              "      <td>-0.212720</td>\n",
              "      <td>-0.130870</td>\n",
              "      <td>-0.012698</td>\n",
              "      <td>0.092539</td>\n",
              "      <td>-0.06211</td>\n",
              "      <td>0.190630</td>\n",
              "      <td>-0.344460</td>\n",
              "      <td>-0.141980</td>\n",
              "      <td>0.009539</td>\n",
              "      <td>-0.286660</td>\n",
              "      <td>-0.187720</td>\n",
              "      <td>0.611720</td>\n",
              "      <td>0.137120</td>\n",
              "      <td>0.17352</td>\n",
              "      <td>-1.03470</td>\n",
              "      <td>-0.230870</td>\n",
              "      <td>0.407430</td>\n",
              "      <td>0.433120</td>\n",
              "      <td>-0.360320</td>\n",
              "      <td>0.036961</td>\n",
              "      <td>...</td>\n",
              "      <td>0.279180</td>\n",
              "      <td>0.04196</td>\n",
              "      <td>0.064526</td>\n",
              "      <td>-0.200040</td>\n",
              "      <td>0.295430</td>\n",
              "      <td>-0.187930</td>\n",
              "      <td>0.192390</td>\n",
              "      <td>-0.072376</td>\n",
              "      <td>0.274850</td>\n",
              "      <td>0.285530</td>\n",
              "      <td>-0.097114</td>\n",
              "      <td>0.004545</td>\n",
              "      <td>0.148490</td>\n",
              "      <td>0.090044</td>\n",
              "      <td>0.13226</td>\n",
              "      <td>0.028023</td>\n",
              "      <td>-1.9839</td>\n",
              "      <td>-0.42138</td>\n",
              "      <td>-0.21883</td>\n",
              "      <td>0.160240</td>\n",
              "      <td>0.032295</td>\n",
              "      <td>-0.058029</td>\n",
              "      <td>0.103180</td>\n",
              "      <td>0.123430</td>\n",
              "      <td>-0.168160</td>\n",
              "      <td>0.682780</td>\n",
              "      <td>-0.516350</td>\n",
              "      <td>-0.147090</td>\n",
              "      <td>0.12471</td>\n",
              "      <td>0.165170</td>\n",
              "      <td>0.070977</td>\n",
              "      <td>-0.389240</td>\n",
              "      <td>-0.269190</td>\n",
              "      <td>-0.342620</td>\n",
              "      <td>0.324960</td>\n",
              "      <td>0.279240</td>\n",
              "      <td>-0.266480</td>\n",
              "      <td>-0.776380</td>\n",
              "      <td>-0.054478</td>\n",
              "      <td>-0.13019</td>\n",
              "    </tr>\n",
              "    <tr>\n",
              "      <th>until</th>\n",
              "      <td>0.045036</td>\n",
              "      <td>-0.162020</td>\n",
              "      <td>0.401750</td>\n",
              "      <td>-0.032719</td>\n",
              "      <td>0.157200</td>\n",
              "      <td>-0.201640</td>\n",
              "      <td>0.112720</td>\n",
              "      <td>-0.183880</td>\n",
              "      <td>0.233380</td>\n",
              "      <td>-1.86600</td>\n",
              "      <td>-0.240630</td>\n",
              "      <td>-0.107330</td>\n",
              "      <td>0.321970</td>\n",
              "      <td>-0.139860</td>\n",
              "      <td>-0.089932</td>\n",
              "      <td>0.090911</td>\n",
              "      <td>0.179980</td>\n",
              "      <td>-0.082335</td>\n",
              "      <td>0.108850</td>\n",
              "      <td>0.146420</td>\n",
              "      <td>0.186290</td>\n",
              "      <td>0.090300</td>\n",
              "      <td>0.239850</td>\n",
              "      <td>-0.092648</td>\n",
              "      <td>-0.22982</td>\n",
              "      <td>-0.096040</td>\n",
              "      <td>-0.224780</td>\n",
              "      <td>-0.145510</td>\n",
              "      <td>-0.636020</td>\n",
              "      <td>0.010182</td>\n",
              "      <td>0.195490</td>\n",
              "      <td>0.153900</td>\n",
              "      <td>0.271010</td>\n",
              "      <td>0.30660</td>\n",
              "      <td>-0.77808</td>\n",
              "      <td>-0.012936</td>\n",
              "      <td>-0.094754</td>\n",
              "      <td>0.559800</td>\n",
              "      <td>-0.091743</td>\n",
              "      <td>0.416900</td>\n",
              "      <td>...</td>\n",
              "      <td>-0.444470</td>\n",
              "      <td>-0.34940</td>\n",
              "      <td>-0.176270</td>\n",
              "      <td>-0.164460</td>\n",
              "      <td>-0.250770</td>\n",
              "      <td>-0.295420</td>\n",
              "      <td>0.013784</td>\n",
              "      <td>-0.373670</td>\n",
              "      <td>0.083342</td>\n",
              "      <td>-0.074837</td>\n",
              "      <td>-0.108870</td>\n",
              "      <td>0.145720</td>\n",
              "      <td>-0.053223</td>\n",
              "      <td>0.225040</td>\n",
              "      <td>0.49595</td>\n",
              "      <td>0.014406</td>\n",
              "      <td>-2.0235</td>\n",
              "      <td>-0.39581</td>\n",
              "      <td>0.16585</td>\n",
              "      <td>0.170420</td>\n",
              "      <td>-0.327020</td>\n",
              "      <td>-0.268010</td>\n",
              "      <td>-0.005349</td>\n",
              "      <td>0.118980</td>\n",
              "      <td>0.195720</td>\n",
              "      <td>0.491120</td>\n",
              "      <td>0.041823</td>\n",
              "      <td>0.249410</td>\n",
              "      <td>-0.36564</td>\n",
              "      <td>-0.020910</td>\n",
              "      <td>-0.197260</td>\n",
              "      <td>-0.091085</td>\n",
              "      <td>0.112990</td>\n",
              "      <td>-0.275180</td>\n",
              "      <td>-0.317930</td>\n",
              "      <td>0.384110</td>\n",
              "      <td>-0.136790</td>\n",
              "      <td>-0.506100</td>\n",
              "      <td>0.070201</td>\n",
              "      <td>0.31148</td>\n",
              "    </tr>\n",
              "    <tr>\n",
              "      <th>set</th>\n",
              "      <td>-0.330680</td>\n",
              "      <td>0.174590</td>\n",
              "      <td>-0.325450</td>\n",
              "      <td>0.379000</td>\n",
              "      <td>0.125360</td>\n",
              "      <td>-0.074719</td>\n",
              "      <td>-0.046026</td>\n",
              "      <td>-0.058392</td>\n",
              "      <td>-0.045669</td>\n",
              "      <td>-1.33110</td>\n",
              "      <td>0.409900</td>\n",
              "      <td>0.419970</td>\n",
              "      <td>0.073290</td>\n",
              "      <td>-0.034584</td>\n",
              "      <td>-0.325820</td>\n",
              "      <td>0.022083</td>\n",
              "      <td>0.067834</td>\n",
              "      <td>-0.207580</td>\n",
              "      <td>-0.048283</td>\n",
              "      <td>0.091015</td>\n",
              "      <td>0.089587</td>\n",
              "      <td>-0.046688</td>\n",
              "      <td>0.185640</td>\n",
              "      <td>0.001368</td>\n",
              "      <td>0.24787</td>\n",
              "      <td>0.058006</td>\n",
              "      <td>-0.097955</td>\n",
              "      <td>-0.160070</td>\n",
              "      <td>-0.260060</td>\n",
              "      <td>0.204210</td>\n",
              "      <td>0.096925</td>\n",
              "      <td>0.307040</td>\n",
              "      <td>-0.025169</td>\n",
              "      <td>0.62919</td>\n",
              "      <td>-0.98415</td>\n",
              "      <td>0.038619</td>\n",
              "      <td>-0.375850</td>\n",
              "      <td>0.301880</td>\n",
              "      <td>-0.263370</td>\n",
              "      <td>0.428480</td>\n",
              "      <td>...</td>\n",
              "      <td>0.228250</td>\n",
              "      <td>-0.27699</td>\n",
              "      <td>0.250080</td>\n",
              "      <td>0.067117</td>\n",
              "      <td>-0.027048</td>\n",
              "      <td>-0.011291</td>\n",
              "      <td>-0.335750</td>\n",
              "      <td>0.060869</td>\n",
              "      <td>0.519090</td>\n",
              "      <td>-0.048897</td>\n",
              "      <td>-0.067377</td>\n",
              "      <td>-0.064250</td>\n",
              "      <td>0.609530</td>\n",
              "      <td>0.639080</td>\n",
              "      <td>-0.14792</td>\n",
              "      <td>0.170250</td>\n",
              "      <td>-2.1690</td>\n",
              "      <td>0.17169</td>\n",
              "      <td>0.41858</td>\n",
              "      <td>-0.148040</td>\n",
              "      <td>0.350980</td>\n",
              "      <td>-0.218970</td>\n",
              "      <td>-0.295720</td>\n",
              "      <td>-0.060498</td>\n",
              "      <td>-0.574690</td>\n",
              "      <td>0.275300</td>\n",
              "      <td>-0.441010</td>\n",
              "      <td>0.023605</td>\n",
              "      <td>-0.14858</td>\n",
              "      <td>0.029384</td>\n",
              "      <td>-0.089098</td>\n",
              "      <td>-0.192170</td>\n",
              "      <td>-0.269420</td>\n",
              "      <td>0.147910</td>\n",
              "      <td>0.145190</td>\n",
              "      <td>0.973710</td>\n",
              "      <td>-0.121230</td>\n",
              "      <td>-0.400650</td>\n",
              "      <td>0.052764</td>\n",
              "      <td>0.54662</td>\n",
              "    </tr>\n",
              "    <tr>\n",
              "      <th>political</th>\n",
              "      <td>0.561610</td>\n",
              "      <td>-0.114750</td>\n",
              "      <td>0.421820</td>\n",
              "      <td>-0.146580</td>\n",
              "      <td>0.559030</td>\n",
              "      <td>-0.055492</td>\n",
              "      <td>-0.047198</td>\n",
              "      <td>-0.180620</td>\n",
              "      <td>0.451410</td>\n",
              "      <td>-2.19460</td>\n",
              "      <td>-0.071853</td>\n",
              "      <td>0.122400</td>\n",
              "      <td>0.246660</td>\n",
              "      <td>-0.122470</td>\n",
              "      <td>0.248140</td>\n",
              "      <td>-0.153350</td>\n",
              "      <td>0.152790</td>\n",
              "      <td>0.929340</td>\n",
              "      <td>0.057485</td>\n",
              "      <td>0.161260</td>\n",
              "      <td>0.230990</td>\n",
              "      <td>0.238820</td>\n",
              "      <td>0.450830</td>\n",
              "      <td>0.219870</td>\n",
              "      <td>-0.58242</td>\n",
              "      <td>0.254090</td>\n",
              "      <td>0.083076</td>\n",
              "      <td>0.317270</td>\n",
              "      <td>0.017905</td>\n",
              "      <td>-0.093428</td>\n",
              "      <td>-0.191410</td>\n",
              "      <td>-0.020396</td>\n",
              "      <td>-0.486050</td>\n",
              "      <td>0.27129</td>\n",
              "      <td>-0.61117</td>\n",
              "      <td>0.149090</td>\n",
              "      <td>0.121830</td>\n",
              "      <td>0.669370</td>\n",
              "      <td>-0.018887</td>\n",
              "      <td>-0.091606</td>\n",
              "      <td>...</td>\n",
              "      <td>-0.083122</td>\n",
              "      <td>-0.22120</td>\n",
              "      <td>0.593750</td>\n",
              "      <td>0.199290</td>\n",
              "      <td>0.415630</td>\n",
              "      <td>-0.168280</td>\n",
              "      <td>-0.054537</td>\n",
              "      <td>0.437520</td>\n",
              "      <td>0.005782</td>\n",
              "      <td>0.057408</td>\n",
              "      <td>-0.303010</td>\n",
              "      <td>0.271360</td>\n",
              "      <td>0.303070</td>\n",
              "      <td>-0.041741</td>\n",
              "      <td>0.56293</td>\n",
              "      <td>0.062314</td>\n",
              "      <td>-1.6413</td>\n",
              "      <td>-0.23018</td>\n",
              "      <td>1.74480</td>\n",
              "      <td>-0.205090</td>\n",
              "      <td>0.225210</td>\n",
              "      <td>-0.180140</td>\n",
              "      <td>-0.129580</td>\n",
              "      <td>-0.431660</td>\n",
              "      <td>0.650840</td>\n",
              "      <td>-0.172870</td>\n",
              "      <td>0.097956</td>\n",
              "      <td>0.395640</td>\n",
              "      <td>0.52575</td>\n",
              "      <td>0.394430</td>\n",
              "      <td>-0.444890</td>\n",
              "      <td>0.103510</td>\n",
              "      <td>0.228380</td>\n",
              "      <td>0.196760</td>\n",
              "      <td>0.163680</td>\n",
              "      <td>0.733660</td>\n",
              "      <td>0.000236</td>\n",
              "      <td>-0.008545</td>\n",
              "      <td>-0.938440</td>\n",
              "      <td>0.60734</td>\n",
              "    </tr>\n",
              "  </tbody>\n",
              "</table>\n",
              "<p>10 rows × 300 columns</p>\n",
              "</div>"
            ],
            "text/plain": [
              "                1         2         3    ...       298       299      300\n",
              "according -0.279610  0.137320  0.043514  ...  0.390080 -0.324610 -0.01826\n",
              "several   -0.278830  0.298990 -0.092609  ... -0.224160 -0.366290 -0.21762\n",
              "court      0.294920 -0.274790 -0.616680  ... -0.207100  0.015589  0.17391\n",
              "say        0.056090  0.200350 -0.136570  ... -0.501320 -0.021014  0.44665\n",
              "around    -0.469570  0.000895 -0.030859  ...  0.184050 -0.110230 -0.31083\n",
              "foreign   -0.095487 -0.209960 -0.199050  ...  0.043425 -0.902620  0.49778\n",
              "10        -0.441890  0.242480 -0.229970  ... -0.776380 -0.054478 -0.13019\n",
              "until      0.045036 -0.162020  0.401750  ... -0.506100  0.070201  0.31148\n",
              "set       -0.330680  0.174590 -0.325450  ... -0.400650  0.052764  0.54662\n",
              "political  0.561610 -0.114750  0.421820  ... -0.008545 -0.938440  0.60734\n",
              "\n",
              "[10 rows x 300 columns]"
            ]
          },
          "metadata": {
            "tags": []
          },
          "execution_count": 36
        }
      ]
    },
    {
      "cell_type": "markdown",
      "metadata": {
        "id": "Htf4Jj_GVGMn"
      },
      "source": [
        "#### For later processing¶\n",
        "- 'sos' token to be at index = 0\n",
        "- 'eos' token to be at index = 1"
      ]
    },
    {
      "cell_type": "code",
      "metadata": {
        "id": "SCwWH7wUVja1"
      },
      "source": [
        "sos_index = word2idx['sos']\n",
        "eos_index = word2idx['eos']\n",
        "sos_swap_word = words[0]\n",
        "eos_swap_word = words[1]"
      ],
      "execution_count": 37,
      "outputs": []
    },
    {
      "cell_type": "markdown",
      "metadata": {
        "id": "LeX20qB3V5Mu"
      },
      "source": [
        "#### Swapping 'sos' token index and 'eos' token index"
      ]
    },
    {
      "cell_type": "code",
      "metadata": {
        "id": "IwRGHmfXV7Hz"
      },
      "source": [
        "words[0], words[sos_index] = words[sos_index], words[0]\n",
        "words[1], words[eos_index] = words[eos_index], words[1]\n",
        "word2idx[sos_swap_word], word2idx['sos'] = word2idx['sos'], word2idx[sos_swap_word]\n",
        "word2idx[eos_swap_word], word2idx['eos'] = word2idx['eos'], word2idx[eos_swap_word]"
      ],
      "execution_count": 38,
      "outputs": []
    },
    {
      "cell_type": "markdown",
      "metadata": {
        "id": "e0ImKSH4WvOj"
      },
      "source": [
        "#### Creating Sorted Instance of word2idx"
      ]
    },
    {
      "cell_type": "code",
      "metadata": {
        "id": "bIPWum1oWgVk"
      },
      "source": [
        "word2idx = { k : v for k , v in sorted(word2idx.items(), key=operator.itemgetter(1))}"
      ],
      "execution_count": 39,
      "outputs": []
    },
    {
      "cell_type": "markdown",
      "metadata": {
        "id": "xAY3toaqDxXA"
      },
      "source": [
        "Similar to the character encoding used in the character-level RNN\n",
        "tutorials, we will be representing each word in a language as a one-hot\n",
        "vector, or giant vector of zeros except for a single one (at the index\n",
        "of the word). Compared to the dozens of characters that might exist in a\n",
        "language, there are many many more words, so the encoding vector is much\n",
        "larger. We will however cheat a bit and trim the data to only use a few\n",
        "thousand words per language.\n",
        "\n",
        "![image](https://pytorch.org/tutorials/_images/word-encoding.png)\n",
        "\n",
        "We'll need a unique index per word to use as the inputs and targets of\n",
        "the networks later. To keep track of all this we will use a helper class\n",
        "called ``Lang`` which has word → index (``word2index``) and index → word\n",
        "(``index2word``) dictionaries, as well as a count of each word\n",
        "``word2count`` which will be used to replace rare words later.\n",
        "\n",
        "\n",
        "\n",
        "\n",
        "\n",
        "\n"
      ]
    },
    {
      "cell_type": "markdown",
      "metadata": {
        "id": "b71WvS0-X7Xu"
      },
      "source": [
        "#### Creating 2 Seperate Classes for Input Lang and Ouput Lang\n",
        "\n",
        "Class 1 - > InputLang - built from Glove\n",
        "\n",
        "Class 2 - > OutputLang - built from Target Dictionary"
      ]
    },
    {
      "cell_type": "code",
      "metadata": {
        "id": "1-xmITKdYD90"
      },
      "source": [
        "class InputLang:\n",
        "    def __init__(self, name):\n",
        "        self.name = name\n",
        "        self.word2index = { k : v for k , v in sorted(word2idx.items(), key=operator.itemgetter(1))}\n",
        "        self.word2count = { word : 1 for word in words }\n",
        "        self.index2word = { i : word for word, i in word2idx.items() }\n",
        "        self.n_words = 400001\n",
        "\n",
        "    def addSentence(self, sentence):\n",
        "        for word in sentence.split(' '):\n",
        "            self.addWord(word)\n",
        "\n",
        "    def addWord(self, word):\n",
        "        if word not in self.word2index:\n",
        "            self.word2index[word] = self.n_words\n",
        "            self.word2count[word] = 1\n",
        "            self.index2word[self.n_words] = word\n",
        "            self.n_words += 1\n",
        "        else:\n",
        "            self.word2count[word] += 1"
      ],
      "execution_count": 40,
      "outputs": []
    },
    {
      "cell_type": "code",
      "metadata": {
        "id": "0ngtfyUqa-tm"
      },
      "source": [
        "SOS_token = 0\n",
        "EOS_token = 1\n",
        "\n",
        "\n",
        "class OutputLang:\n",
        "    def __init__(self, name):\n",
        "        self.name = name\n",
        "        self.word2index = {}\n",
        "        self.word2count = {}\n",
        "        self.index2word = {0: \"sos\", 1: \"eos\"}\n",
        "        self.n_words = 2  # Count SOS and EOS\n",
        "\n",
        "    def addSentence(self, sentence):\n",
        "        for word in sentence.split(' '):\n",
        "            self.addWord(word)\n",
        "\n",
        "    def addWord(self, word):\n",
        "        if word not in self.word2index:\n",
        "            self.word2index[word] = self.n_words\n",
        "            self.word2count[word] = 1\n",
        "            self.index2word[self.n_words] = word\n",
        "            self.n_words += 1\n",
        "        else:\n",
        "            self.word2count[word] += 1"
      ],
      "execution_count": 41,
      "outputs": []
    },
    {
      "cell_type": "code",
      "metadata": {
        "id": "PLdDKLAODduG"
      },
      "source": [
        "SOS_token = 0\n",
        "EOS_token = 1\n",
        "\n",
        "\n",
        "class Lang:\n",
        "    def __init__(self, name):\n",
        "        self.name = name\n",
        "        self.word2index = {}\n",
        "        self.word2count = {}\n",
        "        self.index2word = {0: \"SOS\", 1: \"EOS\"}\n",
        "        self.n_words = 2  # Count SOS and EOS\n",
        "\n",
        "    def addSentence(self, sentence):\n",
        "        for word in sentence.split(' '):\n",
        "            self.addWord(word)\n",
        "\n",
        "    def addWord(self, word):\n",
        "        if word not in self.word2index:\n",
        "            self.word2index[word] = self.n_words\n",
        "            self.word2count[word] = 1\n",
        "            self.index2word[self.n_words] = word\n",
        "            self.n_words += 1\n",
        "        else:\n",
        "            self.word2count[word] += 1"
      ],
      "execution_count": 42,
      "outputs": []
    },
    {
      "cell_type": "markdown",
      "metadata": {
        "id": "tFrQoWJbEOYd"
      },
      "source": [
        "The files are all in Unicode, to simplify we will turn Unicode\n",
        "characters to ASCII, make everything lowercase, and trim most\n",
        "punctuation."
      ]
    },
    {
      "cell_type": "code",
      "metadata": {
        "id": "696X0f6eEMa9"
      },
      "source": [
        "# Turn a Unicode string to plain ASCII, thanks to\n",
        "# http://stackoverflow.com/a/518232/2809427\n",
        "def unicodeToAscii(s):\n",
        "    return ''.join(\n",
        "        c for c in unicodedata.normalize('NFD', s)\n",
        "        if unicodedata.category(c) != 'Mn'\n",
        "    )\n",
        "\n",
        "# Lowercase, trim, and remove non-letter characters\n",
        "\n",
        "\n",
        "def normalizeString(s):\n",
        "    s = unicodeToAscii(s.lower().strip())\n",
        "    s = re.sub(r\"([.!?])\", r\" \\1\", s)\n",
        "    s = re.sub(r\"[^a-zA-Z.!?]+\", r\" \", s)\n",
        "    return s"
      ],
      "execution_count": 43,
      "outputs": []
    },
    {
      "cell_type": "markdown",
      "metadata": {
        "id": "AVorNRFCETgM"
      },
      "source": [
        "To read the data file we will split the file into lines, and then split\n",
        "lines into pairs. The files are all English → Other Language, so if we\n",
        "want to translate from Other Language → English I added the ``reverse``\n",
        "flag to reverse the pairs.\n",
        "\n",
        "\n"
      ]
    },
    {
      "cell_type": "code",
      "metadata": {
        "id": "eD5V5PPHERbk"
      },
      "source": [
        "def readLangs(lang1, lang2, reverse=False):\n",
        "    print(\"Reading lines...\")\n",
        "\n",
        "    # Read the file and split into lines\n",
        "    lines = open('data/%s-%s.txt' % (lang1, lang2), encoding='utf-8').\\\n",
        "        read().strip().split('\\n')\n",
        "\n",
        "    # Split every line into pairs and normalize\n",
        "    pairs = [[normalizeString(s) for s in l.split('\\t')] for l in lines]\n",
        "\n",
        "    # Reverse pairs, make Lang instances\n",
        "    if reverse:\n",
        "        pairs = [list(reversed(p)) for p in pairs]\n",
        "        input_lang = InputLang(lang2)\n",
        "        output_lang = OutputLang(lang1)\n",
        "    else:\n",
        "        input_lang = InputLang(lang1)\n",
        "        output_lang = OutputLang(lang2)\n",
        "\n",
        "    return input_lang, output_lang, pairs"
      ],
      "execution_count": 44,
      "outputs": []
    },
    {
      "cell_type": "markdown",
      "metadata": {
        "id": "ZjaZPWj-Ed1p"
      },
      "source": [
        "Since there are a *lot* of example sentences and we want to train\n",
        "something quickly, we'll trim the data set to only relatively short and\n",
        "simple sentences. Here the maximum length is 10 words (that includes\n",
        "ending punctuation) and we're filtering to sentences that translate to\n",
        "the form \"I am\" or \"He is\" etc. (accounting for apostrophes replaced\n",
        "earlier).\n",
        "\n",
        "\n"
      ]
    },
    {
      "cell_type": "code",
      "metadata": {
        "id": "fpLh4takEcl9"
      },
      "source": [
        "MAX_LENGTH = 10\n",
        "\n",
        "eng_prefixes = (\n",
        "    \"i am \", \"i m \",\n",
        "    \"he is\", \"he s \",\n",
        "    \"she is\", \"she s \",\n",
        "    \"you are\", \"you re \",\n",
        "    \"we are\", \"we re \",\n",
        "    \"they are\", \"they re \"\n",
        ")\n",
        "\n",
        "\n",
        "def filterPair(p):\n",
        "    return len(p[0].split(' ')) < MAX_LENGTH and \\\n",
        "        len(p[1].split(' ')) < MAX_LENGTH and \\\n",
        "        p[0].startswith(eng_prefixes)\n",
        "\n",
        "\n",
        "def filterPairs(pairs):\n",
        "    return [pair for pair in pairs if filterPair(pair)]"
      ],
      "execution_count": 45,
      "outputs": []
    },
    {
      "cell_type": "markdown",
      "metadata": {
        "id": "QQpC4FE3EsXQ"
      },
      "source": [
        "The full process for preparing the data is:\n",
        "\n",
        "-  Read text file and split into lines, split lines into pairs\n",
        "-  Normalize text, filter by length and content\n",
        "-  Make word lists from sentences in pairs\n",
        "\n",
        "\n"
      ]
    },
    {
      "cell_type": "code",
      "metadata": {
        "colab": {
          "base_uri": "https://localhost:8080/"
        },
        "id": "HQl0eg8BH9BS",
        "outputId": "c153f1d6-9cf9-4c40-9793-dcd6c760b3d6"
      },
      "source": [
        "def prepareData(lang1, lang2, reverse=False):\n",
        "    input_lang, output_lang, pairs = readLangs(lang1, lang2, reverse)\n",
        "    print(\"Read %s sentence pairs\" % len(pairs))\n",
        "    pairs = filterPairs(pairs)\n",
        "    print(\"Trimmed to %s sentence pairs\" % len(pairs))\n",
        "    print(\"Counting words...\")\n",
        "    for pair in pairs:\n",
        "        input_lang.addSentence(pair[0])\n",
        "        output_lang.addSentence(pair[1])\n",
        "    print(\"Counted words:\")\n",
        "    print(input_lang.name, input_lang.n_words)\n",
        "    print(output_lang.name, output_lang.n_words)\n",
        "    return input_lang, output_lang, pairs\n",
        "\n",
        "\n",
        "input_lang, output_lang, pairs = prepareData('eng', 'fra', False)\n",
        "print(random.choice(pairs))"
      ],
      "execution_count": 46,
      "outputs": [
        {
          "output_type": "stream",
          "text": [
            "Reading lines...\n",
            "Read 135842 sentence pairs\n",
            "Trimmed to 10599 sentence pairs\n",
            "Counting words...\n",
            "Counted words:\n",
            "eng 400005\n",
            "fra 4345\n",
            "['i m allergic to seafood .', 'je suis allergique aux fruits de mer .']\n"
          ],
          "name": "stdout"
        }
      ]
    },
    {
      "cell_type": "markdown",
      "metadata": {
        "id": "M1Zbiow8b0rZ"
      },
      "source": [
        "#### Initializing weight Matrix\n",
        "\n",
        "We must build a matrix of weights that will be loaded into the PyTorch embedding layer. Its shape will be equal to:\n",
        "\n",
        "**(dataset’s vocabulary length, word vectors dimension)**"
      ]
    },
    {
      "cell_type": "code",
      "metadata": {
        "id": "PC6WzLQScAG5"
      },
      "source": [
        "matrix_len = input_lang.n_words\n",
        "glove_dim = 300\n",
        "\n",
        "weights_matrix = np.zeros((matrix_len, glove_dim))\n",
        "words_found = 0\n",
        "\n",
        "for i, word in enumerate(input_lang.word2index):\n",
        "    try: \n",
        "        weights_matrix[i] = glove[word]\n",
        "        words_found += 1\n",
        "    except KeyError:\n",
        "        weights_matrix[i] = np.random.normal(scale=0.6, size=(glove_dim, ))"
      ],
      "execution_count": 48,
      "outputs": []
    },
    {
      "cell_type": "code",
      "metadata": {
        "colab": {
          "base_uri": "https://localhost:8080/"
        },
        "id": "IszO9MwEhLRe",
        "outputId": "78fe50c8-304c-4d9f-dbe8-307b16c707fe"
      },
      "source": [
        "weights_matrix.shape"
      ],
      "execution_count": 49,
      "outputs": [
        {
          "output_type": "execute_result",
          "data": {
            "text/plain": [
              "(400005, 300)"
            ]
          },
          "metadata": {
            "tags": []
          },
          "execution_count": 49
        }
      ]
    },
    {
      "cell_type": "markdown",
      "metadata": {
        "id": "sklKeEAZEw9A"
      },
      "source": [
        "The Seq2Seq Model\n",
        "=================\n",
        "\n",
        "A Recurrent Neural Network, or RNN, is a network that operates on a\n",
        "sequence and uses its own output as input for subsequent steps.\n",
        "\n",
        "A [Sequence to Sequence network](https://arxiv.org/abs/1409.3215), or\n",
        "seq2seq network, or [Encoder Decoder\n",
        "network](https://arxiv.org/pdf/1406.1078v3.pdf), is a model\n",
        "consisting of two RNNs called the encoder and decoder. The encoder reads\n",
        "an input sequence and outputs a single vector, and the decoder reads\n",
        "that vector to produce an output sequence.\n",
        "\n",
        "![image](https://pytorch.org/tutorials/_images/seq2seq.png)\n",
        "\n",
        "Unlike sequence prediction with a single RNN, where every input\n",
        "corresponds to an output, the seq2seq model frees us from sequence\n",
        "length and order, which makes it ideal for translation between two\n",
        "languages.\n",
        "\n",
        "Consider the sentence \"Je ne suis pas le chat noir\" → \"I am not the\n",
        "black cat\". Most of the words in the input sentence have a direct\n",
        "translation in the output sentence, but are in slightly different\n",
        "orders, e.g. \"chat noir\" and \"black cat\". Because of the \"ne/pas\"\n",
        "construction there is also one more word in the input sentence. It would\n",
        "be difficult to produce a correct translation directly from the sequence\n",
        "of input words.\n",
        "\n",
        "With a seq2seq model the encoder creates a single vector which, in the\n",
        "ideal case, encodes the \"meaning\" of the input sequence into a single\n",
        "vector — a single point in some N dimensional space of sentences.\n",
        "\n",
        "\n"
      ]
    },
    {
      "cell_type": "markdown",
      "metadata": {
        "id": "BJZ7qgeoGH25"
      },
      "source": [
        "The Encoder\n",
        "-----------\n",
        "\n",
        "The encoder of a seq2seq network is a RNN that outputs some value for\n",
        "every word from the input sentence. For every input word the encoder\n",
        "outputs a vector and a hidden state, and uses the hidden state for the\n",
        "next input word.\n",
        "\n",
        "![image](https://pytorch.org/tutorials/_images/encoder-network.png)"
      ]
    },
    {
      "cell_type": "code",
      "metadata": {
        "id": "wtVkjGRfe-Pb"
      },
      "source": [
        "# def create_emb_layer(weights_matrix, non_trainable=False):\n",
        "#     num_embeddings, embedding_dim = weights_matrix.size()\n",
        "#     emb_layer = nn.Embedding(num_embeddings, embedding_dim)\n",
        "#     emb_layer.load_state_dict({'weight': weights_matrix})\n",
        "#     if non_trainable:\n",
        "#         emb_layer.weight.requires_grad = False\n",
        "\n",
        "#     return emb_layer, num_embeddings, embedding_dim"
      ],
      "execution_count": 68,
      "outputs": []
    },
    {
      "cell_type": "code",
      "metadata": {
        "id": "hUFStkIuEqo7"
      },
      "source": [
        "class EncoderRNN(nn.Module):\n",
        "    def __init__(self, input_size, hidden_size, weights_matrix=None):\n",
        "        super(EncoderRNN, self).__init__()\n",
        "        self.hidden_size = hidden_size\n",
        "\n",
        "        self.embedding = nn.Embedding(input_size, hidden_size)\n",
        "        if weights_matrix is None:\n",
        "          self.embedding.weight.data.copy_(torch.from_numpy(weights_matrix))\n",
        "        self.gru = nn.GRU(hidden_size, hidden_size)\n",
        "\n",
        "    def forward(self, input, hidden):\n",
        "        embedded = self.embedding(input).view(1, 1, -1)\n",
        "        output = embedded\n",
        "        output, hidden = self.gru(output, hidden)\n",
        "        return output, hidden\n",
        "\n",
        "    def initHidden(self):\n",
        "        return torch.zeros(1, 1, self.hidden_size, device=device)"
      ],
      "execution_count": 50,
      "outputs": []
    },
    {
      "cell_type": "markdown",
      "metadata": {
        "id": "4WzcqRwLGR_c"
      },
      "source": [
        "#Simple Decoder\n",
        "\n",
        "In the simplest seq2seq decoder we use only last output of the encoder.\n",
        "This last output is sometimes called the *context vector* as it encodes\n",
        "context from the entire sequence. This context vector is used as the\n",
        "initial hidden state of the decoder.\n",
        "\n",
        "At every step of decoding, the decoder is given an input token and\n",
        "hidden state. The initial input token is the start-of-string ``<SOS>``\n",
        "token, and the first hidden state is the context vector (the encoder's\n",
        "last hidden state).\n",
        "\n",
        "![image](https://pytorch.org/tutorials/_images/decoder-network.png)\n",
        "\n",
        "\n",
        "\n"
      ]
    },
    {
      "cell_type": "code",
      "metadata": {
        "id": "aTpja5ExGQR_"
      },
      "source": [
        "class DecoderRNN(nn.Module):\n",
        "    def __init__(self, hidden_size, output_size):\n",
        "        super(DecoderRNN, self).__init__()\n",
        "        self.hidden_size = hidden_size\n",
        "\n",
        "        self.embedding = nn.Embedding(output_size, hidden_size)\n",
        "        self.gru = nn.GRU(hidden_size, hidden_size)\n",
        "        self.out = nn.Linear(hidden_size, output_size)\n",
        "        self.softmax = nn.LogSoftmax(dim=1)\n",
        "\n",
        "    def forward(self, input, hidden):\n",
        "        output = self.embedding(input).view(1, 1, -1)\n",
        "        output = F.relu(output)\n",
        "        output, hidden = self.gru(output, hidden)\n",
        "        output = self.softmax(self.out(output[0]))\n",
        "        return output, hidden\n",
        "\n",
        "    def initHidden(self):\n",
        "        return torch.zeros(1, 1, self.hidden_size, device=device)"
      ],
      "execution_count": 51,
      "outputs": []
    },
    {
      "cell_type": "markdown",
      "metadata": {
        "id": "iGMxRg_-Ga5T"
      },
      "source": [
        "# Attention Decoder\n",
        "\n",
        "If only the context vector is passed between the encoder and decoder,\n",
        "that single vector carries the burden of encoding the entire sentence.\n",
        "\n",
        "Attention allows the decoder network to \"focus\" on a different part of\n",
        "the encoder's outputs for every step of the decoder's own outputs. First\n",
        "we calculate a set of *attention weights*. These will be multiplied by\n",
        "the encoder output vectors to create a weighted combination. The result\n",
        "(called ``attn_applied`` in the code) should contain information about\n",
        "that specific part of the input sequence, and thus help the decoder\n",
        "choose the right output words.\n",
        "\n",
        "![image](https://i.imgur.com/1152PYf.png)\n",
        "\n",
        "Calculating the attention weights is done with another feed-forward\n",
        "layer ``attn``, using the decoder's input and hidden state as inputs.\n",
        "Because there are sentences of all sizes in the training data, to\n",
        "actually create and train this layer we have to choose a maximum\n",
        "sentence length (input length, for encoder outputs) that it can apply\n",
        "to. Sentences of the maximum length will use all the attention weights,\n",
        "while shorter sentences will only use the first few.\n",
        "\n",
        "![image](https://pytorch.org/tutorials/_images/attention-decoder-network.png)\n",
        "\n",
        "\n",
        "\n"
      ]
    },
    {
      "cell_type": "code",
      "metadata": {
        "id": "yTgpqalYGaOR"
      },
      "source": [
        "class AttnDecoderRNN(nn.Module):\n",
        "    def __init__(self, hidden_size, output_size, dropout_p=0.1, max_length=MAX_LENGTH):\n",
        "        super(AttnDecoderRNN, self).__init__()\n",
        "        self.hidden_size = hidden_size\n",
        "        self.output_size = output_size\n",
        "        self.dropout_p = dropout_p\n",
        "        self.max_length = max_length\n",
        "\n",
        "        self.embedding = nn.Embedding(self.output_size, self.hidden_size)\n",
        "        self.attn = nn.Linear(self.hidden_size * 2, self.max_length)\n",
        "        self.attn_combine = nn.Linear(self.hidden_size * 2, self.hidden_size)\n",
        "        self.dropout = nn.Dropout(self.dropout_p)\n",
        "        self.gru = nn.GRU(self.hidden_size, self.hidden_size)\n",
        "        self.out = nn.Linear(self.hidden_size, self.output_size)\n",
        "\n",
        "    def forward(self, input, hidden, encoder_outputs):\n",
        "        embedded = self.embedding(input).view(1, 1, -1)\n",
        "        embedded = self.dropout(embedded)\n",
        "\n",
        "        attn_weights = F.softmax(\n",
        "            self.attn(torch.cat((embedded[0], hidden[0]), 1)), dim=1)\n",
        "        attn_applied = torch.bmm(attn_weights.unsqueeze(0),\n",
        "                                 encoder_outputs.unsqueeze(0))\n",
        "\n",
        "        output = torch.cat((embedded[0], attn_applied[0]), 1)\n",
        "        output = self.attn_combine(output).unsqueeze(0)\n",
        "\n",
        "        output = F.relu(output)\n",
        "        output, hidden = self.gru(output, hidden)\n",
        "\n",
        "        output = F.log_softmax(self.out(output[0]), dim=1)\n",
        "        return output, hidden, attn_weights\n",
        "\n",
        "    def initHidden(self):\n",
        "        return torch.zeros(1, 1, self.hidden_size, device=device)"
      ],
      "execution_count": 52,
      "outputs": []
    },
    {
      "cell_type": "markdown",
      "metadata": {
        "id": "9Xa7siQKGqQE"
      },
      "source": [
        "<div class=\"alert alert-info\"><h4>Note</h4><p>There are other forms of attention that work around the length\n",
        "  limitation by using a relative position approach. Read about \"local\n",
        "  attention\" in `Effective Approaches to Attention-based Neural Machine\n",
        "  Translation <https://arxiv.org/abs/1508.04025>`__.</p></div>\n",
        "\n",
        "Training\n",
        "========\n",
        "\n",
        "Preparing Training Data\n",
        "-----------------------\n",
        "\n",
        "To train, for each pair we will need an input tensor (indexes of the\n",
        "words in the input sentence) and target tensor (indexes of the words in\n",
        "the target sentence). While creating these vectors we will append the\n",
        "EOS token to both sequences.\n",
        "\n",
        "\n"
      ]
    },
    {
      "cell_type": "code",
      "metadata": {
        "id": "-mj3FhJBGoS_"
      },
      "source": [
        "def indexesFromSentence(lang, sentence):\n",
        "    return [lang.word2index[word] for word in sentence.split(' ')]\n",
        "\n",
        "\n",
        "def tensorFromSentence(lang, sentence):\n",
        "    indexes = indexesFromSentence(lang, sentence)\n",
        "    indexes.append(EOS_token)\n",
        "    return torch.tensor(indexes, dtype=torch.long, device=device).view(-1, 1)\n",
        "\n",
        "\n",
        "def tensorsFromPair(pair):\n",
        "    input_tensor = tensorFromSentence(input_lang, pair[0])\n",
        "    target_tensor = tensorFromSentence(output_lang, pair[1])\n",
        "    return (input_tensor, target_tensor)"
      ],
      "execution_count": 53,
      "outputs": []
    },
    {
      "cell_type": "markdown",
      "metadata": {
        "id": "1rtejHTjG5Ia"
      },
      "source": [
        "Training the Model\n",
        "------------------\n",
        "\n",
        "To train we run the input sentence through the encoder, and keep track\n",
        "of every output and the latest hidden state. Then the decoder is given\n",
        "the ``<SOS>`` token as its first input, and the last hidden state of the\n",
        "encoder as its first hidden state.\n",
        "\n",
        "\"Teacher forcing\" is the concept of using the real target outputs as\n",
        "each next input, instead of using the decoder's guess as the next input.\n",
        "Using teacher forcing causes it to converge faster but [when the trained network is exploited, it may exhibit instability](http://citeseerx.ist.psu.edu/viewdoc/download?doi=10.1.1.378.4095&rep=rep1&type=pdf).\n",
        "\n",
        "You can observe outputs of teacher-forced networks that read with\n",
        "coherent grammar but wander far from the correct translation -\n",
        "intuitively it has learned to represent the output grammar and can \"pick\n",
        "up\" the meaning once the teacher tells it the first few words, but it\n",
        "has not properly learned how to create the sentence from the translation\n",
        "in the first place.\n",
        "\n",
        "Because of the freedom PyTorch's autograd gives us, we can randomly\n",
        "choose to use teacher forcing or not with a simple if statement. Turn\n",
        "``teacher_forcing_ratio`` up to use more of it.\n",
        "\n",
        "\n"
      ]
    },
    {
      "cell_type": "code",
      "metadata": {
        "id": "xWVqaIu-Gt3b"
      },
      "source": [
        "teacher_forcing_ratio = 0.5\n",
        "\n",
        "\n",
        "def train(input_tensor, target_tensor, encoder, decoder, encoder_optimizer, decoder_optimizer, criterion, max_length=MAX_LENGTH):\n",
        "    encoder_hidden = encoder.initHidden()\n",
        "\n",
        "    encoder_optimizer.zero_grad()\n",
        "    decoder_optimizer.zero_grad()\n",
        "\n",
        "    input_length = input_tensor.size(0)\n",
        "    target_length = target_tensor.size(0)\n",
        "\n",
        "    encoder_outputs = torch.zeros(max_length, encoder.hidden_size, device=device)\n",
        "\n",
        "    loss = 0\n",
        "\n",
        "    for ei in range(input_length):\n",
        "        encoder_output, encoder_hidden = encoder(\n",
        "            input_tensor[ei], encoder_hidden)\n",
        "        encoder_outputs[ei] = encoder_output[0, 0]\n",
        "\n",
        "    decoder_input = torch.tensor([[SOS_token]], device=device)\n",
        "\n",
        "    decoder_hidden = encoder_hidden\n",
        "\n",
        "    use_teacher_forcing = True if random.random() < teacher_forcing_ratio else False\n",
        "\n",
        "    if use_teacher_forcing:\n",
        "        # Teacher forcing: Feed the target as the next input\n",
        "        for di in range(target_length):\n",
        "            decoder_output, decoder_hidden, decoder_attention = decoder(\n",
        "                decoder_input, decoder_hidden, encoder_outputs)\n",
        "            loss += criterion(decoder_output, target_tensor[di])\n",
        "            decoder_input = target_tensor[di]  # Teacher forcing\n",
        "\n",
        "    else:\n",
        "        # Without teacher forcing: use its own predictions as the next input\n",
        "        for di in range(target_length):\n",
        "            decoder_output, decoder_hidden, decoder_attention = decoder(\n",
        "                decoder_input, decoder_hidden, encoder_outputs)\n",
        "            topv, topi = decoder_output.topk(1)\n",
        "            decoder_input = topi.squeeze().detach()  # detach from history as input\n",
        "\n",
        "            loss += criterion(decoder_output, target_tensor[di])\n",
        "            if decoder_input.item() == EOS_token:\n",
        "                break\n",
        "\n",
        "    loss.backward()\n",
        "\n",
        "    encoder_optimizer.step()\n",
        "    decoder_optimizer.step()\n",
        "\n",
        "    return loss.item() / target_length"
      ],
      "execution_count": 54,
      "outputs": []
    },
    {
      "cell_type": "markdown",
      "metadata": {
        "id": "5OQi5ocOHDuv"
      },
      "source": [
        "import time\n",
        "import math\n",
        "\n",
        "\n",
        "def asMinutes(s):\n",
        "    m = math.floor(s / 60)\n",
        "    s -= m * 60\n",
        "    return '%dm %ds' % (m, s)\n",
        "\n",
        "\n",
        "def timeSince(since, percent):\n",
        "    now = time.time()\n",
        "    s = now - since\n",
        "    es = s / (percent)\n",
        "    rs = es - s\n",
        "    return '%s (- %s)' % (asMinutes(s), asMinutes(rs))\n",
        "\n"
      ]
    },
    {
      "cell_type": "code",
      "metadata": {
        "id": "0A3z6eQtG3rv"
      },
      "source": [
        "import time\n",
        "import math\n",
        "\n",
        "\n",
        "def asMinutes(s):\n",
        "    m = math.floor(s / 60)\n",
        "    s -= m * 60\n",
        "    return '%dm %ds' % (m, s)\n",
        "\n",
        "\n",
        "def timeSince(since, percent):\n",
        "    now = time.time()\n",
        "    s = now - since\n",
        "    es = s / (percent)\n",
        "    rs = es - s\n",
        "    return '%s (- %s)' % (asMinutes(s), asMinutes(rs))"
      ],
      "execution_count": 55,
      "outputs": []
    },
    {
      "cell_type": "markdown",
      "metadata": {
        "id": "po1iCyBTHHIG"
      },
      "source": [
        "The whole training process looks like this:\n",
        "\n",
        "-  Start a timer\n",
        "-  Initialize optimizers and criterion\n",
        "-  Create set of training pairs\n",
        "-  Start empty losses array for plotting\n",
        "\n",
        "Then we call ``train`` many times and occasionally print the progress (%\n",
        "of examples, time so far, estimated time) and average loss.\n",
        "\n",
        "\n"
      ]
    },
    {
      "cell_type": "code",
      "metadata": {
        "id": "_Gf1aSD1HFx_"
      },
      "source": [
        "def trainIters(encoder, decoder, n_iters, print_every=1000, plot_every=100, learning_rate=0.01):\n",
        "    start = time.time()\n",
        "    plot_losses = []\n",
        "    print_loss_total = 0  # Reset every print_every\n",
        "    plot_loss_total = 0  # Reset every plot_every\n",
        "\n",
        "    encoder_optimizer = optim.SGD(encoder.parameters(), lr=learning_rate)\n",
        "    decoder_optimizer = optim.SGD(decoder.parameters(), lr=learning_rate)\n",
        "    training_pairs = [tensorsFromPair(random.choice(pairs))\n",
        "                      for i in range(n_iters)]\n",
        "    criterion = nn.NLLLoss()\n",
        "\n",
        "    for iter in range(1, n_iters + 1):\n",
        "        training_pair = training_pairs[iter - 1]\n",
        "        input_tensor = training_pair[0]\n",
        "        target_tensor = training_pair[1]\n",
        "\n",
        "        loss = train(input_tensor, target_tensor, encoder,\n",
        "                     decoder, encoder_optimizer, decoder_optimizer, criterion)\n",
        "        print_loss_total += loss\n",
        "        plot_loss_total += loss\n",
        "\n",
        "        if iter % print_every == 0:\n",
        "            print_loss_avg = print_loss_total / print_every\n",
        "            print_loss_total = 0\n",
        "            print('%s (%d %d%%) %.4f' % (timeSince(start, iter / n_iters),\n",
        "                                         iter, iter / n_iters * 100, print_loss_avg))\n",
        "\n",
        "        if iter % plot_every == 0:\n",
        "            plot_loss_avg = plot_loss_total / plot_every\n",
        "            plot_losses.append(plot_loss_avg)\n",
        "            plot_loss_total = 0\n",
        "\n",
        "    showPlot(plot_losses)"
      ],
      "execution_count": 56,
      "outputs": []
    },
    {
      "cell_type": "markdown",
      "metadata": {
        "id": "SxLPtvy-HJv8"
      },
      "source": [
        "Plotting results\n",
        "----------------\n",
        "\n",
        "Plotting is done with matplotlib, using the array of loss values\n",
        "``plot_losses`` saved while training.\n",
        "\n",
        "\n"
      ]
    },
    {
      "cell_type": "code",
      "metadata": {
        "id": "kErPEK3PHIjD"
      },
      "source": [
        "import matplotlib.pyplot as plt\n",
        "plt.switch_backend('agg')\n",
        "import matplotlib.ticker as ticker\n",
        "import numpy as np\n",
        "\n",
        "\n",
        "def showPlot(points):\n",
        "    plt.figure()\n",
        "    fig, ax = plt.subplots()\n",
        "    # this locator puts ticks at regular intervals\n",
        "    loc = ticker.MultipleLocator(base=0.2)\n",
        "    ax.yaxis.set_major_locator(loc)\n",
        "    plt.plot(points)"
      ],
      "execution_count": 57,
      "outputs": []
    },
    {
      "cell_type": "markdown",
      "metadata": {
        "id": "8BWg0QVLHMnS"
      },
      "source": [
        "Evaluation\n",
        "==========\n",
        "\n",
        "Evaluation is mostly the same as training, but there are no targets so\n",
        "we simply feed the decoder's predictions back to itself for each step.\n",
        "Every time it predicts a word we add it to the output string, and if it\n",
        "predicts the EOS token we stop there. We also store the decoder's\n",
        "attention outputs for display later.\n",
        "\n",
        "\n"
      ]
    },
    {
      "cell_type": "code",
      "metadata": {
        "id": "cbjgrd4yHLMS"
      },
      "source": [
        "def evaluate(encoder, decoder, sentence, max_length=MAX_LENGTH):\n",
        "    with torch.no_grad():\n",
        "        input_tensor = tensorFromSentence(input_lang, sentence)\n",
        "        input_length = input_tensor.size()[0]\n",
        "        encoder_hidden = encoder.initHidden()\n",
        "\n",
        "        encoder_outputs = torch.zeros(max_length, encoder.hidden_size, device=device)\n",
        "\n",
        "        for ei in range(input_length):\n",
        "            encoder_output, encoder_hidden = encoder(input_tensor[ei],\n",
        "                                                     encoder_hidden)\n",
        "            encoder_outputs[ei] += encoder_output[0, 0]\n",
        "\n",
        "        decoder_input = torch.tensor([[SOS_token]], device=device)  # SOS\n",
        "\n",
        "        decoder_hidden = encoder_hidden\n",
        "\n",
        "        decoded_words = []\n",
        "        decoder_attentions = torch.zeros(max_length, max_length)\n",
        "\n",
        "        for di in range(max_length):\n",
        "            decoder_output, decoder_hidden, decoder_attention = decoder(\n",
        "                decoder_input, decoder_hidden, encoder_outputs)\n",
        "            decoder_attentions[di] = decoder_attention.data\n",
        "            topv, topi = decoder_output.data.topk(1)\n",
        "            if topi.item() == EOS_token:\n",
        "                decoded_words.append('<EOS>')\n",
        "                break\n",
        "            else:\n",
        "                decoded_words.append(output_lang.index2word[topi.item()])\n",
        "\n",
        "            decoder_input = topi.squeeze().detach()\n",
        "\n",
        "        return decoded_words, decoder_attentions[:di + 1]"
      ],
      "execution_count": 58,
      "outputs": []
    },
    {
      "cell_type": "markdown",
      "metadata": {
        "id": "tEDyINR3HP8X"
      },
      "source": [
        "We can evaluate random sentences from the training set and print out the\n",
        "input, target, and output to make some subjective quality judgements:\n",
        "\n",
        "\n"
      ]
    },
    {
      "cell_type": "code",
      "metadata": {
        "id": "41NOzzmRHOfs"
      },
      "source": [
        "def evaluateRandomly(encoder, decoder, n=10):\n",
        "    for i in range(n):\n",
        "        pair = random.choice(pairs)\n",
        "        print('>', pair[0])\n",
        "        print('=', pair[1])\n",
        "        output_words, attentions = evaluate(encoder, decoder, pair[0])\n",
        "        output_sentence = ' '.join(output_words)\n",
        "        print('<', output_sentence)\n",
        "        print('')"
      ],
      "execution_count": 59,
      "outputs": []
    },
    {
      "cell_type": "markdown",
      "metadata": {
        "id": "-I3YLTtFHSkq"
      },
      "source": [
        "Training and Evaluating\n",
        "=======================\n",
        "\n",
        "With all these helper functions in place (it looks like extra work, but\n",
        "it makes it easier to run multiple experiments) we can actually\n",
        "initialize a network and start training.\n",
        "\n",
        "Remember that the input sentences were heavily filtered. For this small\n",
        "dataset we can use relatively small networks of 256 hidden nodes and a\n",
        "single GRU layer. After about 40 minutes on a MacBook CPU we'll get some\n",
        "reasonable results.\n",
        "\n",
        ".. Note::\n",
        "   If you run this notebook you can train, interrupt the kernel,\n",
        "   evaluate, and continue training later. Comment out the lines where the\n",
        "   encoder and decoder are initialized and run ``trainIters`` again.\n",
        "\n",
        "\n"
      ]
    },
    {
      "cell_type": "code",
      "metadata": {
        "colab": {
          "base_uri": "https://localhost:8080/"
        },
        "id": "v-45b8_lHRiK",
        "outputId": "321d4e59-f34d-4731-9861-27f4b8b79040"
      },
      "source": [
        "hidden_size = 300 #256\n",
        "encoder1 = EncoderRNN(input_lang.n_words, hidden_size, weights_matrix).to(device)\n",
        "attn_decoder1 = AttnDecoderRNN(hidden_size, output_lang.n_words, dropout_p=0.1).to(device)\n",
        "\n",
        "trainIters(encoder1, attn_decoder1, 75000, print_every=5000)"
      ],
      "execution_count": null,
      "outputs": [
        {
          "output_type": "stream",
          "text": [
            "6m 25s (- 90m 2s) (5000 6%) 3.4165\n",
            "12m 49s (- 83m 19s) (10000 13%) 2.7539\n",
            "19m 11s (- 76m 47s) (15000 20%) 2.4227\n",
            "25m 33s (- 70m 16s) (20000 26%) 2.1102\n",
            "31m 57s (- 63m 54s) (25000 33%) 1.8932\n",
            "38m 22s (- 57m 33s) (30000 40%) 1.7109\n",
            "44m 46s (- 51m 9s) (35000 46%) 1.5499\n",
            "51m 9s (- 44m 45s) (40000 53%) 1.4358\n",
            "57m 31s (- 38m 21s) (45000 60%) 1.2907\n",
            "63m 53s (- 31m 56s) (50000 66%) 1.2183\n",
            "70m 17s (- 25m 33s) (55000 73%) 1.1049\n",
            "76m 41s (- 19m 10s) (60000 80%) 1.0371\n",
            "83m 6s (- 12m 47s) (65000 86%) 0.9891\n"
          ],
          "name": "stdout"
        }
      ]
    },
    {
      "cell_type": "code",
      "metadata": {
        "colab": {
          "base_uri": "https://localhost:8080/"
        },
        "id": "e_rlcrR1Iqld",
        "outputId": "08f815bc-bce7-4d8e-fa78-924326e129bc"
      },
      "source": [
        "evaluateRandomly(encoder1, attn_decoder1)"
      ],
      "execution_count": 78,
      "outputs": [
        {
          "output_type": "stream",
          "text": [
            "> you re not as smart as me .\n",
            "= vous n etes pas aussi malignes que moi .\n",
            "< tu n es pas aussi malins que moi . <EOS>\n",
            "\n",
            "> you re all mine .\n",
            "= vous etes tous a moi .\n",
            "< tu es toutes a moi . <EOS>\n",
            "\n",
            "> you re very rude .\n",
            "= tu es fort grossier .\n",
            "< tu es tres grossieres . <EOS>\n",
            "\n",
            "> i am leaving next week .\n",
            "= je pars la semaine prochaine .\n",
            "< je pars la semaine . <EOS>\n",
            "\n",
            "> they are russian .\n",
            "= elles sont russes .\n",
            "< ils sont russes . <EOS>\n",
            "\n",
            "> i m not in the mood .\n",
            "= je ne suis pas d humeur .\n",
            "< je ne suis pas d humeur . <EOS>\n",
            "\n",
            "> i am grateful for your help .\n",
            "= je te suis reconnaissant pour ton aide .\n",
            "< je vous reconnaissant pour ton aide . <EOS>\n",
            "\n",
            "> i m sick of this hot weather .\n",
            "= je ne supporte plus ce temps chaud .\n",
            "< je ne fatigue plus des temps . <EOS>\n",
            "\n",
            "> they re able students .\n",
            "= ce sont des etudiants capables .\n",
            "< ce sont des etudiants . <EOS>\n",
            "\n",
            "> he is too shy to talk to girls .\n",
            "= il est trop timide pour parler aux filles .\n",
            "< il est trop pour pour a pour parler dur .\n",
            "\n"
          ],
          "name": "stdout"
        }
      ]
    },
    {
      "cell_type": "markdown",
      "metadata": {
        "id": "Y4J1zvrwInJk"
      },
      "source": [
        "Visualizing Attention\n",
        "---------------------\n",
        "\n",
        "A useful property of the attention mechanism is its highly interpretable\n",
        "outputs. Because it is used to weight specific encoder outputs of the\n",
        "input sequence, we can imagine looking where the network is focused most\n",
        "at each time step.\n",
        "\n",
        "You could simply run ``plt.matshow(attentions)`` to see attention output\n",
        "displayed as a matrix, with the columns being input steps and rows being\n",
        "output steps:\n",
        "\n",
        "\n"
      ]
    },
    {
      "cell_type": "code",
      "metadata": {
        "colab": {
          "base_uri": "https://localhost:8080/",
          "height": 292
        },
        "id": "1t-jIrj1HVL9",
        "outputId": "8eae4654-c863-40fa-aa60-138088b1a161"
      },
      "source": [
        "%matplotlib inline\n",
        "output_words, attentions = evaluate(\n",
        "    encoder1, attn_decoder1, \"je suis trop froid .\")\n",
        "plt.matshow(attentions.numpy())"
      ],
      "execution_count": 79,
      "outputs": [
        {
          "output_type": "execute_result",
          "data": {
            "text/plain": [
              "<matplotlib.image.AxesImage at 0x7f2a50864f50>"
            ]
          },
          "metadata": {
            "tags": []
          },
          "execution_count": 79
        },
        {
          "output_type": "display_data",
          "data": {
            "image/png": "[encoded data removed]",
            "text/plain": [
              "<Figure size 576x288 with 1 Axes>"
            ]
          },
          "metadata": {
            "tags": [],
            "needs_background": "light"
          }
        }
      ]
    },
    {
      "cell_type": "markdown",
      "metadata": {
        "id": "J5zYmdIDIvbR"
      },
      "source": [
        "For a better viewing experience we will do the extra work of adding axes\n",
        "and labels:"
      ]
    },
    {
      "cell_type": "code",
      "metadata": {
        "colab": {
          "base_uri": "https://localhost:8080/",
          "height": 1000
        },
        "id": "6iRp2UgrIxPQ",
        "outputId": "e3c9196a-62c7-4980-c20b-ec5b5e8b9953"
      },
      "source": [
        "def showAttention(input_sentence, output_words, attentions):\n",
        "    # Set up figure with colorbar\n",
        "    fig = plt.figure()\n",
        "    ax = fig.add_subplot(111)\n",
        "    cax = ax.matshow(attentions.numpy(), cmap='bone')\n",
        "    fig.colorbar(cax)\n",
        "\n",
        "    # Set up axes\n",
        "    ax.set_xticklabels([''] + input_sentence.split(' ') +\n",
        "                       ['<EOS>'], rotation=90)\n",
        "    ax.set_yticklabels([''] + output_words)\n",
        "\n",
        "    # Show label at every tick\n",
        "    ax.xaxis.set_major_locator(ticker.MultipleLocator(1))\n",
        "    ax.yaxis.set_major_locator(ticker.MultipleLocator(1))\n",
        "\n",
        "    plt.show()\n",
        "\n",
        "\n",
        "def evaluateAndShowAttention(input_sentence):\n",
        "    output_words, attentions = evaluate(\n",
        "        encoder1, attn_decoder1, input_sentence)\n",
        "    print('input =', input_sentence)\n",
        "    print('output =', ' '.join(output_words))\n",
        "    showAttention(input_sentence, output_words, attentions)\n",
        "\n",
        "\n",
        "evaluateAndShowAttention(\"he is painting a picture .\")\n",
        "\n",
        "evaluateAndShowAttention(\"why not try that delicious wine ?\")\n",
        "\n",
        "evaluateAndShowAttention(\"she is not a poet but a novelist .\")\n",
        "\n",
        "evaluateAndShowAttention(\"you re too skinny .\")"
      ],
      "execution_count": 80,
      "outputs": [
        {
          "output_type": "stream",
          "text": [
            "input = he is painting a picture .\n",
            "output = il est en train de peindre un tableau . <EOS>\n"
          ],
          "name": "stdout"
        },
        {
          "output_type": "display_data",
          "data": {
            "image/png": "[encoded data removed]",
            "text/plain": [
              "<Figure size 432x288 with 2 Axes>"
            ]
          },
          "metadata": {
            "tags": [],
            "needs_background": "light"
          }
        },
        {
          "output_type": "stream",
          "text": [
            "input = why not try that delicious wine ?\n",
            "output = ce ne est pas si de cette ? <EOS>\n"
          ],
          "name": "stdout"
        },
        {
          "output_type": "display_data",
          "data": {
            "image/png": "[encoded data removed]",
            "text/plain": [
              "<Figure size 432x288 with 2 Axes>"
            ]
          },
          "metadata": {
            "tags": [],
            "needs_background": "light"
          }
        },
        {
          "output_type": "stream",
          "text": [
            "input = she is not a poet but a novelist .\n",
            "output = elle n est pas medecin mais mais . <EOS>\n"
          ],
          "name": "stdout"
        },
        {
          "output_type": "display_data",
          "data": {
            "image/png": "[encoded data removed]",
            "text/plain": [
              "<Figure size 432x288 with 2 Axes>"
            ]
          },
          "metadata": {
            "tags": [],
            "needs_background": "light"
          }
        },
        {
          "output_type": "stream",
          "text": [
            "input = you re too skinny .\n",
            "output = vous etes trop maigrichonne . <EOS>\n"
          ],
          "name": "stdout"
        },
        {
          "output_type": "display_data",
          "data": {
            "image/png": "[encoded data removed]",
            "text/plain": [
              "<Figure size 432x288 with 2 Axes>"
            ]
          },
          "metadata": {
            "tags": [],
            "needs_background": "light"
          }
        }
      ]
    },
    {
      "cell_type": "code",
      "metadata": {
        "id": "RM_7deQ7PB2u"
      },
      "source": [
        ""
      ],
      "execution_count": null,
      "outputs": []
    }
  ]
}