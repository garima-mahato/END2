{
  "nbformat": 4,
  "nbformat_minor": 0,
  "metadata": {
    "colab": {
      "name": "TSAI_END2_Session10_END2 Translation using Seq2Seq and Attention.ipynb",
      "provenance": [],
      "collapsed_sections": [],
      "machine_shape": "hm"
    },
    "kernelspec": {
      "name": "python3",
      "display_name": "Python 3"
    },
    "language_info": {
      "name": "python"
    },
    "accelerator": "GPU"
  },
  "cells": [
    {
      "cell_type": "code",
      "metadata": {
        "id": "vxCla6HFCtRH",
        "colab": {
          "base_uri": "https://localhost:8080/"
        },
        "outputId": "e35e1991-bc79-4804-ff59-bb8d623e599b"
      },
      "source": [
        "%matplotlib inline\n",
        "!pip install bcolz"
      ],
      "execution_count": 1,
      "outputs": [
        {
          "output_type": "stream",
          "text": [
            "Collecting bcolz\n",
            "\u001b[?25l  Downloading https://files.pythonhosted.org/packages/5c/4e/23942de9d5c0fb16f10335fa83e52b431bcb8c0d4a8419c9ac206268c279/bcolz-1.2.1.tar.gz (1.5MB)\n",
            "\r\u001b[K     |▎                               | 10kB 17.9MB/s eta 0:00:01\r\u001b[K     |▌                               | 20kB 23.4MB/s eta 0:00:01\r\u001b[K     |▊                               | 30kB 20.4MB/s eta 0:00:01\r\u001b[K     |█                               | 40kB 17.7MB/s eta 0:00:01\r\u001b[K     |█▏                              | 51kB 19.3MB/s eta 0:00:01\r\u001b[K     |█▍                              | 61kB 19.4MB/s eta 0:00:01\r\u001b[K     |█▋                              | 71kB 20.5MB/s eta 0:00:01\r\u001b[K     |█▉                              | 81kB 21.2MB/s eta 0:00:01\r\u001b[K     |██                              | 92kB 22.2MB/s eta 0:00:01\r\u001b[K     |██▎                             | 102kB 23.2MB/s eta 0:00:01\r\u001b[K     |██▌                             | 112kB 23.2MB/s eta 0:00:01\r\u001b[K     |██▊                             | 122kB 23.2MB/s eta 0:00:01\r\u001b[K     |███                             | 133kB 23.2MB/s eta 0:00:01\r\u001b[K     |███▏                            | 143kB 23.2MB/s eta 0:00:01\r\u001b[K     |███▍                            | 153kB 23.2MB/s eta 0:00:01\r\u001b[K     |███▋                            | 163kB 23.2MB/s eta 0:00:01\r\u001b[K     |███▉                            | 174kB 23.2MB/s eta 0:00:01\r\u001b[K     |████                            | 184kB 23.2MB/s eta 0:00:01\r\u001b[K     |████▎                           | 194kB 23.2MB/s eta 0:00:01\r\u001b[K     |████▌                           | 204kB 23.2MB/s eta 0:00:01\r\u001b[K     |████▊                           | 215kB 23.2MB/s eta 0:00:01\r\u001b[K     |█████                           | 225kB 23.2MB/s eta 0:00:01\r\u001b[K     |█████▏                          | 235kB 23.2MB/s eta 0:00:01\r\u001b[K     |█████▍                          | 245kB 23.2MB/s eta 0:00:01\r\u001b[K     |█████▋                          | 256kB 23.2MB/s eta 0:00:01\r\u001b[K     |█████▉                          | 266kB 23.2MB/s eta 0:00:01\r\u001b[K     |██████                          | 276kB 23.2MB/s eta 0:00:01\r\u001b[K     |██████▎                         | 286kB 23.2MB/s eta 0:00:01\r\u001b[K     |██████▌                         | 296kB 23.2MB/s eta 0:00:01\r\u001b[K     |██████▊                         | 307kB 23.2MB/s eta 0:00:01\r\u001b[K     |███████                         | 317kB 23.2MB/s eta 0:00:01\r\u001b[K     |███████▏                        | 327kB 23.2MB/s eta 0:00:01\r\u001b[K     |███████▍                        | 337kB 23.2MB/s eta 0:00:01\r\u001b[K     |███████▋                        | 348kB 23.2MB/s eta 0:00:01\r\u001b[K     |███████▉                        | 358kB 23.2MB/s eta 0:00:01\r\u001b[K     |████████                        | 368kB 23.2MB/s eta 0:00:01\r\u001b[K     |████████▎                       | 378kB 23.2MB/s eta 0:00:01\r\u001b[K     |████████▌                       | 389kB 23.2MB/s eta 0:00:01\r\u001b[K     |████████▊                       | 399kB 23.2MB/s eta 0:00:01\r\u001b[K     |█████████                       | 409kB 23.2MB/s eta 0:00:01\r\u001b[K     |█████████▏                      | 419kB 23.2MB/s eta 0:00:01\r\u001b[K     |█████████▍                      | 430kB 23.2MB/s eta 0:00:01\r\u001b[K     |█████████▋                      | 440kB 23.2MB/s eta 0:00:01\r\u001b[K     |█████████▉                      | 450kB 23.2MB/s eta 0:00:01\r\u001b[K     |██████████                      | 460kB 23.2MB/s eta 0:00:01\r\u001b[K     |██████████▎                     | 471kB 23.2MB/s eta 0:00:01\r\u001b[K     |██████████▋                     | 481kB 23.2MB/s eta 0:00:01\r\u001b[K     |██████████▉                     | 491kB 23.2MB/s eta 0:00:01\r\u001b[K     |███████████                     | 501kB 23.2MB/s eta 0:00:01\r\u001b[K     |███████████▎                    | 512kB 23.2MB/s eta 0:00:01\r\u001b[K     |███████████▌                    | 522kB 23.2MB/s eta 0:00:01\r\u001b[K     |███████████▊                    | 532kB 23.2MB/s eta 0:00:01\r\u001b[K     |████████████                    | 542kB 23.2MB/s eta 0:00:01\r\u001b[K     |████████████▏                   | 552kB 23.2MB/s eta 0:00:01\r\u001b[K     |████████████▍                   | 563kB 23.2MB/s eta 0:00:01\r\u001b[K     |████████████▋                   | 573kB 23.2MB/s eta 0:00:01\r\u001b[K     |████████████▉                   | 583kB 23.2MB/s eta 0:00:01\r\u001b[K     |█████████████                   | 593kB 23.2MB/s eta 0:00:01\r\u001b[K     |█████████████▎                  | 604kB 23.2MB/s eta 0:00:01\r\u001b[K     |█████████████▌                  | 614kB 23.2MB/s eta 0:00:01\r\u001b[K     |█████████████▊                  | 624kB 23.2MB/s eta 0:00:01\r\u001b[K     |██████████████                  | 634kB 23.2MB/s eta 0:00:01\r\u001b[K     |██████████████▏                 | 645kB 23.2MB/s eta 0:00:01\r\u001b[K     |██████████████▍                 | 655kB 23.2MB/s eta 0:00:01\r\u001b[K     |██████████████▋                 | 665kB 23.2MB/s eta 0:00:01\r\u001b[K     |██████████████▉                 | 675kB 23.2MB/s eta 0:00:01\r\u001b[K     |███████████████                 | 686kB 23.2MB/s eta 0:00:01\r\u001b[K     |███████████████▎                | 696kB 23.2MB/s eta 0:00:01\r\u001b[K     |███████████████▌                | 706kB 23.2MB/s eta 0:00:01\r\u001b[K     |███████████████▊                | 716kB 23.2MB/s eta 0:00:01\r\u001b[K     |████████████████                | 727kB 23.2MB/s eta 0:00:01\r\u001b[K     |████████████████▏               | 737kB 23.2MB/s eta 0:00:01\r\u001b[K     |████████████████▍               | 747kB 23.2MB/s eta 0:00:01\r\u001b[K     |████████████████▋               | 757kB 23.2MB/s eta 0:00:01\r\u001b[K     |████████████████▉               | 768kB 23.2MB/s eta 0:00:01\r\u001b[K     |█████████████████               | 778kB 23.2MB/s eta 0:00:01\r\u001b[K     |█████████████████▎              | 788kB 23.2MB/s eta 0:00:01\r\u001b[K     |█████████████████▌              | 798kB 23.2MB/s eta 0:00:01\r\u001b[K     |█████████████████▊              | 808kB 23.2MB/s eta 0:00:01\r\u001b[K     |██████████████████              | 819kB 23.2MB/s eta 0:00:01\r\u001b[K     |██████████████████▏             | 829kB 23.2MB/s eta 0:00:01\r\u001b[K     |██████████████████▍             | 839kB 23.2MB/s eta 0:00:01\r\u001b[K     |██████████████████▋             | 849kB 23.2MB/s eta 0:00:01\r\u001b[K     |██████████████████▉             | 860kB 23.2MB/s eta 0:00:01\r\u001b[K     |███████████████████             | 870kB 23.2MB/s eta 0:00:01\r\u001b[K     |███████████████████▎            | 880kB 23.2MB/s eta 0:00:01\r\u001b[K     |███████████████████▌            | 890kB 23.2MB/s eta 0:00:01\r\u001b[K     |███████████████████▊            | 901kB 23.2MB/s eta 0:00:01\r\u001b[K     |████████████████████            | 911kB 23.2MB/s eta 0:00:01\r\u001b[K     |████████████████████▏           | 921kB 23.2MB/s eta 0:00:01\r\u001b[K     |████████████████████▍           | 931kB 23.2MB/s eta 0:00:01\r\u001b[K     |████████████████████▋           | 942kB 23.2MB/s eta 0:00:01\r\u001b[K     |████████████████████▉           | 952kB 23.2MB/s eta 0:00:01\r\u001b[K     |█████████████████████▏          | 962kB 23.2MB/s eta 0:00:01\r\u001b[K     |█████████████████████▍          | 972kB 23.2MB/s eta 0:00:01\r\u001b[K     |█████████████████████▋          | 983kB 23.2MB/s eta 0:00:01\r\u001b[K     |█████████████████████▉          | 993kB 23.2MB/s eta 0:00:01\r\u001b[K     |██████████████████████          | 1.0MB 23.2MB/s eta 0:00:01\r\u001b[K     |██████████████████████▎         | 1.0MB 23.2MB/s eta 0:00:01\r\u001b[K     |██████████████████████▌         | 1.0MB 23.2MB/s eta 0:00:01\r\u001b[K     |██████████████████████▊         | 1.0MB 23.2MB/s eta 0:00:01\r\u001b[K     |███████████████████████         | 1.0MB 23.2MB/s eta 0:00:01\r\u001b[K     |███████████████████████▏        | 1.1MB 23.2MB/s eta 0:00:01\r\u001b[K     |███████████████████████▍        | 1.1MB 23.2MB/s eta 0:00:01\r\u001b[K     |███████████████████████▋        | 1.1MB 23.2MB/s eta 0:00:01\r\u001b[K     |███████████████████████▉        | 1.1MB 23.2MB/s eta 0:00:01\r\u001b[K     |████████████████████████        | 1.1MB 23.2MB/s eta 0:00:01\r\u001b[K     |████████████████████████▎       | 1.1MB 23.2MB/s eta 0:00:01\r\u001b[K     |████████████████████████▌       | 1.1MB 23.2MB/s eta 0:00:01\r\u001b[K     |████████████████████████▊       | 1.1MB 23.2MB/s eta 0:00:01\r\u001b[K     |█████████████████████████       | 1.1MB 23.2MB/s eta 0:00:01\r\u001b[K     |█████████████████████████▏      | 1.1MB 23.2MB/s eta 0:00:01\r\u001b[K     |█████████████████████████▍      | 1.2MB 23.2MB/s eta 0:00:01\r\u001b[K     |█████████████████████████▋      | 1.2MB 23.2MB/s eta 0:00:01\r\u001b[K     |█████████████████████████▉      | 1.2MB 23.2MB/s eta 0:00:01\r\u001b[K     |██████████████████████████      | 1.2MB 23.2MB/s eta 0:00:01\r\u001b[K     |██████████████████████████▎     | 1.2MB 23.2MB/s eta 0:00:01\r\u001b[K     |██████████████████████████▌     | 1.2MB 23.2MB/s eta 0:00:01\r\u001b[K     |██████████████████████████▊     | 1.2MB 23.2MB/s eta 0:00:01\r\u001b[K     |███████████████████████████     | 1.2MB 23.2MB/s eta 0:00:01\r\u001b[K     |███████████████████████████▏    | 1.2MB 23.2MB/s eta 0:00:01\r\u001b[K     |███████████████████████████▍    | 1.2MB 23.2MB/s eta 0:00:01\r\u001b[K     |███████████████████████████▋    | 1.3MB 23.2MB/s eta 0:00:01\r\u001b[K     |███████████████████████████▉    | 1.3MB 23.2MB/s eta 0:00:01\r\u001b[K     |████████████████████████████    | 1.3MB 23.2MB/s eta 0:00:01\r\u001b[K     |████████████████████████████▎   | 1.3MB 23.2MB/s eta 0:00:01\r\u001b[K     |████████████████████████████▌   | 1.3MB 23.2MB/s eta 0:00:01\r\u001b[K     |████████████████████████████▊   | 1.3MB 23.2MB/s eta 0:00:01\r\u001b[K     |█████████████████████████████   | 1.3MB 23.2MB/s eta 0:00:01\r\u001b[K     |█████████████████████████████▏  | 1.3MB 23.2MB/s eta 0:00:01\r\u001b[K     |█████████████████████████████▍  | 1.3MB 23.2MB/s eta 0:00:01\r\u001b[K     |█████████████████████████████▋  | 1.4MB 23.2MB/s eta 0:00:01\r\u001b[K     |█████████████████████████████▉  | 1.4MB 23.2MB/s eta 0:00:01\r\u001b[K     |██████████████████████████████  | 1.4MB 23.2MB/s eta 0:00:01\r\u001b[K     |██████████████████████████████▎ | 1.4MB 23.2MB/s eta 0:00:01\r\u001b[K     |██████████████████████████████▌ | 1.4MB 23.2MB/s eta 0:00:01\r\u001b[K     |██████████████████████████████▊ | 1.4MB 23.2MB/s eta 0:00:01\r\u001b[K     |███████████████████████████████ | 1.4MB 23.2MB/s eta 0:00:01\r\u001b[K     |███████████████████████████████▏| 1.4MB 23.2MB/s eta 0:00:01\r\u001b[K     |███████████████████████████████▍| 1.4MB 23.2MB/s eta 0:00:01\r\u001b[K     |███████████████████████████████▊| 1.4MB 23.2MB/s eta 0:00:01\r\u001b[K     |████████████████████████████████| 1.5MB 23.2MB/s eta 0:00:01\r\u001b[K     |████████████████████████████████| 1.5MB 23.2MB/s \n",
            "\u001b[?25hRequirement already satisfied: numpy>=1.7 in /usr/local/lib/python3.7/dist-packages (from bcolz) (1.19.5)\n",
            "Building wheels for collected packages: bcolz\n",
            "  Building wheel for bcolz (setup.py) ... \u001b[?25l\u001b[?25hdone\n",
            "  Created wheel for bcolz: filename=bcolz-1.2.1-cp37-cp37m-linux_x86_64.whl size=2650803 sha256=38575e93dee5a55c8d5aa488fefdcaf09d0a0b2c43a2f83243b47417579f92c5\n",
            "  Stored in directory: /root/.cache/pip/wheels/9f/78/26/fb8c0acb91a100dc8914bf236c4eaa4b207cb876893c40b745\n",
            "Successfully built bcolz\n",
            "Installing collected packages: bcolz\n",
            "Successfully installed bcolz-1.2.1\n"
          ],
          "name": "stdout"
        }
      ]
    },
    {
      "cell_type": "code",
      "metadata": {
        "colab": {
          "base_uri": "https://localhost:8080/"
        },
        "id": "lOr51ZdbymLp",
        "outputId": "57615727-6387-472b-af68-4690fc28afcc"
      },
      "source": [
        "from google.colab import drive\n",
        "drive.mount('/gdrive')"
      ],
      "execution_count": 2,
      "outputs": [
        {
          "output_type": "stream",
          "text": [
            "Mounted at /gdrive\n"
          ],
          "name": "stdout"
        }
      ]
    },
    {
      "cell_type": "markdown",
      "metadata": {
        "id": "_4Sm1RVyDOVE"
      },
      "source": [
        "\n",
        "NLP From Scratch: Translation with a Sequence to Sequence Network and Attention\n",
        "*******************************************************************************\n",
        "**Author**: `Sean Robertson <https://github.com/spro/practical-pytorch>`_\n",
        "[PyTorch Source](https://pytorch.org/tutorials/intermediate/seq2seq_translation_tutorial.html)\n",
        "\n",
        "This is the third and final tutorial on doing \"NLP From Scratch\", where we\n",
        "write our own classes and functions to preprocess the data to do our NLP\n",
        "modeling tasks. We hope after you complete this tutorial that you'll proceed to\n",
        "learn how `torchtext` can handle much of this preprocessing for you in the\n",
        "three tutorials immediately following this one.\n",
        "\n",
        "In this project we will be teaching a neural network to translate from\n",
        "English to French.\n",
        "\n",
        "::\n",
        "\n",
        "    [KEY: > input, = target, < output]\n",
        "\n",
        "    > he s a very nice boy .\n",
        "    = c est un tres chouette garcon .\n",
        "    < c est un bon garcon . <EOS>\n",
        "\n",
        "    > i am exhausted .\n",
        "    = je suis creve .\n",
        "    < je suis . . <EOS>\n",
        "\n",
        "    > he s a nervous wreck .\n",
        "    = c est une boule de nerfs .\n",
        "    < c est une homme . <EOS>\n",
        "\n",
        "    > he s a cardiologist .\n",
        "    = c est un cardiologue .\n",
        "    < il est un . <EOS>\n",
        "\n",
        "    > he s going to join our club .\n",
        "    = il va se joindre a notre cercle .\n",
        "    < il va a le le . <EOS>\n",
        "\n",
        "    > i m not going to die .\n",
        "    = je ne vais pas mourir .\n",
        "    < je ne vais pas me . <EOS>\n",
        "\n",
        "... to varying degrees of success.\n",
        "\n",
        "This is made possible by the simple but powerful idea of the [sequence to sequence network](https://arxiv.org/abs/1409.3215), in which two\n",
        "recurrent neural networks work together to transform one sequence to\n",
        "another. An encoder network condenses an input sequence into a vector,\n",
        "and a decoder network unfolds that vector into a new sequence.\n",
        "\n",
        ".. figure:: /_static/img/seq-seq-images/seq2seq.png\n",
        "   :alt:\n",
        "\n",
        "To improve upon this model we'll use an [attention\n",
        "mechanism](https://arxiv.org/abs/1409.0473), which lets the decoder\n",
        "learn to focus over a specific range of the input sequence.\n",
        "\n",
        "**Recommended Reading:**\n",
        "\n",
        "I assume you have at least installed PyTorch, know Python, and\n",
        "understand Tensors:\n",
        "\n",
        "-  https://pytorch.org/ For installation instructions\n",
        "-  [Deep Learning with PyTorch](https://pytorch.org/tutorials/beginner/deep_learning_60min_blitz.html): A 60 Minute Blitz to get started with PyTorch in general\n",
        "-  [Learning PyTorch with Examples](https://pytorch.org/tutorials/beginner/pytorch_with_examples.html) for a wide and deep overview\n",
        "\n",
        "\n",
        "It would also be useful to know about Sequence to Sequence networks and\n",
        "how they work:\n",
        "\n",
        "-  [Learning Phrase Representations using RNN Encoder-Decoder for Statistical Machine Translation](https://arxiv.org/abs/1406.1078)\n",
        "-  [Sequence to Sequence Learning with Neural Networks](https://arxiv.org/abs/1409.3215)\n",
        "-  [Neural Machine Translation by Jointly Learning to Align and Translate](https://arxiv.org/abs/1409.0473)\n",
        "-  [A Neural Conversational Model](https://arxiv.org/abs/1506.05869)\n",
        "\n",
        "\n",
        "\n",
        "![Image](https://pytorch.org/tutorials/_images/seq2seq.png)\n",
        "\n",
        "**Requirements**"
      ]
    },
    {
      "cell_type": "code",
      "metadata": {
        "id": "3EEWOCJLDD-E"
      },
      "source": [
        "from __future__ import unicode_literals, print_function, division\n",
        "from io import open\n",
        "import unicodedata\n",
        "import string\n",
        "import re\n",
        "import random\n",
        "import bcolz  # to process the data from Glove File \n",
        "import pickle # to dump and load pretrained glove vectors \n",
        "import copy   # to make deepcopy of python lists and dictionaries\n",
        "import operator\n",
        "import numpy as np\n",
        "from pandas import DataFrame # to visualize the glove word embeddings in form of DataFrame\n",
        "\n",
        "import torch\n",
        "import torch.nn as nn\n",
        "from torch import optim\n",
        "import torch.nn.functional as F\n",
        "\n",
        "device = torch.device(\"cuda\" if torch.cuda.is_available() else \"cpu\")"
      ],
      "execution_count": 3,
      "outputs": []
    },
    {
      "cell_type": "markdown",
      "metadata": {
        "id": "30yEbATJDXCF"
      },
      "source": [
        "Loading data files\n",
        "==================\n",
        "\n",
        "The data for this project is a set of many thousands of English to\n",
        "French translation pairs.\n",
        "\n",
        "[This question on Open Data Stack\n",
        "Exchange](https://opendata.stackexchange.com/questions/3888/dataset-of-sentences-translated-into-many-languages)\n",
        "pointed me/him to the open translation site https://tatoeba.org/ which has\n",
        "downloads available at https://tatoeba.org/eng/downloads - and better\n",
        "yet, someone did the extra work of splitting language pairs into\n",
        "individual text files here: https://www.manythings.org/anki/\n",
        "\n",
        "The English to French pairs are too big to include in the repo, so\n",
        "download to ``data/eng-fra.txt`` before continuing. The file is a tab\n",
        "separated list of translation pairs:\n",
        "\n",
        "::\n",
        "\n",
        "    I am cold.    J'ai froid.\n",
        "\n",
        ".. Note::\n",
        "   Download the data from\n",
        "   `here <https://download.pytorch.org/tutorial/data.zip>`_\n",
        "   and extract it to the current directory.\n",
        "\n"
      ]
    },
    {
      "cell_type": "code",
      "metadata": {
        "colab": {
          "base_uri": "https://localhost:8080/"
        },
        "id": "d_EPl_QFDUSE",
        "outputId": "dc76f2b4-bbd2-4e9e-f546-ddb9f699f06f"
      },
      "source": [
        "!wget https://download.pytorch.org/tutorial/data.zip\n",
        "\n",
        "!unzip data.zip"
      ],
      "execution_count": 4,
      "outputs": [
        {
          "output_type": "stream",
          "text": [
            "--2021-07-17 18:29:00--  https://download.pytorch.org/tutorial/data.zip\n",
            "Resolving download.pytorch.org (download.pytorch.org)... 99.84.216.43, 99.84.216.15, 99.84.216.80, ...\n",
            "Connecting to download.pytorch.org (download.pytorch.org)|99.84.216.43|:443... connected.\n",
            "HTTP request sent, awaiting response... 200 OK\n",
            "Length: 2882130 (2.7M) [application/zip]\n",
            "Saving to: ‘data.zip’\n",
            "\n",
            "\rdata.zip              0%[                    ]       0  --.-KB/s               \rdata.zip            100%[===================>]   2.75M  --.-KB/s    in 0.07s   \n",
            "\n",
            "2021-07-17 18:29:00 (38.9 MB/s) - ‘data.zip’ saved [2882130/2882130]\n",
            "\n",
            "Archive:  data.zip\n",
            "   creating: data/\n",
            "  inflating: data/eng-fra.txt        \n",
            "   creating: data/names/\n",
            "  inflating: data/names/Arabic.txt   \n",
            "  inflating: data/names/Chinese.txt  \n",
            "  inflating: data/names/Czech.txt    \n",
            "  inflating: data/names/Dutch.txt    \n",
            "  inflating: data/names/English.txt  \n",
            "  inflating: data/names/French.txt   \n",
            "  inflating: data/names/German.txt   \n",
            "  inflating: data/names/Greek.txt    \n",
            "  inflating: data/names/Irish.txt    \n",
            "  inflating: data/names/Italian.txt  \n",
            "  inflating: data/names/Japanese.txt  \n",
            "  inflating: data/names/Korean.txt   \n",
            "  inflating: data/names/Polish.txt   \n",
            "  inflating: data/names/Portuguese.txt  \n",
            "  inflating: data/names/Russian.txt  \n",
            "  inflating: data/names/Scottish.txt  \n",
            "  inflating: data/names/Spanish.txt  \n",
            "  inflating: data/names/Vietnamese.txt  \n"
          ],
          "name": "stdout"
        }
      ]
    },
    {
      "cell_type": "markdown",
      "metadata": {
        "id": "ugKjISLqznF-"
      },
      "source": [
        "Download  and Unzip Glove Embeddings"
      ]
    },
    {
      "cell_type": "code",
      "metadata": {
        "colab": {
          "base_uri": "https://localhost:8080/"
        },
        "id": "BVn2PBI6zdRg",
        "outputId": "51de98a7-0622-4299-d2c6-829ceef63024"
      },
      "source": [
        "!wget http://nlp.stanford.edu/data/wordvecs/glove.6B.zip\n",
        "\n",
        "!unzip glove.6B.zip"
      ],
      "execution_count": null,
      "outputs": [
        {
          "output_type": "stream",
          "text": [
            "--2021-07-17 17:47:40--  http://nlp.stanford.edu/data/wordvecs/glove.6B.zip\n",
            "Resolving nlp.stanford.edu (nlp.stanford.edu)... 171.64.67.140\n",
            "Connecting to nlp.stanford.edu (nlp.stanford.edu)|171.64.67.140|:80... connected.\n",
            "HTTP request sent, awaiting response... 302 Found\n",
            "Location: https://nlp.stanford.edu/data/wordvecs/glove.6B.zip [following]\n",
            "--2021-07-17 17:47:40--  https://nlp.stanford.edu/data/wordvecs/glove.6B.zip\n",
            "Connecting to nlp.stanford.edu (nlp.stanford.edu)|171.64.67.140|:443... connected.\n",
            "HTTP request sent, awaiting response... 301 Moved Permanently\n",
            "Location: http://downloads.cs.stanford.edu/nlp/data/wordvecs/glove.6B.zip [following]\n",
            "--2021-07-17 17:47:40--  http://downloads.cs.stanford.edu/nlp/data/wordvecs/glove.6B.zip\n",
            "Resolving downloads.cs.stanford.edu (downloads.cs.stanford.edu)... 171.64.64.22\n",
            "Connecting to downloads.cs.stanford.edu (downloads.cs.stanford.edu)|171.64.64.22|:80... connected.\n",
            "HTTP request sent, awaiting response... 200 OK\n",
            "Length: 862182753 (822M) [application/zip]\n",
            "Saving to: ‘glove.6B.zip’\n",
            "\n",
            "glove.6B.zip        100%[===================>] 822.24M  5.10MB/s    in 2m 40s  \n",
            "\n",
            "2021-07-17 17:50:20 (5.15 MB/s) - ‘glove.6B.zip’ saved [862182753/862182753]\n",
            "\n",
            "Archive:  glove.6B.zip\n",
            "  inflating: glove.6B.100d.txt       \n",
            "  inflating: glove.6B.200d.txt       \n",
            "  inflating: glove.6B.300d.txt       \n",
            "  inflating: glove.6B.50d.txt        \n"
          ],
          "name": "stdout"
        }
      ]
    },
    {
      "cell_type": "code",
      "metadata": {
        "id": "w4Opt0fXOfRc"
      },
      "source": [
        "print(len(lines))          # number of words (aka vocabulary size)\n",
        "print(len(lines[0]))       # length of a line\n",
        "print(lines[130][0])       # word 130\n",
        "print(lines[130][1:])      # vector representation of word 130\n",
        "print(len(lines[130][1:])) # dimensionality of word 130\n"
      ],
      "execution_count": null,
      "outputs": []
    },
    {
      "cell_type": "markdown",
      "metadata": {
        "id": "WQ4g0l2aRYAr"
      },
      "source": [
        "#### Loading and Saving Glove Word Vectors"
      ]
    },
    {
      "cell_type": "code",
      "metadata": {
        "id": "HkdS9ZtC1oXB"
      },
      "source": [
        "words = []\n",
        "idx = 0\n",
        "word2idx = {}\n",
        "vectors = bcolz.carray(np.zeros(1), rootdir=f'/gdrive/MyDrive/TSAI_END2/Session10/6B.300.dat', mode='w')\n",
        "\n",
        "with open(f'/content/glove.6B.300d.txt', 'rb') as f:\n",
        "    for l in f:\n",
        "        line = l.decode().split()\n",
        "        word = line[0]\n",
        "        words.append(word)\n",
        "        word2idx[word] = idx\n",
        "        idx += 1\n",
        "        vect = np.array(line[1:]).astype(np.float)\n",
        "        vectors.append(vect)\n",
        "    \n",
        "vectors = bcolz.carray(vectors[1:].reshape((400001, 300)), rootdir=f'/gdrive/MyDrive/TSAI_END2/Session10/6B.300.dat', mode='w')\n",
        "vectors.flush()\n",
        "pickle.dump(words, open(f'/gdrive/MyDrive/TSAI_END2/Session10/glove.6B.300_words.pkl', 'wb'))\n",
        "pickle.dump(word2idx, open(f'/gdrive/MyDrive/TSAI_END2/Session10/glove.6B.300_idx.pkl', 'wb'))"
      ],
      "execution_count": null,
      "outputs": []
    },
    {
      "cell_type": "markdown",
      "metadata": {
        "id": "zTIKUn1lcu2a"
      },
      "source": [
        "#### Load saved vectors"
      ]
    },
    {
      "cell_type": "code",
      "metadata": {
        "id": "UilzgUKWRfWZ"
      },
      "source": [
        "vectors = bcolz.open(f'/gdrive/MyDrive/TSAI_END2/Session10/6B.50.dat')[:]\n",
        "words = pickle.load(open(f'/gdrive/MyDrive/TSAI_END2/Session10/glove.6B.50_words.pkl', 'rb'))\n",
        "word2idx = pickle.load(open(f'/gdrive/MyDrive/TSAI_END2/Session10/glove.6B.50_idx.pkl', 'rb'))\n",
        "\n",
        "glove = {w: vectors[word2idx[w]] for w in words}"
      ],
      "execution_count": 5,
      "outputs": []
    },
    {
      "cell_type": "code",
      "metadata": {
        "id": "tCBGOD0XT2bP"
      },
      "source": [
        "glove_df = DataFrame(vectors, columns=range(1,51), index=words)"
      ],
      "execution_count": null,
      "outputs": []
    },
    {
      "cell_type": "markdown",
      "metadata": {
        "id": "LyUmAVY4Uxrt"
      },
      "source": [
        "#### Visualize the Glove Word Embeddings by making a Pandas Dataframe"
      ]
    },
    {
      "cell_type": "code",
      "metadata": {
        "colab": {
          "base_uri": "https://localhost:8080/",
          "height": 377
        },
        "id": "B259PP29T8Ro",
        "outputId": "d589461f-f385-46af-a960-b983568202a4"
      },
      "source": [
        "glove_df[200:210]"
      ],
      "execution_count": null,
      "outputs": [
        {
          "output_type": "execute_result",
          "data": {
            "text/html": [
              "<div>\n",
              "<style scoped>\n",
              "    .dataframe tbody tr th:only-of-type {\n",
              "        vertical-align: middle;\n",
              "    }\n",
              "\n",
              "    .dataframe tbody tr th {\n",
              "        vertical-align: top;\n",
              "    }\n",
              "\n",
              "    .dataframe thead th {\n",
              "        text-align: right;\n",
              "    }\n",
              "</style>\n",
              "<table border=\"1\" class=\"dataframe\">\n",
              "  <thead>\n",
              "    <tr style=\"text-align: right;\">\n",
              "      <th></th>\n",
              "      <th>1</th>\n",
              "      <th>2</th>\n",
              "      <th>3</th>\n",
              "      <th>4</th>\n",
              "      <th>5</th>\n",
              "      <th>6</th>\n",
              "      <th>7</th>\n",
              "      <th>8</th>\n",
              "      <th>9</th>\n",
              "      <th>10</th>\n",
              "      <th>11</th>\n",
              "      <th>12</th>\n",
              "      <th>13</th>\n",
              "      <th>14</th>\n",
              "      <th>15</th>\n",
              "      <th>16</th>\n",
              "      <th>17</th>\n",
              "      <th>18</th>\n",
              "      <th>19</th>\n",
              "      <th>20</th>\n",
              "      <th>21</th>\n",
              "      <th>22</th>\n",
              "      <th>23</th>\n",
              "      <th>24</th>\n",
              "      <th>25</th>\n",
              "      <th>26</th>\n",
              "      <th>27</th>\n",
              "      <th>28</th>\n",
              "      <th>29</th>\n",
              "      <th>30</th>\n",
              "      <th>31</th>\n",
              "      <th>32</th>\n",
              "      <th>33</th>\n",
              "      <th>34</th>\n",
              "      <th>35</th>\n",
              "      <th>36</th>\n",
              "      <th>37</th>\n",
              "      <th>38</th>\n",
              "      <th>39</th>\n",
              "      <th>40</th>\n",
              "      <th>41</th>\n",
              "      <th>42</th>\n",
              "      <th>43</th>\n",
              "      <th>44</th>\n",
              "      <th>45</th>\n",
              "      <th>46</th>\n",
              "      <th>47</th>\n",
              "      <th>48</th>\n",
              "      <th>49</th>\n",
              "      <th>50</th>\n",
              "    </tr>\n",
              "  </thead>\n",
              "  <tbody>\n",
              "    <tr>\n",
              "      <th>according</th>\n",
              "      <td>0.367500</td>\n",
              "      <td>0.171620</td>\n",
              "      <td>0.456610</td>\n",
              "      <td>0.226940</td>\n",
              "      <td>0.504770</td>\n",
              "      <td>-0.169380</td>\n",
              "      <td>-0.72449</td>\n",
              "      <td>-0.602760</td>\n",
              "      <td>0.25607</td>\n",
              "      <td>-0.673450</td>\n",
              "      <td>0.32970</td>\n",
              "      <td>-0.281030</td>\n",
              "      <td>0.15122</td>\n",
              "      <td>-0.64325</td>\n",
              "      <td>1.04540</td>\n",
              "      <td>0.002896</td>\n",
              "      <td>-0.512340</td>\n",
              "      <td>-0.33298</td>\n",
              "      <td>-0.092862</td>\n",
              "      <td>0.246030</td>\n",
              "      <td>0.31475</td>\n",
              "      <td>-0.020641</td>\n",
              "      <td>0.55353</td>\n",
              "      <td>-0.198070</td>\n",
              "      <td>0.119410</td>\n",
              "      <td>-1.3270</td>\n",
              "      <td>-0.65037</td>\n",
              "      <td>-0.463690</td>\n",
              "      <td>-0.862730</td>\n",
              "      <td>0.38967</td>\n",
              "      <td>3.3200</td>\n",
              "      <td>-0.734840</td>\n",
              "      <td>0.10476</td>\n",
              "      <td>-0.620370</td>\n",
              "      <td>-0.258840</td>\n",
              "      <td>-0.399990</td>\n",
              "      <td>0.142530</td>\n",
              "      <td>-0.118550</td>\n",
              "      <td>0.624050</td>\n",
              "      <td>0.707240</td>\n",
              "      <td>-0.110780</td>\n",
              "      <td>0.292460</td>\n",
              "      <td>0.493810</td>\n",
              "      <td>-0.24960</td>\n",
              "      <td>0.002011</td>\n",
              "      <td>-0.41030</td>\n",
              "      <td>-0.629280</td>\n",
              "      <td>0.783740</td>\n",
              "      <td>0.174550</td>\n",
              "      <td>0.17664</td>\n",
              "    </tr>\n",
              "    <tr>\n",
              "      <th>several</th>\n",
              "      <td>0.929920</td>\n",
              "      <td>0.083859</td>\n",
              "      <td>-0.000407</td>\n",
              "      <td>-0.059929</td>\n",
              "      <td>-0.525480</td>\n",
              "      <td>0.513860</td>\n",
              "      <td>-1.25430</td>\n",
              "      <td>-0.040470</td>\n",
              "      <td>-0.41758</td>\n",
              "      <td>-0.377980</td>\n",
              "      <td>-0.30974</td>\n",
              "      <td>-0.190470</td>\n",
              "      <td>-0.20390</td>\n",
              "      <td>0.14981</td>\n",
              "      <td>0.25646</td>\n",
              "      <td>-0.498090</td>\n",
              "      <td>-0.224280</td>\n",
              "      <td>-0.17415</td>\n",
              "      <td>-0.404910</td>\n",
              "      <td>-0.675710</td>\n",
              "      <td>0.50644</td>\n",
              "      <td>0.059368</td>\n",
              "      <td>0.64289</td>\n",
              "      <td>0.250230</td>\n",
              "      <td>-0.458680</td>\n",
              "      <td>-1.1539</td>\n",
              "      <td>-0.50283</td>\n",
              "      <td>-0.308150</td>\n",
              "      <td>-0.532840</td>\n",
              "      <td>-0.21486</td>\n",
              "      <td>3.8863</td>\n",
              "      <td>-0.191870</td>\n",
              "      <td>0.32527</td>\n",
              "      <td>-0.989210</td>\n",
              "      <td>0.454790</td>\n",
              "      <td>0.740200</td>\n",
              "      <td>-0.068988</td>\n",
              "      <td>-0.033446</td>\n",
              "      <td>-0.570150</td>\n",
              "      <td>0.574410</td>\n",
              "      <td>-0.388920</td>\n",
              "      <td>0.276630</td>\n",
              "      <td>0.097748</td>\n",
              "      <td>0.33904</td>\n",
              "      <td>0.358010</td>\n",
              "      <td>-0.17282</td>\n",
              "      <td>-0.667890</td>\n",
              "      <td>-0.024513</td>\n",
              "      <td>-0.601750</td>\n",
              "      <td>-0.84145</td>\n",
              "    </tr>\n",
              "    <tr>\n",
              "      <th>court</th>\n",
              "      <td>-0.354450</td>\n",
              "      <td>-0.551810</td>\n",
              "      <td>-1.024000</td>\n",
              "      <td>0.593840</td>\n",
              "      <td>0.579110</td>\n",
              "      <td>-0.061788</td>\n",
              "      <td>0.72901</td>\n",
              "      <td>1.265900</td>\n",
              "      <td>-0.13373</td>\n",
              "      <td>-0.341890</td>\n",
              "      <td>-0.45832</td>\n",
              "      <td>-0.327530</td>\n",
              "      <td>-0.50637</td>\n",
              "      <td>-0.40303</td>\n",
              "      <td>0.96671</td>\n",
              "      <td>0.230910</td>\n",
              "      <td>-0.601220</td>\n",
              "      <td>-0.96050</td>\n",
              "      <td>0.008854</td>\n",
              "      <td>-0.439920</td>\n",
              "      <td>0.86799</td>\n",
              "      <td>0.535130</td>\n",
              "      <td>-0.37550</td>\n",
              "      <td>0.098895</td>\n",
              "      <td>-0.958620</td>\n",
              "      <td>-3.0575</td>\n",
              "      <td>0.13488</td>\n",
              "      <td>-0.277740</td>\n",
              "      <td>-0.879820</td>\n",
              "      <td>-0.47810</td>\n",
              "      <td>2.5880</td>\n",
              "      <td>-1.041200</td>\n",
              "      <td>-0.76467</td>\n",
              "      <td>-0.836720</td>\n",
              "      <td>0.370490</td>\n",
              "      <td>-0.581540</td>\n",
              "      <td>0.945550</td>\n",
              "      <td>-0.008292</td>\n",
              "      <td>0.051426</td>\n",
              "      <td>-0.371270</td>\n",
              "      <td>-0.154390</td>\n",
              "      <td>0.672240</td>\n",
              "      <td>0.570690</td>\n",
              "      <td>0.80539</td>\n",
              "      <td>-0.708700</td>\n",
              "      <td>0.28794</td>\n",
              "      <td>-0.628860</td>\n",
              "      <td>-0.471160</td>\n",
              "      <td>0.130360</td>\n",
              "      <td>-0.33523</td>\n",
              "    </tr>\n",
              "    <tr>\n",
              "      <th>say</th>\n",
              "      <td>0.538000</td>\n",
              "      <td>-0.323120</td>\n",
              "      <td>0.680370</td>\n",
              "      <td>-0.451880</td>\n",
              "      <td>0.178210</td>\n",
              "      <td>-0.221540</td>\n",
              "      <td>-0.69070</td>\n",
              "      <td>0.001297</td>\n",
              "      <td>-0.17651</td>\n",
              "      <td>0.370210</td>\n",
              "      <td>-0.30653</td>\n",
              "      <td>-0.010422</td>\n",
              "      <td>-0.22567</td>\n",
              "      <td>-0.14526</td>\n",
              "      <td>0.91416</td>\n",
              "      <td>0.621860</td>\n",
              "      <td>0.517300</td>\n",
              "      <td>-0.16940</td>\n",
              "      <td>0.470890</td>\n",
              "      <td>-0.698720</td>\n",
              "      <td>-0.46922</td>\n",
              "      <td>0.513160</td>\n",
              "      <td>0.33302</td>\n",
              "      <td>0.149350</td>\n",
              "      <td>0.204930</td>\n",
              "      <td>-2.5976</td>\n",
              "      <td>-1.11340</td>\n",
              "      <td>-0.047981</td>\n",
              "      <td>0.213070</td>\n",
              "      <td>-0.52961</td>\n",
              "      <td>3.0675</td>\n",
              "      <td>0.407480</td>\n",
              "      <td>-0.59142</td>\n",
              "      <td>-0.413170</td>\n",
              "      <td>-0.014310</td>\n",
              "      <td>-0.741910</td>\n",
              "      <td>-0.263840</td>\n",
              "      <td>-0.383520</td>\n",
              "      <td>0.254460</td>\n",
              "      <td>0.021919</td>\n",
              "      <td>-0.800870</td>\n",
              "      <td>0.477140</td>\n",
              "      <td>0.581330</td>\n",
              "      <td>0.73646</td>\n",
              "      <td>0.658520</td>\n",
              "      <td>-0.11711</td>\n",
              "      <td>-0.776490</td>\n",
              "      <td>0.706930</td>\n",
              "      <td>-0.177220</td>\n",
              "      <td>0.29040</td>\n",
              "    </tr>\n",
              "    <tr>\n",
              "      <th>around</th>\n",
              "      <td>0.776040</td>\n",
              "      <td>0.225840</td>\n",
              "      <td>0.450440</td>\n",
              "      <td>-0.708140</td>\n",
              "      <td>0.149590</td>\n",
              "      <td>-0.762010</td>\n",
              "      <td>-0.59769</td>\n",
              "      <td>-0.371230</td>\n",
              "      <td>-0.49107</td>\n",
              "      <td>-0.818280</td>\n",
              "      <td>-0.61185</td>\n",
              "      <td>-0.969620</td>\n",
              "      <td>-0.02998</td>\n",
              "      <td>-0.26391</td>\n",
              "      <td>0.69513</td>\n",
              "      <td>0.382940</td>\n",
              "      <td>0.067117</td>\n",
              "      <td>0.42452</td>\n",
              "      <td>-1.265200</td>\n",
              "      <td>-0.546030</td>\n",
              "      <td>0.65743</td>\n",
              "      <td>0.301190</td>\n",
              "      <td>0.63752</td>\n",
              "      <td>0.409190</td>\n",
              "      <td>0.297230</td>\n",
              "      <td>-1.1203</td>\n",
              "      <td>0.11170</td>\n",
              "      <td>0.490740</td>\n",
              "      <td>0.436610</td>\n",
              "      <td>-0.40743</td>\n",
              "      <td>3.6976</td>\n",
              "      <td>0.390700</td>\n",
              "      <td>0.10636</td>\n",
              "      <td>-0.035762</td>\n",
              "      <td>-0.457900</td>\n",
              "      <td>0.190910</td>\n",
              "      <td>-0.383360</td>\n",
              "      <td>0.060834</td>\n",
              "      <td>0.203480</td>\n",
              "      <td>0.607650</td>\n",
              "      <td>-0.198670</td>\n",
              "      <td>0.213510</td>\n",
              "      <td>0.313520</td>\n",
              "      <td>0.47200</td>\n",
              "      <td>-0.238030</td>\n",
              "      <td>-0.12381</td>\n",
              "      <td>0.439550</td>\n",
              "      <td>-0.974370</td>\n",
              "      <td>-0.785650</td>\n",
              "      <td>-0.81770</td>\n",
              "    </tr>\n",
              "    <tr>\n",
              "      <th>foreign</th>\n",
              "      <td>0.019228</td>\n",
              "      <td>0.452390</td>\n",
              "      <td>0.145170</td>\n",
              "      <td>0.184410</td>\n",
              "      <td>0.602090</td>\n",
              "      <td>-0.517850</td>\n",
              "      <td>-0.35034</td>\n",
              "      <td>-0.097396</td>\n",
              "      <td>-0.85372</td>\n",
              "      <td>-0.524510</td>\n",
              "      <td>0.38552</td>\n",
              "      <td>0.732460</td>\n",
              "      <td>0.49954</td>\n",
              "      <td>0.76890</td>\n",
              "      <td>0.74463</td>\n",
              "      <td>-0.012401</td>\n",
              "      <td>0.566920</td>\n",
              "      <td>-0.53145</td>\n",
              "      <td>0.794310</td>\n",
              "      <td>-0.019473</td>\n",
              "      <td>1.21140</td>\n",
              "      <td>0.142790</td>\n",
              "      <td>0.25301</td>\n",
              "      <td>-0.313080</td>\n",
              "      <td>0.207980</td>\n",
              "      <td>-1.6406</td>\n",
              "      <td>0.82105</td>\n",
              "      <td>-0.689710</td>\n",
              "      <td>-0.760410</td>\n",
              "      <td>1.08630</td>\n",
              "      <td>3.6144</td>\n",
              "      <td>0.515860</td>\n",
              "      <td>0.18104</td>\n",
              "      <td>0.308720</td>\n",
              "      <td>-0.151680</td>\n",
              "      <td>0.065801</td>\n",
              "      <td>-0.646530</td>\n",
              "      <td>0.067307</td>\n",
              "      <td>-1.021400</td>\n",
              "      <td>0.652710</td>\n",
              "      <td>-0.243980</td>\n",
              "      <td>1.116000</td>\n",
              "      <td>1.599600</td>\n",
              "      <td>-1.00370</td>\n",
              "      <td>0.751530</td>\n",
              "      <td>-0.87398</td>\n",
              "      <td>-1.442300</td>\n",
              "      <td>1.574200</td>\n",
              "      <td>0.511320</td>\n",
              "      <td>-0.16713</td>\n",
              "    </tr>\n",
              "    <tr>\n",
              "      <th>10</th>\n",
              "      <td>-0.147510</td>\n",
              "      <td>0.555560</td>\n",
              "      <td>1.076400</td>\n",
              "      <td>0.044167</td>\n",
              "      <td>0.492170</td>\n",
              "      <td>0.311830</td>\n",
              "      <td>-0.62123</td>\n",
              "      <td>-0.282460</td>\n",
              "      <td>-0.45550</td>\n",
              "      <td>-0.377610</td>\n",
              "      <td>-0.23383</td>\n",
              "      <td>-0.757120</td>\n",
              "      <td>-0.19904</td>\n",
              "      <td>-0.19379</td>\n",
              "      <td>1.16320</td>\n",
              "      <td>-0.563760</td>\n",
              "      <td>-0.495660</td>\n",
              "      <td>-0.19437</td>\n",
              "      <td>-1.498700</td>\n",
              "      <td>0.134900</td>\n",
              "      <td>0.56518</td>\n",
              "      <td>-0.152990</td>\n",
              "      <td>1.12220</td>\n",
              "      <td>0.110220</td>\n",
              "      <td>-0.590640</td>\n",
              "      <td>-0.7489</td>\n",
              "      <td>0.77516</td>\n",
              "      <td>-0.629960</td>\n",
              "      <td>0.187060</td>\n",
              "      <td>-0.16483</td>\n",
              "      <td>3.7478</td>\n",
              "      <td>0.511490</td>\n",
              "      <td>-0.19912</td>\n",
              "      <td>0.469030</td>\n",
              "      <td>0.693380</td>\n",
              "      <td>-0.207230</td>\n",
              "      <td>0.474230</td>\n",
              "      <td>0.229660</td>\n",
              "      <td>0.539560</td>\n",
              "      <td>-0.127040</td>\n",
              "      <td>-0.293290</td>\n",
              "      <td>-0.154970</td>\n",
              "      <td>0.895440</td>\n",
              "      <td>-0.33169</td>\n",
              "      <td>-0.489200</td>\n",
              "      <td>0.29825</td>\n",
              "      <td>-0.102440</td>\n",
              "      <td>-0.363500</td>\n",
              "      <td>0.129410</td>\n",
              "      <td>0.18798</td>\n",
              "    </tr>\n",
              "    <tr>\n",
              "      <th>until</th>\n",
              "      <td>0.200250</td>\n",
              "      <td>-0.328210</td>\n",
              "      <td>-0.408590</td>\n",
              "      <td>-0.794380</td>\n",
              "      <td>-0.016211</td>\n",
              "      <td>-0.156420</td>\n",
              "      <td>-0.87742</td>\n",
              "      <td>0.790770</td>\n",
              "      <td>-0.72598</td>\n",
              "      <td>-0.841350</td>\n",
              "      <td>0.32721</td>\n",
              "      <td>0.160830</td>\n",
              "      <td>-0.39978</td>\n",
              "      <td>-0.16564</td>\n",
              "      <td>0.97777</td>\n",
              "      <td>0.753590</td>\n",
              "      <td>-0.587710</td>\n",
              "      <td>-0.18122</td>\n",
              "      <td>-0.864180</td>\n",
              "      <td>0.214390</td>\n",
              "      <td>0.93586</td>\n",
              "      <td>-0.275610</td>\n",
              "      <td>1.13090</td>\n",
              "      <td>0.130370</td>\n",
              "      <td>-0.263630</td>\n",
              "      <td>-1.5425</td>\n",
              "      <td>0.44697</td>\n",
              "      <td>0.113690</td>\n",
              "      <td>0.810790</td>\n",
              "      <td>0.50902</td>\n",
              "      <td>3.5276</td>\n",
              "      <td>-0.403590</td>\n",
              "      <td>-1.13290</td>\n",
              "      <td>-0.311160</td>\n",
              "      <td>0.105130</td>\n",
              "      <td>-0.112830</td>\n",
              "      <td>0.361680</td>\n",
              "      <td>0.737620</td>\n",
              "      <td>0.389050</td>\n",
              "      <td>-0.452520</td>\n",
              "      <td>-0.289960</td>\n",
              "      <td>-0.610300</td>\n",
              "      <td>-0.412760</td>\n",
              "      <td>-0.20891</td>\n",
              "      <td>-0.927930</td>\n",
              "      <td>0.52376</td>\n",
              "      <td>0.075897</td>\n",
              "      <td>-0.818730</td>\n",
              "      <td>-0.464640</td>\n",
              "      <td>-0.09077</td>\n",
              "    </tr>\n",
              "    <tr>\n",
              "      <th>set</th>\n",
              "      <td>-0.087659</td>\n",
              "      <td>0.111440</td>\n",
              "      <td>0.154300</td>\n",
              "      <td>0.305100</td>\n",
              "      <td>0.406630</td>\n",
              "      <td>-0.017369</td>\n",
              "      <td>-0.15209</td>\n",
              "      <td>-0.135920</td>\n",
              "      <td>-0.14259</td>\n",
              "      <td>-0.050335</td>\n",
              "      <td>-0.32163</td>\n",
              "      <td>-0.329650</td>\n",
              "      <td>-0.77750</td>\n",
              "      <td>0.54234</td>\n",
              "      <td>0.71429</td>\n",
              "      <td>0.004575</td>\n",
              "      <td>0.427660</td>\n",
              "      <td>-0.74396</td>\n",
              "      <td>-0.376130</td>\n",
              "      <td>-0.632960</td>\n",
              "      <td>0.51588</td>\n",
              "      <td>-0.078446</td>\n",
              "      <td>-0.26620</td>\n",
              "      <td>-0.164000</td>\n",
              "      <td>-0.015405</td>\n",
              "      <td>-1.1246</td>\n",
              "      <td>0.15969</td>\n",
              "      <td>-0.379300</td>\n",
              "      <td>0.069653</td>\n",
              "      <td>-0.25449</td>\n",
              "      <td>3.6201</td>\n",
              "      <td>-0.058860</td>\n",
              "      <td>-0.64940</td>\n",
              "      <td>0.102550</td>\n",
              "      <td>0.058746</td>\n",
              "      <td>0.175300</td>\n",
              "      <td>0.636470</td>\n",
              "      <td>0.466420</td>\n",
              "      <td>-0.346240</td>\n",
              "      <td>-0.316670</td>\n",
              "      <td>0.011133</td>\n",
              "      <td>-0.032083</td>\n",
              "      <td>0.346440</td>\n",
              "      <td>-0.15786</td>\n",
              "      <td>-0.199630</td>\n",
              "      <td>0.50825</td>\n",
              "      <td>0.418120</td>\n",
              "      <td>-0.384050</td>\n",
              "      <td>-0.081924</td>\n",
              "      <td>-0.51000</td>\n",
              "    </tr>\n",
              "    <tr>\n",
              "      <th>political</th>\n",
              "      <td>-0.184870</td>\n",
              "      <td>0.353580</td>\n",
              "      <td>-0.292940</td>\n",
              "      <td>0.059937</td>\n",
              "      <td>0.323080</td>\n",
              "      <td>0.467640</td>\n",
              "      <td>0.41920</td>\n",
              "      <td>-0.059661</td>\n",
              "      <td>-0.82141</td>\n",
              "      <td>-0.034290</td>\n",
              "      <td>-0.85105</td>\n",
              "      <td>-0.321670</td>\n",
              "      <td>-0.77291</td>\n",
              "      <td>0.71382</td>\n",
              "      <td>-0.29762</td>\n",
              "      <td>-0.421150</td>\n",
              "      <td>0.749850</td>\n",
              "      <td>-0.29343</td>\n",
              "      <td>0.547370</td>\n",
              "      <td>0.064255</td>\n",
              "      <td>0.22616</td>\n",
              "      <td>0.414740</td>\n",
              "      <td>0.31489</td>\n",
              "      <td>-0.125440</td>\n",
              "      <td>0.068857</td>\n",
              "      <td>-2.1554</td>\n",
              "      <td>-0.54948</td>\n",
              "      <td>-0.487600</td>\n",
              "      <td>-0.121310</td>\n",
              "      <td>1.51640</td>\n",
              "      <td>3.4728</td>\n",
              "      <td>0.086922</td>\n",
              "      <td>-0.89990</td>\n",
              "      <td>-1.331400</td>\n",
              "      <td>-1.166500</td>\n",
              "      <td>-0.093826</td>\n",
              "      <td>-1.496200</td>\n",
              "      <td>-0.110040</td>\n",
              "      <td>-0.441200</td>\n",
              "      <td>-0.023172</td>\n",
              "      <td>-0.683650</td>\n",
              "      <td>0.460170</td>\n",
              "      <td>-0.656180</td>\n",
              "      <td>0.54213</td>\n",
              "      <td>-0.312780</td>\n",
              "      <td>-0.14890</td>\n",
              "      <td>-0.589830</td>\n",
              "      <td>0.592610</td>\n",
              "      <td>0.024439</td>\n",
              "      <td>-0.40234</td>\n",
              "    </tr>\n",
              "  </tbody>\n",
              "</table>\n",
              "</div>"
            ],
            "text/plain": [
              "                 1         2         3   ...        48        49       50\n",
              "according  0.367500  0.171620  0.456610  ...  0.783740  0.174550  0.17664\n",
              "several    0.929920  0.083859 -0.000407  ... -0.024513 -0.601750 -0.84145\n",
              "court     -0.354450 -0.551810 -1.024000  ... -0.471160  0.130360 -0.33523\n",
              "say        0.538000 -0.323120  0.680370  ...  0.706930 -0.177220  0.29040\n",
              "around     0.776040  0.225840  0.450440  ... -0.974370 -0.785650 -0.81770\n",
              "foreign    0.019228  0.452390  0.145170  ...  1.574200  0.511320 -0.16713\n",
              "10        -0.147510  0.555560  1.076400  ... -0.363500  0.129410  0.18798\n",
              "until      0.200250 -0.328210 -0.408590  ... -0.818730 -0.464640 -0.09077\n",
              "set       -0.087659  0.111440  0.154300  ... -0.384050 -0.081924 -0.51000\n",
              "political -0.184870  0.353580 -0.292940  ...  0.592610  0.024439 -0.40234\n",
              "\n",
              "[10 rows x 50 columns]"
            ]
          },
          "metadata": {
            "tags": []
          },
          "execution_count": 26
        }
      ]
    },
    {
      "cell_type": "markdown",
      "metadata": {
        "id": "Htf4Jj_GVGMn"
      },
      "source": [
        "#### For later processing¶\n",
        "- 'sos' token to be at index = 0\n",
        "- 'eos' token to be at index = 1"
      ]
    },
    {
      "cell_type": "code",
      "metadata": {
        "id": "SCwWH7wUVja1"
      },
      "source": [
        "sos_index = word2idx['sos']\n",
        "eos_index = word2idx['eos']\n",
        "sos_swap_word = words[0]\n",
        "eos_swap_word = words[1]"
      ],
      "execution_count": 6,
      "outputs": []
    },
    {
      "cell_type": "markdown",
      "metadata": {
        "id": "LeX20qB3V5Mu"
      },
      "source": [
        "#### Swapping 'sos' token index and 'eos' token index"
      ]
    },
    {
      "cell_type": "code",
      "metadata": {
        "id": "IwRGHmfXV7Hz"
      },
      "source": [
        "words[0], words[sos_index] = words[sos_index], words[0]\n",
        "words[1], words[eos_index] = words[eos_index], words[1]\n",
        "word2idx[sos_swap_word], word2idx['sos'] = word2idx['sos'], word2idx[sos_swap_word]\n",
        "word2idx[eos_swap_word], word2idx['eos'] = word2idx['eos'], word2idx[eos_swap_word]"
      ],
      "execution_count": 7,
      "outputs": []
    },
    {
      "cell_type": "markdown",
      "metadata": {
        "id": "e0ImKSH4WvOj"
      },
      "source": [
        "#### Creating Sorted Instance of word2idx"
      ]
    },
    {
      "cell_type": "code",
      "metadata": {
        "id": "bIPWum1oWgVk"
      },
      "source": [
        "word2idx = { k : v for k , v in sorted(word2idx.items(), key=operator.itemgetter(1))}"
      ],
      "execution_count": 8,
      "outputs": []
    },
    {
      "cell_type": "markdown",
      "metadata": {
        "id": "xAY3toaqDxXA"
      },
      "source": [
        "Similar to the character encoding used in the character-level RNN\n",
        "tutorials, we will be representing each word in a language as a one-hot\n",
        "vector, or giant vector of zeros except for a single one (at the index\n",
        "of the word). Compared to the dozens of characters that might exist in a\n",
        "language, there are many many more words, so the encoding vector is much\n",
        "larger. We will however cheat a bit and trim the data to only use a few\n",
        "thousand words per language.\n",
        "\n",
        "![image](https://pytorch.org/tutorials/_images/word-encoding.png)\n",
        "\n",
        "We'll need a unique index per word to use as the inputs and targets of\n",
        "the networks later. To keep track of all this we will use a helper class\n",
        "called ``Lang`` which has word → index (``word2index``) and index → word\n",
        "(``index2word``) dictionaries, as well as a count of each word\n",
        "``word2count`` which will be used to replace rare words later.\n",
        "\n",
        "\n",
        "\n",
        "\n",
        "\n",
        "\n"
      ]
    },
    {
      "cell_type": "markdown",
      "metadata": {
        "id": "b71WvS0-X7Xu"
      },
      "source": [
        "#### Creating 2 Seperate Classes for Input Lang and Ouput Lang\n",
        "\n",
        "Class 1 - > InputLang - built from Glove\n",
        "\n",
        "Class 2 - > OutputLang - built from Target Dictionary"
      ]
    },
    {
      "cell_type": "code",
      "metadata": {
        "id": "1-xmITKdYD90"
      },
      "source": [
        "class InputLang:\n",
        "    def __init__(self, name):\n",
        "        self.name = name\n",
        "        self.word2index = { k : v for k , v in sorted(word2idx.items(), key=operator.itemgetter(1))}\n",
        "        self.word2count = { word : 1 for word in words }\n",
        "        self.index2word = { i : word for word, i in word2idx.items() }\n",
        "        self.n_words = 400001\n",
        "\n",
        "    def addSentence(self, sentence):\n",
        "        for word in sentence.split(' '):\n",
        "            self.addWord(word)\n",
        "\n",
        "    def addWord(self, word):\n",
        "        if word not in self.word2index:\n",
        "            self.word2index[word] = self.n_words\n",
        "            self.word2count[word] = 1\n",
        "            self.index2word[self.n_words] = word\n",
        "            self.n_words += 1\n",
        "        else:\n",
        "            self.word2count[word] += 1"
      ],
      "execution_count": 9,
      "outputs": []
    },
    {
      "cell_type": "code",
      "metadata": {
        "id": "0ngtfyUqa-tm"
      },
      "source": [
        "SOS_token = 0\n",
        "EOS_token = 1\n",
        "\n",
        "\n",
        "class OutputLang:\n",
        "    def __init__(self, name):\n",
        "        self.name = name\n",
        "        self.word2index = {}\n",
        "        self.word2count = {}\n",
        "        self.index2word = {0: \"sos\", 1: \"eos\"}\n",
        "        self.n_words = 2  # Count SOS and EOS\n",
        "\n",
        "    def addSentence(self, sentence):\n",
        "        for word in sentence.split(' '):\n",
        "            self.addWord(word)\n",
        "\n",
        "    def addWord(self, word):\n",
        "        if word not in self.word2index:\n",
        "            self.word2index[word] = self.n_words\n",
        "            self.word2count[word] = 1\n",
        "            self.index2word[self.n_words] = word\n",
        "            self.n_words += 1\n",
        "        else:\n",
        "            self.word2count[word] += 1"
      ],
      "execution_count": 10,
      "outputs": []
    },
    {
      "cell_type": "code",
      "metadata": {
        "id": "PLdDKLAODduG"
      },
      "source": [
        "SOS_token = 0\n",
        "EOS_token = 1\n",
        "\n",
        "\n",
        "class Lang:\n",
        "    def __init__(self, name):\n",
        "        self.name = name\n",
        "        self.word2index = {}\n",
        "        self.word2count = {}\n",
        "        self.index2word = {0: \"SOS\", 1: \"EOS\"}\n",
        "        self.n_words = 2  # Count SOS and EOS\n",
        "\n",
        "    def addSentence(self, sentence):\n",
        "        for word in sentence.split(' '):\n",
        "            self.addWord(word)\n",
        "\n",
        "    def addWord(self, word):\n",
        "        if word not in self.word2index:\n",
        "            self.word2index[word] = self.n_words\n",
        "            self.word2count[word] = 1\n",
        "            self.index2word[self.n_words] = word\n",
        "            self.n_words += 1\n",
        "        else:\n",
        "            self.word2count[word] += 1"
      ],
      "execution_count": 11,
      "outputs": []
    },
    {
      "cell_type": "markdown",
      "metadata": {
        "id": "tFrQoWJbEOYd"
      },
      "source": [
        "The files are all in Unicode, to simplify we will turn Unicode\n",
        "characters to ASCII, make everything lowercase, and trim most\n",
        "punctuation."
      ]
    },
    {
      "cell_type": "code",
      "metadata": {
        "id": "696X0f6eEMa9"
      },
      "source": [
        "# Turn a Unicode string to plain ASCII, thanks to\n",
        "# http://stackoverflow.com/a/518232/2809427\n",
        "def unicodeToAscii(s):\n",
        "    return ''.join(\n",
        "        c for c in unicodedata.normalize('NFD', s)\n",
        "        if unicodedata.category(c) != 'Mn'\n",
        "    )\n",
        "\n",
        "# Lowercase, trim, and remove non-letter characters\n",
        "\n",
        "\n",
        "def normalizeString(s):\n",
        "    s = unicodeToAscii(s.lower().strip())\n",
        "    s = re.sub(r\"([.!?])\", r\" \\1\", s)\n",
        "    s = re.sub(r\"[^a-zA-Z.!?]+\", r\" \", s)\n",
        "    return s"
      ],
      "execution_count": 12,
      "outputs": []
    },
    {
      "cell_type": "markdown",
      "metadata": {
        "id": "AVorNRFCETgM"
      },
      "source": [
        "To read the data file we will split the file into lines, and then split\n",
        "lines into pairs. The files are all English → Other Language, so if we\n",
        "want to translate from Other Language → English I added the ``reverse``\n",
        "flag to reverse the pairs.\n",
        "\n",
        "\n"
      ]
    },
    {
      "cell_type": "code",
      "metadata": {
        "id": "eD5V5PPHERbk"
      },
      "source": [
        "def readLangs(lang1, lang2, reverse=False):\n",
        "    print(\"Reading lines...\")\n",
        "\n",
        "    # Read the file and split into lines\n",
        "    lines = open('data/%s-%s.txt' % (lang1, lang2), encoding='utf-8').\\\n",
        "        read().strip().split('\\n')\n",
        "\n",
        "    # Split every line into pairs and normalize\n",
        "    pairs = [[normalizeString(s) for s in l.split('\\t')] for l in lines]\n",
        "\n",
        "    # Reverse pairs, make Lang instances\n",
        "    if reverse:\n",
        "        pairs = [list(reversed(p)) for p in pairs]\n",
        "        input_lang = InputLang(lang2)\n",
        "        output_lang = OutputLang(lang1)\n",
        "    else:\n",
        "        input_lang = InputLang(lang1)\n",
        "        output_lang = OutputLang(lang2)\n",
        "\n",
        "    return input_lang, output_lang, pairs"
      ],
      "execution_count": 13,
      "outputs": []
    },
    {
      "cell_type": "markdown",
      "metadata": {
        "id": "ZjaZPWj-Ed1p"
      },
      "source": [
        "Since there are a *lot* of example sentences and we want to train\n",
        "something quickly, we'll trim the data set to only relatively short and\n",
        "simple sentences. Here the maximum length is 10 words (that includes\n",
        "ending punctuation) and we're filtering to sentences that translate to\n",
        "the form \"I am\" or \"He is\" etc. (accounting for apostrophes replaced\n",
        "earlier).\n",
        "\n",
        "\n"
      ]
    },
    {
      "cell_type": "code",
      "metadata": {
        "id": "fpLh4takEcl9"
      },
      "source": [
        "MAX_LENGTH = 10\n",
        "\n",
        "eng_prefixes = (\n",
        "    \"i am \", \"i m \",\n",
        "    \"he is\", \"he s \",\n",
        "    \"she is\", \"she s \",\n",
        "    \"you are\", \"you re \",\n",
        "    \"we are\", \"we re \",\n",
        "    \"they are\", \"they re \"\n",
        ")\n",
        "\n",
        "\n",
        "def filterPair(p):\n",
        "    return len(p[0].split(' ')) < MAX_LENGTH and \\\n",
        "        len(p[1].split(' ')) < MAX_LENGTH and \\\n",
        "        p[0].startswith(eng_prefixes)\n",
        "\n",
        "\n",
        "def filterPairs(pairs):\n",
        "    return [pair for pair in pairs if filterPair(pair)]"
      ],
      "execution_count": 14,
      "outputs": []
    },
    {
      "cell_type": "markdown",
      "metadata": {
        "id": "QQpC4FE3EsXQ"
      },
      "source": [
        "The full process for preparing the data is:\n",
        "\n",
        "-  Read text file and split into lines, split lines into pairs\n",
        "-  Normalize text, filter by length and content\n",
        "-  Make word lists from sentences in pairs\n",
        "\n",
        "\n"
      ]
    },
    {
      "cell_type": "code",
      "metadata": {
        "colab": {
          "base_uri": "https://localhost:8080/"
        },
        "id": "HQl0eg8BH9BS",
        "outputId": "c1e849b2-ebd1-4a82-eee5-98820a955719"
      },
      "source": [
        "def prepareData(lang1, lang2, reverse=False):\n",
        "    input_lang, output_lang, pairs = readLangs(lang1, lang2, reverse)\n",
        "    print(\"Read %s sentence pairs\" % len(pairs))\n",
        "    pairs = filterPairs(pairs)\n",
        "    print(\"Trimmed to %s sentence pairs\" % len(pairs))\n",
        "    print(\"Counting words...\")\n",
        "    for pair in pairs:\n",
        "        input_lang.addSentence(pair[0])\n",
        "        output_lang.addSentence(pair[1])\n",
        "    print(\"Counted words:\")\n",
        "    print(input_lang.name, input_lang.n_words)\n",
        "    print(output_lang.name, output_lang.n_words)\n",
        "    return input_lang, output_lang, pairs\n",
        "\n",
        "\n",
        "input_lang, output_lang, pairs = prepareData('eng', 'fra', False)\n",
        "print(random.choice(pairs))"
      ],
      "execution_count": 15,
      "outputs": [
        {
          "output_type": "stream",
          "text": [
            "Reading lines...\n",
            "Read 135842 sentence pairs\n",
            "Trimmed to 10599 sentence pairs\n",
            "Counting words...\n",
            "Counted words:\n",
            "eng 400005\n",
            "fra 4345\n",
            "['i m prepared .', 'je suis pret .']\n"
          ],
          "name": "stdout"
        }
      ]
    },
    {
      "cell_type": "markdown",
      "metadata": {
        "id": "M1Zbiow8b0rZ"
      },
      "source": [
        "#### Initializing weight Matrix\n",
        "\n",
        "We must build a matrix of weights that will be loaded into the PyTorch embedding layer. Its shape will be equal to:\n",
        "\n",
        "**(dataset’s vocabulary length, word vectors dimension)**"
      ]
    },
    {
      "cell_type": "code",
      "metadata": {
        "id": "PC6WzLQScAG5"
      },
      "source": [
        "matrix_len = input_lang.n_words\n",
        "\n",
        "weights_matrix = np.zeros((matrix_len, 50))\n",
        "words_found = 0\n",
        "\n",
        "for i, word in enumerate(input_lang.word2index):\n",
        "    try: \n",
        "        weights_matrix[i] = glove[word]\n",
        "        words_found += 1\n",
        "    except KeyError:\n",
        "        weights_matrix[i] = np.random.normal(scale=0.6, size=(50, ))"
      ],
      "execution_count": 16,
      "outputs": []
    },
    {
      "cell_type": "code",
      "metadata": {
        "colab": {
          "base_uri": "https://localhost:8080/"
        },
        "id": "IszO9MwEhLRe",
        "outputId": "3f76c2c7-6d80-419c-ea1b-d61b2c23a929"
      },
      "source": [
        "weights_matrix.shape"
      ],
      "execution_count": 17,
      "outputs": [
        {
          "output_type": "execute_result",
          "data": {
            "text/plain": [
              "(400005, 50)"
            ]
          },
          "metadata": {
            "tags": []
          },
          "execution_count": 17
        }
      ]
    },
    {
      "cell_type": "markdown",
      "metadata": {
        "id": "sklKeEAZEw9A"
      },
      "source": [
        "The Seq2Seq Model\n",
        "=================\n",
        "\n",
        "A Recurrent Neural Network, or RNN, is a network that operates on a\n",
        "sequence and uses its own output as input for subsequent steps.\n",
        "\n",
        "A [Sequence to Sequence network](https://arxiv.org/abs/1409.3215), or\n",
        "seq2seq network, or [Encoder Decoder\n",
        "network](https://arxiv.org/pdf/1406.1078v3.pdf), is a model\n",
        "consisting of two RNNs called the encoder and decoder. The encoder reads\n",
        "an input sequence and outputs a single vector, and the decoder reads\n",
        "that vector to produce an output sequence.\n",
        "\n",
        "![image](https://pytorch.org/tutorials/_images/seq2seq.png)\n",
        "\n",
        "Unlike sequence prediction with a single RNN, where every input\n",
        "corresponds to an output, the seq2seq model frees us from sequence\n",
        "length and order, which makes it ideal for translation between two\n",
        "languages.\n",
        "\n",
        "Consider the sentence \"Je ne suis pas le chat noir\" → \"I am not the\n",
        "black cat\". Most of the words in the input sentence have a direct\n",
        "translation in the output sentence, but are in slightly different\n",
        "orders, e.g. \"chat noir\" and \"black cat\". Because of the \"ne/pas\"\n",
        "construction there is also one more word in the input sentence. It would\n",
        "be difficult to produce a correct translation directly from the sequence\n",
        "of input words.\n",
        "\n",
        "With a seq2seq model the encoder creates a single vector which, in the\n",
        "ideal case, encodes the \"meaning\" of the input sequence into a single\n",
        "vector — a single point in some N dimensional space of sentences.\n",
        "\n",
        "\n"
      ]
    },
    {
      "cell_type": "markdown",
      "metadata": {
        "id": "BJZ7qgeoGH25"
      },
      "source": [
        "The Encoder\n",
        "-----------\n",
        "\n",
        "The encoder of a seq2seq network is a RNN that outputs some value for\n",
        "every word from the input sentence. For every input word the encoder\n",
        "outputs a vector and a hidden state, and uses the hidden state for the\n",
        "next input word.\n",
        "\n",
        "![image](https://pytorch.org/tutorials/_images/encoder-network.png)"
      ]
    },
    {
      "cell_type": "code",
      "metadata": {
        "id": "wtVkjGRfe-Pb"
      },
      "source": [
        "# def create_emb_layer(weights_matrix, non_trainable=False):\n",
        "#     num_embeddings, embedding_dim = weights_matrix.size()\n",
        "#     emb_layer = nn.Embedding(num_embeddings, embedding_dim)\n",
        "#     emb_layer.load_state_dict({'weight': weights_matrix})\n",
        "#     if non_trainable:\n",
        "#         emb_layer.weight.requires_grad = False\n",
        "\n",
        "#     return emb_layer, num_embeddings, embedding_dim"
      ],
      "execution_count": null,
      "outputs": []
    },
    {
      "cell_type": "code",
      "metadata": {
        "id": "hUFStkIuEqo7"
      },
      "source": [
        "class EncoderRNN(nn.Module):\n",
        "    def __init__(self, input_size, hidden_size, weights_matrix=None):\n",
        "        super(EncoderRNN, self).__init__()\n",
        "        self.hidden_size = hidden_size\n",
        "\n",
        "        self.embedding = nn.Embedding(input_size, hidden_size)\n",
        "        if weights_matrix is None:\n",
        "          self.embedding.weight.data.copy_(torch.from_numpy(weights_matrix))\n",
        "        self.gru = nn.GRU(hidden_size, hidden_size)\n",
        "\n",
        "    def forward(self, input, hidden):\n",
        "        embedded = self.embedding(input).view(1, 1, -1)\n",
        "        output = embedded\n",
        "        output, hidden = self.gru(output, hidden)\n",
        "        return output, hidden\n",
        "\n",
        "    def initHidden(self):\n",
        "        return torch.zeros(1, 1, self.hidden_size, device=device)"
      ],
      "execution_count": 18,
      "outputs": []
    },
    {
      "cell_type": "markdown",
      "metadata": {
        "id": "4WzcqRwLGR_c"
      },
      "source": [
        "#Simple Decoder\n",
        "\n",
        "In the simplest seq2seq decoder we use only last output of the encoder.\n",
        "This last output is sometimes called the *context vector* as it encodes\n",
        "context from the entire sequence. This context vector is used as the\n",
        "initial hidden state of the decoder.\n",
        "\n",
        "At every step of decoding, the decoder is given an input token and\n",
        "hidden state. The initial input token is the start-of-string ``<SOS>``\n",
        "token, and the first hidden state is the context vector (the encoder's\n",
        "last hidden state).\n",
        "\n",
        "![image](https://pytorch.org/tutorials/_images/decoder-network.png)\n",
        "\n",
        "\n",
        "\n"
      ]
    },
    {
      "cell_type": "code",
      "metadata": {
        "id": "aTpja5ExGQR_"
      },
      "source": [
        "class DecoderRNN(nn.Module):\n",
        "    def __init__(self, hidden_size, output_size):\n",
        "        super(DecoderRNN, self).__init__()\n",
        "        self.hidden_size = hidden_size\n",
        "\n",
        "        self.embedding = nn.Embedding(output_size, hidden_size)\n",
        "        self.gru = nn.GRU(hidden_size, hidden_size)\n",
        "        self.out = nn.Linear(hidden_size, output_size)\n",
        "        self.softmax = nn.LogSoftmax(dim=1)\n",
        "\n",
        "    def forward(self, input, hidden):\n",
        "        output = self.embedding(input).view(1, 1, -1)\n",
        "        output = F.relu(output)\n",
        "        output, hidden = self.gru(output, hidden)\n",
        "        output = self.softmax(self.out(output[0]))\n",
        "        return output, hidden\n",
        "\n",
        "    def initHidden(self):\n",
        "        return torch.zeros(1, 1, self.hidden_size, device=device)"
      ],
      "execution_count": 19,
      "outputs": []
    },
    {
      "cell_type": "markdown",
      "metadata": {
        "id": "iGMxRg_-Ga5T"
      },
      "source": [
        "# Attention Decoder\n",
        "\n",
        "If only the context vector is passed between the encoder and decoder,\n",
        "that single vector carries the burden of encoding the entire sentence.\n",
        "\n",
        "Attention allows the decoder network to \"focus\" on a different part of\n",
        "the encoder's outputs for every step of the decoder's own outputs. First\n",
        "we calculate a set of *attention weights*. These will be multiplied by\n",
        "the encoder output vectors to create a weighted combination. The result\n",
        "(called ``attn_applied`` in the code) should contain information about\n",
        "that specific part of the input sequence, and thus help the decoder\n",
        "choose the right output words.\n",
        "\n",
        "![image](https://i.imgur.com/1152PYf.png)\n",
        "\n",
        "Calculating the attention weights is done with another feed-forward\n",
        "layer ``attn``, using the decoder's input and hidden state as inputs.\n",
        "Because there are sentences of all sizes in the training data, to\n",
        "actually create and train this layer we have to choose a maximum\n",
        "sentence length (input length, for encoder outputs) that it can apply\n",
        "to. Sentences of the maximum length will use all the attention weights,\n",
        "while shorter sentences will only use the first few.\n",
        "\n",
        "![image](https://pytorch.org/tutorials/_images/attention-decoder-network.png)\n",
        "\n",
        "\n",
        "\n"
      ]
    },
    {
      "cell_type": "code",
      "metadata": {
        "id": "yTgpqalYGaOR"
      },
      "source": [
        "class AttnDecoderRNN(nn.Module):\n",
        "    def __init__(self, hidden_size, output_size, dropout_p=0.1, max_length=MAX_LENGTH):\n",
        "        super(AttnDecoderRNN, self).__init__()\n",
        "        self.hidden_size = hidden_size\n",
        "        self.output_size = output_size\n",
        "        self.dropout_p = dropout_p\n",
        "        self.max_length = max_length\n",
        "\n",
        "        self.embedding = nn.Embedding(self.output_size, self.hidden_size)\n",
        "        self.attn = nn.Linear(self.hidden_size * 2, self.max_length)\n",
        "        self.attn_combine = nn.Linear(self.hidden_size * 2, self.hidden_size)\n",
        "        self.dropout = nn.Dropout(self.dropout_p)\n",
        "        self.gru = nn.GRU(self.hidden_size, self.hidden_size)\n",
        "        self.out = nn.Linear(self.hidden_size, self.output_size)\n",
        "\n",
        "    def forward(self, input, hidden, encoder_outputs):\n",
        "        embedded = self.embedding(input).view(1, 1, -1)\n",
        "        embedded = self.dropout(embedded)\n",
        "\n",
        "        attn_weights = F.softmax(\n",
        "            self.attn(torch.cat((embedded[0], hidden[0]), 1)), dim=1)\n",
        "        attn_applied = torch.bmm(attn_weights.unsqueeze(0),\n",
        "                                 encoder_outputs.unsqueeze(0))\n",
        "\n",
        "        output = torch.cat((embedded[0], attn_applied[0]), 1)\n",
        "        output = self.attn_combine(output).unsqueeze(0)\n",
        "\n",
        "        output = F.relu(output)\n",
        "        output, hidden = self.gru(output, hidden)\n",
        "\n",
        "        output = F.log_softmax(self.out(output[0]), dim=1)\n",
        "        return output, hidden, attn_weights\n",
        "\n",
        "    def initHidden(self):\n",
        "        return torch.zeros(1, 1, self.hidden_size, device=device)"
      ],
      "execution_count": 20,
      "outputs": []
    },
    {
      "cell_type": "markdown",
      "metadata": {
        "id": "9Xa7siQKGqQE"
      },
      "source": [
        "<div class=\"alert alert-info\"><h4>Note</h4><p>There are other forms of attention that work around the length\n",
        "  limitation by using a relative position approach. Read about \"local\n",
        "  attention\" in `Effective Approaches to Attention-based Neural Machine\n",
        "  Translation <https://arxiv.org/abs/1508.04025>`__.</p></div>\n",
        "\n",
        "Training\n",
        "========\n",
        "\n",
        "Preparing Training Data\n",
        "-----------------------\n",
        "\n",
        "To train, for each pair we will need an input tensor (indexes of the\n",
        "words in the input sentence) and target tensor (indexes of the words in\n",
        "the target sentence). While creating these vectors we will append the\n",
        "EOS token to both sequences.\n",
        "\n",
        "\n"
      ]
    },
    {
      "cell_type": "code",
      "metadata": {
        "id": "-mj3FhJBGoS_"
      },
      "source": [
        "def indexesFromSentence(lang, sentence):\n",
        "    return [lang.word2index[word] for word in sentence.split(' ')]\n",
        "\n",
        "\n",
        "def tensorFromSentence(lang, sentence):\n",
        "    indexes = indexesFromSentence(lang, sentence)\n",
        "    indexes.append(EOS_token)\n",
        "    return torch.tensor(indexes, dtype=torch.long, device=device).view(-1, 1)\n",
        "\n",
        "\n",
        "def tensorsFromPair(pair):\n",
        "    input_tensor = tensorFromSentence(input_lang, pair[0])\n",
        "    target_tensor = tensorFromSentence(output_lang, pair[1])\n",
        "    return (input_tensor, target_tensor)"
      ],
      "execution_count": 21,
      "outputs": []
    },
    {
      "cell_type": "markdown",
      "metadata": {
        "id": "1rtejHTjG5Ia"
      },
      "source": [
        "Training the Model\n",
        "------------------\n",
        "\n",
        "To train we run the input sentence through the encoder, and keep track\n",
        "of every output and the latest hidden state. Then the decoder is given\n",
        "the ``<SOS>`` token as its first input, and the last hidden state of the\n",
        "encoder as its first hidden state.\n",
        "\n",
        "\"Teacher forcing\" is the concept of using the real target outputs as\n",
        "each next input, instead of using the decoder's guess as the next input.\n",
        "Using teacher forcing causes it to converge faster but [when the trained network is exploited, it may exhibit instability](http://citeseerx.ist.psu.edu/viewdoc/download?doi=10.1.1.378.4095&rep=rep1&type=pdf).\n",
        "\n",
        "You can observe outputs of teacher-forced networks that read with\n",
        "coherent grammar but wander far from the correct translation -\n",
        "intuitively it has learned to represent the output grammar and can \"pick\n",
        "up\" the meaning once the teacher tells it the first few words, but it\n",
        "has not properly learned how to create the sentence from the translation\n",
        "in the first place.\n",
        "\n",
        "Because of the freedom PyTorch's autograd gives us, we can randomly\n",
        "choose to use teacher forcing or not with a simple if statement. Turn\n",
        "``teacher_forcing_ratio`` up to use more of it.\n",
        "\n",
        "\n"
      ]
    },
    {
      "cell_type": "code",
      "metadata": {
        "id": "xWVqaIu-Gt3b"
      },
      "source": [
        "teacher_forcing_ratio = 0.5\n",
        "\n",
        "\n",
        "def train(input_tensor, target_tensor, encoder, decoder, encoder_optimizer, decoder_optimizer, criterion, max_length=MAX_LENGTH):\n",
        "    encoder_hidden = encoder.initHidden()\n",
        "\n",
        "    encoder_optimizer.zero_grad()\n",
        "    decoder_optimizer.zero_grad()\n",
        "\n",
        "    input_length = input_tensor.size(0)\n",
        "    target_length = target_tensor.size(0)\n",
        "\n",
        "    encoder_outputs = torch.zeros(max_length, encoder.hidden_size, device=device)\n",
        "\n",
        "    loss = 0\n",
        "\n",
        "    for ei in range(input_length):\n",
        "        encoder_output, encoder_hidden = encoder(\n",
        "            input_tensor[ei], encoder_hidden)\n",
        "        encoder_outputs[ei] = encoder_output[0, 0]\n",
        "\n",
        "    decoder_input = torch.tensor([[SOS_token]], device=device)\n",
        "\n",
        "    decoder_hidden = encoder_hidden\n",
        "\n",
        "    use_teacher_forcing = True if random.random() < teacher_forcing_ratio else False\n",
        "\n",
        "    if use_teacher_forcing:\n",
        "        # Teacher forcing: Feed the target as the next input\n",
        "        for di in range(target_length):\n",
        "            decoder_output, decoder_hidden, decoder_attention = decoder(\n",
        "                decoder_input, decoder_hidden, encoder_outputs)\n",
        "            loss += criterion(decoder_output, target_tensor[di])\n",
        "            decoder_input = target_tensor[di]  # Teacher forcing\n",
        "\n",
        "    else:\n",
        "        # Without teacher forcing: use its own predictions as the next input\n",
        "        for di in range(target_length):\n",
        "            decoder_output, decoder_hidden, decoder_attention = decoder(\n",
        "                decoder_input, decoder_hidden, encoder_outputs)\n",
        "            topv, topi = decoder_output.topk(1)\n",
        "            decoder_input = topi.squeeze().detach()  # detach from history as input\n",
        "\n",
        "            loss += criterion(decoder_output, target_tensor[di])\n",
        "            if decoder_input.item() == EOS_token:\n",
        "                break\n",
        "\n",
        "    loss.backward()\n",
        "\n",
        "    encoder_optimizer.step()\n",
        "    decoder_optimizer.step()\n",
        "\n",
        "    return loss.item() / target_length"
      ],
      "execution_count": 22,
      "outputs": []
    },
    {
      "cell_type": "markdown",
      "metadata": {
        "id": "5OQi5ocOHDuv"
      },
      "source": [
        "import time\n",
        "import math\n",
        "\n",
        "\n",
        "def asMinutes(s):\n",
        "    m = math.floor(s / 60)\n",
        "    s -= m * 60\n",
        "    return '%dm %ds' % (m, s)\n",
        "\n",
        "\n",
        "def timeSince(since, percent):\n",
        "    now = time.time()\n",
        "    s = now - since\n",
        "    es = s / (percent)\n",
        "    rs = es - s\n",
        "    return '%s (- %s)' % (asMinutes(s), asMinutes(rs))\n",
        "\n"
      ]
    },
    {
      "cell_type": "code",
      "metadata": {
        "id": "0A3z6eQtG3rv"
      },
      "source": [
        "import time\n",
        "import math\n",
        "\n",
        "\n",
        "def asMinutes(s):\n",
        "    m = math.floor(s / 60)\n",
        "    s -= m * 60\n",
        "    return '%dm %ds' % (m, s)\n",
        "\n",
        "\n",
        "def timeSince(since, percent):\n",
        "    now = time.time()\n",
        "    s = now - since\n",
        "    es = s / (percent)\n",
        "    rs = es - s\n",
        "    return '%s (- %s)' % (asMinutes(s), asMinutes(rs))"
      ],
      "execution_count": 23,
      "outputs": []
    },
    {
      "cell_type": "markdown",
      "metadata": {
        "id": "po1iCyBTHHIG"
      },
      "source": [
        "The whole training process looks like this:\n",
        "\n",
        "-  Start a timer\n",
        "-  Initialize optimizers and criterion\n",
        "-  Create set of training pairs\n",
        "-  Start empty losses array for plotting\n",
        "\n",
        "Then we call ``train`` many times and occasionally print the progress (%\n",
        "of examples, time so far, estimated time) and average loss.\n",
        "\n",
        "\n"
      ]
    },
    {
      "cell_type": "code",
      "metadata": {
        "id": "_Gf1aSD1HFx_"
      },
      "source": [
        "def trainIters(encoder, decoder, n_iters, print_every=1000, plot_every=100, learning_rate=0.01):\n",
        "    start = time.time()\n",
        "    plot_losses = []\n",
        "    print_loss_total = 0  # Reset every print_every\n",
        "    plot_loss_total = 0  # Reset every plot_every\n",
        "\n",
        "    encoder_optimizer = optim.SGD(encoder.parameters(), lr=learning_rate)\n",
        "    decoder_optimizer = optim.SGD(decoder.parameters(), lr=learning_rate)\n",
        "    training_pairs = [tensorsFromPair(random.choice(pairs))\n",
        "                      for i in range(n_iters)]\n",
        "    criterion = nn.NLLLoss()\n",
        "\n",
        "    for iter in range(1, n_iters + 1):\n",
        "        training_pair = training_pairs[iter - 1]\n",
        "        input_tensor = training_pair[0]\n",
        "        target_tensor = training_pair[1]\n",
        "\n",
        "        loss = train(input_tensor, target_tensor, encoder,\n",
        "                     decoder, encoder_optimizer, decoder_optimizer, criterion)\n",
        "        print_loss_total += loss\n",
        "        plot_loss_total += loss\n",
        "\n",
        "        if iter % print_every == 0:\n",
        "            print_loss_avg = print_loss_total / print_every\n",
        "            print_loss_total = 0\n",
        "            print('%s (%d %d%%) %.4f' % (timeSince(start, iter / n_iters),\n",
        "                                         iter, iter / n_iters * 100, print_loss_avg))\n",
        "\n",
        "        if iter % plot_every == 0:\n",
        "            plot_loss_avg = plot_loss_total / plot_every\n",
        "            plot_losses.append(plot_loss_avg)\n",
        "            plot_loss_total = 0\n",
        "\n",
        "    showPlot(plot_losses)"
      ],
      "execution_count": 24,
      "outputs": []
    },
    {
      "cell_type": "markdown",
      "metadata": {
        "id": "SxLPtvy-HJv8"
      },
      "source": [
        "Plotting results\n",
        "----------------\n",
        "\n",
        "Plotting is done with matplotlib, using the array of loss values\n",
        "``plot_losses`` saved while training.\n",
        "\n",
        "\n"
      ]
    },
    {
      "cell_type": "code",
      "metadata": {
        "id": "kErPEK3PHIjD"
      },
      "source": [
        "import matplotlib.pyplot as plt\n",
        "plt.switch_backend('agg')\n",
        "import matplotlib.ticker as ticker\n",
        "import numpy as np\n",
        "\n",
        "\n",
        "def showPlot(points):\n",
        "    plt.figure()\n",
        "    fig, ax = plt.subplots()\n",
        "    # this locator puts ticks at regular intervals\n",
        "    loc = ticker.MultipleLocator(base=0.2)\n",
        "    ax.yaxis.set_major_locator(loc)\n",
        "    plt.plot(points)"
      ],
      "execution_count": 25,
      "outputs": []
    },
    {
      "cell_type": "markdown",
      "metadata": {
        "id": "8BWg0QVLHMnS"
      },
      "source": [
        "Evaluation\n",
        "==========\n",
        "\n",
        "Evaluation is mostly the same as training, but there are no targets so\n",
        "we simply feed the decoder's predictions back to itself for each step.\n",
        "Every time it predicts a word we add it to the output string, and if it\n",
        "predicts the EOS token we stop there. We also store the decoder's\n",
        "attention outputs for display later.\n",
        "\n",
        "\n"
      ]
    },
    {
      "cell_type": "code",
      "metadata": {
        "id": "cbjgrd4yHLMS"
      },
      "source": [
        "def evaluate(encoder, decoder, sentence, max_length=MAX_LENGTH):\n",
        "    with torch.no_grad():\n",
        "        input_tensor = tensorFromSentence(input_lang, sentence)\n",
        "        input_length = input_tensor.size()[0]\n",
        "        encoder_hidden = encoder.initHidden()\n",
        "\n",
        "        encoder_outputs = torch.zeros(max_length, encoder.hidden_size, device=device)\n",
        "\n",
        "        for ei in range(input_length):\n",
        "            encoder_output, encoder_hidden = encoder(input_tensor[ei],\n",
        "                                                     encoder_hidden)\n",
        "            encoder_outputs[ei] += encoder_output[0, 0]\n",
        "\n",
        "        decoder_input = torch.tensor([[SOS_token]], device=device)  # SOS\n",
        "\n",
        "        decoder_hidden = encoder_hidden\n",
        "\n",
        "        decoded_words = []\n",
        "        decoder_attentions = torch.zeros(max_length, max_length)\n",
        "\n",
        "        for di in range(max_length):\n",
        "            decoder_output, decoder_hidden, decoder_attention = decoder(\n",
        "                decoder_input, decoder_hidden, encoder_outputs)\n",
        "            decoder_attentions[di] = decoder_attention.data\n",
        "            topv, topi = decoder_output.data.topk(1)\n",
        "            if topi.item() == EOS_token:\n",
        "                decoded_words.append('<EOS>')\n",
        "                break\n",
        "            else:\n",
        "                decoded_words.append(output_lang.index2word[topi.item()])\n",
        "\n",
        "            decoder_input = topi.squeeze().detach()\n",
        "\n",
        "        return decoded_words, decoder_attentions[:di + 1]"
      ],
      "execution_count": 26,
      "outputs": []
    },
    {
      "cell_type": "markdown",
      "metadata": {
        "id": "tEDyINR3HP8X"
      },
      "source": [
        "We can evaluate random sentences from the training set and print out the\n",
        "input, target, and output to make some subjective quality judgements:\n",
        "\n",
        "\n"
      ]
    },
    {
      "cell_type": "code",
      "metadata": {
        "id": "41NOzzmRHOfs"
      },
      "source": [
        "def evaluateRandomly(encoder, decoder, n=10):\n",
        "    for i in range(n):\n",
        "        pair = random.choice(pairs)\n",
        "        print('>', pair[0])\n",
        "        print('=', pair[1])\n",
        "        output_words, attentions = evaluate(encoder, decoder, pair[0])\n",
        "        output_sentence = ' '.join(output_words)\n",
        "        print('<', output_sentence)\n",
        "        print('')"
      ],
      "execution_count": 27,
      "outputs": []
    },
    {
      "cell_type": "markdown",
      "metadata": {
        "id": "-I3YLTtFHSkq"
      },
      "source": [
        "Training and Evaluating\n",
        "=======================\n",
        "\n",
        "With all these helper functions in place (it looks like extra work, but\n",
        "it makes it easier to run multiple experiments) we can actually\n",
        "initialize a network and start training.\n",
        "\n",
        "Remember that the input sentences were heavily filtered. For this small\n",
        "dataset we can use relatively small networks of 256 hidden nodes and a\n",
        "single GRU layer. After about 40 minutes on a MacBook CPU we'll get some\n",
        "reasonable results.\n",
        "\n",
        ".. Note::\n",
        "   If you run this notebook you can train, interrupt the kernel,\n",
        "   evaluate, and continue training later. Comment out the lines where the\n",
        "   encoder and decoder are initialized and run ``trainIters`` again.\n",
        "\n",
        "\n"
      ]
    },
    {
      "cell_type": "code",
      "metadata": {
        "colab": {
          "base_uri": "https://localhost:8080/"
        },
        "id": "v-45b8_lHRiK",
        "outputId": "7e615ad5-bbe7-48d7-ad8f-6324af6e43ac"
      },
      "source": [
        "hidden_size = 50 #256\n",
        "encoder1 = EncoderRNN(input_lang.n_words, hidden_size, weights_matrix).to(device)\n",
        "attn_decoder1 = AttnDecoderRNN(hidden_size, output_lang.n_words, dropout_p=0.1).to(device)\n",
        "\n",
        "trainIters(encoder1, attn_decoder1, 75000, print_every=5000)"
      ],
      "execution_count": 28,
      "outputs": [
        {
          "output_type": "stream",
          "text": [
            "1m 57s (- 27m 22s) (5000 6%) 3.7662\n",
            "3m 52s (- 25m 10s) (10000 13%) 3.2280\n",
            "5m 47s (- 23m 10s) (15000 20%) 3.0531\n",
            "7m 43s (- 21m 15s) (20000 26%) 2.9402\n",
            "9m 39s (- 19m 18s) (25000 33%) 2.8136\n",
            "11m 34s (- 17m 22s) (30000 40%) 2.7815\n",
            "13m 29s (- 15m 25s) (35000 46%) 2.6704\n",
            "15m 25s (- 13m 30s) (40000 53%) 2.5774\n",
            "17m 20s (- 11m 33s) (45000 60%) 2.5704\n",
            "19m 16s (- 9m 38s) (50000 66%) 2.5075\n",
            "21m 11s (- 7m 42s) (55000 73%) 2.4544\n",
            "23m 5s (- 5m 46s) (60000 80%) 2.4038\n",
            "25m 1s (- 3m 50s) (65000 86%) 2.3848\n",
            "26m 56s (- 1m 55s) (70000 93%) 2.3420\n",
            "28m 50s (- 0m 0s) (75000 100%) 2.3033\n"
          ],
          "name": "stdout"
        }
      ]
    },
    {
      "cell_type": "code",
      "metadata": {
        "colab": {
          "base_uri": "https://localhost:8080/"
        },
        "id": "e_rlcrR1Iqld",
        "outputId": "5dc855cd-83eb-4719-c4bb-37fef5952167"
      },
      "source": [
        "evaluateRandomly(encoder1, attn_decoder1)"
      ],
      "execution_count": 29,
      "outputs": [
        {
          "output_type": "stream",
          "text": [
            "> he s a very nice boy .\n",
            "= c est un tres chouette garcon .\n",
            "< c est un bon garcon . <EOS>\n",
            "\n",
            "> i am exhausted .\n",
            "= je suis creve .\n",
            "< je suis . . <EOS>\n",
            "\n",
            "> he s a nervous wreck .\n",
            "= c est une boule de nerfs .\n",
            "< c est une homme . <EOS>\n",
            "\n",
            "> he s a cardiologist .\n",
            "= c est un cardiologue .\n",
            "< il est un . <EOS>\n",
            "\n",
            "> he s going to join our club .\n",
            "= il va se joindre a notre cercle .\n",
            "< il va a le le . <EOS>\n",
            "\n",
            "> i m not going to die .\n",
            "= je ne vais pas mourir .\n",
            "< je ne vais pas me . <EOS>\n",
            "\n",
            "> you are so stupid .\n",
            "= tu es tellement idiote !\n",
            "< vous etes tellement si ! <EOS>\n",
            "\n",
            "> i m tired of playing games .\n",
            "= j en ai assez de jouer .\n",
            "< je suis ai marre de l . <EOS>\n",
            "\n",
            "> i m forgetful .\n",
            "= je suis etourdie .\n",
            "< je suis sournois . <EOS>\n",
            "\n",
            "> we re quite alone .\n",
            "= nous sommes tout a fait seuls .\n",
            "< nous sommes en . . <EOS>\n",
            "\n"
          ],
          "name": "stdout"
        }
      ]
    },
    {
      "cell_type": "markdown",
      "metadata": {
        "id": "Y4J1zvrwInJk"
      },
      "source": [
        "Visualizing Attention\n",
        "---------------------\n",
        "\n",
        "A useful property of the attention mechanism is its highly interpretable\n",
        "outputs. Because it is used to weight specific encoder outputs of the\n",
        "input sequence, we can imagine looking where the network is focused most\n",
        "at each time step.\n",
        "\n",
        "You could simply run ``plt.matshow(attentions)`` to see attention output\n",
        "displayed as a matrix, with the columns being input steps and rows being\n",
        "output steps:\n",
        "\n",
        "\n"
      ]
    },
    {
      "cell_type": "code",
      "metadata": {
        "colab": {
          "base_uri": "https://localhost:8080/",
          "height": 292
        },
        "id": "1t-jIrj1HVL9",
        "outputId": "2f5c5ae7-5dc9-4d81-cae5-2c9905794d68"
      },
      "source": [
        "%matplotlib inline\n",
        "output_words, attentions = evaluate(\n",
        "    encoder1, attn_decoder1, \"je suis trop froid .\")\n",
        "plt.matshow(attentions.numpy())"
      ],
      "execution_count": 30,
      "outputs": [
        {
          "output_type": "execute_result",
          "data": {
            "text/plain": [
              "<matplotlib.image.AxesImage at 0x7f14aaa4b850>"
            ]
          },
          "metadata": {
            "tags": []
          },
          "execution_count": 30
        },
        {
          "output_type": "display_data",
          "data": {
            "image/png": "[encoded data removed]",
            "text/plain": [
              "<Figure size 480x288 with 1 Axes>"
            ]
          },
          "metadata": {
            "tags": [],
            "needs_background": "light"
          }
        }
      ]
    },
    {
      "cell_type": "markdown",
      "metadata": {
        "id": "J5zYmdIDIvbR"
      },
      "source": [
        "For a better viewing experience we will do the extra work of adding axes\n",
        "and labels:"
      ]
    },
    {
      "cell_type": "code",
      "metadata": {
        "colab": {
          "base_uri": "https://localhost:8080/",
          "height": 1000
        },
        "id": "6iRp2UgrIxPQ",
        "outputId": "4fb9640b-3f6f-4544-d1f5-8e4c558d3025"
      },
      "source": [
        "def showAttention(input_sentence, output_words, attentions):\n",
        "    # Set up figure with colorbar\n",
        "    fig = plt.figure()\n",
        "    ax = fig.add_subplot(111)\n",
        "    cax = ax.matshow(attentions.numpy(), cmap='bone')\n",
        "    fig.colorbar(cax)\n",
        "\n",
        "    # Set up axes\n",
        "    ax.set_xticklabels([''] + input_sentence.split(' ') +\n",
        "                       ['<EOS>'], rotation=90)\n",
        "    ax.set_yticklabels([''] + output_words)\n",
        "\n",
        "    # Show label at every tick\n",
        "    ax.xaxis.set_major_locator(ticker.MultipleLocator(1))\n",
        "    ax.yaxis.set_major_locator(ticker.MultipleLocator(1))\n",
        "\n",
        "    plt.show()\n",
        "\n",
        "\n",
        "def evaluateAndShowAttention(input_sentence):\n",
        "    output_words, attentions = evaluate(\n",
        "        encoder1, attn_decoder1, input_sentence)\n",
        "    print('input =', input_sentence)\n",
        "    print('output =', ' '.join(output_words))\n",
        "    showAttention(input_sentence, output_words, attentions)\n",
        "\n",
        "\n",
        "evaluateAndShowAttention(\"he is painting a picture .\")\n",
        "\n",
        "evaluateAndShowAttention(\"why not try that delicious wine ?\")\n",
        "\n",
        "evaluateAndShowAttention(\"she is not a poet but a novelist .\")\n",
        "\n",
        "evaluateAndShowAttention(\"you re too skinny .\")"
      ],
      "execution_count": 32,
      "outputs": [
        {
          "output_type": "stream",
          "text": [
            "input = he is painting a picture .\n",
            "output = il est un bon . <EOS>\n"
          ],
          "name": "stdout"
        },
        {
          "output_type": "display_data",
          "data": {
            "image/png": "[encoded data removed]",
            "text/plain": [
              "<Figure size 432x288 with 2 Axes>"
            ]
          },
          "metadata": {
            "tags": [],
            "needs_background": "light"
          }
        },
        {
          "output_type": "stream",
          "text": [
            "input = why not try that delicious wine ?\n",
            "output = on n y pas pas du tout est ce pas\n"
          ],
          "name": "stdout"
        },
        {
          "output_type": "display_data",
          "data": {
            "image/png": "[encoded data removed]",
            "text/plain": [
              "<Figure size 432x288 with 2 Axes>"
            ]
          },
          "metadata": {
            "tags": [],
            "needs_background": "light"
          }
        },
        {
          "output_type": "stream",
          "text": [
            "input = she is not a poet but a novelist .\n",
            "output = elle n est pas une personne . <EOS>\n"
          ],
          "name": "stdout"
        },
        {
          "output_type": "display_data",
          "data": {
            "image/png": "[encoded data removed]",
            "text/plain": [
              "<Figure size 432x288 with 2 Axes>"
            ]
          },
          "metadata": {
            "tags": [],
            "needs_background": "light"
          }
        },
        {
          "output_type": "stream",
          "text": [
            "input = you re too skinny .\n",
            "output = vous etes trop elegante . <EOS>\n"
          ],
          "name": "stdout"
        },
        {
          "output_type": "display_data",
          "data": {
            "image/png": "[encoded data removed]",
            "text/plain": [
              "<Figure size 432x288 with 2 Axes>"
            ]
          },
          "metadata": {
            "tags": [],
            "needs_background": "light"
          }
        }
      ]
    }
  ]
}